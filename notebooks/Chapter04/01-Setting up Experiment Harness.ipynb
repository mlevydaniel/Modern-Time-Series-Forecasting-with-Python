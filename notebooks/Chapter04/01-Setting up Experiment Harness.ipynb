{
 "cells": [
  {
   "cell_type": "code",
   "execution_count": 1,
   "id": "b25018c9-2624-434c-aa23-04be1d73e729",
   "metadata": {},
   "outputs": [
    {
     "name": "stdout",
     "output_type": "stream",
     "text": [
      "/Users/mlevydaniel/Desktop/modern-time-series-forecasting-with-python\n"
     ]
    }
   ],
   "source": [
    "%cd ../.."
   ]
  },
  {
   "cell_type": "code",
   "execution_count": 2,
   "id": "4f023467-970a-461e-a60f-7a66fce6a497",
   "metadata": {},
   "outputs": [
    {
     "name": "stderr",
     "output_type": "stream",
     "text": [
      "/var/folders/s5/rdg9kttj7n9f1wwq0lrqtz_c0000gn/T/ipykernel_15792/3033596466.py:5: TqdmExperimentalWarning: Using `tqdm.autonotebook.tqdm` in notebook mode. Use `tqdm.tqdm` instead to force console mode (e.g. in jupyter console)\n",
      "  from tqdm.autonotebook import tqdm\n"
     ]
    }
   ],
   "source": [
    "import numpy as np\n",
    "import os\n",
    "import pandas as pd\n",
    "from pathlib import Path\n",
    "from tqdm.autonotebook import tqdm\n",
    "import statsmodels.api as sm\n",
    "import warnings\n",
    "import random\n",
    "from IPython.display import display, HTML\n",
    "np.random.seed(42)\n",
    "random.seed(42)\n",
    "tqdm.pandas()"
   ]
  },
  {
   "cell_type": "markdown",
   "id": "163b0173-695f-47f0-b58f-6a1ed4ce19a0",
   "metadata": {
    "tags": []
   },
   "source": [
    "# Reading and Selecting Households"
   ]
  },
  {
   "cell_type": "code",
   "execution_count": 3,
   "id": "c22e03d7-590e-44ab-8b85-f94ac89a72c4",
   "metadata": {},
   "outputs": [
    {
     "ename": "ModuleNotFoundError",
     "evalue": "No module named 'numpy._core'",
     "output_type": "error",
     "traceback": [
      "\u001b[0;31m---------------------------------------------------------------------------\u001b[0m",
      "\u001b[0;31mModuleNotFoundError\u001b[0m                       Traceback (most recent call last)",
      "File \u001b[0;32m~/opt/miniconda3/envs/python3.10/lib/python3.10/site-packages/pandas/io/pickle.py:202\u001b[0m, in \u001b[0;36mread_pickle\u001b[0;34m(filepath_or_buffer, compression, storage_options)\u001b[0m\n\u001b[1;32m    201\u001b[0m         warnings\u001b[38;5;241m.\u001b[39msimplefilter(\u001b[38;5;124m\"\u001b[39m\u001b[38;5;124mignore\u001b[39m\u001b[38;5;124m\"\u001b[39m, \u001b[38;5;167;01mWarning\u001b[39;00m)\n\u001b[0;32m--> 202\u001b[0m         \u001b[38;5;28;01mreturn\u001b[39;00m \u001b[43mpickle\u001b[49m\u001b[38;5;241;43m.\u001b[39;49m\u001b[43mload\u001b[49m\u001b[43m(\u001b[49m\u001b[43mhandles\u001b[49m\u001b[38;5;241;43m.\u001b[39;49m\u001b[43mhandle\u001b[49m\u001b[43m)\u001b[49m\n\u001b[1;32m    203\u001b[0m \u001b[38;5;28;01mexcept\u001b[39;00m excs_to_catch:\n\u001b[1;32m    204\u001b[0m     \u001b[38;5;66;03m# e.g.\u001b[39;00m\n\u001b[1;32m    205\u001b[0m     \u001b[38;5;66;03m#  \"No module named 'pandas.core.sparse.series'\"\u001b[39;00m\n\u001b[1;32m    206\u001b[0m     \u001b[38;5;66;03m#  \"Can't get attribute '__nat_unpickle' on <module 'pandas._libs.tslib\"\u001b[39;00m\n",
      "\u001b[0;31mModuleNotFoundError\u001b[0m: No module named 'numpy._core'",
      "\nDuring handling of the above exception, another exception occurred:\n",
      "\u001b[0;31mModuleNotFoundError\u001b[0m                       Traceback (most recent call last)",
      "Cell \u001b[0;32mIn[3], line 2\u001b[0m\n\u001b[1;32m      1\u001b[0m \u001b[38;5;28;01mtry\u001b[39;00m:\n\u001b[0;32m----> 2\u001b[0m     lclid_acorn_map \u001b[38;5;241m=\u001b[39m \u001b[43mpd\u001b[49m\u001b[38;5;241;43m.\u001b[39;49m\u001b[43mread_pickle\u001b[49m\u001b[43m(\u001b[49m\u001b[38;5;124;43m\"\u001b[39;49m\u001b[38;5;124;43mdata/london_smart_meters/preprocessed/london_smart_meters_lclid_acorn_map.pkl\u001b[39;49m\u001b[38;5;124;43m\"\u001b[39;49m\u001b[43m)\u001b[49m\n\u001b[1;32m      3\u001b[0m \u001b[38;5;28;01mexcept\u001b[39;00m \u001b[38;5;167;01mFileNotFoundError\u001b[39;00m:\n\u001b[1;32m      4\u001b[0m     display(HTML(\u001b[38;5;124m\"\"\"\u001b[39m\n\u001b[1;32m      5\u001b[0m \u001b[38;5;124m    <div class=\u001b[39m\u001b[38;5;124m\"\u001b[39m\u001b[38;5;124malert alert-block alert-warning\u001b[39m\u001b[38;5;124m\"\u001b[39m\u001b[38;5;124m>\u001b[39m\n\u001b[1;32m      6\u001b[0m \u001b[38;5;124m    <b>Warning!</b> File not found. Please make sure you have run 02 - Preprocessing London Smart Meter Dataset.ipynb in Chapter02\u001b[39m\n\u001b[1;32m      7\u001b[0m \u001b[38;5;124m    </div>\u001b[39m\n\u001b[1;32m      8\u001b[0m \u001b[38;5;124m    \u001b[39m\u001b[38;5;124m\"\"\"\u001b[39m))\n",
      "File \u001b[0;32m~/opt/miniconda3/envs/python3.10/lib/python3.10/site-packages/pandas/io/pickle.py:207\u001b[0m, in \u001b[0;36mread_pickle\u001b[0;34m(filepath_or_buffer, compression, storage_options)\u001b[0m\n\u001b[1;32m    202\u001b[0m             \u001b[38;5;28;01mreturn\u001b[39;00m pickle\u001b[38;5;241m.\u001b[39mload(handles\u001b[38;5;241m.\u001b[39mhandle)\n\u001b[1;32m    203\u001b[0m     \u001b[38;5;28;01mexcept\u001b[39;00m excs_to_catch:\n\u001b[1;32m    204\u001b[0m         \u001b[38;5;66;03m# e.g.\u001b[39;00m\n\u001b[1;32m    205\u001b[0m         \u001b[38;5;66;03m#  \"No module named 'pandas.core.sparse.series'\"\u001b[39;00m\n\u001b[1;32m    206\u001b[0m         \u001b[38;5;66;03m#  \"Can't get attribute '__nat_unpickle' on <module 'pandas._libs.tslib\"\u001b[39;00m\n\u001b[0;32m--> 207\u001b[0m         \u001b[38;5;28;01mreturn\u001b[39;00m \u001b[43mpc\u001b[49m\u001b[38;5;241;43m.\u001b[39;49m\u001b[43mload\u001b[49m\u001b[43m(\u001b[49m\u001b[43mhandles\u001b[49m\u001b[38;5;241;43m.\u001b[39;49m\u001b[43mhandle\u001b[49m\u001b[43m,\u001b[49m\u001b[43m \u001b[49m\u001b[43mencoding\u001b[49m\u001b[38;5;241;43m=\u001b[39;49m\u001b[38;5;28;43;01mNone\u001b[39;49;00m\u001b[43m)\u001b[49m\n\u001b[1;32m    208\u001b[0m \u001b[38;5;28;01mexcept\u001b[39;00m \u001b[38;5;167;01mUnicodeDecodeError\u001b[39;00m:\n\u001b[1;32m    209\u001b[0m     \u001b[38;5;66;03m# e.g. can occur for files written in py27; see GH#28645 and GH#31988\u001b[39;00m\n\u001b[1;32m    210\u001b[0m     \u001b[38;5;28;01mreturn\u001b[39;00m pc\u001b[38;5;241m.\u001b[39mload(handles\u001b[38;5;241m.\u001b[39mhandle, encoding\u001b[38;5;241m=\u001b[39m\u001b[38;5;124m\"\u001b[39m\u001b[38;5;124mlatin-1\u001b[39m\u001b[38;5;124m\"\u001b[39m)\n",
      "File \u001b[0;32m~/opt/miniconda3/envs/python3.10/lib/python3.10/site-packages/pandas/compat/pickle_compat.py:231\u001b[0m, in \u001b[0;36mload\u001b[0;34m(fh, encoding, is_verbose)\u001b[0m\n\u001b[1;32m    228\u001b[0m     \u001b[38;5;66;03m# \"Unpickler\" has no attribute \"is_verbose\"  [attr-defined]\u001b[39;00m\n\u001b[1;32m    229\u001b[0m     up\u001b[38;5;241m.\u001b[39mis_verbose \u001b[38;5;241m=\u001b[39m is_verbose  \u001b[38;5;66;03m# type: ignore[attr-defined]\u001b[39;00m\n\u001b[0;32m--> 231\u001b[0m     \u001b[38;5;28;01mreturn\u001b[39;00m \u001b[43mup\u001b[49m\u001b[38;5;241;43m.\u001b[39;49m\u001b[43mload\u001b[49m\u001b[43m(\u001b[49m\u001b[43m)\u001b[49m\n\u001b[1;32m    232\u001b[0m \u001b[38;5;28;01mexcept\u001b[39;00m (\u001b[38;5;167;01mValueError\u001b[39;00m, \u001b[38;5;167;01mTypeError\u001b[39;00m):\n\u001b[1;32m    233\u001b[0m     \u001b[38;5;28;01mraise\u001b[39;00m\n",
      "File \u001b[0;32m~/opt/miniconda3/envs/python3.10/lib/python3.10/pickle.py:1213\u001b[0m, in \u001b[0;36m_Unpickler.load\u001b[0;34m(self)\u001b[0m\n\u001b[1;32m   1211\u001b[0m             \u001b[38;5;28;01mraise\u001b[39;00m \u001b[38;5;167;01mEOFError\u001b[39;00m\n\u001b[1;32m   1212\u001b[0m         \u001b[38;5;28;01massert\u001b[39;00m \u001b[38;5;28misinstance\u001b[39m(key, bytes_types)\n\u001b[0;32m-> 1213\u001b[0m         \u001b[43mdispatch\u001b[49m\u001b[43m[\u001b[49m\u001b[43mkey\u001b[49m\u001b[43m[\u001b[49m\u001b[38;5;241;43m0\u001b[39;49m\u001b[43m]\u001b[49m\u001b[43m]\u001b[49m\u001b[43m(\u001b[49m\u001b[38;5;28;43mself\u001b[39;49m\u001b[43m)\u001b[49m\n\u001b[1;32m   1214\u001b[0m \u001b[38;5;28;01mexcept\u001b[39;00m _Stop \u001b[38;5;28;01mas\u001b[39;00m stopinst:\n\u001b[1;32m   1215\u001b[0m     \u001b[38;5;28;01mreturn\u001b[39;00m stopinst\u001b[38;5;241m.\u001b[39mvalue\n",
      "File \u001b[0;32m~/opt/miniconda3/envs/python3.10/lib/python3.10/pickle.py:1538\u001b[0m, in \u001b[0;36m_Unpickler.load_stack_global\u001b[0;34m(self)\u001b[0m\n\u001b[1;32m   1536\u001b[0m \u001b[38;5;28;01mif\u001b[39;00m \u001b[38;5;28mtype\u001b[39m(name) \u001b[38;5;129;01mis\u001b[39;00m \u001b[38;5;129;01mnot\u001b[39;00m \u001b[38;5;28mstr\u001b[39m \u001b[38;5;129;01mor\u001b[39;00m \u001b[38;5;28mtype\u001b[39m(module) \u001b[38;5;129;01mis\u001b[39;00m \u001b[38;5;129;01mnot\u001b[39;00m \u001b[38;5;28mstr\u001b[39m:\n\u001b[1;32m   1537\u001b[0m     \u001b[38;5;28;01mraise\u001b[39;00m UnpicklingError(\u001b[38;5;124m\"\u001b[39m\u001b[38;5;124mSTACK_GLOBAL requires str\u001b[39m\u001b[38;5;124m\"\u001b[39m)\n\u001b[0;32m-> 1538\u001b[0m \u001b[38;5;28mself\u001b[39m\u001b[38;5;241m.\u001b[39mappend(\u001b[38;5;28;43mself\u001b[39;49m\u001b[38;5;241;43m.\u001b[39;49m\u001b[43mfind_class\u001b[49m\u001b[43m(\u001b[49m\u001b[43mmodule\u001b[49m\u001b[43m,\u001b[49m\u001b[43m \u001b[49m\u001b[43mname\u001b[49m\u001b[43m)\u001b[49m)\n",
      "File \u001b[0;32m~/opt/miniconda3/envs/python3.10/lib/python3.10/site-packages/pandas/compat/pickle_compat.py:162\u001b[0m, in \u001b[0;36mUnpickler.find_class\u001b[0;34m(self, module, name)\u001b[0m\n\u001b[1;32m    160\u001b[0m key \u001b[38;5;241m=\u001b[39m (module, name)\n\u001b[1;32m    161\u001b[0m module, name \u001b[38;5;241m=\u001b[39m _class_locations_map\u001b[38;5;241m.\u001b[39mget(key, key)\n\u001b[0;32m--> 162\u001b[0m \u001b[38;5;28;01mreturn\u001b[39;00m \u001b[38;5;28;43msuper\u001b[39;49m\u001b[43m(\u001b[49m\u001b[43m)\u001b[49m\u001b[38;5;241;43m.\u001b[39;49m\u001b[43mfind_class\u001b[49m\u001b[43m(\u001b[49m\u001b[43mmodule\u001b[49m\u001b[43m,\u001b[49m\u001b[43m \u001b[49m\u001b[43mname\u001b[49m\u001b[43m)\u001b[49m\n",
      "File \u001b[0;32m~/opt/miniconda3/envs/python3.10/lib/python3.10/pickle.py:1580\u001b[0m, in \u001b[0;36m_Unpickler.find_class\u001b[0;34m(self, module, name)\u001b[0m\n\u001b[1;32m   1578\u001b[0m     \u001b[38;5;28;01melif\u001b[39;00m module \u001b[38;5;129;01min\u001b[39;00m _compat_pickle\u001b[38;5;241m.\u001b[39mIMPORT_MAPPING:\n\u001b[1;32m   1579\u001b[0m         module \u001b[38;5;241m=\u001b[39m _compat_pickle\u001b[38;5;241m.\u001b[39mIMPORT_MAPPING[module]\n\u001b[0;32m-> 1580\u001b[0m \u001b[38;5;28;43m__import__\u001b[39;49m\u001b[43m(\u001b[49m\u001b[43mmodule\u001b[49m\u001b[43m,\u001b[49m\u001b[43m \u001b[49m\u001b[43mlevel\u001b[49m\u001b[38;5;241;43m=\u001b[39;49m\u001b[38;5;241;43m0\u001b[39;49m\u001b[43m)\u001b[49m\n\u001b[1;32m   1581\u001b[0m \u001b[38;5;28;01mif\u001b[39;00m \u001b[38;5;28mself\u001b[39m\u001b[38;5;241m.\u001b[39mproto \u001b[38;5;241m>\u001b[39m\u001b[38;5;241m=\u001b[39m \u001b[38;5;241m4\u001b[39m:\n\u001b[1;32m   1582\u001b[0m     \u001b[38;5;28;01mreturn\u001b[39;00m _getattribute(sys\u001b[38;5;241m.\u001b[39mmodules[module], name)[\u001b[38;5;241m0\u001b[39m]\n",
      "\u001b[0;31mModuleNotFoundError\u001b[0m: No module named 'numpy._core'"
     ]
    }
   ],
   "source": [
    "try:\n",
    "    lclid_acorn_map = pd.read_pickle(\"data/london_smart_meters/preprocessed/london_smart_meters_lclid_acorn_map.pkl\")\n",
    "except FileNotFoundError:\n",
    "    display(HTML(\"\"\"\n",
    "    <div class=\"alert alert-block alert-warning\">\n",
    "    <b>Warning!</b> File not found. Please make sure you have run 02 - Preprocessing London Smart Meter Dataset.ipynb in Chapter02\n",
    "    </div>\n",
    "    \"\"\"))"
   ]
  },
  {
   "cell_type": "code",
   "execution_count": 4,
   "id": "db9a2dbf-239e-4e50-bd38-2a85f7cd1d14",
   "metadata": {},
   "outputs": [],
   "source": [
    "affluent_households = lclid_acorn_map.loc[lclid_acorn_map.Acorn_grouped==\"Affluent\", [\"LCLid\", 'file']]\n",
    "adversity_households = lclid_acorn_map.loc[lclid_acorn_map.Acorn_grouped==\"Adversity\", [\"LCLid\", 'file']]\n",
    "comfortable_households = lclid_acorn_map.loc[lclid_acorn_map.Acorn_grouped==\"Comfortable\", [\"LCLid\", 'file']]"
   ]
  },
  {
   "cell_type": "markdown",
   "id": "53a3e1c4-e28c-4b20-aee6-befda1885e16",
   "metadata": {},
   "source": [
    "\n",
    "Let's take a subset of the data because if we take everything, it will hit your RAM. Depending on how much RAM you have, we can choose larger data. But to maintain the variety in the dataset, we will do stratified sampling based on Acorn classifications.\n",
    "\n",
    "* <= 50 households for 4GB RAM\n",
    "* 50 - 100 households for 8GB RAM\n",
    "* 100-150 households for 16GB RAM\n",
    "* 250 households for 32GB RAM\n",
    "\n",
    "Let's sample 150 households now, but feel free to reduce of increase as per your hardware constraints\n",
    "\n",
    "150 households means 50 each from the three Acorn Groups - Affluent, Comfortable, Adversity (we are ignoring the households with unknown ACORN groups)"
   ]
  },
  {
   "cell_type": "code",
   "execution_count": 5,
   "id": "1e94d4dc-2bf5-4a5c-8ded-75807329a926",
   "metadata": {},
   "outputs": [],
   "source": [
    "selected_households = pd.concat(\n",
    "    [\n",
    "        affluent_households.sample(50, random_state=76),\n",
    "        comfortable_households.sample(50, random_state=76),\n",
    "        adversity_households.sample(50, random_state=76),\n",
    "    ]\n",
    ")\n",
    "selected_households['block'] = selected_households.file.str.split(\"_\", expand=True).iloc[:, 1].astype(int)"
   ]
  },
  {
   "cell_type": "code",
   "execution_count": 7,
   "id": "82b7d299-60e5-4b1e-b990-6c84d4bba1aa",
   "metadata": {},
   "outputs": [],
   "source": [
    "# extracting the paths to the different blocks and extracting the starting and ending blocks\n",
    "path_blocks = [\n",
    "    (p, *list(map(int, p.name.split(\"_\")[5].split(\".\")[0].split(\"-\"))))\n",
    "    for p in Path(\"data/london_smart_meters/preprocessed\").glob(\n",
    "        \"london_smart_meters_merged_block*\"\n",
    "    )\n",
    "]"
   ]
  },
  {
   "cell_type": "code",
   "execution_count": 10,
   "id": "699296cb-b980-448d-8694-5a2a88365549",
   "metadata": {},
   "outputs": [
    {
     "data": {
      "application/vnd.jupyter.widget-view+json": {
       "model_id": "29aa03462cdf404bb5c43c717ba2c41f",
       "version_major": 2,
       "version_minor": 0
      },
      "text/plain": [
       "  0%|          | 0/14 [00:00<?, ?it/s]"
      ]
     },
     "metadata": {},
     "output_type": "display_data"
    }
   ],
   "source": [
    "household_df_l = []\n",
    "for path, start_b, end_b in tqdm(path_blocks):\n",
    "    block_df = pd.read_parquet(path)\n",
    "    selected_households['block'].between\n",
    "    mask = selected_households['block'].between(start_b, end_b)\n",
    "    lclids = selected_households.loc[mask, \"LCLid\"]\n",
    "    household_df_l.append(block_df.loc[block_df.LCLid.isin(lclids)])"
   ]
  },
  {
   "cell_type": "code",
   "execution_count": 16,
   "id": "1624321f-2b04-4a2d-9c3d-c0cc4f463768",
   "metadata": {},
   "outputs": [
    {
     "data": {
      "text/html": [
       "<div>\n",
       "<style scoped>\n",
       "    .dataframe tbody tr th:only-of-type {\n",
       "        vertical-align: middle;\n",
       "    }\n",
       "\n",
       "    .dataframe tbody tr th {\n",
       "        vertical-align: top;\n",
       "    }\n",
       "\n",
       "    .dataframe thead th {\n",
       "        text-align: right;\n",
       "    }\n",
       "</style>\n",
       "<table border=\"1\" class=\"dataframe\">\n",
       "  <thead>\n",
       "    <tr style=\"text-align: right;\">\n",
       "      <th></th>\n",
       "      <th>LCLid</th>\n",
       "      <th>start_timestamp</th>\n",
       "      <th>frequency</th>\n",
       "      <th>energy_consumption</th>\n",
       "      <th>series_length</th>\n",
       "      <th>stdorToU</th>\n",
       "      <th>Acorn</th>\n",
       "      <th>Acorn_grouped</th>\n",
       "      <th>file</th>\n",
       "      <th>holidays</th>\n",
       "      <th>...</th>\n",
       "      <th>windBearing</th>\n",
       "      <th>temperature</th>\n",
       "      <th>dewPoint</th>\n",
       "      <th>pressure</th>\n",
       "      <th>apparentTemperature</th>\n",
       "      <th>windSpeed</th>\n",
       "      <th>precipType</th>\n",
       "      <th>icon</th>\n",
       "      <th>humidity</th>\n",
       "      <th>summary</th>\n",
       "    </tr>\n",
       "  </thead>\n",
       "  <tbody>\n",
       "    <tr>\n",
       "      <th>57</th>\n",
       "      <td>MAC000768</td>\n",
       "      <td>2012-04-21</td>\n",
       "      <td>30min</td>\n",
       "      <td>[0.8440000000000001, 0.265, 0.262, 0.233999999...</td>\n",
       "      <td>32544</td>\n",
       "      <td>Std</td>\n",
       "      <td>ACORN-A</td>\n",
       "      <td>Affluent</td>\n",
       "      <td>block_1</td>\n",
       "      <td>[NO_HOLIDAY, NO_HOLIDAY, NO_HOLIDAY, NO_HOLIDA...</td>\n",
       "      <td>...</td>\n",
       "      <td>[251.0, nan, 251.0, nan, 246.0, nan, 242.0, na...</td>\n",
       "      <td>[6.42, nan, 6.2, nan, 5.68, nan, 5.16, nan, 4....</td>\n",
       "      <td>[3.54, nan, 3.61, nan, 3.52, nan, 3.11, nan, 2...</td>\n",
       "      <td>[994.96, nan, 994.98, nan, 994.82, nan, 994.79...</td>\n",
       "      <td>[3.79, nan, 3.67, nan, 3.15, nan, 2.61, nan, 1...</td>\n",
       "      <td>[3.64, nan, 3.42, nan, 3.25, nan, 3.13, nan, 2...</td>\n",
       "      <td>[rain, None, rain, None, rain, None, rain, Non...</td>\n",
       "      <td>[partly-cloudy-night, None, partly-cloudy-nigh...</td>\n",
       "      <td>[0.82, nan, 0.83, nan, 0.86, nan, 0.87, nan, 0...</td>\n",
       "      <td>[Partly Cloudy, None, Partly Cloudy, None, Cle...</td>\n",
       "    </tr>\n",
       "    <tr>\n",
       "      <th>63</th>\n",
       "      <td>MAC000948</td>\n",
       "      <td>2012-05-02</td>\n",
       "      <td>30min</td>\n",
       "      <td>[0.008, 0.009, 0.008, 0.008, 0.008, 0.009, 0.0...</td>\n",
       "      <td>32016</td>\n",
       "      <td>Std</td>\n",
       "      <td>ACORN-A</td>\n",
       "      <td>Affluent</td>\n",
       "      <td>block_1</td>\n",
       "      <td>[NO_HOLIDAY, NO_HOLIDAY, NO_HOLIDAY, NO_HOLIDA...</td>\n",
       "      <td>...</td>\n",
       "      <td>[351.0, nan, 0.0, nan, 0.0, nan, 351.0, nan, 3...</td>\n",
       "      <td>[11.81, nan, 11.12, nan, 11.2, nan, 11.18, nan...</td>\n",
       "      <td>[10.47, nan, 10.15, nan, 9.89, nan, 9.29, nan,...</td>\n",
       "      <td>[1021.42, nan, 1021.44, nan, 1021.33, nan, 102...</td>\n",
       "      <td>[11.81, nan, 11.12, nan, 11.2, nan, 11.18, nan...</td>\n",
       "      <td>[2.53, nan, 2.41, nan, 2.06, nan, 2.98, nan, 3...</td>\n",
       "      <td>[rain, None, rain, None, rain, None, rain, Non...</td>\n",
       "      <td>[partly-cloudy-night, None, partly-cloudy-nigh...</td>\n",
       "      <td>[0.91, nan, 0.94, nan, 0.92, nan, 0.88, nan, 0...</td>\n",
       "      <td>[Mostly Cloudy, None, Mostly Cloudy, None, Ove...</td>\n",
       "    </tr>\n",
       "    <tr>\n",
       "      <th>2827</th>\n",
       "      <td>MAC003299</td>\n",
       "      <td>2012-09-25</td>\n",
       "      <td>30min</td>\n",
       "      <td>[0.254, 0.201, 0.183, 0.2189999999999999, 0.18...</td>\n",
       "      <td>25008</td>\n",
       "      <td>Std</td>\n",
       "      <td>ACORN-C</td>\n",
       "      <td>Affluent</td>\n",
       "      <td>block_5</td>\n",
       "      <td>[NO_HOLIDAY, NO_HOLIDAY, NO_HOLIDAY, NO_HOLIDA...</td>\n",
       "      <td>...</td>\n",
       "      <td>[220.0, nan, 218.0, nan, 215.0, nan, 211.0, na...</td>\n",
       "      <td>[10.93, nan, 10.81, nan, 10.27, nan, 10.2, nan...</td>\n",
       "      <td>[7.76, nan, 8.07, nan, 8.04, nan, 7.62, nan, 7...</td>\n",
       "      <td>[989.26, nan, 989.27, nan, 989.0, nan, 988.78,...</td>\n",
       "      <td>[10.93, nan, 10.81, nan, 10.27, nan, 10.2, nan...</td>\n",
       "      <td>[4.9, nan, 4.98, nan, 4.45, nan, 4.51, nan, 4....</td>\n",
       "      <td>[rain, None, rain, None, rain, None, rain, Non...</td>\n",
       "      <td>[clear-night, None, clear-night, None, clear-n...</td>\n",
       "      <td>[0.81, nan, 0.83, nan, 0.86, nan, 0.84, nan, 0...</td>\n",
       "      <td>[Clear, None, Clear, None, Clear, None, Clear,...</td>\n",
       "    </tr>\n",
       "    <tr>\n",
       "      <th>3389</th>\n",
       "      <td>MAC003157</td>\n",
       "      <td>2012-07-15</td>\n",
       "      <td>30min</td>\n",
       "      <td>[0.181, 0.126, 0.13, 0.134, 0.18, 0.179, 0.118...</td>\n",
       "      <td>28464</td>\n",
       "      <td>ToU</td>\n",
       "      <td>ACORN-C</td>\n",
       "      <td>Affluent</td>\n",
       "      <td>block_6</td>\n",
       "      <td>[NO_HOLIDAY, NO_HOLIDAY, NO_HOLIDAY, NO_HOLIDA...</td>\n",
       "      <td>...</td>\n",
       "      <td>[250.0, nan, 259.0, nan, 267.0, nan, 284.0, na...</td>\n",
       "      <td>[12.72, nan, 12.72, nan, 12.98, nan, 12.63, na...</td>\n",
       "      <td>[12.01, nan, 12.0, nan, 12.32, nan, 11.83, nan...</td>\n",
       "      <td>[1011.2, nan, 1011.17, nan, 1011.23, nan, 1011...</td>\n",
       "      <td>[12.72, nan, 12.72, nan, 12.98, nan, 12.63, na...</td>\n",
       "      <td>[1.73, nan, 2.15, nan, 2.31, nan, 2.28, nan, 2...</td>\n",
       "      <td>[rain, None, rain, None, rain, None, rain, Non...</td>\n",
       "      <td>[clear-night, None, partly-cloudy-night, None,...</td>\n",
       "      <td>[0.95, nan, 0.95, nan, 0.96, nan, 0.95, nan, 0...</td>\n",
       "      <td>[Clear, None, Partly Cloudy, None, Partly Clou...</td>\n",
       "    </tr>\n",
       "    <tr>\n",
       "      <th>3916</th>\n",
       "      <td>MAC000193</td>\n",
       "      <td>2012-01-01</td>\n",
       "      <td>30min</td>\n",
       "      <td>[0.368, 0.386, 0.17, 0.021, 0.038, 0.038, 0.02...</td>\n",
       "      <td>37872</td>\n",
       "      <td>ToU</td>\n",
       "      <td>ACORN-D</td>\n",
       "      <td>Affluent</td>\n",
       "      <td>block_7</td>\n",
       "      <td>[NO_HOLIDAY, NO_HOLIDAY, NO_HOLIDAY, NO_HOLIDA...</td>\n",
       "      <td>...</td>\n",
       "      <td>[229.0, nan, 238.0, nan, 229.0, nan, 231.0, na...</td>\n",
       "      <td>[12.12, nan, 12.59, nan, 12.45, nan, 12.03, na...</td>\n",
       "      <td>[10.97, nan, 11.02, nan, 11.04, nan, 10.94, na...</td>\n",
       "      <td>[1008.1, nan, 1007.88, nan, 1007.95, nan, 1007...</td>\n",
       "      <td>[12.12, nan, 12.59, nan, 12.45, nan, 12.03, na...</td>\n",
       "      <td>[5.9, nan, 6.06, nan, 5.31, nan, 4.68, nan, 4....</td>\n",
       "      <td>[rain, None, rain, None, rain, None, rain, Non...</td>\n",
       "      <td>[partly-cloudy-night, None, cloudy, None, part...</td>\n",
       "      <td>[0.93, nan, 0.9, nan, 0.91, nan, 0.93, nan, 0....</td>\n",
       "      <td>[Mostly Cloudy, None, Overcast, None, Mostly C...</td>\n",
       "    </tr>\n",
       "  </tbody>\n",
       "</table>\n",
       "<p>5 rows × 21 columns</p>\n",
       "</div>"
      ],
      "text/plain": [
       "          LCLid start_timestamp frequency  \\\n",
       "57    MAC000768      2012-04-21     30min   \n",
       "63    MAC000948      2012-05-02     30min   \n",
       "2827  MAC003299      2012-09-25     30min   \n",
       "3389  MAC003157      2012-07-15     30min   \n",
       "3916  MAC000193      2012-01-01     30min   \n",
       "\n",
       "                                     energy_consumption  series_length  \\\n",
       "57    [0.8440000000000001, 0.265, 0.262, 0.233999999...          32544   \n",
       "63    [0.008, 0.009, 0.008, 0.008, 0.008, 0.009, 0.0...          32016   \n",
       "2827  [0.254, 0.201, 0.183, 0.2189999999999999, 0.18...          25008   \n",
       "3389  [0.181, 0.126, 0.13, 0.134, 0.18, 0.179, 0.118...          28464   \n",
       "3916  [0.368, 0.386, 0.17, 0.021, 0.038, 0.038, 0.02...          37872   \n",
       "\n",
       "     stdorToU    Acorn Acorn_grouped     file  \\\n",
       "57        Std  ACORN-A      Affluent  block_1   \n",
       "63        Std  ACORN-A      Affluent  block_1   \n",
       "2827      Std  ACORN-C      Affluent  block_5   \n",
       "3389      ToU  ACORN-C      Affluent  block_6   \n",
       "3916      ToU  ACORN-D      Affluent  block_7   \n",
       "\n",
       "                                               holidays  ...  \\\n",
       "57    [NO_HOLIDAY, NO_HOLIDAY, NO_HOLIDAY, NO_HOLIDA...  ...   \n",
       "63    [NO_HOLIDAY, NO_HOLIDAY, NO_HOLIDAY, NO_HOLIDA...  ...   \n",
       "2827  [NO_HOLIDAY, NO_HOLIDAY, NO_HOLIDAY, NO_HOLIDA...  ...   \n",
       "3389  [NO_HOLIDAY, NO_HOLIDAY, NO_HOLIDAY, NO_HOLIDA...  ...   \n",
       "3916  [NO_HOLIDAY, NO_HOLIDAY, NO_HOLIDAY, NO_HOLIDA...  ...   \n",
       "\n",
       "                                            windBearing  \\\n",
       "57    [251.0, nan, 251.0, nan, 246.0, nan, 242.0, na...   \n",
       "63    [351.0, nan, 0.0, nan, 0.0, nan, 351.0, nan, 3...   \n",
       "2827  [220.0, nan, 218.0, nan, 215.0, nan, 211.0, na...   \n",
       "3389  [250.0, nan, 259.0, nan, 267.0, nan, 284.0, na...   \n",
       "3916  [229.0, nan, 238.0, nan, 229.0, nan, 231.0, na...   \n",
       "\n",
       "                                            temperature  \\\n",
       "57    [6.42, nan, 6.2, nan, 5.68, nan, 5.16, nan, 4....   \n",
       "63    [11.81, nan, 11.12, nan, 11.2, nan, 11.18, nan...   \n",
       "2827  [10.93, nan, 10.81, nan, 10.27, nan, 10.2, nan...   \n",
       "3389  [12.72, nan, 12.72, nan, 12.98, nan, 12.63, na...   \n",
       "3916  [12.12, nan, 12.59, nan, 12.45, nan, 12.03, na...   \n",
       "\n",
       "                                               dewPoint  \\\n",
       "57    [3.54, nan, 3.61, nan, 3.52, nan, 3.11, nan, 2...   \n",
       "63    [10.47, nan, 10.15, nan, 9.89, nan, 9.29, nan,...   \n",
       "2827  [7.76, nan, 8.07, nan, 8.04, nan, 7.62, nan, 7...   \n",
       "3389  [12.01, nan, 12.0, nan, 12.32, nan, 11.83, nan...   \n",
       "3916  [10.97, nan, 11.02, nan, 11.04, nan, 10.94, na...   \n",
       "\n",
       "                                               pressure  \\\n",
       "57    [994.96, nan, 994.98, nan, 994.82, nan, 994.79...   \n",
       "63    [1021.42, nan, 1021.44, nan, 1021.33, nan, 102...   \n",
       "2827  [989.26, nan, 989.27, nan, 989.0, nan, 988.78,...   \n",
       "3389  [1011.2, nan, 1011.17, nan, 1011.23, nan, 1011...   \n",
       "3916  [1008.1, nan, 1007.88, nan, 1007.95, nan, 1007...   \n",
       "\n",
       "                                    apparentTemperature  \\\n",
       "57    [3.79, nan, 3.67, nan, 3.15, nan, 2.61, nan, 1...   \n",
       "63    [11.81, nan, 11.12, nan, 11.2, nan, 11.18, nan...   \n",
       "2827  [10.93, nan, 10.81, nan, 10.27, nan, 10.2, nan...   \n",
       "3389  [12.72, nan, 12.72, nan, 12.98, nan, 12.63, na...   \n",
       "3916  [12.12, nan, 12.59, nan, 12.45, nan, 12.03, na...   \n",
       "\n",
       "                                              windSpeed  \\\n",
       "57    [3.64, nan, 3.42, nan, 3.25, nan, 3.13, nan, 2...   \n",
       "63    [2.53, nan, 2.41, nan, 2.06, nan, 2.98, nan, 3...   \n",
       "2827  [4.9, nan, 4.98, nan, 4.45, nan, 4.51, nan, 4....   \n",
       "3389  [1.73, nan, 2.15, nan, 2.31, nan, 2.28, nan, 2...   \n",
       "3916  [5.9, nan, 6.06, nan, 5.31, nan, 4.68, nan, 4....   \n",
       "\n",
       "                                             precipType  \\\n",
       "57    [rain, None, rain, None, rain, None, rain, Non...   \n",
       "63    [rain, None, rain, None, rain, None, rain, Non...   \n",
       "2827  [rain, None, rain, None, rain, None, rain, Non...   \n",
       "3389  [rain, None, rain, None, rain, None, rain, Non...   \n",
       "3916  [rain, None, rain, None, rain, None, rain, Non...   \n",
       "\n",
       "                                                   icon  \\\n",
       "57    [partly-cloudy-night, None, partly-cloudy-nigh...   \n",
       "63    [partly-cloudy-night, None, partly-cloudy-nigh...   \n",
       "2827  [clear-night, None, clear-night, None, clear-n...   \n",
       "3389  [clear-night, None, partly-cloudy-night, None,...   \n",
       "3916  [partly-cloudy-night, None, cloudy, None, part...   \n",
       "\n",
       "                                               humidity  \\\n",
       "57    [0.82, nan, 0.83, nan, 0.86, nan, 0.87, nan, 0...   \n",
       "63    [0.91, nan, 0.94, nan, 0.92, nan, 0.88, nan, 0...   \n",
       "2827  [0.81, nan, 0.83, nan, 0.86, nan, 0.84, nan, 0...   \n",
       "3389  [0.95, nan, 0.95, nan, 0.96, nan, 0.95, nan, 0...   \n",
       "3916  [0.93, nan, 0.9, nan, 0.91, nan, 0.93, nan, 0....   \n",
       "\n",
       "                                                summary  \n",
       "57    [Partly Cloudy, None, Partly Cloudy, None, Cle...  \n",
       "63    [Mostly Cloudy, None, Mostly Cloudy, None, Ove...  \n",
       "2827  [Clear, None, Clear, None, Clear, None, Clear,...  \n",
       "3389  [Clear, None, Partly Cloudy, None, Partly Clou...  \n",
       "3916  [Mostly Cloudy, None, Overcast, None, Mostly C...  \n",
       "\n",
       "[5 rows x 21 columns]"
      ]
     },
     "execution_count": 16,
     "metadata": {},
     "output_type": "execute_result"
    }
   ],
   "source": [
    "block_df = pd.concat(household_df_l)\n",
    "del household_df_l\n",
    "block_df.head()"
   ]
  },
  {
   "cell_type": "code",
   "execution_count": 19,
   "id": "2d1ba165-4bbd-4d70-a258-6f5c1d614649",
   "metadata": {},
   "outputs": [],
   "source": [
    "from src.utils.data_utils import compact_to_expanded"
   ]
  },
  {
   "cell_type": "code",
   "execution_count": 20,
   "id": "8a6ee29c-6c81-4ab4-9617-c488bbe26b3f",
   "metadata": {},
   "outputs": [
    {
     "data": {
      "application/vnd.jupyter.widget-view+json": {
       "model_id": "1b170606d3fd4c95acb4117392234d23",
       "version_major": 2,
       "version_minor": 0
      },
      "text/plain": [
       "  0%|          | 0/150 [00:00<?, ?it/s]"
      ]
     },
     "metadata": {},
     "output_type": "display_data"
    },
    {
     "data": {
      "text/html": [
       "<div>\n",
       "<style scoped>\n",
       "    .dataframe tbody tr th:only-of-type {\n",
       "        vertical-align: middle;\n",
       "    }\n",
       "\n",
       "    .dataframe tbody tr th {\n",
       "        vertical-align: top;\n",
       "    }\n",
       "\n",
       "    .dataframe thead th {\n",
       "        text-align: right;\n",
       "    }\n",
       "</style>\n",
       "<table border=\"1\" class=\"dataframe\">\n",
       "  <thead>\n",
       "    <tr style=\"text-align: right;\">\n",
       "      <th></th>\n",
       "      <th>timestamp</th>\n",
       "      <th>LCLid</th>\n",
       "      <th>energy_consumption</th>\n",
       "      <th>frequency</th>\n",
       "      <th>series_length</th>\n",
       "      <th>stdorToU</th>\n",
       "      <th>Acorn</th>\n",
       "      <th>Acorn_grouped</th>\n",
       "      <th>file</th>\n",
       "      <th>holidays</th>\n",
       "      <th>...</th>\n",
       "      <th>windBearing</th>\n",
       "      <th>temperature</th>\n",
       "      <th>dewPoint</th>\n",
       "      <th>pressure</th>\n",
       "      <th>apparentTemperature</th>\n",
       "      <th>windSpeed</th>\n",
       "      <th>precipType</th>\n",
       "      <th>icon</th>\n",
       "      <th>humidity</th>\n",
       "      <th>summary</th>\n",
       "    </tr>\n",
       "  </thead>\n",
       "  <tbody>\n",
       "    <tr>\n",
       "      <th>0</th>\n",
       "      <td>2012-04-21 00:00:00</td>\n",
       "      <td>MAC000768</td>\n",
       "      <td>0.844</td>\n",
       "      <td>30min</td>\n",
       "      <td>32544</td>\n",
       "      <td>Std</td>\n",
       "      <td>ACORN-A</td>\n",
       "      <td>Affluent</td>\n",
       "      <td>block_1</td>\n",
       "      <td>NO_HOLIDAY</td>\n",
       "      <td>...</td>\n",
       "      <td>251.0</td>\n",
       "      <td>6.42</td>\n",
       "      <td>3.54</td>\n",
       "      <td>994.96</td>\n",
       "      <td>3.79</td>\n",
       "      <td>3.64</td>\n",
       "      <td>rain</td>\n",
       "      <td>partly-cloudy-night</td>\n",
       "      <td>0.82</td>\n",
       "      <td>Partly Cloudy</td>\n",
       "    </tr>\n",
       "    <tr>\n",
       "      <th>1</th>\n",
       "      <td>2012-04-21 00:30:00</td>\n",
       "      <td>MAC000768</td>\n",
       "      <td>0.265</td>\n",
       "      <td>30min</td>\n",
       "      <td>32544</td>\n",
       "      <td>Std</td>\n",
       "      <td>ACORN-A</td>\n",
       "      <td>Affluent</td>\n",
       "      <td>block_1</td>\n",
       "      <td>NO_HOLIDAY</td>\n",
       "      <td>...</td>\n",
       "      <td>NaN</td>\n",
       "      <td>NaN</td>\n",
       "      <td>NaN</td>\n",
       "      <td>NaN</td>\n",
       "      <td>NaN</td>\n",
       "      <td>NaN</td>\n",
       "      <td>None</td>\n",
       "      <td>None</td>\n",
       "      <td>NaN</td>\n",
       "      <td>None</td>\n",
       "    </tr>\n",
       "    <tr>\n",
       "      <th>2</th>\n",
       "      <td>2012-04-21 01:00:00</td>\n",
       "      <td>MAC000768</td>\n",
       "      <td>0.262</td>\n",
       "      <td>30min</td>\n",
       "      <td>32544</td>\n",
       "      <td>Std</td>\n",
       "      <td>ACORN-A</td>\n",
       "      <td>Affluent</td>\n",
       "      <td>block_1</td>\n",
       "      <td>NO_HOLIDAY</td>\n",
       "      <td>...</td>\n",
       "      <td>251.0</td>\n",
       "      <td>6.20</td>\n",
       "      <td>3.61</td>\n",
       "      <td>994.98</td>\n",
       "      <td>3.67</td>\n",
       "      <td>3.42</td>\n",
       "      <td>rain</td>\n",
       "      <td>partly-cloudy-night</td>\n",
       "      <td>0.83</td>\n",
       "      <td>Partly Cloudy</td>\n",
       "    </tr>\n",
       "    <tr>\n",
       "      <th>3</th>\n",
       "      <td>2012-04-21 01:30:00</td>\n",
       "      <td>MAC000768</td>\n",
       "      <td>0.234</td>\n",
       "      <td>30min</td>\n",
       "      <td>32544</td>\n",
       "      <td>Std</td>\n",
       "      <td>ACORN-A</td>\n",
       "      <td>Affluent</td>\n",
       "      <td>block_1</td>\n",
       "      <td>NO_HOLIDAY</td>\n",
       "      <td>...</td>\n",
       "      <td>NaN</td>\n",
       "      <td>NaN</td>\n",
       "      <td>NaN</td>\n",
       "      <td>NaN</td>\n",
       "      <td>NaN</td>\n",
       "      <td>NaN</td>\n",
       "      <td>None</td>\n",
       "      <td>None</td>\n",
       "      <td>NaN</td>\n",
       "      <td>None</td>\n",
       "    </tr>\n",
       "    <tr>\n",
       "      <th>4</th>\n",
       "      <td>2012-04-21 02:00:00</td>\n",
       "      <td>MAC000768</td>\n",
       "      <td>0.046</td>\n",
       "      <td>30min</td>\n",
       "      <td>32544</td>\n",
       "      <td>Std</td>\n",
       "      <td>ACORN-A</td>\n",
       "      <td>Affluent</td>\n",
       "      <td>block_1</td>\n",
       "      <td>NO_HOLIDAY</td>\n",
       "      <td>...</td>\n",
       "      <td>246.0</td>\n",
       "      <td>5.68</td>\n",
       "      <td>3.52</td>\n",
       "      <td>994.82</td>\n",
       "      <td>3.15</td>\n",
       "      <td>3.25</td>\n",
       "      <td>rain</td>\n",
       "      <td>clear-night</td>\n",
       "      <td>0.86</td>\n",
       "      <td>Clear</td>\n",
       "    </tr>\n",
       "  </tbody>\n",
       "</table>\n",
       "<p>5 rows × 21 columns</p>\n",
       "</div>"
      ],
      "text/plain": [
       "            timestamp      LCLid  energy_consumption frequency  series_length  \\\n",
       "0 2012-04-21 00:00:00  MAC000768               0.844     30min          32544   \n",
       "1 2012-04-21 00:30:00  MAC000768               0.265     30min          32544   \n",
       "2 2012-04-21 01:00:00  MAC000768               0.262     30min          32544   \n",
       "3 2012-04-21 01:30:00  MAC000768               0.234     30min          32544   \n",
       "4 2012-04-21 02:00:00  MAC000768               0.046     30min          32544   \n",
       "\n",
       "  stdorToU    Acorn Acorn_grouped     file    holidays  ...  windBearing  \\\n",
       "0      Std  ACORN-A      Affluent  block_1  NO_HOLIDAY  ...        251.0   \n",
       "1      Std  ACORN-A      Affluent  block_1  NO_HOLIDAY  ...          NaN   \n",
       "2      Std  ACORN-A      Affluent  block_1  NO_HOLIDAY  ...        251.0   \n",
       "3      Std  ACORN-A      Affluent  block_1  NO_HOLIDAY  ...          NaN   \n",
       "4      Std  ACORN-A      Affluent  block_1  NO_HOLIDAY  ...        246.0   \n",
       "\n",
       "   temperature  dewPoint  pressure  apparentTemperature  windSpeed  \\\n",
       "0         6.42      3.54    994.96                 3.79       3.64   \n",
       "1          NaN       NaN       NaN                  NaN        NaN   \n",
       "2         6.20      3.61    994.98                 3.67       3.42   \n",
       "3          NaN       NaN       NaN                  NaN        NaN   \n",
       "4         5.68      3.52    994.82                 3.15       3.25   \n",
       "\n",
       "   precipType                 icon humidity        summary  \n",
       "0        rain  partly-cloudy-night     0.82  Partly Cloudy  \n",
       "1        None                 None      NaN           None  \n",
       "2        rain  partly-cloudy-night     0.83  Partly Cloudy  \n",
       "3        None                 None      NaN           None  \n",
       "4        rain          clear-night     0.86          Clear  \n",
       "\n",
       "[5 rows x 21 columns]"
      ]
     },
     "execution_count": 20,
     "metadata": {},
     "output_type": "execute_result"
    }
   ],
   "source": [
    "#Converting to expanded form\n",
    "exp_block_df = compact_to_expanded(block_df, timeseries_col = 'energy_consumption',\n",
    "static_cols = [\"frequency\", \"series_length\", \"stdorToU\", \"Acorn\", \"Acorn_grouped\", \"file\"],\n",
    "time_varying_cols = ['holidays', 'visibility', 'windBearing', 'temperature', 'dewPoint',\n",
    "       'pressure', 'apparentTemperature', 'windSpeed', 'precipType', 'icon',\n",
    "       'humidity', 'summary'],\n",
    "ts_identifier = \"LCLid\")\n",
    "\n",
    "exp_block_df.head()"
   ]
  },
  {
   "cell_type": "markdown",
   "id": "3a94732d-a46a-416d-972f-daa75fb92fb4",
   "metadata": {},
   "source": [
    "## Reduce Memory Footprint"
   ]
  },
  {
   "cell_type": "code",
   "execution_count": 21,
   "id": "ca804c7a-421c-4c76-beef-4f26ec016c9e",
   "metadata": {},
   "outputs": [],
   "source": [
    "from src.utils.data_utils import reduce_memory_footprint"
   ]
  },
  {
   "cell_type": "code",
   "execution_count": 22,
   "id": "19bff3aa-e7f1-4edf-979b-36cbc473f7b7",
   "metadata": {},
   "outputs": [
    {
     "name": "stdout",
     "output_type": "stream",
     "text": [
      "<class 'pandas.core.frame.DataFrame'>\n",
      "Index: 4711440 entries, 0 to 23471\n",
      "Columns: 21 entries, timestamp to summary\n",
      "dtypes: datetime64[ns](1), float64(9), int64(1), object(10)\n",
      "memory usage: 3.0 GB\n"
     ]
    }
   ],
   "source": [
    "exp_block_df.info(memory_usage=\"deep\", verbose=False)"
   ]
  },
  {
   "cell_type": "code",
   "execution_count": 23,
   "id": "85908d31-5276-466d-ad8f-a9fdda67cee8",
   "metadata": {},
   "outputs": [],
   "source": [
    "exp_block_df = reduce_memory_footprint(exp_block_df)"
   ]
  },
  {
   "cell_type": "code",
   "execution_count": 82,
   "id": "9a3a3371-c1dd-4cce-af05-73673bb2497b",
   "metadata": {},
   "outputs": [
    {
     "name": "stdout",
     "output_type": "stream",
     "text": [
      "<class 'pandas.core.frame.DataFrame'>\n",
      "Int64Index: 4711440 entries, 0 to 33263\n",
      "Columns: 21 entries, timestamp to summary\n",
      "dtypes: category(10), datetime64[ns](1), float32(8), int32(2)\n",
      "memory usage: 301.1 MB\n"
     ]
    }
   ],
   "source": [
    "exp_block_df.info(memory_usage=\"deep\", verbose=False)"
   ]
  },
  {
   "cell_type": "markdown",
   "id": "9d4fccc6-fead-4ce4-9c58-0aa017f5dffb",
   "metadata": {},
   "source": [
    "# Train Test Valildation Split"
   ]
  },
  {
   "cell_type": "markdown",
   "id": "1e20542e-e027-43f1-8164-054ea1c07b2f",
   "metadata": {},
   "source": [
    "We are going to keep 2014 data as the validation and test period. We have 2 months(Jan and Feb) of data in 2014. Jan is Validation and Feb is Test"
   ]
  },
  {
   "cell_type": "code",
   "execution_count": 28,
   "id": "74a762af-b17d-46bf-9440-367d132caa6e",
   "metadata": {},
   "outputs": [
    {
     "name": "stdout",
     "output_type": "stream",
     "text": [
      "# of Training samples: 4293840 | # of Validation samples: 223200 | # of Test samples: 194400\n",
      "Max Date in Train: 2013-12-31 23:30:00 | Min Date in Validation: 2014-01-01 00:00:00 | Min Date in Test: 2014-02-01 00:00:00\n"
     ]
    }
   ],
   "source": [
    "test_mask = (exp_block_df.timestamp.dt.year==2014) & (exp_block_df.timestamp.dt.month==2)\n",
    "val_mask = (exp_block_df.timestamp.dt.year==2014) & (exp_block_df.timestamp.dt.month==1)\n",
    "\n",
    "train = exp_block_df[~(val_mask|test_mask)]\n",
    "val = exp_block_df[val_mask]\n",
    "test = exp_block_df[test_mask]\n",
    "print(f\"# of Training samples: {len(train)} | # of Validation samples: {len(val)} | # of Test samples: {len(test)}\")\n",
    "print(f\"Max Date in Train: {train.timestamp.max()} | Min Date in Validation: {val.timestamp.min()} | Min Date in Test: {test.timestamp.min()}\")"
   ]
  },
  {
   "cell_type": "code",
   "execution_count": 30,
   "id": "62ec1fc8-7f08-45b9-b0c9-7a782fd62c9b",
   "metadata": {},
   "outputs": [],
   "source": [
    "train.to_parquet(\"data/london_smart_meters/preprocessed/selected_blocks_train.parquet\")\n",
    "val.to_parquet(\"data/london_smart_meters/preprocessed/selected_blocks_val.parquet\")\n",
    "test.to_parquet(\"data/london_smart_meters/preprocessed/selected_blocks_test.parquet\")"
   ]
  },
  {
   "cell_type": "markdown",
   "id": "0adfd81a-39b1-4261-a6be-24ede1313be3",
   "metadata": {},
   "source": [
    "## Train Test Split after filling in missing values"
   ]
  },
  {
   "cell_type": "code",
   "execution_count": 31,
   "id": "b7c669aa-3892-4de7-886b-4275cdf229ee",
   "metadata": {},
   "outputs": [
    {
     "data": {
      "application/vnd.jupyter.widget-view+json": {
       "model_id": "d4e0bcec04094fe8bbfc594011306dd4",
       "version_major": 2,
       "version_minor": 0
      },
      "text/plain": [
       "  0%|          | 0/150 [00:00<?, ?it/s]"
      ]
     },
     "metadata": {},
     "output_type": "display_data"
    }
   ],
   "source": [
    "from src.imputation.interpolation import SeasonalInterpolation\n",
    "\n",
    "# Remove seasonality and fill-in missing values with an interpolation\n",
    "block_df.energy_consumption = block_df.energy_consumption.progress_apply(\n",
    "    lambda x: SeasonalInterpolation(seasonal_period=48*7).fit_transform(x.reshape(-1,1)).squeeze()\n",
    ")"
   ]
  },
  {
   "cell_type": "code",
   "execution_count": 32,
   "id": "7d8a9a3b-8a02-47ee-a35f-09450de68cc7",
   "metadata": {
    "tags": []
   },
   "outputs": [
    {
     "data": {
      "application/vnd.jupyter.widget-view+json": {
       "model_id": "2ec109b4924d48b98d6bf525cfe1010b",
       "version_major": 2,
       "version_minor": 0
      },
      "text/plain": [
       "  0%|          | 0/150 [00:00<?, ?it/s]"
      ]
     },
     "metadata": {},
     "output_type": "display_data"
    },
    {
     "data": {
      "text/html": [
       "<div>\n",
       "<style scoped>\n",
       "    .dataframe tbody tr th:only-of-type {\n",
       "        vertical-align: middle;\n",
       "    }\n",
       "\n",
       "    .dataframe tbody tr th {\n",
       "        vertical-align: top;\n",
       "    }\n",
       "\n",
       "    .dataframe thead th {\n",
       "        text-align: right;\n",
       "    }\n",
       "</style>\n",
       "<table border=\"1\" class=\"dataframe\">\n",
       "  <thead>\n",
       "    <tr style=\"text-align: right;\">\n",
       "      <th></th>\n",
       "      <th>timestamp</th>\n",
       "      <th>LCLid</th>\n",
       "      <th>energy_consumption</th>\n",
       "      <th>frequency</th>\n",
       "      <th>series_length</th>\n",
       "      <th>stdorToU</th>\n",
       "      <th>Acorn</th>\n",
       "      <th>Acorn_grouped</th>\n",
       "      <th>file</th>\n",
       "      <th>holidays</th>\n",
       "      <th>...</th>\n",
       "      <th>windBearing</th>\n",
       "      <th>temperature</th>\n",
       "      <th>dewPoint</th>\n",
       "      <th>pressure</th>\n",
       "      <th>apparentTemperature</th>\n",
       "      <th>windSpeed</th>\n",
       "      <th>precipType</th>\n",
       "      <th>icon</th>\n",
       "      <th>humidity</th>\n",
       "      <th>summary</th>\n",
       "    </tr>\n",
       "  </thead>\n",
       "  <tbody>\n",
       "    <tr>\n",
       "      <th>0</th>\n",
       "      <td>2012-04-21 00:00:00</td>\n",
       "      <td>MAC000768</td>\n",
       "      <td>0.844</td>\n",
       "      <td>30min</td>\n",
       "      <td>32544</td>\n",
       "      <td>Std</td>\n",
       "      <td>ACORN-A</td>\n",
       "      <td>Affluent</td>\n",
       "      <td>block_1</td>\n",
       "      <td>NO_HOLIDAY</td>\n",
       "      <td>...</td>\n",
       "      <td>251.0</td>\n",
       "      <td>6.42</td>\n",
       "      <td>3.54</td>\n",
       "      <td>994.96</td>\n",
       "      <td>3.79</td>\n",
       "      <td>3.64</td>\n",
       "      <td>rain</td>\n",
       "      <td>partly-cloudy-night</td>\n",
       "      <td>0.82</td>\n",
       "      <td>Partly Cloudy</td>\n",
       "    </tr>\n",
       "    <tr>\n",
       "      <th>1</th>\n",
       "      <td>2012-04-21 00:30:00</td>\n",
       "      <td>MAC000768</td>\n",
       "      <td>0.265</td>\n",
       "      <td>30min</td>\n",
       "      <td>32544</td>\n",
       "      <td>Std</td>\n",
       "      <td>ACORN-A</td>\n",
       "      <td>Affluent</td>\n",
       "      <td>block_1</td>\n",
       "      <td>NO_HOLIDAY</td>\n",
       "      <td>...</td>\n",
       "      <td>NaN</td>\n",
       "      <td>NaN</td>\n",
       "      <td>NaN</td>\n",
       "      <td>NaN</td>\n",
       "      <td>NaN</td>\n",
       "      <td>NaN</td>\n",
       "      <td>None</td>\n",
       "      <td>None</td>\n",
       "      <td>NaN</td>\n",
       "      <td>None</td>\n",
       "    </tr>\n",
       "    <tr>\n",
       "      <th>2</th>\n",
       "      <td>2012-04-21 01:00:00</td>\n",
       "      <td>MAC000768</td>\n",
       "      <td>0.262</td>\n",
       "      <td>30min</td>\n",
       "      <td>32544</td>\n",
       "      <td>Std</td>\n",
       "      <td>ACORN-A</td>\n",
       "      <td>Affluent</td>\n",
       "      <td>block_1</td>\n",
       "      <td>NO_HOLIDAY</td>\n",
       "      <td>...</td>\n",
       "      <td>251.0</td>\n",
       "      <td>6.20</td>\n",
       "      <td>3.61</td>\n",
       "      <td>994.98</td>\n",
       "      <td>3.67</td>\n",
       "      <td>3.42</td>\n",
       "      <td>rain</td>\n",
       "      <td>partly-cloudy-night</td>\n",
       "      <td>0.83</td>\n",
       "      <td>Partly Cloudy</td>\n",
       "    </tr>\n",
       "    <tr>\n",
       "      <th>3</th>\n",
       "      <td>2012-04-21 01:30:00</td>\n",
       "      <td>MAC000768</td>\n",
       "      <td>0.234</td>\n",
       "      <td>30min</td>\n",
       "      <td>32544</td>\n",
       "      <td>Std</td>\n",
       "      <td>ACORN-A</td>\n",
       "      <td>Affluent</td>\n",
       "      <td>block_1</td>\n",
       "      <td>NO_HOLIDAY</td>\n",
       "      <td>...</td>\n",
       "      <td>NaN</td>\n",
       "      <td>NaN</td>\n",
       "      <td>NaN</td>\n",
       "      <td>NaN</td>\n",
       "      <td>NaN</td>\n",
       "      <td>NaN</td>\n",
       "      <td>None</td>\n",
       "      <td>None</td>\n",
       "      <td>NaN</td>\n",
       "      <td>None</td>\n",
       "    </tr>\n",
       "    <tr>\n",
       "      <th>4</th>\n",
       "      <td>2012-04-21 02:00:00</td>\n",
       "      <td>MAC000768</td>\n",
       "      <td>0.046</td>\n",
       "      <td>30min</td>\n",
       "      <td>32544</td>\n",
       "      <td>Std</td>\n",
       "      <td>ACORN-A</td>\n",
       "      <td>Affluent</td>\n",
       "      <td>block_1</td>\n",
       "      <td>NO_HOLIDAY</td>\n",
       "      <td>...</td>\n",
       "      <td>246.0</td>\n",
       "      <td>5.68</td>\n",
       "      <td>3.52</td>\n",
       "      <td>994.82</td>\n",
       "      <td>3.15</td>\n",
       "      <td>3.25</td>\n",
       "      <td>rain</td>\n",
       "      <td>clear-night</td>\n",
       "      <td>0.86</td>\n",
       "      <td>Clear</td>\n",
       "    </tr>\n",
       "  </tbody>\n",
       "</table>\n",
       "<p>5 rows × 21 columns</p>\n",
       "</div>"
      ],
      "text/plain": [
       "            timestamp      LCLid  energy_consumption frequency  series_length  \\\n",
       "0 2012-04-21 00:00:00  MAC000768               0.844     30min          32544   \n",
       "1 2012-04-21 00:30:00  MAC000768               0.265     30min          32544   \n",
       "2 2012-04-21 01:00:00  MAC000768               0.262     30min          32544   \n",
       "3 2012-04-21 01:30:00  MAC000768               0.234     30min          32544   \n",
       "4 2012-04-21 02:00:00  MAC000768               0.046     30min          32544   \n",
       "\n",
       "  stdorToU    Acorn Acorn_grouped     file    holidays  ...  windBearing  \\\n",
       "0      Std  ACORN-A      Affluent  block_1  NO_HOLIDAY  ...        251.0   \n",
       "1      Std  ACORN-A      Affluent  block_1  NO_HOLIDAY  ...          NaN   \n",
       "2      Std  ACORN-A      Affluent  block_1  NO_HOLIDAY  ...        251.0   \n",
       "3      Std  ACORN-A      Affluent  block_1  NO_HOLIDAY  ...          NaN   \n",
       "4      Std  ACORN-A      Affluent  block_1  NO_HOLIDAY  ...        246.0   \n",
       "\n",
       "   temperature  dewPoint  pressure  apparentTemperature  windSpeed  \\\n",
       "0         6.42      3.54    994.96                 3.79       3.64   \n",
       "1          NaN       NaN       NaN                  NaN        NaN   \n",
       "2         6.20      3.61    994.98                 3.67       3.42   \n",
       "3          NaN       NaN       NaN                  NaN        NaN   \n",
       "4         5.68      3.52    994.82                 3.15       3.25   \n",
       "\n",
       "   precipType                 icon humidity        summary  \n",
       "0        rain  partly-cloudy-night     0.82  Partly Cloudy  \n",
       "1        None                 None      NaN           None  \n",
       "2        rain  partly-cloudy-night     0.83  Partly Cloudy  \n",
       "3        None                 None      NaN           None  \n",
       "4        rain          clear-night     0.86          Clear  \n",
       "\n",
       "[5 rows x 21 columns]"
      ]
     },
     "execution_count": 32,
     "metadata": {},
     "output_type": "execute_result"
    }
   ],
   "source": [
    "#Converting to expanded form\n",
    "exp_block_df = compact_to_expanded(\n",
    "    block_df,\n",
    "    timeseries_col = 'energy_consumption',\n",
    "    static_cols = [\"frequency\", \"series_length\", \"stdorToU\", \"Acorn\", \"Acorn_grouped\", \"file\"],\n",
    "    time_varying_cols = [\n",
    "        'holidays', 'visibility', 'windBearing', 'temperature', 'dewPoint',\n",
    "        'pressure', 'apparentTemperature', 'windSpeed', 'precipType', 'icon',\n",
    "        'humidity', 'summary'\n",
    "        ],\n",
    "    ts_identifier = \"LCLid\"\n",
    ")\n",
    "\n",
    "exp_block_df.head()"
   ]
  },
  {
   "cell_type": "markdown",
   "id": "38bc27a1-d06c-4513-875c-05956990cf58",
   "metadata": {},
   "source": [
    "## Reduce Memory Footprint"
   ]
  },
  {
   "cell_type": "code",
   "execution_count": 33,
   "id": "da3cde56-201f-4637-a8f7-0597841b7e18",
   "metadata": {},
   "outputs": [],
   "source": [
    "from src.utils.data_utils import reduce_memory_footprint"
   ]
  },
  {
   "cell_type": "code",
   "execution_count": 34,
   "id": "0c03bb4c-d5ee-4e5a-bf36-d1d01e1d27dd",
   "metadata": {},
   "outputs": [
    {
     "name": "stdout",
     "output_type": "stream",
     "text": [
      "<class 'pandas.core.frame.DataFrame'>\n",
      "Index: 4711440 entries, 0 to 23471\n",
      "Columns: 21 entries, timestamp to summary\n",
      "dtypes: datetime64[ns](1), float64(9), int64(1), object(10)\n",
      "memory usage: 3.0 GB\n"
     ]
    }
   ],
   "source": [
    "exp_block_df.info(memory_usage=\"deep\", verbose=False)"
   ]
  },
  {
   "cell_type": "code",
   "execution_count": 35,
   "id": "001fb4df-8669-432e-85a9-a57d5a721add",
   "metadata": {},
   "outputs": [],
   "source": [
    "exp_block_df = reduce_memory_footprint(exp_block_df)"
   ]
  },
  {
   "cell_type": "code",
   "execution_count": 36,
   "id": "0d78f0e8-c9e3-4f10-97d5-b7969577b058",
   "metadata": {},
   "outputs": [
    {
     "name": "stdout",
     "output_type": "stream",
     "text": [
      "<class 'pandas.core.frame.DataFrame'>\n",
      "Index: 4711440 entries, 0 to 23471\n",
      "Columns: 21 entries, timestamp to summary\n",
      "dtypes: category(10), datetime64[ns](1), float32(9), int32(1)\n",
      "memory usage: 301.1 MB\n"
     ]
    }
   ],
   "source": [
    "exp_block_df.info(memory_usage=\"deep\", verbose=False)"
   ]
  },
  {
   "cell_type": "code",
   "execution_count": 37,
   "id": "a0bbf4f4-d075-4de3-8bcc-0278b3386451",
   "metadata": {},
   "outputs": [
    {
     "name": "stdout",
     "output_type": "stream",
     "text": [
      "# of Training samples: 4293840 | # of Validation samples: 223200 | # of Test samples: 194400\n",
      "Max Date in Train: 2013-12-31 23:30:00 | Min Date in Validation: 2014-01-01 00:00:00 | Min Date in Test: 2014-02-01 00:00:00\n"
     ]
    }
   ],
   "source": [
    "test_mask = (exp_block_df.timestamp.dt.year==2014) & (exp_block_df.timestamp.dt.month==2)\n",
    "val_mask = (exp_block_df.timestamp.dt.year==2014) & (exp_block_df.timestamp.dt.month==1)\n",
    "\n",
    "train = exp_block_df[~(val_mask|test_mask)]\n",
    "val = exp_block_df[val_mask]\n",
    "test = exp_block_df[test_mask]\n",
    "print(f\"# of Training samples: {len(train)} | # of Validation samples: {len(val)} | # of Test samples: {len(test)}\")\n",
    "print(f\"Max Date in Train: {train.timestamp.max()} | Min Date in Validation: {val.timestamp.min()} | Min Date in Test: {test.timestamp.min()}\")"
   ]
  },
  {
   "cell_type": "code",
   "execution_count": 38,
   "id": "b43ed1d0-e1de-4e4c-8389-4ade3bbcd17b",
   "metadata": {},
   "outputs": [],
   "source": [
    "train.to_parquet(\"data/london_smart_meters/preprocessed/selected_blocks_train_missing_imputed.parquet\")\n",
    "val.to_parquet(\"data/london_smart_meters/preprocessed/selected_blocks_val_missing_imputed.parquet\")\n",
    "test.to_parquet(\"data/london_smart_meters/preprocessed/selected_blocks_test_missing_imputed.parquet\")"
   ]
  }
 ],
 "metadata": {
  "kernelspec": {
   "display_name": "Python 3 (ipykernel)",
   "language": "python",
   "name": "python3"
  },
  "language_info": {
   "codemirror_mode": {
    "name": "ipython",
    "version": 3
   },
   "file_extension": ".py",
   "mimetype": "text/x-python",
   "name": "python",
   "nbconvert_exporter": "python",
   "pygments_lexer": "ipython3",
   "version": "3.10.14"
  }
 },
 "nbformat": 4,
 "nbformat_minor": 5
}
