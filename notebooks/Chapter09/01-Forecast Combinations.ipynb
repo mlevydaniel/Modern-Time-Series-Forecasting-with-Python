{
 "cells": [
  {
   "cell_type": "code",
   "execution_count": 1,
   "id": "b25018c9-2624-434c-aa23-04be1d73e729",
   "metadata": {},
   "outputs": [
    {
     "name": "stdout",
     "output_type": "stream",
     "text": [
      "/Users/mlevydaniel/Desktop/modern-time-series-forecasting-with-python\n"
     ]
    }
   ],
   "source": [
    "%cd ../.."
   ]
  },
  {
   "cell_type": "code",
   "execution_count": 2,
   "id": "4f023467-970a-461e-a60f-7a66fce6a497",
   "metadata": {},
   "outputs": [
    {
     "name": "stderr",
     "output_type": "stream",
     "text": [
      "/Users/mlevydaniel/Desktop/modern-time-series-forecasting-with-python/src/utils/data_utils.py:6: TqdmExperimentalWarning: Using `tqdm.autonotebook.tqdm` in notebook mode. Use `tqdm.tqdm` instead to force console mode (e.g. in jupyter console)\n",
      "  from tqdm.autonotebook import tqdm\n"
     ]
    }
   ],
   "source": [
    "import os\n",
    "import time\n",
    "\n",
    "import joblib\n",
    "import numpy as np\n",
    "import pandas as pd\n",
    "import plotly.express as px\n",
    "import plotly.graph_objects as go\n",
    "import plotly.io as pio\n",
    "\n",
    "pio.templates.default = \"plotly_white\"\n",
    "\n",
    "import warnings\n",
    "from functools import partial\n",
    "from pathlib import Path\n",
    "\n",
    "import humanize\n",
    "from darts.metrics import mae, mase, mse\n",
    "from sklearn.preprocessing import StandardScaler\n",
    "from src.utils import plotting_utils\n",
    "from src.utils.general import LogTime\n",
    "from src.utils.ts_utils import darts_metrics_adapter, forecast_bias\n",
    "from tqdm.autonotebook import tqdm\n",
    "from IPython.display import display, HTML\n",
    "# %load_ext autoreload\n",
    "# %autoreload 2\n",
    "np.random.seed(42)\n",
    "import random\n",
    "\n",
    "random.seed(42)\n",
    "tqdm.pandas()"
   ]
  },
  {
   "cell_type": "code",
   "execution_count": 3,
   "id": "41ae72a1-3721-4b36-b211-b78d4b09c855",
   "metadata": {},
   "outputs": [],
   "source": [
    "os.makedirs(\"imgs/chapter_8\", exist_ok=True)\n",
    "preprocessed = Path(\"data/london_smart_meters/preprocessed\")\n",
    "output = Path(\"data/london_smart_meters/output\")"
   ]
  },
  {
   "cell_type": "code",
   "execution_count": 5,
   "id": "8900cd43-718f-4dc1-ace9-ef9dc99b600d",
   "metadata": {},
   "outputs": [],
   "source": [
    "def format_plot(fig, legends=None, xlabel=\"Time\", ylabel=\"Value\", title=\"\", font_size=15):\n",
    "    if legends:\n",
    "        names = cycle(legends)\n",
    "        fig.for_each_trace(lambda t: t.update(name=next(names)))\n",
    "    fig.update_layout(\n",
    "        autosize=False,\n",
    "        width=900,\n",
    "        height=500,\n",
    "        title_text=title,\n",
    "        title={\"x\": 0.5, \"xanchor\": \"center\", \"yanchor\": \"top\"},\n",
    "        titlefont={\"size\": 20},\n",
    "        legend_title=None,\n",
    "        legend=dict(\n",
    "                font=dict(size=font_size),\n",
    "                orientation=\"h\",\n",
    "                yanchor=\"bottom\",\n",
    "                y=0.98,\n",
    "                xanchor=\"right\",\n",
    "                x=1,\n",
    "            ),\n",
    "            yaxis=dict(\n",
    "                title_text=ylabel,\n",
    "                titlefont=dict(size=font_size),\n",
    "                tickfont=dict(size=font_size),\n",
    "            ),\n",
    "            xaxis=dict(\n",
    "                title_text=xlabel,\n",
    "                titlefont=dict(size=font_size),\n",
    "                tickfont=dict(size=font_size),\n",
    "            ),\n",
    "    )\n",
    "    return fig"
   ]
  },
  {
   "cell_type": "markdown",
   "id": "b2d4221b-c16b-4c7c-89bc-878ef9f544ad",
   "metadata": {},
   "source": [
    "# Reading the Test Predictions and Metrics"
   ]
  },
  {
   "cell_type": "code",
   "execution_count": 6,
   "id": "0df6a2c5-afe3-4bd5-a14c-161fccbd5c4a",
   "metadata": {},
   "outputs": [],
   "source": [
    "try:\n",
    "    # Reading the missing value imputed and train test split data\n",
    "    train_df = pd.read_parquet(\n",
    "        preprocessed / \"selected_blocks_train_missing_imputed_feature_engg.parquet\"\n",
    "    )\n",
    "    train_df = train_df.loc[:, [\"timestamp\", \"LCLid\", \"energy_consumption\"]].set_index(\n",
    "        [\"timestamp\", \"LCLid\"]\n",
    "    )\n",
    "    val_df = pd.read_parquet(\n",
    "        preprocessed / \"selected_blocks_val_missing_imputed_feature_engg.parquet\"\n",
    "    )\n",
    "    val_df = val_df.loc[:, [\"timestamp\", \"LCLid\", \"energy_consumption\"]].set_index(\n",
    "        [\"timestamp\", \"LCLid\"]\n",
    "    )\n",
    "\n",
    "    train_target = train_df.reset_index().set_index(\"timestamp\")\n",
    "    # Combine train and val into new train\n",
    "    train_val_target = pd.concat([train_df, val_df]).reset_index().set_index(\"timestamp\")\n",
    "\n",
    "    del val_df, train_df\n",
    "except FileNotFoundError:\n",
    "    display(HTML(\"\"\"\n",
    "    <div class=\"alert alert-block alert-warning\">\n",
    "    <b>Warning!</b> File not found. Please make sure you have run 01-Feature Engineering.ipynb in Chapter06\n",
    "    </div>\n",
    "    \"\"\"))"
   ]
  },
  {
   "cell_type": "code",
   "execution_count": 14,
   "id": "83e7a09d-9971-4732-ab8d-a0a61625efe7",
   "metadata": {},
   "outputs": [],
   "source": [
    "\n",
    "pred_test_df = pd.read_pickle(output / \"ml_single_step_prediction_test_df.pkl\")\n",
    "metrics_test_df = pd.read_pickle(output / \"ml_single_step_metrics_test_df.pkl\")\n",
    "pred_auto_stat_test_df = pd.read_pickle(\n",
    "    output / \"ml_single_step_prediction_auto_stationary_test_df.pkl\"\n",
    ")\n",
    "metrics_auto_stat_test_df = pd.read_pickle(\n",
    "    output / \"ml_single_step_metrics_auto_stationary_test_df.pkl\"\n",
    ")\n",
    "agg_metrics_auto_stat_test_df = pd.read_pickle(\n",
    "    output / \"ml_single_step_aggregate_metrics_auto_stationary_test.pkl\"\n",
    ")\n",
    "pred_baselines_test_df = pd.read_pickle(output / \"baseline_test_prediction_df.pkl\")\n",
    "metrics_baselines_test_df = pd.read_pickle(output / \"baseline_test_metrics_df.pkl\")\n",
    "agg_metrics_baselines_test_df = pd.read_pickle(\n",
    "    output / \"baseline_test_aggregate_metrics.pkl\"\n",
    ")\n",
    "\n",
    "\n",
    "pred_val_df = pd.read_pickle(output / \"ml_single_step_prediction_val_df.pkl\")\n",
    "metrics_val_df = pd.read_pickle(output / \"ml_single_step_metrics_val_df.pkl\")\n",
    "pred_auto_stat_val_df = pd.read_pickle(\n",
    "    output / \"ml_single_step_prediction_auto_stationary_val_df.pkl\"\n",
    ")\n",
    "metrics_auto_stat_val_df = pd.read_pickle(\n",
    "    output / \"ml_single_step_metrics_auto_stationary_val_df.pkl\"\n",
    ")\n",
    "agg_metrics_auto_stat_val_df = pd.read_pickle(\n",
    "    output / \"ml_single_step_aggregate_metrics_auto_stationary_val.pkl\"\n",
    ")\n",
    "pred_baselines_val_df = pd.read_pickle(output / \"baseline_val_prediction_df.pkl\")\n",
    "metrics_baselines_val_df = pd.read_pickle(output / \"baseline_val_metrics_df.pkl\")\n",
    "agg_metrics_baselines_val_df = pd.read_pickle(\n",
    "    output / \"baseline_val_aggregate_metrics.pkl\"\n",
    ")"
   ]
  },
  {
   "cell_type": "code",
   "execution_count": 16,
   "id": "c37aecdc-5af3-48cf-bb48-bc954bb06fd3",
   "metadata": {},
   "outputs": [
    {
     "data": {
      "text/html": [
       "<div>\n",
       "<style scoped>\n",
       "    .dataframe tbody tr th:only-of-type {\n",
       "        vertical-align: middle;\n",
       "    }\n",
       "\n",
       "    .dataframe tbody tr th {\n",
       "        vertical-align: top;\n",
       "    }\n",
       "\n",
       "    .dataframe thead th {\n",
       "        text-align: right;\n",
       "    }\n",
       "</style>\n",
       "<table border=\"1\" class=\"dataframe\">\n",
       "  <thead>\n",
       "    <tr style=\"text-align: right;\">\n",
       "      <th></th>\n",
       "      <th></th>\n",
       "      <th>FFT</th>\n",
       "      <th>Lasso Regression</th>\n",
       "      <th>Lasso Regression_auto_stat</th>\n",
       "      <th>LightGBM</th>\n",
       "      <th>LightGBM_auto_stat</th>\n",
       "      <th>Theta</th>\n",
       "      <th>XGB Random Forest</th>\n",
       "      <th>XGB Random Forest_auto_stat</th>\n",
       "      <th>energy_consumption</th>\n",
       "    </tr>\n",
       "    <tr>\n",
       "      <th>LCLid</th>\n",
       "      <th>timestamp</th>\n",
       "      <th></th>\n",
       "      <th></th>\n",
       "      <th></th>\n",
       "      <th></th>\n",
       "      <th></th>\n",
       "      <th></th>\n",
       "      <th></th>\n",
       "      <th></th>\n",
       "      <th></th>\n",
       "    </tr>\n",
       "  </thead>\n",
       "  <tbody>\n",
       "    <tr>\n",
       "      <th rowspan=\"5\" valign=\"top\">MAC000061</th>\n",
       "      <th>2014-01-01 00:00:00</th>\n",
       "      <td>0.111663</td>\n",
       "      <td>0.131014</td>\n",
       "      <td>0.119521</td>\n",
       "      <td>0.113324</td>\n",
       "      <td>0.086890</td>\n",
       "      <td>0.157924</td>\n",
       "      <td>0.119583</td>\n",
       "      <td>0.088141</td>\n",
       "      <td>0.165</td>\n",
       "    </tr>\n",
       "    <tr>\n",
       "      <th>2014-01-01 00:30:00</th>\n",
       "      <td>0.088207</td>\n",
       "      <td>0.114568</td>\n",
       "      <td>0.105024</td>\n",
       "      <td>0.092285</td>\n",
       "      <td>0.074833</td>\n",
       "      <td>0.150390</td>\n",
       "      <td>0.105767</td>\n",
       "      <td>0.068639</td>\n",
       "      <td>0.167</td>\n",
       "    </tr>\n",
       "    <tr>\n",
       "      <th>2014-01-01 01:00:00</th>\n",
       "      <td>0.070980</td>\n",
       "      <td>0.121935</td>\n",
       "      <td>0.129562</td>\n",
       "      <td>0.098231</td>\n",
       "      <td>0.072314</td>\n",
       "      <td>0.147509</td>\n",
       "      <td>0.107085</td>\n",
       "      <td>0.072662</td>\n",
       "      <td>0.150</td>\n",
       "    </tr>\n",
       "    <tr>\n",
       "      <th>2014-01-01 01:30:00</th>\n",
       "      <td>0.060706</td>\n",
       "      <td>0.112449</td>\n",
       "      <td>0.120926</td>\n",
       "      <td>0.080759</td>\n",
       "      <td>0.068520</td>\n",
       "      <td>0.146588</td>\n",
       "      <td>0.102175</td>\n",
       "      <td>0.054764</td>\n",
       "      <td>0.091</td>\n",
       "    </tr>\n",
       "    <tr>\n",
       "      <th>2014-01-01 02:00:00</th>\n",
       "      <td>0.056753</td>\n",
       "      <td>0.073503</td>\n",
       "      <td>0.080298</td>\n",
       "      <td>0.059997</td>\n",
       "      <td>0.054993</td>\n",
       "      <td>0.147599</td>\n",
       "      <td>0.075707</td>\n",
       "      <td>0.048437</td>\n",
       "      <td>0.047</td>\n",
       "    </tr>\n",
       "  </tbody>\n",
       "</table>\n",
       "</div>"
      ],
      "text/plain": [
       "                                    FFT  Lasso Regression  \\\n",
       "LCLid     timestamp                                         \n",
       "MAC000061 2014-01-01 00:00:00  0.111663          0.131014   \n",
       "          2014-01-01 00:30:00  0.088207          0.114568   \n",
       "          2014-01-01 01:00:00  0.070980          0.121935   \n",
       "          2014-01-01 01:30:00  0.060706          0.112449   \n",
       "          2014-01-01 02:00:00  0.056753          0.073503   \n",
       "\n",
       "                               Lasso Regression_auto_stat  LightGBM  \\\n",
       "LCLid     timestamp                                                   \n",
       "MAC000061 2014-01-01 00:00:00                    0.119521  0.113324   \n",
       "          2014-01-01 00:30:00                    0.105024  0.092285   \n",
       "          2014-01-01 01:00:00                    0.129562  0.098231   \n",
       "          2014-01-01 01:30:00                    0.120926  0.080759   \n",
       "          2014-01-01 02:00:00                    0.080298  0.059997   \n",
       "\n",
       "                               LightGBM_auto_stat     Theta  \\\n",
       "LCLid     timestamp                                           \n",
       "MAC000061 2014-01-01 00:00:00            0.086890  0.157924   \n",
       "          2014-01-01 00:30:00            0.074833  0.150390   \n",
       "          2014-01-01 01:00:00            0.072314  0.147509   \n",
       "          2014-01-01 01:30:00            0.068520  0.146588   \n",
       "          2014-01-01 02:00:00            0.054993  0.147599   \n",
       "\n",
       "                               XGB Random Forest  XGB Random Forest_auto_stat  \\\n",
       "LCLid     timestamp                                                             \n",
       "MAC000061 2014-01-01 00:00:00           0.119583                     0.088141   \n",
       "          2014-01-01 00:30:00           0.105767                     0.068639   \n",
       "          2014-01-01 01:00:00           0.107085                     0.072662   \n",
       "          2014-01-01 01:30:00           0.102175                     0.054764   \n",
       "          2014-01-01 02:00:00           0.075707                     0.048437   \n",
       "\n",
       "                               energy_consumption  \n",
       "LCLid     timestamp                                \n",
       "MAC000061 2014-01-01 00:00:00               0.165  \n",
       "          2014-01-01 00:30:00               0.167  \n",
       "          2014-01-01 01:00:00               0.150  \n",
       "          2014-01-01 01:30:00               0.091  \n",
       "          2014-01-01 02:00:00               0.047  "
      ]
     },
     "execution_count": 16,
     "metadata": {},
     "output_type": "execute_result"
    }
   ],
   "source": [
    "pred_val_df = pd.concat([pred_val_df, pred_auto_stat_val_df, pred_baselines_val_df])\n",
    "pred_val_df.index.name = \"timestamp\"\n",
    "\n",
    "pred_wide_val = pd.pivot(\n",
    "    pred_val_df.reset_index(),\n",
    "    index=[\"LCLid\", \"timestamp\"],\n",
    "    columns=\"Algorithm\",\n",
    "    values=\"predictions\",\n",
    ")\n",
    "pred_wide_val = pred_wide_val.join(\n",
    "    pred_val_df.loc[\n",
    "        pred_val_df.Algorithm == \"Lasso Regression\", [\"LCLid\", \"energy_consumption\"]\n",
    "    ]\n",
    "    .reset_index()\n",
    "    .set_index([\"LCLid\", \"timestamp\"])\n",
    ")\n",
    "pred_wide_val.head()"
   ]
  },
  {
   "cell_type": "code",
   "execution_count": 17,
   "id": "30f9faaf-5113-415c-b593-175f83db0ae6",
   "metadata": {},
   "outputs": [
    {
     "data": {
      "text/html": [
       "<div>\n",
       "<style scoped>\n",
       "    .dataframe tbody tr th:only-of-type {\n",
       "        vertical-align: middle;\n",
       "    }\n",
       "\n",
       "    .dataframe tbody tr th {\n",
       "        vertical-align: top;\n",
       "    }\n",
       "\n",
       "    .dataframe thead th {\n",
       "        text-align: right;\n",
       "    }\n",
       "</style>\n",
       "<table border=\"1\" class=\"dataframe\">\n",
       "  <thead>\n",
       "    <tr style=\"text-align: right;\">\n",
       "      <th></th>\n",
       "      <th></th>\n",
       "      <th>FFT</th>\n",
       "      <th>Lasso Regression</th>\n",
       "      <th>Lasso Regression_auto_stat</th>\n",
       "      <th>LightGBM</th>\n",
       "      <th>LightGBM_auto_stat</th>\n",
       "      <th>Theta</th>\n",
       "      <th>XGB Random Forest</th>\n",
       "      <th>XGB Random Forest_auto_stat</th>\n",
       "      <th>energy_consumption</th>\n",
       "    </tr>\n",
       "    <tr>\n",
       "      <th>LCLid</th>\n",
       "      <th>timestamp</th>\n",
       "      <th></th>\n",
       "      <th></th>\n",
       "      <th></th>\n",
       "      <th></th>\n",
       "      <th></th>\n",
       "      <th></th>\n",
       "      <th></th>\n",
       "      <th></th>\n",
       "      <th></th>\n",
       "    </tr>\n",
       "  </thead>\n",
       "  <tbody>\n",
       "    <tr>\n",
       "      <th rowspan=\"5\" valign=\"top\">MAC000061</th>\n",
       "      <th>2014-02-01 00:00:00</th>\n",
       "      <td>0.113955</td>\n",
       "      <td>0.057976</td>\n",
       "      <td>0.069637</td>\n",
       "      <td>0.068784</td>\n",
       "      <td>0.078041</td>\n",
       "      <td>0.020413</td>\n",
       "      <td>0.080164</td>\n",
       "      <td>0.065629</td>\n",
       "      <td>0.066</td>\n",
       "    </tr>\n",
       "    <tr>\n",
       "      <th>2014-02-01 00:30:00</th>\n",
       "      <td>0.087921</td>\n",
       "      <td>0.052869</td>\n",
       "      <td>0.056009</td>\n",
       "      <td>0.059099</td>\n",
       "      <td>0.057969</td>\n",
       "      <td>0.002476</td>\n",
       "      <td>0.061715</td>\n",
       "      <td>0.059812</td>\n",
       "      <td>0.063</td>\n",
       "    </tr>\n",
       "    <tr>\n",
       "      <th>2014-02-01 01:00:00</th>\n",
       "      <td>0.068605</td>\n",
       "      <td>0.055565</td>\n",
       "      <td>0.065249</td>\n",
       "      <td>0.057262</td>\n",
       "      <td>0.058248</td>\n",
       "      <td>-0.007650</td>\n",
       "      <td>0.054388</td>\n",
       "      <td>0.050875</td>\n",
       "      <td>0.040</td>\n",
       "    </tr>\n",
       "    <tr>\n",
       "      <th>2014-02-01 01:30:00</th>\n",
       "      <td>0.056841</td>\n",
       "      <td>0.038992</td>\n",
       "      <td>0.045620</td>\n",
       "      <td>0.025670</td>\n",
       "      <td>0.026564</td>\n",
       "      <td>-0.009467</td>\n",
       "      <td>0.044133</td>\n",
       "      <td>0.032567</td>\n",
       "      <td>0.020</td>\n",
       "    </tr>\n",
       "    <tr>\n",
       "      <th>2014-02-01 02:00:00</th>\n",
       "      <td>0.051993</td>\n",
       "      <td>0.026235</td>\n",
       "      <td>0.030792</td>\n",
       "      <td>0.022769</td>\n",
       "      <td>0.018316</td>\n",
       "      <td>-0.011248</td>\n",
       "      <td>0.032663</td>\n",
       "      <td>0.029182</td>\n",
       "      <td>0.018</td>\n",
       "    </tr>\n",
       "  </tbody>\n",
       "</table>\n",
       "</div>"
      ],
      "text/plain": [
       "                                    FFT  Lasso Regression  \\\n",
       "LCLid     timestamp                                         \n",
       "MAC000061 2014-02-01 00:00:00  0.113955          0.057976   \n",
       "          2014-02-01 00:30:00  0.087921          0.052869   \n",
       "          2014-02-01 01:00:00  0.068605          0.055565   \n",
       "          2014-02-01 01:30:00  0.056841          0.038992   \n",
       "          2014-02-01 02:00:00  0.051993          0.026235   \n",
       "\n",
       "                               Lasso Regression_auto_stat  LightGBM  \\\n",
       "LCLid     timestamp                                                   \n",
       "MAC000061 2014-02-01 00:00:00                    0.069637  0.068784   \n",
       "          2014-02-01 00:30:00                    0.056009  0.059099   \n",
       "          2014-02-01 01:00:00                    0.065249  0.057262   \n",
       "          2014-02-01 01:30:00                    0.045620  0.025670   \n",
       "          2014-02-01 02:00:00                    0.030792  0.022769   \n",
       "\n",
       "                               LightGBM_auto_stat     Theta  \\\n",
       "LCLid     timestamp                                           \n",
       "MAC000061 2014-02-01 00:00:00            0.078041  0.020413   \n",
       "          2014-02-01 00:30:00            0.057969  0.002476   \n",
       "          2014-02-01 01:00:00            0.058248 -0.007650   \n",
       "          2014-02-01 01:30:00            0.026564 -0.009467   \n",
       "          2014-02-01 02:00:00            0.018316 -0.011248   \n",
       "\n",
       "                               XGB Random Forest  XGB Random Forest_auto_stat  \\\n",
       "LCLid     timestamp                                                             \n",
       "MAC000061 2014-02-01 00:00:00           0.080164                     0.065629   \n",
       "          2014-02-01 00:30:00           0.061715                     0.059812   \n",
       "          2014-02-01 01:00:00           0.054388                     0.050875   \n",
       "          2014-02-01 01:30:00           0.044133                     0.032567   \n",
       "          2014-02-01 02:00:00           0.032663                     0.029182   \n",
       "\n",
       "                               energy_consumption  \n",
       "LCLid     timestamp                                \n",
       "MAC000061 2014-02-01 00:00:00               0.066  \n",
       "          2014-02-01 00:30:00               0.063  \n",
       "          2014-02-01 01:00:00               0.040  \n",
       "          2014-02-01 01:30:00               0.020  \n",
       "          2014-02-01 02:00:00               0.018  "
      ]
     },
     "execution_count": 17,
     "metadata": {},
     "output_type": "execute_result"
    }
   ],
   "source": [
    "pred_test_df = pd.concat([pred_test_df, pred_auto_stat_test_df, pred_baselines_test_df])\n",
    "pred_test_df.index.name = \"timestamp\"\n",
    "\n",
    "pred_wide_test = pd.pivot(\n",
    "    pred_test_df.reset_index(),\n",
    "    index=[\"LCLid\", \"timestamp\"],\n",
    "    columns=\"Algorithm\",\n",
    "    values=\"predictions\",\n",
    ")\n",
    "pred_wide_test = pred_wide_test.join(\n",
    "    pred_test_df.loc[\n",
    "        pred_test_df.Algorithm == \"Lasso Regression\", [\"LCLid\", \"energy_consumption\"]\n",
    "    ]\n",
    "    .reset_index()\n",
    "    .set_index([\"LCLid\", \"timestamp\"])\n",
    ")\n",
    "pred_wide_test.head()"
   ]
  },
  {
   "cell_type": "code",
   "execution_count": 18,
   "id": "8cbbcdb6-c865-4ebb-b0d1-78103882e137",
   "metadata": {},
   "outputs": [
    {
     "data": {
      "text/html": [
       "<div>\n",
       "<style scoped>\n",
       "    .dataframe tbody tr th:only-of-type {\n",
       "        vertical-align: middle;\n",
       "    }\n",
       "\n",
       "    .dataframe tbody tr th {\n",
       "        vertical-align: top;\n",
       "    }\n",
       "\n",
       "    .dataframe thead th {\n",
       "        text-align: right;\n",
       "    }\n",
       "</style>\n",
       "<table border=\"1\" class=\"dataframe\">\n",
       "  <thead>\n",
       "    <tr style=\"text-align: right;\">\n",
       "      <th>Algorithm</th>\n",
       "      <th>Lasso Regression</th>\n",
       "      <th>Lasso Regression_auto_stat</th>\n",
       "      <th>LightGBM</th>\n",
       "      <th>LightGBM_auto_stat</th>\n",
       "      <th>XGB Random Forest</th>\n",
       "      <th>XGB Random Forest_auto_stat</th>\n",
       "    </tr>\n",
       "    <tr>\n",
       "      <th>LCLid</th>\n",
       "      <th></th>\n",
       "      <th></th>\n",
       "      <th></th>\n",
       "      <th></th>\n",
       "      <th></th>\n",
       "      <th></th>\n",
       "    </tr>\n",
       "  </thead>\n",
       "  <tbody>\n",
       "    <tr>\n",
       "      <th>MAC000061</th>\n",
       "      <td>0.033293</td>\n",
       "      <td>0.036640</td>\n",
       "      <td>0.030601</td>\n",
       "      <td>0.032544</td>\n",
       "      <td>0.031670</td>\n",
       "      <td>0.035716</td>\n",
       "    </tr>\n",
       "    <tr>\n",
       "      <th>MAC000062</th>\n",
       "      <td>0.069272</td>\n",
       "      <td>0.068969</td>\n",
       "      <td>0.074536</td>\n",
       "      <td>0.071494</td>\n",
       "      <td>0.067819</td>\n",
       "      <td>0.071182</td>\n",
       "    </tr>\n",
       "    <tr>\n",
       "      <th>MAC000066</th>\n",
       "      <td>0.041441</td>\n",
       "      <td>0.042819</td>\n",
       "      <td>0.039012</td>\n",
       "      <td>0.040884</td>\n",
       "      <td>0.038464</td>\n",
       "      <td>0.042638</td>\n",
       "    </tr>\n",
       "    <tr>\n",
       "      <th>MAC000086</th>\n",
       "      <td>0.126441</td>\n",
       "      <td>0.122261</td>\n",
       "      <td>0.103116</td>\n",
       "      <td>0.105919</td>\n",
       "      <td>0.114912</td>\n",
       "      <td>0.115007</td>\n",
       "    </tr>\n",
       "    <tr>\n",
       "      <th>MAC000126</th>\n",
       "      <td>0.065666</td>\n",
       "      <td>0.064992</td>\n",
       "      <td>0.064833</td>\n",
       "      <td>0.063282</td>\n",
       "      <td>0.065308</td>\n",
       "      <td>0.063359</td>\n",
       "    </tr>\n",
       "  </tbody>\n",
       "</table>\n",
       "</div>"
      ],
      "text/plain": [
       "Algorithm  Lasso Regression  Lasso Regression_auto_stat  LightGBM  \\\n",
       "LCLid                                                               \n",
       "MAC000061          0.033293                    0.036640  0.030601   \n",
       "MAC000062          0.069272                    0.068969  0.074536   \n",
       "MAC000066          0.041441                    0.042819  0.039012   \n",
       "MAC000086          0.126441                    0.122261  0.103116   \n",
       "MAC000126          0.065666                    0.064992  0.064833   \n",
       "\n",
       "Algorithm  LightGBM_auto_stat  XGB Random Forest  XGB Random Forest_auto_stat  \n",
       "LCLid                                                                          \n",
       "MAC000061            0.032544           0.031670                     0.035716  \n",
       "MAC000062            0.071494           0.067819                     0.071182  \n",
       "MAC000066            0.040884           0.038464                     0.042638  \n",
       "MAC000086            0.105919           0.114912                     0.115007  \n",
       "MAC000126            0.063282           0.065308                     0.063359  "
      ]
     },
     "execution_count": 18,
     "metadata": {},
     "output_type": "execute_result"
    }
   ],
   "source": [
    "metrics_combined_df = pd.concat([metrics_val_df, metrics_auto_stat_val_df])\n",
    "metrics_combined_df = pd.pivot(\n",
    "    metrics_combined_df, index=\"LCLid\", columns=\"Algorithm\", values=\"MAE\"\n",
    ")\n",
    "metrics_combined_df.head()"
   ]
  },
  {
   "cell_type": "markdown",
   "id": "b16130a9-2720-4ee9-a13e-c5afd40f2226",
   "metadata": {},
   "source": [
    "# Combining Forecasts"
   ]
  },
  {
   "cell_type": "code",
   "execution_count": 19,
   "id": "94ee49c4-701f-491d-937f-77f58bd4c6bd",
   "metadata": {},
   "outputs": [],
   "source": [
    "from src.forecasting.ml_forecasting import calculate_metrics\n",
    "from src.utils import ts_utils"
   ]
  },
  {
   "cell_type": "code",
   "execution_count": 20,
   "id": "33c53c57-9f95-4439-93b0-8ed416a09341",
   "metadata": {},
   "outputs": [],
   "source": [
    "def evaluate_ensemble(pred_wide, target_history, model, target, unique_id):\n",
    "    metric_l = []\n",
    "    for _id in tqdm(pred_wide.reset_index()[unique_id].unique()):\n",
    "        # unique_mask = pred_wide[unique_id]==_id\n",
    "        wide_df = pred_wide.xs(_id)\n",
    "        test_target = wide_df.loc[:, target]\n",
    "        y_pred = wide_df.loc[:, model]\n",
    "        history = target_history.loc[target_history[unique_id] == _id, target]\n",
    "        metric_l.append(\n",
    "            calculate_metrics(test_target, y_pred, name=model, y_train=history)\n",
    "        )\n",
    "    eval_metrics_df = pd.DataFrame(metric_l)\n",
    "    return {\n",
    "        \"Algorithm\": model,\n",
    "        \"MAE\": ts_utils.mae(\n",
    "            pred_wide.loc[:, \"energy_consumption\"], pred_wide.loc[:, model]\n",
    "        ),\n",
    "        \"MSE\": ts_utils.mse(\n",
    "            pred_wide.loc[:, \"energy_consumption\"], pred_wide.loc[:, model]\n",
    "        ),\n",
    "        \"meanMASE\": eval_metrics_df.loc[:, \"MASE\"].mean(),\n",
    "        \"Forecast Bias\": ts_utils.forecast_bias_aggregate(\n",
    "            pred_wide.loc[:, \"energy_consumption\"], pred_wide.loc[:, model]\n",
    "        ),\n",
    "    }\n",
    "\n",
    "\n",
    "def highlight_abs_min(s, props=\"\"):\n",
    "    return np.where(s == np.nanmin(np.abs(s.values)), props, \"\")"
   ]
  },
  {
   "cell_type": "code",
   "execution_count": 21,
   "id": "42f4c233-e775-4da5-b695-3f50a9aee5e1",
   "metadata": {},
   "outputs": [],
   "source": [
    "def display_metrics(agg_metrics_l):\n",
    "    _agg_metrics_df = pd.DataFrame(agg_metrics_l)\n",
    "    display(\n",
    "        _agg_metrics_df.style.format(\n",
    "            {\n",
    "                \"MAE\": \"{:.4f}\",\n",
    "                \"MSE\": \"{:.4f}\",\n",
    "                \"meanMASE\": \"{:.4f}\",\n",
    "                \"Forecast Bias\": \"{:.2f}%\",\n",
    "            }\n",
    "        )\n",
    "        .highlight_min(color=\"lightgreen\", subset=[\"MAE\", \"MSE\", \"meanMASE\"])\n",
    "        .apply(\n",
    "            highlight_abs_min,\n",
    "            props=\"color:black;background-color:lightgreen\",\n",
    "            axis=0,\n",
    "            subset=[\"Forecast Bias\"],\n",
    "        )\n",
    "    )"
   ]
  },
  {
   "cell_type": "code",
   "execution_count": 22,
   "id": "3f11245c-827c-4c1f-8e63-98084fd45abb",
   "metadata": {},
   "outputs": [],
   "source": [
    "ensemble_forecasts = [\n",
    "    \"FFT\",\n",
    "    \"Lasso Regression\",\n",
    "    \"Lasso Regression_auto_stat\",\n",
    "    \"LightGBM\",\n",
    "    \"LightGBM_auto_stat\",\n",
    "    \"Theta\",\n",
    "    \"XGB Random Forest\",\n",
    "    \"XGB Random Forest_auto_stat\",\n",
    "]"
   ]
  },
  {
   "cell_type": "code",
   "execution_count": 23,
   "id": "bdaf4eb6-d0b6-4230-b60c-1d3c027f4522",
   "metadata": {},
   "outputs": [],
   "source": [
    "# Picking LightGBM which is the best single model as the baseline\n",
    "agg_metrics_l = agg_metrics_auto_stat_test_df.iloc[[4]].to_dict(orient=\"records\")"
   ]
  },
  {
   "cell_type": "markdown",
   "id": "5b6e5b92-b207-4eb5-96ff-65954dd031b2",
   "metadata": {},
   "source": [
    "## \"Best-Fit\""
   ]
  },
  {
   "cell_type": "code",
   "execution_count": 24,
   "id": "089160c1-8554-4eb8-a0a1-d1a40726f285",
   "metadata": {},
   "outputs": [
    {
     "data": {
      "text/plain": [
       "LCLid\n",
       "MAC000061              LightGBM\n",
       "MAC000062     XGB Random Forest\n",
       "MAC000066     XGB Random Forest\n",
       "MAC000086              LightGBM\n",
       "MAC000126    LightGBM_auto_stat\n",
       "dtype: object"
      ]
     },
     "execution_count": 24,
     "metadata": {},
     "output_type": "execute_result"
    }
   ],
   "source": [
    "# Finding the lowest metric for each LCLid\n",
    "best_alg = metrics_combined_df.idxmin(axis=1)\n",
    "best_alg.head()"
   ]
  },
  {
   "cell_type": "code",
   "execution_count": 25,
   "id": "b26f7948-655c-4cbb-812d-210c676b1958",
   "metadata": {
    "tags": []
   },
   "outputs": [
    {
     "data": {
      "application/vnd.jupyter.widget-view+json": {
       "model_id": "d28d72fafb7e4a14bbc618417366a4f5",
       "version_major": 2,
       "version_minor": 0
      },
      "text/plain": [
       "  0%|          | 0/150 [00:00<?, ?it/s]"
      ]
     },
     "metadata": {},
     "output_type": "display_data"
    }
   ],
   "source": [
    "# Initialize two columns in the dataframe\n",
    "pred_wide_test[\"best_fit\"] = np.nan\n",
    "pred_wide_test[\"best_fit_alg\"] = \"\"\n",
    "\n",
    "# For each LCL id\n",
    "for lcl_id in tqdm(pred_wide_test.index.get_level_values(0).unique()):\n",
    "    \n",
    "    # pick the best algorithm\n",
    "    alg = best_alg[lcl_id]\n",
    "    \n",
    "    # and store the forecast in the best_fit column\n",
    "    pred_wide_test.loc[lcl_id, \"best_fit\"] = pred_wide_test.loc[lcl_id, alg].values\n",
    "    \n",
    "    # also store which model was chosen for traceability\n",
    "    pred_wide_test.loc[lcl_id, \"best_fit_alg\"] = alg"
   ]
  },
  {
   "cell_type": "code",
   "execution_count": 26,
   "id": "33e8edc2-d9d3-486b-8eae-acee8cbe27b0",
   "metadata": {},
   "outputs": [
    {
     "data": {
      "application/vnd.jupyter.widget-view+json": {
       "model_id": "66783b5b2156456da3b1b37a33f9878f",
       "version_major": 2,
       "version_minor": 0
      },
      "text/plain": [
       "  0%|          | 0/150 [00:00<?, ?it/s]"
      ]
     },
     "metadata": {},
     "output_type": "display_data"
    },
    {
     "name": "stdout",
     "output_type": "stream",
     "text": [
      "{'Algorithm': 'best_fit', 'MAE': 0.07390052736481993, 'MSE': 0.026641349370239063, 'meanMASE': 0.8967544595582921, 'Forecast Bias': 0.22703696195101472}\n"
     ]
    }
   ],
   "source": [
    "agg_metric_ = evaluate_ensemble(\n",
    "    pred_wide_test, train_val_target, \"best_fit\", \"energy_consumption\", \"LCLid\"\n",
    ")\n",
    "print(agg_metric_)\n",
    "agg_metrics_l.append(agg_metric_)"
   ]
  },
  {
   "cell_type": "code",
   "execution_count": 27,
   "id": "ca1856d2-f5ac-47cd-8133-82a1031c81cf",
   "metadata": {},
   "outputs": [
    {
     "data": {
      "text/html": [
       "<style type=\"text/css\">\n",
       "#T_a7015_row1_col1, #T_a7015_row1_col2, #T_a7015_row1_col3 {\n",
       "  background-color: lightgreen;\n",
       "}\n",
       "#T_a7015_row1_col4 {\n",
       "  color: black;\n",
       "  background-color: lightgreen;\n",
       "}\n",
       "</style>\n",
       "<table id=\"T_a7015\">\n",
       "  <thead>\n",
       "    <tr>\n",
       "      <th class=\"blank level0\" >&nbsp;</th>\n",
       "      <th id=\"T_a7015_level0_col0\" class=\"col_heading level0 col0\" >Algorithm</th>\n",
       "      <th id=\"T_a7015_level0_col1\" class=\"col_heading level0 col1\" >MAE</th>\n",
       "      <th id=\"T_a7015_level0_col2\" class=\"col_heading level0 col2\" >MSE</th>\n",
       "      <th id=\"T_a7015_level0_col3\" class=\"col_heading level0 col3\" >meanMASE</th>\n",
       "      <th id=\"T_a7015_level0_col4\" class=\"col_heading level0 col4\" >Forecast Bias</th>\n",
       "    </tr>\n",
       "  </thead>\n",
       "  <tbody>\n",
       "    <tr>\n",
       "      <th id=\"T_a7015_level0_row0\" class=\"row_heading level0 row0\" >0</th>\n",
       "      <td id=\"T_a7015_row0_col0\" class=\"data row0 col0\" >LightGBM</td>\n",
       "      <td id=\"T_a7015_row0_col1\" class=\"data row0 col1\" >0.0750</td>\n",
       "      <td id=\"T_a7015_row0_col2\" class=\"data row0 col2\" >0.0268</td>\n",
       "      <td id=\"T_a7015_row0_col3\" class=\"data row0 col3\" >0.9141</td>\n",
       "      <td id=\"T_a7015_row0_col4\" class=\"data row0 col4\" >2.62%</td>\n",
       "    </tr>\n",
       "    <tr>\n",
       "      <th id=\"T_a7015_level0_row1\" class=\"row_heading level0 row1\" >1</th>\n",
       "      <td id=\"T_a7015_row1_col0\" class=\"data row1 col0\" >best_fit</td>\n",
       "      <td id=\"T_a7015_row1_col1\" class=\"data row1 col1\" >0.0739</td>\n",
       "      <td id=\"T_a7015_row1_col2\" class=\"data row1 col2\" >0.0266</td>\n",
       "      <td id=\"T_a7015_row1_col3\" class=\"data row1 col3\" >0.8968</td>\n",
       "      <td id=\"T_a7015_row1_col4\" class=\"data row1 col4\" >0.23%</td>\n",
       "    </tr>\n",
       "  </tbody>\n",
       "</table>\n"
      ],
      "text/plain": [
       "<pandas.io.formats.style.Styler at 0x7fc71d6bb910>"
      ]
     },
     "metadata": {},
     "output_type": "display_data"
    }
   ],
   "source": [
    "display_metrics(agg_metrics_l)"
   ]
  },
  {
   "cell_type": "markdown",
   "id": "2463dd35-a31e-485e-b3b0-a232a4848c07",
   "metadata": {
    "tags": []
   },
   "source": [
    "## Average and Median Ensemble"
   ]
  },
  {
   "cell_type": "code",
   "execution_count": 30,
   "id": "164bb7b4-da5d-4202-90a0-85833982984e",
   "metadata": {},
   "outputs": [],
   "source": [
    "# ensemble_forecasts is a list of column names(forecast) we want to combine\n",
    "pred_wide_test[\"average_ensemble\"] = pred_wide_test[ensemble_forecasts].mean(axis=1)\n",
    "pred_wide_test[\"median_ensemble\"] = pred_wide_test[ensemble_forecasts].median(axis=1)"
   ]
  },
  {
   "cell_type": "code",
   "execution_count": 31,
   "id": "07d7ef22-46cd-4922-90aa-683828d3420a",
   "metadata": {},
   "outputs": [
    {
     "data": {
      "application/vnd.jupyter.widget-view+json": {
       "model_id": "5a08ffba90064c35bddb385e160c4f0d",
       "version_major": 2,
       "version_minor": 0
      },
      "text/plain": [
       "  0%|          | 0/150 [00:00<?, ?it/s]"
      ]
     },
     "metadata": {},
     "output_type": "display_data"
    },
    {
     "name": "stdout",
     "output_type": "stream",
     "text": [
      "{'Algorithm': 'median_ensemble', 'MAE': 0.07657014240155109, 'MSE': 0.027823436056040856, 'meanMASE': 0.9284026305190889, 'Forecast Bias': -0.8993317245491702}\n"
     ]
    },
    {
     "data": {
      "application/vnd.jupyter.widget-view+json": {
       "model_id": "263cebcd00934c3eae457c287a426a04",
       "version_major": 2,
       "version_minor": 0
      },
      "text/plain": [
       "  0%|          | 0/150 [00:00<?, ?it/s]"
      ]
     },
     "metadata": {},
     "output_type": "display_data"
    },
    {
     "name": "stdout",
     "output_type": "stream",
     "text": [
      "{'Algorithm': 'average_ensemble', 'MAE': 0.08258476472732902, 'MSE': 0.02840757624601707, 'meanMASE': 1.0111030572450495, 'Forecast Bias': 1.5005839011504623}\n"
     ]
    }
   ],
   "source": [
    "agg_metric_ = evaluate_ensemble(\n",
    "    pred_wide_test, train_val_target, \"median_ensemble\", \"energy_consumption\", \"LCLid\"\n",
    ")\n",
    "print(agg_metric_)\n",
    "agg_metrics_l.append(agg_metric_)\n",
    "agg_metric_ = evaluate_ensemble(\n",
    "    pred_wide_test, train_val_target, \"average_ensemble\", \"energy_consumption\", \"LCLid\"\n",
    ")\n",
    "print(agg_metric_)\n",
    "agg_metrics_l.append(agg_metric_)"
   ]
  },
  {
   "cell_type": "code",
   "execution_count": 32,
   "id": "a0f7aa4f-3e08-4a93-84bc-2f44e01a50f4",
   "metadata": {},
   "outputs": [
    {
     "data": {
      "text/html": [
       "<style type=\"text/css\">\n",
       "#T_d5486_row1_col1, #T_d5486_row1_col2, #T_d5486_row1_col3 {\n",
       "  background-color: lightgreen;\n",
       "}\n",
       "#T_d5486_row1_col4 {\n",
       "  color: black;\n",
       "  background-color: lightgreen;\n",
       "}\n",
       "</style>\n",
       "<table id=\"T_d5486\">\n",
       "  <thead>\n",
       "    <tr>\n",
       "      <th class=\"blank level0\" >&nbsp;</th>\n",
       "      <th id=\"T_d5486_level0_col0\" class=\"col_heading level0 col0\" >Algorithm</th>\n",
       "      <th id=\"T_d5486_level0_col1\" class=\"col_heading level0 col1\" >MAE</th>\n",
       "      <th id=\"T_d5486_level0_col2\" class=\"col_heading level0 col2\" >MSE</th>\n",
       "      <th id=\"T_d5486_level0_col3\" class=\"col_heading level0 col3\" >meanMASE</th>\n",
       "      <th id=\"T_d5486_level0_col4\" class=\"col_heading level0 col4\" >Forecast Bias</th>\n",
       "    </tr>\n",
       "  </thead>\n",
       "  <tbody>\n",
       "    <tr>\n",
       "      <th id=\"T_d5486_level0_row0\" class=\"row_heading level0 row0\" >0</th>\n",
       "      <td id=\"T_d5486_row0_col0\" class=\"data row0 col0\" >LightGBM</td>\n",
       "      <td id=\"T_d5486_row0_col1\" class=\"data row0 col1\" >0.0750</td>\n",
       "      <td id=\"T_d5486_row0_col2\" class=\"data row0 col2\" >0.0268</td>\n",
       "      <td id=\"T_d5486_row0_col3\" class=\"data row0 col3\" >0.9141</td>\n",
       "      <td id=\"T_d5486_row0_col4\" class=\"data row0 col4\" >2.62%</td>\n",
       "    </tr>\n",
       "    <tr>\n",
       "      <th id=\"T_d5486_level0_row1\" class=\"row_heading level0 row1\" >1</th>\n",
       "      <td id=\"T_d5486_row1_col0\" class=\"data row1 col0\" >best_fit</td>\n",
       "      <td id=\"T_d5486_row1_col1\" class=\"data row1 col1\" >0.0739</td>\n",
       "      <td id=\"T_d5486_row1_col2\" class=\"data row1 col2\" >0.0266</td>\n",
       "      <td id=\"T_d5486_row1_col3\" class=\"data row1 col3\" >0.8968</td>\n",
       "      <td id=\"T_d5486_row1_col4\" class=\"data row1 col4\" >0.23%</td>\n",
       "    </tr>\n",
       "    <tr>\n",
       "      <th id=\"T_d5486_level0_row2\" class=\"row_heading level0 row2\" >2</th>\n",
       "      <td id=\"T_d5486_row2_col0\" class=\"data row2 col0\" >median_ensemble</td>\n",
       "      <td id=\"T_d5486_row2_col1\" class=\"data row2 col1\" >0.0766</td>\n",
       "      <td id=\"T_d5486_row2_col2\" class=\"data row2 col2\" >0.0278</td>\n",
       "      <td id=\"T_d5486_row2_col3\" class=\"data row2 col3\" >0.9284</td>\n",
       "      <td id=\"T_d5486_row2_col4\" class=\"data row2 col4\" >-0.90%</td>\n",
       "    </tr>\n",
       "    <tr>\n",
       "      <th id=\"T_d5486_level0_row3\" class=\"row_heading level0 row3\" >3</th>\n",
       "      <td id=\"T_d5486_row3_col0\" class=\"data row3 col0\" >average_ensemble</td>\n",
       "      <td id=\"T_d5486_row3_col1\" class=\"data row3 col1\" >0.0826</td>\n",
       "      <td id=\"T_d5486_row3_col2\" class=\"data row3 col2\" >0.0284</td>\n",
       "      <td id=\"T_d5486_row3_col3\" class=\"data row3 col3\" >1.0111</td>\n",
       "      <td id=\"T_d5486_row3_col4\" class=\"data row3 col4\" >1.50%</td>\n",
       "    </tr>\n",
       "  </tbody>\n",
       "</table>\n"
      ],
      "text/plain": [
       "<pandas.io.formats.style.Styler at 0x7fc6f8d27940>"
      ]
     },
     "metadata": {},
     "output_type": "display_data"
    }
   ],
   "source": [
    "display_metrics(agg_metrics_l)"
   ]
  },
  {
   "cell_type": "markdown",
   "id": "486bda43-d02d-40b2-ada0-3790c589cc7b",
   "metadata": {
    "tags": []
   },
   "source": [
    "## Greedy Optimization"
   ]
  },
  {
   "cell_type": "code",
   "execution_count": 33,
   "id": "ee269126-773e-4ea6-8f90-407a35e5fb2c",
   "metadata": {},
   "outputs": [],
   "source": [
    "from src.forecasting.ensembling import calculate_performance, greedy_optimization"
   ]
  },
  {
   "cell_type": "code",
   "execution_count": 36,
   "id": "71a45825-b8cc-4a31-8943-cc838c4279b1",
   "metadata": {},
   "outputs": [],
   "source": [
    "objective = partial(\n",
    "    calculate_performance, pred_wide=pred_wide_val, target=\"energy_consumption\"\n",
    ")"
   ]
  },
  {
   "cell_type": "code",
   "execution_count": 41,
   "id": "4ef010ee-eb86-412b-b97d-26f9c6e2cf3a",
   "metadata": {},
   "outputs": [
    {
     "name": "stdout",
     "output_type": "stream",
     "text": [
      "Solution: ['LightGBM', 'LightGBM_auto_stat'] | Best Score: 0.07594842304357433\n",
      "Solution: ['LightGBM', 'LightGBM_auto_stat', 'Lasso Regression'] | Best Score: 0.07560408537738673\n",
      "Solution cannot be improved further. Stopping optimization.\n"
     ]
    }
   ],
   "source": [
    "solution, best_score = greedy_optimization(objective, ensemble_forecasts)"
   ]
  },
  {
   "cell_type": "code",
   "execution_count": 42,
   "id": "9e69b315-0dd5-4f46-8f0c-cc4860e88894",
   "metadata": {},
   "outputs": [],
   "source": [
    "pred_wide_test[\"greedy_ensemble\"] = pred_wide_test[solution].mean(axis=1)"
   ]
  },
  {
   "cell_type": "code",
   "execution_count": 43,
   "id": "9fbdfb26-48e2-4cf5-a432-76c21c147a1d",
   "metadata": {},
   "outputs": [
    {
     "data": {
      "application/vnd.jupyter.widget-view+json": {
       "model_id": "25cc841a5e52488e86868dacc1048583",
       "version_major": 2,
       "version_minor": 0
      },
      "text/plain": [
       "  0%|          | 0/150 [00:00<?, ?it/s]"
      ]
     },
     "metadata": {},
     "output_type": "display_data"
    },
    {
     "name": "stdout",
     "output_type": "stream",
     "text": [
      "{'Algorithm': 'greedy_ensemble', 'MAE': 0.07327827766155419, 'MSE': 0.024935760169085986, 'meanMASE': 0.894602754919108, 'Forecast Bias': 0.8071874825882704}\n"
     ]
    }
   ],
   "source": [
    "agg_metric_ = evaluate_ensemble(\n",
    "    pred_wide_test, train_val_target, \"greedy_ensemble\", \"energy_consumption\", \"LCLid\"\n",
    ")\n",
    "print(agg_metric_)\n",
    "agg_metrics_l.append(agg_metric_)"
   ]
  },
  {
   "cell_type": "code",
   "execution_count": 45,
   "id": "eb9da4b4-9092-49ab-b861-b2bb07a0fc49",
   "metadata": {},
   "outputs": [
    {
     "data": {
      "text/html": [
       "<style type=\"text/css\">\n",
       "#T_3e0bf_row1_col4 {\n",
       "  color: black;\n",
       "  background-color: lightgreen;\n",
       "}\n",
       "#T_3e0bf_row4_col1, #T_3e0bf_row4_col2, #T_3e0bf_row4_col3 {\n",
       "  background-color: lightgreen;\n",
       "}\n",
       "</style>\n",
       "<table id=\"T_3e0bf\">\n",
       "  <thead>\n",
       "    <tr>\n",
       "      <th class=\"blank level0\" >&nbsp;</th>\n",
       "      <th id=\"T_3e0bf_level0_col0\" class=\"col_heading level0 col0\" >Algorithm</th>\n",
       "      <th id=\"T_3e0bf_level0_col1\" class=\"col_heading level0 col1\" >MAE</th>\n",
       "      <th id=\"T_3e0bf_level0_col2\" class=\"col_heading level0 col2\" >MSE</th>\n",
       "      <th id=\"T_3e0bf_level0_col3\" class=\"col_heading level0 col3\" >meanMASE</th>\n",
       "      <th id=\"T_3e0bf_level0_col4\" class=\"col_heading level0 col4\" >Forecast Bias</th>\n",
       "    </tr>\n",
       "  </thead>\n",
       "  <tbody>\n",
       "    <tr>\n",
       "      <th id=\"T_3e0bf_level0_row0\" class=\"row_heading level0 row0\" >0</th>\n",
       "      <td id=\"T_3e0bf_row0_col0\" class=\"data row0 col0\" >LightGBM</td>\n",
       "      <td id=\"T_3e0bf_row0_col1\" class=\"data row0 col1\" >0.0750</td>\n",
       "      <td id=\"T_3e0bf_row0_col2\" class=\"data row0 col2\" >0.0268</td>\n",
       "      <td id=\"T_3e0bf_row0_col3\" class=\"data row0 col3\" >0.9141</td>\n",
       "      <td id=\"T_3e0bf_row0_col4\" class=\"data row0 col4\" >2.62%</td>\n",
       "    </tr>\n",
       "    <tr>\n",
       "      <th id=\"T_3e0bf_level0_row1\" class=\"row_heading level0 row1\" >1</th>\n",
       "      <td id=\"T_3e0bf_row1_col0\" class=\"data row1 col0\" >best_fit</td>\n",
       "      <td id=\"T_3e0bf_row1_col1\" class=\"data row1 col1\" >0.0739</td>\n",
       "      <td id=\"T_3e0bf_row1_col2\" class=\"data row1 col2\" >0.0266</td>\n",
       "      <td id=\"T_3e0bf_row1_col3\" class=\"data row1 col3\" >0.8968</td>\n",
       "      <td id=\"T_3e0bf_row1_col4\" class=\"data row1 col4\" >0.23%</td>\n",
       "    </tr>\n",
       "    <tr>\n",
       "      <th id=\"T_3e0bf_level0_row2\" class=\"row_heading level0 row2\" >2</th>\n",
       "      <td id=\"T_3e0bf_row2_col0\" class=\"data row2 col0\" >median_ensemble</td>\n",
       "      <td id=\"T_3e0bf_row2_col1\" class=\"data row2 col1\" >0.0766</td>\n",
       "      <td id=\"T_3e0bf_row2_col2\" class=\"data row2 col2\" >0.0278</td>\n",
       "      <td id=\"T_3e0bf_row2_col3\" class=\"data row2 col3\" >0.9284</td>\n",
       "      <td id=\"T_3e0bf_row2_col4\" class=\"data row2 col4\" >-0.90%</td>\n",
       "    </tr>\n",
       "    <tr>\n",
       "      <th id=\"T_3e0bf_level0_row3\" class=\"row_heading level0 row3\" >3</th>\n",
       "      <td id=\"T_3e0bf_row3_col0\" class=\"data row3 col0\" >average_ensemble</td>\n",
       "      <td id=\"T_3e0bf_row3_col1\" class=\"data row3 col1\" >0.0826</td>\n",
       "      <td id=\"T_3e0bf_row3_col2\" class=\"data row3 col2\" >0.0284</td>\n",
       "      <td id=\"T_3e0bf_row3_col3\" class=\"data row3 col3\" >1.0111</td>\n",
       "      <td id=\"T_3e0bf_row3_col4\" class=\"data row3 col4\" >1.50%</td>\n",
       "    </tr>\n",
       "    <tr>\n",
       "      <th id=\"T_3e0bf_level0_row4\" class=\"row_heading level0 row4\" >4</th>\n",
       "      <td id=\"T_3e0bf_row4_col0\" class=\"data row4 col0\" >greedy_ensemble</td>\n",
       "      <td id=\"T_3e0bf_row4_col1\" class=\"data row4 col1\" >0.0733</td>\n",
       "      <td id=\"T_3e0bf_row4_col2\" class=\"data row4 col2\" >0.0249</td>\n",
       "      <td id=\"T_3e0bf_row4_col3\" class=\"data row4 col3\" >0.8946</td>\n",
       "      <td id=\"T_3e0bf_row4_col4\" class=\"data row4 col4\" >0.81%</td>\n",
       "    </tr>\n",
       "  </tbody>\n",
       "</table>\n"
      ],
      "text/plain": [
       "<pandas.io.formats.style.Styler at 0x7fc71d2d36a0>"
      ]
     },
     "metadata": {},
     "output_type": "display_data"
    }
   ],
   "source": [
    "display_metrics(agg_metrics_l)"
   ]
  },
  {
   "cell_type": "markdown",
   "id": "f02e975a-6d5e-40bb-85f8-1af4df323b64",
   "metadata": {},
   "source": [
    "## Stochastic Hill-climbing with Validation Forecasts"
   ]
  },
  {
   "cell_type": "code",
   "execution_count": 46,
   "id": "88a94f10-5936-44ab-9ebc-afb9e1096775",
   "metadata": {},
   "outputs": [],
   "source": [
    "from src.forecasting.ensembling import stochastic_hillclimbing"
   ]
  },
  {
   "cell_type": "code",
   "execution_count": 47,
   "id": "31650b73-ecde-43a0-8e25-56e69718f62d",
   "metadata": {},
   "outputs": [],
   "source": [
    "objective = partial(\n",
    "    calculate_performance, pred_wide=pred_wide_val, target=\"energy_consumption\"\n",
    ")"
   ]
  },
  {
   "cell_type": "code",
   "execution_count": 48,
   "id": "7b0441c0-a506-4935-992b-fc03dc3c756d",
   "metadata": {},
   "outputs": [
    {
     "name": "stdout",
     "output_type": "stream",
     "text": [
      "Iteration: 0: Iteration did not improve the score. Solution: ['LightGBM'] | Best Score: 0.07710443567692596\n",
      "Iteration: 1: Iteration did not improve the score. Solution: ['LightGBM'] | Best Score: 0.07710443567692596\n",
      "Iteration: 2: Iteration did not improve the score. Solution: ['LightGBM'] | Best Score: 0.07710443567692596\n",
      "Iteration: 3: Iteration did not improve the score. Solution: ['LightGBM'] | Best Score: 0.07710443567692596\n",
      "Iteration: 4: Solution: ['LightGBM', 'Lasso Regression_auto_stat'] | Best Score: 0.07643731787395898\n",
      "Iteration: 5: Iteration did not improve the score. Solution: ['LightGBM', 'Lasso Regression_auto_stat'] | Best Score: 0.07643731787395898\n",
      "Iteration: 6: Iteration did not improve the score. Solution: ['LightGBM', 'Lasso Regression_auto_stat'] | Best Score: 0.07643731787395898\n",
      "Iteration: 7: Iteration did not improve the score. Solution: ['LightGBM', 'Lasso Regression_auto_stat'] | Best Score: 0.07643731787395898\n",
      "Iteration: 8: Iteration did not improve the score. Solution: ['LightGBM', 'Lasso Regression_auto_stat'] | Best Score: 0.07643731787395898\n",
      "Iteration: 9: Iteration did not improve the score. Solution: ['LightGBM', 'Lasso Regression_auto_stat'] | Best Score: 0.07643731787395898\n"
     ]
    }
   ],
   "source": [
    "solution, best_score = stochastic_hillclimbing(\n",
    "    objective, ensemble_forecasts, n_iterations=10, init=\"best\", random_state=42\n",
    ")"
   ]
  },
  {
   "cell_type": "code",
   "execution_count": 49,
   "id": "2cde81cf-60cc-4eb0-8a30-ebb113a1b21e",
   "metadata": {},
   "outputs": [],
   "source": [
    "pred_wide_test[\"stochastic_hillclimb__ensemble\"] = pred_wide_test[solution].mean(axis=1)"
   ]
  },
  {
   "cell_type": "code",
   "execution_count": 50,
   "id": "f2f3a827-6204-4bf6-a5d0-bf4bc6fc1624",
   "metadata": {},
   "outputs": [
    {
     "data": {
      "application/vnd.jupyter.widget-view+json": {
       "model_id": "5c007c1afb73487795eb3b1b73524330",
       "version_major": 2,
       "version_minor": 0
      },
      "text/plain": [
       "  0%|          | 0/150 [00:00<?, ?it/s]"
      ]
     },
     "metadata": {},
     "output_type": "display_data"
    },
    {
     "name": "stdout",
     "output_type": "stream",
     "text": [
      "{'Algorithm': 'stochastic_hillclimb__ensemble', 'MAE': 0.0751001803547611, 'MSE': 0.025701571800985215, 'meanMASE': 0.9203330594870778, 'Forecast Bias': 1.206903215242081}\n"
     ]
    }
   ],
   "source": [
    "agg_metric_ = evaluate_ensemble(\n",
    "    pred_wide_test,\n",
    "    train_val_target,\n",
    "    \"stochastic_hillclimb__ensemble\",\n",
    "    \"energy_consumption\",\n",
    "    \"LCLid\",\n",
    ")\n",
    "print(agg_metric_)\n",
    "agg_metrics_l.append(agg_metric_)"
   ]
  },
  {
   "cell_type": "code",
   "execution_count": 51,
   "id": "536e18c1-7c67-4226-8617-f75e2eb6515c",
   "metadata": {},
   "outputs": [
    {
     "data": {
      "text/html": [
       "<style type=\"text/css\">\n",
       "#T_f9840_row1_col4 {\n",
       "  color: black;\n",
       "  background-color: lightgreen;\n",
       "}\n",
       "#T_f9840_row4_col1, #T_f9840_row4_col2, #T_f9840_row4_col3 {\n",
       "  background-color: lightgreen;\n",
       "}\n",
       "</style>\n",
       "<table id=\"T_f9840\">\n",
       "  <thead>\n",
       "    <tr>\n",
       "      <th class=\"blank level0\" >&nbsp;</th>\n",
       "      <th id=\"T_f9840_level0_col0\" class=\"col_heading level0 col0\" >Algorithm</th>\n",
       "      <th id=\"T_f9840_level0_col1\" class=\"col_heading level0 col1\" >MAE</th>\n",
       "      <th id=\"T_f9840_level0_col2\" class=\"col_heading level0 col2\" >MSE</th>\n",
       "      <th id=\"T_f9840_level0_col3\" class=\"col_heading level0 col3\" >meanMASE</th>\n",
       "      <th id=\"T_f9840_level0_col4\" class=\"col_heading level0 col4\" >Forecast Bias</th>\n",
       "    </tr>\n",
       "  </thead>\n",
       "  <tbody>\n",
       "    <tr>\n",
       "      <th id=\"T_f9840_level0_row0\" class=\"row_heading level0 row0\" >0</th>\n",
       "      <td id=\"T_f9840_row0_col0\" class=\"data row0 col0\" >LightGBM</td>\n",
       "      <td id=\"T_f9840_row0_col1\" class=\"data row0 col1\" >0.0750</td>\n",
       "      <td id=\"T_f9840_row0_col2\" class=\"data row0 col2\" >0.0268</td>\n",
       "      <td id=\"T_f9840_row0_col3\" class=\"data row0 col3\" >0.9141</td>\n",
       "      <td id=\"T_f9840_row0_col4\" class=\"data row0 col4\" >2.62%</td>\n",
       "    </tr>\n",
       "    <tr>\n",
       "      <th id=\"T_f9840_level0_row1\" class=\"row_heading level0 row1\" >1</th>\n",
       "      <td id=\"T_f9840_row1_col0\" class=\"data row1 col0\" >best_fit</td>\n",
       "      <td id=\"T_f9840_row1_col1\" class=\"data row1 col1\" >0.0739</td>\n",
       "      <td id=\"T_f9840_row1_col2\" class=\"data row1 col2\" >0.0266</td>\n",
       "      <td id=\"T_f9840_row1_col3\" class=\"data row1 col3\" >0.8968</td>\n",
       "      <td id=\"T_f9840_row1_col4\" class=\"data row1 col4\" >0.23%</td>\n",
       "    </tr>\n",
       "    <tr>\n",
       "      <th id=\"T_f9840_level0_row2\" class=\"row_heading level0 row2\" >2</th>\n",
       "      <td id=\"T_f9840_row2_col0\" class=\"data row2 col0\" >median_ensemble</td>\n",
       "      <td id=\"T_f9840_row2_col1\" class=\"data row2 col1\" >0.0766</td>\n",
       "      <td id=\"T_f9840_row2_col2\" class=\"data row2 col2\" >0.0278</td>\n",
       "      <td id=\"T_f9840_row2_col3\" class=\"data row2 col3\" >0.9284</td>\n",
       "      <td id=\"T_f9840_row2_col4\" class=\"data row2 col4\" >-0.90%</td>\n",
       "    </tr>\n",
       "    <tr>\n",
       "      <th id=\"T_f9840_level0_row3\" class=\"row_heading level0 row3\" >3</th>\n",
       "      <td id=\"T_f9840_row3_col0\" class=\"data row3 col0\" >average_ensemble</td>\n",
       "      <td id=\"T_f9840_row3_col1\" class=\"data row3 col1\" >0.0826</td>\n",
       "      <td id=\"T_f9840_row3_col2\" class=\"data row3 col2\" >0.0284</td>\n",
       "      <td id=\"T_f9840_row3_col3\" class=\"data row3 col3\" >1.0111</td>\n",
       "      <td id=\"T_f9840_row3_col4\" class=\"data row3 col4\" >1.50%</td>\n",
       "    </tr>\n",
       "    <tr>\n",
       "      <th id=\"T_f9840_level0_row4\" class=\"row_heading level0 row4\" >4</th>\n",
       "      <td id=\"T_f9840_row4_col0\" class=\"data row4 col0\" >greedy_ensemble</td>\n",
       "      <td id=\"T_f9840_row4_col1\" class=\"data row4 col1\" >0.0733</td>\n",
       "      <td id=\"T_f9840_row4_col2\" class=\"data row4 col2\" >0.0249</td>\n",
       "      <td id=\"T_f9840_row4_col3\" class=\"data row4 col3\" >0.8946</td>\n",
       "      <td id=\"T_f9840_row4_col4\" class=\"data row4 col4\" >0.81%</td>\n",
       "    </tr>\n",
       "    <tr>\n",
       "      <th id=\"T_f9840_level0_row5\" class=\"row_heading level0 row5\" >5</th>\n",
       "      <td id=\"T_f9840_row5_col0\" class=\"data row5 col0\" >stochastic_hillclimb__ensemble</td>\n",
       "      <td id=\"T_f9840_row5_col1\" class=\"data row5 col1\" >0.0751</td>\n",
       "      <td id=\"T_f9840_row5_col2\" class=\"data row5 col2\" >0.0257</td>\n",
       "      <td id=\"T_f9840_row5_col3\" class=\"data row5 col3\" >0.9203</td>\n",
       "      <td id=\"T_f9840_row5_col4\" class=\"data row5 col4\" >1.21%</td>\n",
       "    </tr>\n",
       "  </tbody>\n",
       "</table>\n"
      ],
      "text/plain": [
       "<pandas.io.formats.style.Styler at 0x7fc71d2d1930>"
      ]
     },
     "metadata": {},
     "output_type": "display_data"
    }
   ],
   "source": [
    "display_metrics(agg_metrics_l)"
   ]
  },
  {
   "cell_type": "markdown",
   "id": "e371c6a5-afd0-49b6-b5f3-f22dca9a3ca5",
   "metadata": {},
   "source": [
    "## Simulated Annealing with Validation Forecasts"
   ]
  },
  {
   "cell_type": "code",
   "execution_count": 52,
   "id": "22292121-5374-46e6-ab5c-fdc109ef1aaf",
   "metadata": {},
   "outputs": [],
   "source": [
    "from src.forecasting.ensembling import simulated_annealing"
   ]
  },
  {
   "cell_type": "code",
   "execution_count": 53,
   "id": "f24b0f6e-9220-45a7-a1fe-b0e85d5582ab",
   "metadata": {},
   "outputs": [],
   "source": [
    "objective = partial(\n",
    "    calculate_performance, pred_wide=pred_wide_val, target=\"energy_consumption\"\n",
    ")"
   ]
  },
  {
   "cell_type": "code",
   "execution_count": 54,
   "id": "fcfed3e9-fc3d-49e6-b67d-a19e6238249d",
   "metadata": {},
   "outputs": [
    {
     "name": "stdout",
     "output_type": "stream",
     "text": [
      "Finding optimum temperature range\n"
     ]
    },
    {
     "data": {
      "application/vnd.jupyter.widget-view+json": {
       "model_id": "90391d127c2848dda8df360cb9fe058a",
       "version_major": 2,
       "version_minor": 0
      },
      "text/plain": [
       "  0%|          | 0/100 [00:00<?, ?it/s]"
      ]
     },
     "metadata": {},
     "output_type": "display_data"
    },
    {
     "name": "stdout",
     "output_type": "stream",
     "text": [
      "Iteration: 0: Solution: ['LightGBM', 'LightGBM_auto_stat'] | Best Score: 0.07594842304357433\n",
      "Iteration: 1: Solution: ['LightGBM', 'LightGBM_auto_stat', 'XGB Random Forest'] | Best Score: 0.07595378259311718\n",
      "Iteration: 2: Solution: ['LightGBM', 'LightGBM_auto_stat', 'XGB Random Forest', 'XGB Random Forest_auto_stat'] | Best Score: 0.07673005854842214\n",
      "Iteration: 3: Iteration did not improve the score. Solution: ['LightGBM', 'LightGBM_auto_stat', 'XGB Random Forest', 'XGB Random Forest_auto_stat'] | Best Score: 0.07673005854842214\n",
      "Iteration: 4: Iteration did not improve the score. Solution: ['LightGBM', 'LightGBM_auto_stat', 'XGB Random Forest', 'XGB Random Forest_auto_stat'] | Best Score: 0.07673005854842214\n",
      "Iteration: 5: Solution: ['LightGBM', 'LightGBM_auto_stat', 'XGB Random Forest', 'XGB Random Forest_auto_stat', 'Lasso Regression_auto_stat'] | Best Score: 0.07641913645347752\n",
      "Iteration: 6: Iteration did not improve the score. Solution: ['LightGBM', 'LightGBM_auto_stat', 'XGB Random Forest', 'XGB Random Forest_auto_stat', 'Lasso Regression_auto_stat'] | Best Score: 0.07641913645347752\n",
      "Iteration: 7: Solution: ['LightGBM', 'LightGBM_auto_stat', 'XGB Random Forest', 'XGB Random Forest_auto_stat', 'Lasso Regression_auto_stat', 'Lasso Regression'] | Best Score: 0.07622134589025528\n",
      "Iteration: 8: Iteration did not improve the score. Solution: ['LightGBM', 'LightGBM_auto_stat', 'XGB Random Forest', 'XGB Random Forest_auto_stat', 'Lasso Regression_auto_stat', 'Lasso Regression'] | Best Score: 0.07622134589025528\n"
     ]
    }
   ],
   "source": [
    "solution, best_score = simulated_annealing(\n",
    "    objective,\n",
    "    ensemble_forecasts,\n",
    "    p_range=(0.5, 0.0001),\n",
    "    n_iterations=50,\n",
    "    init=\"best\",\n",
    "    temperature_decay=\"geometric\",\n",
    "    random_state=42,\n",
    ")"
   ]
  },
  {
   "cell_type": "code",
   "execution_count": 55,
   "id": "8d6c5555-b124-4732-8836-29887f4641b4",
   "metadata": {},
   "outputs": [],
   "source": [
    "pred_wide_test[\"simulated_annealing_ensemble\"] = pred_wide_test[solution].mean(axis=1)"
   ]
  },
  {
   "cell_type": "code",
   "execution_count": 56,
   "id": "4aa93250-afd4-4a40-807d-d309b6e55436",
   "metadata": {},
   "outputs": [
    {
     "data": {
      "application/vnd.jupyter.widget-view+json": {
       "model_id": "f8c4dc47d6d545a5963f60c6f551e4de",
       "version_major": 2,
       "version_minor": 0
      },
      "text/plain": [
       "  0%|          | 0/150 [00:00<?, ?it/s]"
      ]
     },
     "metadata": {},
     "output_type": "display_data"
    },
    {
     "name": "stdout",
     "output_type": "stream",
     "text": [
      "{'Algorithm': 'simulated_annealing_ensemble', 'MAE': 0.07398726892756087, 'MSE': 0.025188022012423292, 'meanMASE': 0.9055454926772744, 'Forecast Bias': -0.41424861630617044}\n"
     ]
    }
   ],
   "source": [
    "agg_metric_ = evaluate_ensemble(\n",
    "    pred_wide_test,\n",
    "    train_val_target,\n",
    "    \"simulated_annealing_ensemble\",\n",
    "    \"energy_consumption\",\n",
    "    \"LCLid\",\n",
    ")\n",
    "print(agg_metric_)\n",
    "agg_metrics_l.append(agg_metric_)"
   ]
  },
  {
   "cell_type": "code",
   "execution_count": 57,
   "id": "ef1f5fe0-04db-4a18-897e-1ba71e6a6a89",
   "metadata": {},
   "outputs": [
    {
     "data": {
      "text/html": [
       "<style type=\"text/css\">\n",
       "#T_2986d_row1_col4 {\n",
       "  color: black;\n",
       "  background-color: lightgreen;\n",
       "}\n",
       "#T_2986d_row4_col1, #T_2986d_row4_col2, #T_2986d_row4_col3 {\n",
       "  background-color: lightgreen;\n",
       "}\n",
       "</style>\n",
       "<table id=\"T_2986d\">\n",
       "  <thead>\n",
       "    <tr>\n",
       "      <th class=\"blank level0\" >&nbsp;</th>\n",
       "      <th id=\"T_2986d_level0_col0\" class=\"col_heading level0 col0\" >Algorithm</th>\n",
       "      <th id=\"T_2986d_level0_col1\" class=\"col_heading level0 col1\" >MAE</th>\n",
       "      <th id=\"T_2986d_level0_col2\" class=\"col_heading level0 col2\" >MSE</th>\n",
       "      <th id=\"T_2986d_level0_col3\" class=\"col_heading level0 col3\" >meanMASE</th>\n",
       "      <th id=\"T_2986d_level0_col4\" class=\"col_heading level0 col4\" >Forecast Bias</th>\n",
       "    </tr>\n",
       "  </thead>\n",
       "  <tbody>\n",
       "    <tr>\n",
       "      <th id=\"T_2986d_level0_row0\" class=\"row_heading level0 row0\" >0</th>\n",
       "      <td id=\"T_2986d_row0_col0\" class=\"data row0 col0\" >LightGBM</td>\n",
       "      <td id=\"T_2986d_row0_col1\" class=\"data row0 col1\" >0.0750</td>\n",
       "      <td id=\"T_2986d_row0_col2\" class=\"data row0 col2\" >0.0268</td>\n",
       "      <td id=\"T_2986d_row0_col3\" class=\"data row0 col3\" >0.9141</td>\n",
       "      <td id=\"T_2986d_row0_col4\" class=\"data row0 col4\" >2.62%</td>\n",
       "    </tr>\n",
       "    <tr>\n",
       "      <th id=\"T_2986d_level0_row1\" class=\"row_heading level0 row1\" >1</th>\n",
       "      <td id=\"T_2986d_row1_col0\" class=\"data row1 col0\" >best_fit</td>\n",
       "      <td id=\"T_2986d_row1_col1\" class=\"data row1 col1\" >0.0739</td>\n",
       "      <td id=\"T_2986d_row1_col2\" class=\"data row1 col2\" >0.0266</td>\n",
       "      <td id=\"T_2986d_row1_col3\" class=\"data row1 col3\" >0.8968</td>\n",
       "      <td id=\"T_2986d_row1_col4\" class=\"data row1 col4\" >0.23%</td>\n",
       "    </tr>\n",
       "    <tr>\n",
       "      <th id=\"T_2986d_level0_row2\" class=\"row_heading level0 row2\" >2</th>\n",
       "      <td id=\"T_2986d_row2_col0\" class=\"data row2 col0\" >median_ensemble</td>\n",
       "      <td id=\"T_2986d_row2_col1\" class=\"data row2 col1\" >0.0766</td>\n",
       "      <td id=\"T_2986d_row2_col2\" class=\"data row2 col2\" >0.0278</td>\n",
       "      <td id=\"T_2986d_row2_col3\" class=\"data row2 col3\" >0.9284</td>\n",
       "      <td id=\"T_2986d_row2_col4\" class=\"data row2 col4\" >-0.90%</td>\n",
       "    </tr>\n",
       "    <tr>\n",
       "      <th id=\"T_2986d_level0_row3\" class=\"row_heading level0 row3\" >3</th>\n",
       "      <td id=\"T_2986d_row3_col0\" class=\"data row3 col0\" >average_ensemble</td>\n",
       "      <td id=\"T_2986d_row3_col1\" class=\"data row3 col1\" >0.0826</td>\n",
       "      <td id=\"T_2986d_row3_col2\" class=\"data row3 col2\" >0.0284</td>\n",
       "      <td id=\"T_2986d_row3_col3\" class=\"data row3 col3\" >1.0111</td>\n",
       "      <td id=\"T_2986d_row3_col4\" class=\"data row3 col4\" >1.50%</td>\n",
       "    </tr>\n",
       "    <tr>\n",
       "      <th id=\"T_2986d_level0_row4\" class=\"row_heading level0 row4\" >4</th>\n",
       "      <td id=\"T_2986d_row4_col0\" class=\"data row4 col0\" >greedy_ensemble</td>\n",
       "      <td id=\"T_2986d_row4_col1\" class=\"data row4 col1\" >0.0733</td>\n",
       "      <td id=\"T_2986d_row4_col2\" class=\"data row4 col2\" >0.0249</td>\n",
       "      <td id=\"T_2986d_row4_col3\" class=\"data row4 col3\" >0.8946</td>\n",
       "      <td id=\"T_2986d_row4_col4\" class=\"data row4 col4\" >0.81%</td>\n",
       "    </tr>\n",
       "    <tr>\n",
       "      <th id=\"T_2986d_level0_row5\" class=\"row_heading level0 row5\" >5</th>\n",
       "      <td id=\"T_2986d_row5_col0\" class=\"data row5 col0\" >stochastic_hillclimb__ensemble</td>\n",
       "      <td id=\"T_2986d_row5_col1\" class=\"data row5 col1\" >0.0751</td>\n",
       "      <td id=\"T_2986d_row5_col2\" class=\"data row5 col2\" >0.0257</td>\n",
       "      <td id=\"T_2986d_row5_col3\" class=\"data row5 col3\" >0.9203</td>\n",
       "      <td id=\"T_2986d_row5_col4\" class=\"data row5 col4\" >1.21%</td>\n",
       "    </tr>\n",
       "    <tr>\n",
       "      <th id=\"T_2986d_level0_row6\" class=\"row_heading level0 row6\" >6</th>\n",
       "      <td id=\"T_2986d_row6_col0\" class=\"data row6 col0\" >simulated_annealing_ensemble</td>\n",
       "      <td id=\"T_2986d_row6_col1\" class=\"data row6 col1\" >0.0740</td>\n",
       "      <td id=\"T_2986d_row6_col2\" class=\"data row6 col2\" >0.0252</td>\n",
       "      <td id=\"T_2986d_row6_col3\" class=\"data row6 col3\" >0.9055</td>\n",
       "      <td id=\"T_2986d_row6_col4\" class=\"data row6 col4\" >-0.41%</td>\n",
       "    </tr>\n",
       "  </tbody>\n",
       "</table>\n"
      ],
      "text/plain": [
       "<pandas.io.formats.style.Styler at 0x7fc71d291f00>"
      ]
     },
     "metadata": {},
     "output_type": "display_data"
    }
   ],
   "source": [
    "display_metrics(agg_metrics_l)"
   ]
  },
  {
   "cell_type": "markdown",
   "id": "bedfa9b0-ada5-4651-9dfd-abcd4a5e6cb0",
   "metadata": {},
   "source": [
    "## Optimal Weighted Ensemble"
   ]
  },
  {
   "cell_type": "code",
   "execution_count": 59,
   "id": "cf99a629-a74b-49d8-b793-71601e0e48cf",
   "metadata": {},
   "outputs": [],
   "source": [
    "from src.forecasting.ensembling import find_optimal_combination"
   ]
  },
  {
   "cell_type": "code",
   "execution_count": 61,
   "id": "0035a83d-3dad-492e-a8ef-388a0eb6908b",
   "metadata": {},
   "outputs": [],
   "source": [
    "optimal_weights = find_optimal_combination(\n",
    "    ensemble_forecasts, pred_wide_val, target=\"energy_consumption\"\n",
    ")"
   ]
  },
  {
   "cell_type": "code",
   "execution_count": 62,
   "id": "86565cd7-d35a-4e47-9662-80226cbbc02d",
   "metadata": {},
   "outputs": [
    {
     "data": {
      "text/html": [
       "<div>\n",
       "<style scoped>\n",
       "    .dataframe tbody tr th:only-of-type {\n",
       "        vertical-align: middle;\n",
       "    }\n",
       "\n",
       "    .dataframe tbody tr th {\n",
       "        vertical-align: top;\n",
       "    }\n",
       "\n",
       "    .dataframe thead th {\n",
       "        text-align: right;\n",
       "    }\n",
       "</style>\n",
       "<table border=\"1\" class=\"dataframe\">\n",
       "  <thead>\n",
       "    <tr style=\"text-align: right;\">\n",
       "      <th></th>\n",
       "      <th>Forecast</th>\n",
       "      <th>Weights</th>\n",
       "    </tr>\n",
       "  </thead>\n",
       "  <tbody>\n",
       "    <tr>\n",
       "      <th>3</th>\n",
       "      <td>LightGBM</td>\n",
       "      <td>0.4457</td>\n",
       "    </tr>\n",
       "    <tr>\n",
       "      <th>4</th>\n",
       "      <td>LightGBM_auto_stat</td>\n",
       "      <td>0.2781</td>\n",
       "    </tr>\n",
       "    <tr>\n",
       "      <th>2</th>\n",
       "      <td>Lasso Regression_auto_stat</td>\n",
       "      <td>0.1381</td>\n",
       "    </tr>\n",
       "    <tr>\n",
       "      <th>1</th>\n",
       "      <td>Lasso Regression</td>\n",
       "      <td>0.0841</td>\n",
       "    </tr>\n",
       "    <tr>\n",
       "      <th>6</th>\n",
       "      <td>XGB Random Forest</td>\n",
       "      <td>0.0541</td>\n",
       "    </tr>\n",
       "    <tr>\n",
       "      <th>0</th>\n",
       "      <td>FFT</td>\n",
       "      <td>0.0000</td>\n",
       "    </tr>\n",
       "    <tr>\n",
       "      <th>5</th>\n",
       "      <td>Theta</td>\n",
       "      <td>0.0000</td>\n",
       "    </tr>\n",
       "    <tr>\n",
       "      <th>7</th>\n",
       "      <td>XGB Random Forest_auto_stat</td>\n",
       "      <td>0.0000</td>\n",
       "    </tr>\n",
       "  </tbody>\n",
       "</table>\n",
       "</div>"
      ],
      "text/plain": [
       "                      Forecast  Weights\n",
       "3                     LightGBM   0.4457\n",
       "4           LightGBM_auto_stat   0.2781\n",
       "2   Lasso Regression_auto_stat   0.1381\n",
       "1             Lasso Regression   0.0841\n",
       "6            XGB Random Forest   0.0541\n",
       "0                          FFT   0.0000\n",
       "5                        Theta   0.0000\n",
       "7  XGB Random Forest_auto_stat   0.0000"
      ]
     },
     "execution_count": 62,
     "metadata": {},
     "output_type": "execute_result"
    }
   ],
   "source": [
    "pd.DataFrame({\"Forecast\": ensemble_forecasts, \"Weights\": optimal_weights}\n",
    "             ).round(4).sort_values(\"Weights\", ascending=False)"
   ]
  },
  {
   "cell_type": "code",
   "execution_count": 63,
   "id": "70e1f5f4-0a61-4291-8454-e6838fe174fc",
   "metadata": {},
   "outputs": [],
   "source": [
    "pred_wide_test[\"optimal_combination_ensemble\"] = np.sum(\n",
    "    pred_wide_test[ensemble_forecasts].values * np.array(optimal_weights), axis=1\n",
    ")"
   ]
  },
  {
   "cell_type": "code",
   "execution_count": 64,
   "id": "b7d070e4-e4e8-4f90-9e9c-52543fd3d212",
   "metadata": {},
   "outputs": [
    {
     "data": {
      "application/vnd.jupyter.widget-view+json": {
       "model_id": "786beaa1747348678ba9776c0d21983c",
       "version_major": 2,
       "version_minor": 0
      },
      "text/plain": [
       "  0%|          | 0/150 [00:00<?, ?it/s]"
      ]
     },
     "metadata": {},
     "output_type": "display_data"
    },
    {
     "name": "stdout",
     "output_type": "stream",
     "text": [
      "{'Algorithm': 'optimal_combination_ensemble', 'MAE': 0.07304274088138435, 'MSE': 0.024662486872771932, 'meanMASE': 0.8939078585943616, 'Forecast Bias': 0.8487786644069247}\n"
     ]
    }
   ],
   "source": [
    "agg_metric_ = evaluate_ensemble(\n",
    "    pred_wide_test,\n",
    "    train_val_target,\n",
    "    \"optimal_combination_ensemble\",\n",
    "    \"energy_consumption\",\n",
    "    \"LCLid\",\n",
    ")\n",
    "print(agg_metric_)\n",
    "agg_metrics_l.append(agg_metric_)"
   ]
  },
  {
   "cell_type": "code",
   "execution_count": 65,
   "id": "113880d3-b0f7-4c3d-8fb6-6953f32daedb",
   "metadata": {},
   "outputs": [
    {
     "data": {
      "text/html": [
       "<style type=\"text/css\">\n",
       "#T_43125_row1_col4 {\n",
       "  color: black;\n",
       "  background-color: lightgreen;\n",
       "}\n",
       "#T_43125_row7_col1, #T_43125_row7_col2, #T_43125_row7_col3 {\n",
       "  background-color: lightgreen;\n",
       "}\n",
       "</style>\n",
       "<table id=\"T_43125\">\n",
       "  <thead>\n",
       "    <tr>\n",
       "      <th class=\"blank level0\" >&nbsp;</th>\n",
       "      <th id=\"T_43125_level0_col0\" class=\"col_heading level0 col0\" >Algorithm</th>\n",
       "      <th id=\"T_43125_level0_col1\" class=\"col_heading level0 col1\" >MAE</th>\n",
       "      <th id=\"T_43125_level0_col2\" class=\"col_heading level0 col2\" >MSE</th>\n",
       "      <th id=\"T_43125_level0_col3\" class=\"col_heading level0 col3\" >meanMASE</th>\n",
       "      <th id=\"T_43125_level0_col4\" class=\"col_heading level0 col4\" >Forecast Bias</th>\n",
       "    </tr>\n",
       "  </thead>\n",
       "  <tbody>\n",
       "    <tr>\n",
       "      <th id=\"T_43125_level0_row0\" class=\"row_heading level0 row0\" >0</th>\n",
       "      <td id=\"T_43125_row0_col0\" class=\"data row0 col0\" >LightGBM</td>\n",
       "      <td id=\"T_43125_row0_col1\" class=\"data row0 col1\" >0.0750</td>\n",
       "      <td id=\"T_43125_row0_col2\" class=\"data row0 col2\" >0.0268</td>\n",
       "      <td id=\"T_43125_row0_col3\" class=\"data row0 col3\" >0.9141</td>\n",
       "      <td id=\"T_43125_row0_col4\" class=\"data row0 col4\" >2.62%</td>\n",
       "    </tr>\n",
       "    <tr>\n",
       "      <th id=\"T_43125_level0_row1\" class=\"row_heading level0 row1\" >1</th>\n",
       "      <td id=\"T_43125_row1_col0\" class=\"data row1 col0\" >best_fit</td>\n",
       "      <td id=\"T_43125_row1_col1\" class=\"data row1 col1\" >0.0739</td>\n",
       "      <td id=\"T_43125_row1_col2\" class=\"data row1 col2\" >0.0266</td>\n",
       "      <td id=\"T_43125_row1_col3\" class=\"data row1 col3\" >0.8968</td>\n",
       "      <td id=\"T_43125_row1_col4\" class=\"data row1 col4\" >0.23%</td>\n",
       "    </tr>\n",
       "    <tr>\n",
       "      <th id=\"T_43125_level0_row2\" class=\"row_heading level0 row2\" >2</th>\n",
       "      <td id=\"T_43125_row2_col0\" class=\"data row2 col0\" >median_ensemble</td>\n",
       "      <td id=\"T_43125_row2_col1\" class=\"data row2 col1\" >0.0766</td>\n",
       "      <td id=\"T_43125_row2_col2\" class=\"data row2 col2\" >0.0278</td>\n",
       "      <td id=\"T_43125_row2_col3\" class=\"data row2 col3\" >0.9284</td>\n",
       "      <td id=\"T_43125_row2_col4\" class=\"data row2 col4\" >-0.90%</td>\n",
       "    </tr>\n",
       "    <tr>\n",
       "      <th id=\"T_43125_level0_row3\" class=\"row_heading level0 row3\" >3</th>\n",
       "      <td id=\"T_43125_row3_col0\" class=\"data row3 col0\" >average_ensemble</td>\n",
       "      <td id=\"T_43125_row3_col1\" class=\"data row3 col1\" >0.0826</td>\n",
       "      <td id=\"T_43125_row3_col2\" class=\"data row3 col2\" >0.0284</td>\n",
       "      <td id=\"T_43125_row3_col3\" class=\"data row3 col3\" >1.0111</td>\n",
       "      <td id=\"T_43125_row3_col4\" class=\"data row3 col4\" >1.50%</td>\n",
       "    </tr>\n",
       "    <tr>\n",
       "      <th id=\"T_43125_level0_row4\" class=\"row_heading level0 row4\" >4</th>\n",
       "      <td id=\"T_43125_row4_col0\" class=\"data row4 col0\" >greedy_ensemble</td>\n",
       "      <td id=\"T_43125_row4_col1\" class=\"data row4 col1\" >0.0733</td>\n",
       "      <td id=\"T_43125_row4_col2\" class=\"data row4 col2\" >0.0249</td>\n",
       "      <td id=\"T_43125_row4_col3\" class=\"data row4 col3\" >0.8946</td>\n",
       "      <td id=\"T_43125_row4_col4\" class=\"data row4 col4\" >0.81%</td>\n",
       "    </tr>\n",
       "    <tr>\n",
       "      <th id=\"T_43125_level0_row5\" class=\"row_heading level0 row5\" >5</th>\n",
       "      <td id=\"T_43125_row5_col0\" class=\"data row5 col0\" >stochastic_hillclimb__ensemble</td>\n",
       "      <td id=\"T_43125_row5_col1\" class=\"data row5 col1\" >0.0751</td>\n",
       "      <td id=\"T_43125_row5_col2\" class=\"data row5 col2\" >0.0257</td>\n",
       "      <td id=\"T_43125_row5_col3\" class=\"data row5 col3\" >0.9203</td>\n",
       "      <td id=\"T_43125_row5_col4\" class=\"data row5 col4\" >1.21%</td>\n",
       "    </tr>\n",
       "    <tr>\n",
       "      <th id=\"T_43125_level0_row6\" class=\"row_heading level0 row6\" >6</th>\n",
       "      <td id=\"T_43125_row6_col0\" class=\"data row6 col0\" >simulated_annealing_ensemble</td>\n",
       "      <td id=\"T_43125_row6_col1\" class=\"data row6 col1\" >0.0740</td>\n",
       "      <td id=\"T_43125_row6_col2\" class=\"data row6 col2\" >0.0252</td>\n",
       "      <td id=\"T_43125_row6_col3\" class=\"data row6 col3\" >0.9055</td>\n",
       "      <td id=\"T_43125_row6_col4\" class=\"data row6 col4\" >-0.41%</td>\n",
       "    </tr>\n",
       "    <tr>\n",
       "      <th id=\"T_43125_level0_row7\" class=\"row_heading level0 row7\" >7</th>\n",
       "      <td id=\"T_43125_row7_col0\" class=\"data row7 col0\" >optimal_combination_ensemble</td>\n",
       "      <td id=\"T_43125_row7_col1\" class=\"data row7 col1\" >0.0730</td>\n",
       "      <td id=\"T_43125_row7_col2\" class=\"data row7 col2\" >0.0247</td>\n",
       "      <td id=\"T_43125_row7_col3\" class=\"data row7 col3\" >0.8939</td>\n",
       "      <td id=\"T_43125_row7_col4\" class=\"data row7 col4\" >0.85%</td>\n",
       "    </tr>\n",
       "  </tbody>\n",
       "</table>\n"
      ],
      "text/plain": [
       "<pandas.io.formats.style.Styler at 0x7fc71d23f6d0>"
      ]
     },
     "metadata": {},
     "output_type": "display_data"
    }
   ],
   "source": [
    "display_metrics(agg_metrics_l)"
   ]
  },
  {
   "cell_type": "markdown",
   "id": "422f5f4c-3c33-4054-aff3-c77a2991bea3",
   "metadata": {
    "tags": []
   },
   "source": [
    "## Stacking/Blending Model"
   ]
  },
  {
   "cell_type": "code",
   "execution_count": 66,
   "id": "86cd1b06-feaf-4075-8645-984dcbb15328",
   "metadata": {},
   "outputs": [],
   "source": [
    "from sklearn.linear_model import (\n",
    "    HuberRegressor,\n",
    "    LassoCV,\n",
    "    LinearRegression,\n",
    "    RidgeCV\n",
    ")"
   ]
  },
  {
   "cell_type": "markdown",
   "id": "5b5f4af2-90f5-4a4a-8c53-a8e0fe1c40d1",
   "metadata": {},
   "source": [
    "### Linear Regression"
   ]
  },
  {
   "cell_type": "code",
   "execution_count": 67,
   "id": "7f8c7b59-4cad-4ce8-ab87-4665c05a76c2",
   "metadata": {},
   "outputs": [
    {
     "data": {
      "text/html": [
       "<style>#sk-container-id-1 {\n",
       "  /* Definition of color scheme common for light and dark mode */\n",
       "  --sklearn-color-text: black;\n",
       "  --sklearn-color-line: gray;\n",
       "  /* Definition of color scheme for unfitted estimators */\n",
       "  --sklearn-color-unfitted-level-0: #fff5e6;\n",
       "  --sklearn-color-unfitted-level-1: #f6e4d2;\n",
       "  --sklearn-color-unfitted-level-2: #ffe0b3;\n",
       "  --sklearn-color-unfitted-level-3: chocolate;\n",
       "  /* Definition of color scheme for fitted estimators */\n",
       "  --sklearn-color-fitted-level-0: #f0f8ff;\n",
       "  --sklearn-color-fitted-level-1: #d4ebff;\n",
       "  --sklearn-color-fitted-level-2: #b3dbfd;\n",
       "  --sklearn-color-fitted-level-3: cornflowerblue;\n",
       "\n",
       "  /* Specific color for light theme */\n",
       "  --sklearn-color-text-on-default-background: var(--sg-text-color, var(--theme-code-foreground, var(--jp-content-font-color1, black)));\n",
       "  --sklearn-color-background: var(--sg-background-color, var(--theme-background, var(--jp-layout-color0, white)));\n",
       "  --sklearn-color-border-box: var(--sg-text-color, var(--theme-code-foreground, var(--jp-content-font-color1, black)));\n",
       "  --sklearn-color-icon: #696969;\n",
       "\n",
       "  @media (prefers-color-scheme: dark) {\n",
       "    /* Redefinition of color scheme for dark theme */\n",
       "    --sklearn-color-text-on-default-background: var(--sg-text-color, var(--theme-code-foreground, var(--jp-content-font-color1, white)));\n",
       "    --sklearn-color-background: var(--sg-background-color, var(--theme-background, var(--jp-layout-color0, #111)));\n",
       "    --sklearn-color-border-box: var(--sg-text-color, var(--theme-code-foreground, var(--jp-content-font-color1, white)));\n",
       "    --sklearn-color-icon: #878787;\n",
       "  }\n",
       "}\n",
       "\n",
       "#sk-container-id-1 {\n",
       "  color: var(--sklearn-color-text);\n",
       "}\n",
       "\n",
       "#sk-container-id-1 pre {\n",
       "  padding: 0;\n",
       "}\n",
       "\n",
       "#sk-container-id-1 input.sk-hidden--visually {\n",
       "  border: 0;\n",
       "  clip: rect(1px 1px 1px 1px);\n",
       "  clip: rect(1px, 1px, 1px, 1px);\n",
       "  height: 1px;\n",
       "  margin: -1px;\n",
       "  overflow: hidden;\n",
       "  padding: 0;\n",
       "  position: absolute;\n",
       "  width: 1px;\n",
       "}\n",
       "\n",
       "#sk-container-id-1 div.sk-dashed-wrapped {\n",
       "  border: 1px dashed var(--sklearn-color-line);\n",
       "  margin: 0 0.4em 0.5em 0.4em;\n",
       "  box-sizing: border-box;\n",
       "  padding-bottom: 0.4em;\n",
       "  background-color: var(--sklearn-color-background);\n",
       "}\n",
       "\n",
       "#sk-container-id-1 div.sk-container {\n",
       "  /* jupyter's `normalize.less` sets `[hidden] { display: none; }`\n",
       "     but bootstrap.min.css set `[hidden] { display: none !important; }`\n",
       "     so we also need the `!important` here to be able to override the\n",
       "     default hidden behavior on the sphinx rendered scikit-learn.org.\n",
       "     See: https://github.com/scikit-learn/scikit-learn/issues/21755 */\n",
       "  display: inline-block !important;\n",
       "  position: relative;\n",
       "}\n",
       "\n",
       "#sk-container-id-1 div.sk-text-repr-fallback {\n",
       "  display: none;\n",
       "}\n",
       "\n",
       "div.sk-parallel-item,\n",
       "div.sk-serial,\n",
       "div.sk-item {\n",
       "  /* draw centered vertical line to link estimators */\n",
       "  background-image: linear-gradient(var(--sklearn-color-text-on-default-background), var(--sklearn-color-text-on-default-background));\n",
       "  background-size: 2px 100%;\n",
       "  background-repeat: no-repeat;\n",
       "  background-position: center center;\n",
       "}\n",
       "\n",
       "/* Parallel-specific style estimator block */\n",
       "\n",
       "#sk-container-id-1 div.sk-parallel-item::after {\n",
       "  content: \"\";\n",
       "  width: 100%;\n",
       "  border-bottom: 2px solid var(--sklearn-color-text-on-default-background);\n",
       "  flex-grow: 1;\n",
       "}\n",
       "\n",
       "#sk-container-id-1 div.sk-parallel {\n",
       "  display: flex;\n",
       "  align-items: stretch;\n",
       "  justify-content: center;\n",
       "  background-color: var(--sklearn-color-background);\n",
       "  position: relative;\n",
       "}\n",
       "\n",
       "#sk-container-id-1 div.sk-parallel-item {\n",
       "  display: flex;\n",
       "  flex-direction: column;\n",
       "}\n",
       "\n",
       "#sk-container-id-1 div.sk-parallel-item:first-child::after {\n",
       "  align-self: flex-end;\n",
       "  width: 50%;\n",
       "}\n",
       "\n",
       "#sk-container-id-1 div.sk-parallel-item:last-child::after {\n",
       "  align-self: flex-start;\n",
       "  width: 50%;\n",
       "}\n",
       "\n",
       "#sk-container-id-1 div.sk-parallel-item:only-child::after {\n",
       "  width: 0;\n",
       "}\n",
       "\n",
       "/* Serial-specific style estimator block */\n",
       "\n",
       "#sk-container-id-1 div.sk-serial {\n",
       "  display: flex;\n",
       "  flex-direction: column;\n",
       "  align-items: center;\n",
       "  background-color: var(--sklearn-color-background);\n",
       "  padding-right: 1em;\n",
       "  padding-left: 1em;\n",
       "}\n",
       "\n",
       "\n",
       "/* Toggleable style: style used for estimator/Pipeline/ColumnTransformer box that is\n",
       "clickable and can be expanded/collapsed.\n",
       "- Pipeline and ColumnTransformer use this feature and define the default style\n",
       "- Estimators will overwrite some part of the style using the `sk-estimator` class\n",
       "*/\n",
       "\n",
       "/* Pipeline and ColumnTransformer style (default) */\n",
       "\n",
       "#sk-container-id-1 div.sk-toggleable {\n",
       "  /* Default theme specific background. It is overwritten whether we have a\n",
       "  specific estimator or a Pipeline/ColumnTransformer */\n",
       "  background-color: var(--sklearn-color-background);\n",
       "}\n",
       "\n",
       "/* Toggleable label */\n",
       "#sk-container-id-1 label.sk-toggleable__label {\n",
       "  cursor: pointer;\n",
       "  display: block;\n",
       "  width: 100%;\n",
       "  margin-bottom: 0;\n",
       "  padding: 0.5em;\n",
       "  box-sizing: border-box;\n",
       "  text-align: center;\n",
       "}\n",
       "\n",
       "#sk-container-id-1 label.sk-toggleable__label-arrow:before {\n",
       "  /* Arrow on the left of the label */\n",
       "  content: \"▸\";\n",
       "  float: left;\n",
       "  margin-right: 0.25em;\n",
       "  color: var(--sklearn-color-icon);\n",
       "}\n",
       "\n",
       "#sk-container-id-1 label.sk-toggleable__label-arrow:hover:before {\n",
       "  color: var(--sklearn-color-text);\n",
       "}\n",
       "\n",
       "/* Toggleable content - dropdown */\n",
       "\n",
       "#sk-container-id-1 div.sk-toggleable__content {\n",
       "  max-height: 0;\n",
       "  max-width: 0;\n",
       "  overflow: hidden;\n",
       "  text-align: left;\n",
       "  /* unfitted */\n",
       "  background-color: var(--sklearn-color-unfitted-level-0);\n",
       "}\n",
       "\n",
       "#sk-container-id-1 div.sk-toggleable__content.fitted {\n",
       "  /* fitted */\n",
       "  background-color: var(--sklearn-color-fitted-level-0);\n",
       "}\n",
       "\n",
       "#sk-container-id-1 div.sk-toggleable__content pre {\n",
       "  margin: 0.2em;\n",
       "  border-radius: 0.25em;\n",
       "  color: var(--sklearn-color-text);\n",
       "  /* unfitted */\n",
       "  background-color: var(--sklearn-color-unfitted-level-0);\n",
       "}\n",
       "\n",
       "#sk-container-id-1 div.sk-toggleable__content.fitted pre {\n",
       "  /* unfitted */\n",
       "  background-color: var(--sklearn-color-fitted-level-0);\n",
       "}\n",
       "\n",
       "#sk-container-id-1 input.sk-toggleable__control:checked~div.sk-toggleable__content {\n",
       "  /* Expand drop-down */\n",
       "  max-height: 200px;\n",
       "  max-width: 100%;\n",
       "  overflow: auto;\n",
       "}\n",
       "\n",
       "#sk-container-id-1 input.sk-toggleable__control:checked~label.sk-toggleable__label-arrow:before {\n",
       "  content: \"▾\";\n",
       "}\n",
       "\n",
       "/* Pipeline/ColumnTransformer-specific style */\n",
       "\n",
       "#sk-container-id-1 div.sk-label input.sk-toggleable__control:checked~label.sk-toggleable__label {\n",
       "  color: var(--sklearn-color-text);\n",
       "  background-color: var(--sklearn-color-unfitted-level-2);\n",
       "}\n",
       "\n",
       "#sk-container-id-1 div.sk-label.fitted input.sk-toggleable__control:checked~label.sk-toggleable__label {\n",
       "  background-color: var(--sklearn-color-fitted-level-2);\n",
       "}\n",
       "\n",
       "/* Estimator-specific style */\n",
       "\n",
       "/* Colorize estimator box */\n",
       "#sk-container-id-1 div.sk-estimator input.sk-toggleable__control:checked~label.sk-toggleable__label {\n",
       "  /* unfitted */\n",
       "  background-color: var(--sklearn-color-unfitted-level-2);\n",
       "}\n",
       "\n",
       "#sk-container-id-1 div.sk-estimator.fitted input.sk-toggleable__control:checked~label.sk-toggleable__label {\n",
       "  /* fitted */\n",
       "  background-color: var(--sklearn-color-fitted-level-2);\n",
       "}\n",
       "\n",
       "#sk-container-id-1 div.sk-label label.sk-toggleable__label,\n",
       "#sk-container-id-1 div.sk-label label {\n",
       "  /* The background is the default theme color */\n",
       "  color: var(--sklearn-color-text-on-default-background);\n",
       "}\n",
       "\n",
       "/* On hover, darken the color of the background */\n",
       "#sk-container-id-1 div.sk-label:hover label.sk-toggleable__label {\n",
       "  color: var(--sklearn-color-text);\n",
       "  background-color: var(--sklearn-color-unfitted-level-2);\n",
       "}\n",
       "\n",
       "/* Label box, darken color on hover, fitted */\n",
       "#sk-container-id-1 div.sk-label.fitted:hover label.sk-toggleable__label.fitted {\n",
       "  color: var(--sklearn-color-text);\n",
       "  background-color: var(--sklearn-color-fitted-level-2);\n",
       "}\n",
       "\n",
       "/* Estimator label */\n",
       "\n",
       "#sk-container-id-1 div.sk-label label {\n",
       "  font-family: monospace;\n",
       "  font-weight: bold;\n",
       "  display: inline-block;\n",
       "  line-height: 1.2em;\n",
       "}\n",
       "\n",
       "#sk-container-id-1 div.sk-label-container {\n",
       "  text-align: center;\n",
       "}\n",
       "\n",
       "/* Estimator-specific */\n",
       "#sk-container-id-1 div.sk-estimator {\n",
       "  font-family: monospace;\n",
       "  border: 1px dotted var(--sklearn-color-border-box);\n",
       "  border-radius: 0.25em;\n",
       "  box-sizing: border-box;\n",
       "  margin-bottom: 0.5em;\n",
       "  /* unfitted */\n",
       "  background-color: var(--sklearn-color-unfitted-level-0);\n",
       "}\n",
       "\n",
       "#sk-container-id-1 div.sk-estimator.fitted {\n",
       "  /* fitted */\n",
       "  background-color: var(--sklearn-color-fitted-level-0);\n",
       "}\n",
       "\n",
       "/* on hover */\n",
       "#sk-container-id-1 div.sk-estimator:hover {\n",
       "  /* unfitted */\n",
       "  background-color: var(--sklearn-color-unfitted-level-2);\n",
       "}\n",
       "\n",
       "#sk-container-id-1 div.sk-estimator.fitted:hover {\n",
       "  /* fitted */\n",
       "  background-color: var(--sklearn-color-fitted-level-2);\n",
       "}\n",
       "\n",
       "/* Specification for estimator info (e.g. \"i\" and \"?\") */\n",
       "\n",
       "/* Common style for \"i\" and \"?\" */\n",
       "\n",
       ".sk-estimator-doc-link,\n",
       "a:link.sk-estimator-doc-link,\n",
       "a:visited.sk-estimator-doc-link {\n",
       "  float: right;\n",
       "  font-size: smaller;\n",
       "  line-height: 1em;\n",
       "  font-family: monospace;\n",
       "  background-color: var(--sklearn-color-background);\n",
       "  border-radius: 1em;\n",
       "  height: 1em;\n",
       "  width: 1em;\n",
       "  text-decoration: none !important;\n",
       "  margin-left: 1ex;\n",
       "  /* unfitted */\n",
       "  border: var(--sklearn-color-unfitted-level-1) 1pt solid;\n",
       "  color: var(--sklearn-color-unfitted-level-1);\n",
       "}\n",
       "\n",
       ".sk-estimator-doc-link.fitted,\n",
       "a:link.sk-estimator-doc-link.fitted,\n",
       "a:visited.sk-estimator-doc-link.fitted {\n",
       "  /* fitted */\n",
       "  border: var(--sklearn-color-fitted-level-1) 1pt solid;\n",
       "  color: var(--sklearn-color-fitted-level-1);\n",
       "}\n",
       "\n",
       "/* On hover */\n",
       "div.sk-estimator:hover .sk-estimator-doc-link:hover,\n",
       ".sk-estimator-doc-link:hover,\n",
       "div.sk-label-container:hover .sk-estimator-doc-link:hover,\n",
       ".sk-estimator-doc-link:hover {\n",
       "  /* unfitted */\n",
       "  background-color: var(--sklearn-color-unfitted-level-3);\n",
       "  color: var(--sklearn-color-background);\n",
       "  text-decoration: none;\n",
       "}\n",
       "\n",
       "div.sk-estimator.fitted:hover .sk-estimator-doc-link.fitted:hover,\n",
       ".sk-estimator-doc-link.fitted:hover,\n",
       "div.sk-label-container:hover .sk-estimator-doc-link.fitted:hover,\n",
       ".sk-estimator-doc-link.fitted:hover {\n",
       "  /* fitted */\n",
       "  background-color: var(--sklearn-color-fitted-level-3);\n",
       "  color: var(--sklearn-color-background);\n",
       "  text-decoration: none;\n",
       "}\n",
       "\n",
       "/* Span, style for the box shown on hovering the info icon */\n",
       ".sk-estimator-doc-link span {\n",
       "  display: none;\n",
       "  z-index: 9999;\n",
       "  position: relative;\n",
       "  font-weight: normal;\n",
       "  right: .2ex;\n",
       "  padding: .5ex;\n",
       "  margin: .5ex;\n",
       "  width: min-content;\n",
       "  min-width: 20ex;\n",
       "  max-width: 50ex;\n",
       "  color: var(--sklearn-color-text);\n",
       "  box-shadow: 2pt 2pt 4pt #999;\n",
       "  /* unfitted */\n",
       "  background: var(--sklearn-color-unfitted-level-0);\n",
       "  border: .5pt solid var(--sklearn-color-unfitted-level-3);\n",
       "}\n",
       "\n",
       ".sk-estimator-doc-link.fitted span {\n",
       "  /* fitted */\n",
       "  background: var(--sklearn-color-fitted-level-0);\n",
       "  border: var(--sklearn-color-fitted-level-3);\n",
       "}\n",
       "\n",
       ".sk-estimator-doc-link:hover span {\n",
       "  display: block;\n",
       "}\n",
       "\n",
       "/* \"?\"-specific style due to the `<a>` HTML tag */\n",
       "\n",
       "#sk-container-id-1 a.estimator_doc_link {\n",
       "  float: right;\n",
       "  font-size: 1rem;\n",
       "  line-height: 1em;\n",
       "  font-family: monospace;\n",
       "  background-color: var(--sklearn-color-background);\n",
       "  border-radius: 1rem;\n",
       "  height: 1rem;\n",
       "  width: 1rem;\n",
       "  text-decoration: none;\n",
       "  /* unfitted */\n",
       "  color: var(--sklearn-color-unfitted-level-1);\n",
       "  border: var(--sklearn-color-unfitted-level-1) 1pt solid;\n",
       "}\n",
       "\n",
       "#sk-container-id-1 a.estimator_doc_link.fitted {\n",
       "  /* fitted */\n",
       "  border: var(--sklearn-color-fitted-level-1) 1pt solid;\n",
       "  color: var(--sklearn-color-fitted-level-1);\n",
       "}\n",
       "\n",
       "/* On hover */\n",
       "#sk-container-id-1 a.estimator_doc_link:hover {\n",
       "  /* unfitted */\n",
       "  background-color: var(--sklearn-color-unfitted-level-3);\n",
       "  color: var(--sklearn-color-background);\n",
       "  text-decoration: none;\n",
       "}\n",
       "\n",
       "#sk-container-id-1 a.estimator_doc_link.fitted:hover {\n",
       "  /* fitted */\n",
       "  background-color: var(--sklearn-color-fitted-level-3);\n",
       "}\n",
       "</style><div id=\"sk-container-id-1\" class=\"sk-top-container\"><div class=\"sk-text-repr-fallback\"><pre>LinearRegression(fit_intercept=False, positive=True)</pre><b>In a Jupyter environment, please rerun this cell to show the HTML representation or trust the notebook. <br />On GitHub, the HTML representation is unable to render, please try loading this page with nbviewer.org.</b></div><div class=\"sk-container\" hidden><div class=\"sk-item\"><div class=\"sk-estimator fitted sk-toggleable\"><input class=\"sk-toggleable__control sk-hidden--visually\" id=\"sk-estimator-id-1\" type=\"checkbox\" checked><label for=\"sk-estimator-id-1\" class=\"sk-toggleable__label fitted sk-toggleable__label-arrow fitted\">&nbsp;&nbsp;LinearRegression<a class=\"sk-estimator-doc-link fitted\" rel=\"noreferrer\" target=\"_blank\" href=\"https://scikit-learn.org/1.5/modules/generated/sklearn.linear_model.LinearRegression.html\">?<span>Documentation for LinearRegression</span></a><span class=\"sk-estimator-doc-link fitted\">i<span>Fitted</span></span></label><div class=\"sk-toggleable__content fitted\"><pre>LinearRegression(fit_intercept=False, positive=True)</pre></div> </div></div></div></div>"
      ],
      "text/plain": [
       "LinearRegression(fit_intercept=False, positive=True)"
      ]
     },
     "execution_count": 67,
     "metadata": {},
     "output_type": "execute_result"
    }
   ],
   "source": [
    "stacking_model = LinearRegression(positive=True, fit_intercept=False)\n",
    "stacking_model.fit(\n",
    "    pred_wide_val[ensemble_forecasts], pred_wide_val[\"energy_consumption\"]\n",
    ")"
   ]
  },
  {
   "cell_type": "code",
   "execution_count": 68,
   "id": "a29135a1-c3ac-462a-8e9a-2258fed1d421",
   "metadata": {},
   "outputs": [
    {
     "data": {
      "text/html": [
       "<div>\n",
       "<style scoped>\n",
       "    .dataframe tbody tr th:only-of-type {\n",
       "        vertical-align: middle;\n",
       "    }\n",
       "\n",
       "    .dataframe tbody tr th {\n",
       "        vertical-align: top;\n",
       "    }\n",
       "\n",
       "    .dataframe thead th {\n",
       "        text-align: right;\n",
       "    }\n",
       "</style>\n",
       "<table border=\"1\" class=\"dataframe\">\n",
       "  <thead>\n",
       "    <tr style=\"text-align: right;\">\n",
       "      <th></th>\n",
       "      <th>Forecast</th>\n",
       "      <th>Weights</th>\n",
       "    </tr>\n",
       "  </thead>\n",
       "  <tbody>\n",
       "    <tr>\n",
       "      <th>3</th>\n",
       "      <td>LightGBM</td>\n",
       "      <td>0.4180</td>\n",
       "    </tr>\n",
       "    <tr>\n",
       "      <th>2</th>\n",
       "      <td>Lasso Regression_auto_stat</td>\n",
       "      <td>0.2715</td>\n",
       "    </tr>\n",
       "    <tr>\n",
       "      <th>1</th>\n",
       "      <td>Lasso Regression</td>\n",
       "      <td>0.2162</td>\n",
       "    </tr>\n",
       "    <tr>\n",
       "      <th>4</th>\n",
       "      <td>LightGBM_auto_stat</td>\n",
       "      <td>0.1268</td>\n",
       "    </tr>\n",
       "    <tr>\n",
       "      <th>0</th>\n",
       "      <td>FFT</td>\n",
       "      <td>0.0000</td>\n",
       "    </tr>\n",
       "    <tr>\n",
       "      <th>5</th>\n",
       "      <td>Theta</td>\n",
       "      <td>0.0000</td>\n",
       "    </tr>\n",
       "    <tr>\n",
       "      <th>6</th>\n",
       "      <td>XGB Random Forest</td>\n",
       "      <td>0.0000</td>\n",
       "    </tr>\n",
       "    <tr>\n",
       "      <th>7</th>\n",
       "      <td>XGB Random Forest_auto_stat</td>\n",
       "      <td>0.0000</td>\n",
       "    </tr>\n",
       "  </tbody>\n",
       "</table>\n",
       "</div>"
      ],
      "text/plain": [
       "                      Forecast  Weights\n",
       "3                     LightGBM   0.4180\n",
       "2   Lasso Regression_auto_stat   0.2715\n",
       "1             Lasso Regression   0.2162\n",
       "4           LightGBM_auto_stat   0.1268\n",
       "0                          FFT   0.0000\n",
       "5                        Theta   0.0000\n",
       "6            XGB Random Forest   0.0000\n",
       "7  XGB Random Forest_auto_stat   0.0000"
      ]
     },
     "execution_count": 68,
     "metadata": {},
     "output_type": "execute_result"
    }
   ],
   "source": [
    "pd.DataFrame({\"Forecast\": ensemble_forecasts, \"Weights\": stacking_model.coef_}\n",
    "             ).round(4).sort_values(\"Weights\", ascending=False)"
   ]
  },
  {
   "cell_type": "code",
   "execution_count": 69,
   "id": "f5ff7fca-fd4c-4716-b560-4d3244d9949e",
   "metadata": {},
   "outputs": [],
   "source": [
    "pred_wide_test[\"linear_reg_blending\"] = stacking_model.predict(\n",
    "    pred_wide_test[ensemble_forecasts]\n",
    ")"
   ]
  },
  {
   "cell_type": "code",
   "execution_count": 70,
   "id": "690f7cdc-36df-49e8-b23e-fe0ef234cb0a",
   "metadata": {},
   "outputs": [
    {
     "data": {
      "application/vnd.jupyter.widget-view+json": {
       "model_id": "7b428324118b4e97a7c724151b970cea",
       "version_major": 2,
       "version_minor": 0
      },
      "text/plain": [
       "  0%|          | 0/150 [00:00<?, ?it/s]"
      ]
     },
     "metadata": {},
     "output_type": "display_data"
    },
    {
     "name": "stdout",
     "output_type": "stream",
     "text": [
      "{'Algorithm': 'linear_reg_blending', 'MAE': 0.07548698510696149, 'MSE': 0.02446766144238813, 'meanMASE': 0.9255525743936289, 'Forecast Bias': 4.357424212410399}\n"
     ]
    }
   ],
   "source": [
    "agg_metric_ = evaluate_ensemble(\n",
    "    pred_wide_test,\n",
    "    train_val_target,\n",
    "    \"linear_reg_blending\",\n",
    "    \"energy_consumption\",\n",
    "    \"LCLid\",\n",
    ")\n",
    "print(agg_metric_)\n",
    "agg_metrics_l.append(agg_metric_)"
   ]
  },
  {
   "cell_type": "code",
   "execution_count": 71,
   "id": "0c3b8021-62d9-401c-9b29-98689237a007",
   "metadata": {},
   "outputs": [
    {
     "data": {
      "text/html": [
       "<style type=\"text/css\">\n",
       "#T_4806e_row1_col4 {\n",
       "  color: black;\n",
       "  background-color: lightgreen;\n",
       "}\n",
       "#T_4806e_row7_col1, #T_4806e_row7_col3, #T_4806e_row8_col2 {\n",
       "  background-color: lightgreen;\n",
       "}\n",
       "</style>\n",
       "<table id=\"T_4806e\">\n",
       "  <thead>\n",
       "    <tr>\n",
       "      <th class=\"blank level0\" >&nbsp;</th>\n",
       "      <th id=\"T_4806e_level0_col0\" class=\"col_heading level0 col0\" >Algorithm</th>\n",
       "      <th id=\"T_4806e_level0_col1\" class=\"col_heading level0 col1\" >MAE</th>\n",
       "      <th id=\"T_4806e_level0_col2\" class=\"col_heading level0 col2\" >MSE</th>\n",
       "      <th id=\"T_4806e_level0_col3\" class=\"col_heading level0 col3\" >meanMASE</th>\n",
       "      <th id=\"T_4806e_level0_col4\" class=\"col_heading level0 col4\" >Forecast Bias</th>\n",
       "    </tr>\n",
       "  </thead>\n",
       "  <tbody>\n",
       "    <tr>\n",
       "      <th id=\"T_4806e_level0_row0\" class=\"row_heading level0 row0\" >0</th>\n",
       "      <td id=\"T_4806e_row0_col0\" class=\"data row0 col0\" >LightGBM</td>\n",
       "      <td id=\"T_4806e_row0_col1\" class=\"data row0 col1\" >0.0750</td>\n",
       "      <td id=\"T_4806e_row0_col2\" class=\"data row0 col2\" >0.0268</td>\n",
       "      <td id=\"T_4806e_row0_col3\" class=\"data row0 col3\" >0.9141</td>\n",
       "      <td id=\"T_4806e_row0_col4\" class=\"data row0 col4\" >2.62%</td>\n",
       "    </tr>\n",
       "    <tr>\n",
       "      <th id=\"T_4806e_level0_row1\" class=\"row_heading level0 row1\" >1</th>\n",
       "      <td id=\"T_4806e_row1_col0\" class=\"data row1 col0\" >best_fit</td>\n",
       "      <td id=\"T_4806e_row1_col1\" class=\"data row1 col1\" >0.0739</td>\n",
       "      <td id=\"T_4806e_row1_col2\" class=\"data row1 col2\" >0.0266</td>\n",
       "      <td id=\"T_4806e_row1_col3\" class=\"data row1 col3\" >0.8968</td>\n",
       "      <td id=\"T_4806e_row1_col4\" class=\"data row1 col4\" >0.23%</td>\n",
       "    </tr>\n",
       "    <tr>\n",
       "      <th id=\"T_4806e_level0_row2\" class=\"row_heading level0 row2\" >2</th>\n",
       "      <td id=\"T_4806e_row2_col0\" class=\"data row2 col0\" >median_ensemble</td>\n",
       "      <td id=\"T_4806e_row2_col1\" class=\"data row2 col1\" >0.0766</td>\n",
       "      <td id=\"T_4806e_row2_col2\" class=\"data row2 col2\" >0.0278</td>\n",
       "      <td id=\"T_4806e_row2_col3\" class=\"data row2 col3\" >0.9284</td>\n",
       "      <td id=\"T_4806e_row2_col4\" class=\"data row2 col4\" >-0.90%</td>\n",
       "    </tr>\n",
       "    <tr>\n",
       "      <th id=\"T_4806e_level0_row3\" class=\"row_heading level0 row3\" >3</th>\n",
       "      <td id=\"T_4806e_row3_col0\" class=\"data row3 col0\" >average_ensemble</td>\n",
       "      <td id=\"T_4806e_row3_col1\" class=\"data row3 col1\" >0.0826</td>\n",
       "      <td id=\"T_4806e_row3_col2\" class=\"data row3 col2\" >0.0284</td>\n",
       "      <td id=\"T_4806e_row3_col3\" class=\"data row3 col3\" >1.0111</td>\n",
       "      <td id=\"T_4806e_row3_col4\" class=\"data row3 col4\" >1.50%</td>\n",
       "    </tr>\n",
       "    <tr>\n",
       "      <th id=\"T_4806e_level0_row4\" class=\"row_heading level0 row4\" >4</th>\n",
       "      <td id=\"T_4806e_row4_col0\" class=\"data row4 col0\" >greedy_ensemble</td>\n",
       "      <td id=\"T_4806e_row4_col1\" class=\"data row4 col1\" >0.0733</td>\n",
       "      <td id=\"T_4806e_row4_col2\" class=\"data row4 col2\" >0.0249</td>\n",
       "      <td id=\"T_4806e_row4_col3\" class=\"data row4 col3\" >0.8946</td>\n",
       "      <td id=\"T_4806e_row4_col4\" class=\"data row4 col4\" >0.81%</td>\n",
       "    </tr>\n",
       "    <tr>\n",
       "      <th id=\"T_4806e_level0_row5\" class=\"row_heading level0 row5\" >5</th>\n",
       "      <td id=\"T_4806e_row5_col0\" class=\"data row5 col0\" >stochastic_hillclimb__ensemble</td>\n",
       "      <td id=\"T_4806e_row5_col1\" class=\"data row5 col1\" >0.0751</td>\n",
       "      <td id=\"T_4806e_row5_col2\" class=\"data row5 col2\" >0.0257</td>\n",
       "      <td id=\"T_4806e_row5_col3\" class=\"data row5 col3\" >0.9203</td>\n",
       "      <td id=\"T_4806e_row5_col4\" class=\"data row5 col4\" >1.21%</td>\n",
       "    </tr>\n",
       "    <tr>\n",
       "      <th id=\"T_4806e_level0_row6\" class=\"row_heading level0 row6\" >6</th>\n",
       "      <td id=\"T_4806e_row6_col0\" class=\"data row6 col0\" >simulated_annealing_ensemble</td>\n",
       "      <td id=\"T_4806e_row6_col1\" class=\"data row6 col1\" >0.0740</td>\n",
       "      <td id=\"T_4806e_row6_col2\" class=\"data row6 col2\" >0.0252</td>\n",
       "      <td id=\"T_4806e_row6_col3\" class=\"data row6 col3\" >0.9055</td>\n",
       "      <td id=\"T_4806e_row6_col4\" class=\"data row6 col4\" >-0.41%</td>\n",
       "    </tr>\n",
       "    <tr>\n",
       "      <th id=\"T_4806e_level0_row7\" class=\"row_heading level0 row7\" >7</th>\n",
       "      <td id=\"T_4806e_row7_col0\" class=\"data row7 col0\" >optimal_combination_ensemble</td>\n",
       "      <td id=\"T_4806e_row7_col1\" class=\"data row7 col1\" >0.0730</td>\n",
       "      <td id=\"T_4806e_row7_col2\" class=\"data row7 col2\" >0.0247</td>\n",
       "      <td id=\"T_4806e_row7_col3\" class=\"data row7 col3\" >0.8939</td>\n",
       "      <td id=\"T_4806e_row7_col4\" class=\"data row7 col4\" >0.85%</td>\n",
       "    </tr>\n",
       "    <tr>\n",
       "      <th id=\"T_4806e_level0_row8\" class=\"row_heading level0 row8\" >8</th>\n",
       "      <td id=\"T_4806e_row8_col0\" class=\"data row8 col0\" >linear_reg_blending</td>\n",
       "      <td id=\"T_4806e_row8_col1\" class=\"data row8 col1\" >0.0755</td>\n",
       "      <td id=\"T_4806e_row8_col2\" class=\"data row8 col2\" >0.0245</td>\n",
       "      <td id=\"T_4806e_row8_col3\" class=\"data row8 col3\" >0.9256</td>\n",
       "      <td id=\"T_4806e_row8_col4\" class=\"data row8 col4\" >4.36%</td>\n",
       "    </tr>\n",
       "  </tbody>\n",
       "</table>\n"
      ],
      "text/plain": [
       "<pandas.io.formats.style.Styler at 0x7fc71d2d2e90>"
      ]
     },
     "metadata": {},
     "output_type": "display_data"
    }
   ],
   "source": [
    "display_metrics(agg_metrics_l)"
   ]
  },
  {
   "cell_type": "markdown",
   "id": "09c9a0f4-19a8-4da1-8027-47b27a781902",
   "metadata": {},
   "source": [
    "### Ridge Regression"
   ]
  },
  {
   "cell_type": "code",
   "execution_count": 72,
   "id": "40710318-4a08-4244-8597-ebba5534d543",
   "metadata": {},
   "outputs": [
    {
     "data": {
      "text/html": [
       "<style>#sk-container-id-2 {\n",
       "  /* Definition of color scheme common for light and dark mode */\n",
       "  --sklearn-color-text: black;\n",
       "  --sklearn-color-line: gray;\n",
       "  /* Definition of color scheme for unfitted estimators */\n",
       "  --sklearn-color-unfitted-level-0: #fff5e6;\n",
       "  --sklearn-color-unfitted-level-1: #f6e4d2;\n",
       "  --sklearn-color-unfitted-level-2: #ffe0b3;\n",
       "  --sklearn-color-unfitted-level-3: chocolate;\n",
       "  /* Definition of color scheme for fitted estimators */\n",
       "  --sklearn-color-fitted-level-0: #f0f8ff;\n",
       "  --sklearn-color-fitted-level-1: #d4ebff;\n",
       "  --sklearn-color-fitted-level-2: #b3dbfd;\n",
       "  --sklearn-color-fitted-level-3: cornflowerblue;\n",
       "\n",
       "  /* Specific color for light theme */\n",
       "  --sklearn-color-text-on-default-background: var(--sg-text-color, var(--theme-code-foreground, var(--jp-content-font-color1, black)));\n",
       "  --sklearn-color-background: var(--sg-background-color, var(--theme-background, var(--jp-layout-color0, white)));\n",
       "  --sklearn-color-border-box: var(--sg-text-color, var(--theme-code-foreground, var(--jp-content-font-color1, black)));\n",
       "  --sklearn-color-icon: #696969;\n",
       "\n",
       "  @media (prefers-color-scheme: dark) {\n",
       "    /* Redefinition of color scheme for dark theme */\n",
       "    --sklearn-color-text-on-default-background: var(--sg-text-color, var(--theme-code-foreground, var(--jp-content-font-color1, white)));\n",
       "    --sklearn-color-background: var(--sg-background-color, var(--theme-background, var(--jp-layout-color0, #111)));\n",
       "    --sklearn-color-border-box: var(--sg-text-color, var(--theme-code-foreground, var(--jp-content-font-color1, white)));\n",
       "    --sklearn-color-icon: #878787;\n",
       "  }\n",
       "}\n",
       "\n",
       "#sk-container-id-2 {\n",
       "  color: var(--sklearn-color-text);\n",
       "}\n",
       "\n",
       "#sk-container-id-2 pre {\n",
       "  padding: 0;\n",
       "}\n",
       "\n",
       "#sk-container-id-2 input.sk-hidden--visually {\n",
       "  border: 0;\n",
       "  clip: rect(1px 1px 1px 1px);\n",
       "  clip: rect(1px, 1px, 1px, 1px);\n",
       "  height: 1px;\n",
       "  margin: -1px;\n",
       "  overflow: hidden;\n",
       "  padding: 0;\n",
       "  position: absolute;\n",
       "  width: 1px;\n",
       "}\n",
       "\n",
       "#sk-container-id-2 div.sk-dashed-wrapped {\n",
       "  border: 1px dashed var(--sklearn-color-line);\n",
       "  margin: 0 0.4em 0.5em 0.4em;\n",
       "  box-sizing: border-box;\n",
       "  padding-bottom: 0.4em;\n",
       "  background-color: var(--sklearn-color-background);\n",
       "}\n",
       "\n",
       "#sk-container-id-2 div.sk-container {\n",
       "  /* jupyter's `normalize.less` sets `[hidden] { display: none; }`\n",
       "     but bootstrap.min.css set `[hidden] { display: none !important; }`\n",
       "     so we also need the `!important` here to be able to override the\n",
       "     default hidden behavior on the sphinx rendered scikit-learn.org.\n",
       "     See: https://github.com/scikit-learn/scikit-learn/issues/21755 */\n",
       "  display: inline-block !important;\n",
       "  position: relative;\n",
       "}\n",
       "\n",
       "#sk-container-id-2 div.sk-text-repr-fallback {\n",
       "  display: none;\n",
       "}\n",
       "\n",
       "div.sk-parallel-item,\n",
       "div.sk-serial,\n",
       "div.sk-item {\n",
       "  /* draw centered vertical line to link estimators */\n",
       "  background-image: linear-gradient(var(--sklearn-color-text-on-default-background), var(--sklearn-color-text-on-default-background));\n",
       "  background-size: 2px 100%;\n",
       "  background-repeat: no-repeat;\n",
       "  background-position: center center;\n",
       "}\n",
       "\n",
       "/* Parallel-specific style estimator block */\n",
       "\n",
       "#sk-container-id-2 div.sk-parallel-item::after {\n",
       "  content: \"\";\n",
       "  width: 100%;\n",
       "  border-bottom: 2px solid var(--sklearn-color-text-on-default-background);\n",
       "  flex-grow: 1;\n",
       "}\n",
       "\n",
       "#sk-container-id-2 div.sk-parallel {\n",
       "  display: flex;\n",
       "  align-items: stretch;\n",
       "  justify-content: center;\n",
       "  background-color: var(--sklearn-color-background);\n",
       "  position: relative;\n",
       "}\n",
       "\n",
       "#sk-container-id-2 div.sk-parallel-item {\n",
       "  display: flex;\n",
       "  flex-direction: column;\n",
       "}\n",
       "\n",
       "#sk-container-id-2 div.sk-parallel-item:first-child::after {\n",
       "  align-self: flex-end;\n",
       "  width: 50%;\n",
       "}\n",
       "\n",
       "#sk-container-id-2 div.sk-parallel-item:last-child::after {\n",
       "  align-self: flex-start;\n",
       "  width: 50%;\n",
       "}\n",
       "\n",
       "#sk-container-id-2 div.sk-parallel-item:only-child::after {\n",
       "  width: 0;\n",
       "}\n",
       "\n",
       "/* Serial-specific style estimator block */\n",
       "\n",
       "#sk-container-id-2 div.sk-serial {\n",
       "  display: flex;\n",
       "  flex-direction: column;\n",
       "  align-items: center;\n",
       "  background-color: var(--sklearn-color-background);\n",
       "  padding-right: 1em;\n",
       "  padding-left: 1em;\n",
       "}\n",
       "\n",
       "\n",
       "/* Toggleable style: style used for estimator/Pipeline/ColumnTransformer box that is\n",
       "clickable and can be expanded/collapsed.\n",
       "- Pipeline and ColumnTransformer use this feature and define the default style\n",
       "- Estimators will overwrite some part of the style using the `sk-estimator` class\n",
       "*/\n",
       "\n",
       "/* Pipeline and ColumnTransformer style (default) */\n",
       "\n",
       "#sk-container-id-2 div.sk-toggleable {\n",
       "  /* Default theme specific background. It is overwritten whether we have a\n",
       "  specific estimator or a Pipeline/ColumnTransformer */\n",
       "  background-color: var(--sklearn-color-background);\n",
       "}\n",
       "\n",
       "/* Toggleable label */\n",
       "#sk-container-id-2 label.sk-toggleable__label {\n",
       "  cursor: pointer;\n",
       "  display: block;\n",
       "  width: 100%;\n",
       "  margin-bottom: 0;\n",
       "  padding: 0.5em;\n",
       "  box-sizing: border-box;\n",
       "  text-align: center;\n",
       "}\n",
       "\n",
       "#sk-container-id-2 label.sk-toggleable__label-arrow:before {\n",
       "  /* Arrow on the left of the label */\n",
       "  content: \"▸\";\n",
       "  float: left;\n",
       "  margin-right: 0.25em;\n",
       "  color: var(--sklearn-color-icon);\n",
       "}\n",
       "\n",
       "#sk-container-id-2 label.sk-toggleable__label-arrow:hover:before {\n",
       "  color: var(--sklearn-color-text);\n",
       "}\n",
       "\n",
       "/* Toggleable content - dropdown */\n",
       "\n",
       "#sk-container-id-2 div.sk-toggleable__content {\n",
       "  max-height: 0;\n",
       "  max-width: 0;\n",
       "  overflow: hidden;\n",
       "  text-align: left;\n",
       "  /* unfitted */\n",
       "  background-color: var(--sklearn-color-unfitted-level-0);\n",
       "}\n",
       "\n",
       "#sk-container-id-2 div.sk-toggleable__content.fitted {\n",
       "  /* fitted */\n",
       "  background-color: var(--sklearn-color-fitted-level-0);\n",
       "}\n",
       "\n",
       "#sk-container-id-2 div.sk-toggleable__content pre {\n",
       "  margin: 0.2em;\n",
       "  border-radius: 0.25em;\n",
       "  color: var(--sklearn-color-text);\n",
       "  /* unfitted */\n",
       "  background-color: var(--sklearn-color-unfitted-level-0);\n",
       "}\n",
       "\n",
       "#sk-container-id-2 div.sk-toggleable__content.fitted pre {\n",
       "  /* unfitted */\n",
       "  background-color: var(--sklearn-color-fitted-level-0);\n",
       "}\n",
       "\n",
       "#sk-container-id-2 input.sk-toggleable__control:checked~div.sk-toggleable__content {\n",
       "  /* Expand drop-down */\n",
       "  max-height: 200px;\n",
       "  max-width: 100%;\n",
       "  overflow: auto;\n",
       "}\n",
       "\n",
       "#sk-container-id-2 input.sk-toggleable__control:checked~label.sk-toggleable__label-arrow:before {\n",
       "  content: \"▾\";\n",
       "}\n",
       "\n",
       "/* Pipeline/ColumnTransformer-specific style */\n",
       "\n",
       "#sk-container-id-2 div.sk-label input.sk-toggleable__control:checked~label.sk-toggleable__label {\n",
       "  color: var(--sklearn-color-text);\n",
       "  background-color: var(--sklearn-color-unfitted-level-2);\n",
       "}\n",
       "\n",
       "#sk-container-id-2 div.sk-label.fitted input.sk-toggleable__control:checked~label.sk-toggleable__label {\n",
       "  background-color: var(--sklearn-color-fitted-level-2);\n",
       "}\n",
       "\n",
       "/* Estimator-specific style */\n",
       "\n",
       "/* Colorize estimator box */\n",
       "#sk-container-id-2 div.sk-estimator input.sk-toggleable__control:checked~label.sk-toggleable__label {\n",
       "  /* unfitted */\n",
       "  background-color: var(--sklearn-color-unfitted-level-2);\n",
       "}\n",
       "\n",
       "#sk-container-id-2 div.sk-estimator.fitted input.sk-toggleable__control:checked~label.sk-toggleable__label {\n",
       "  /* fitted */\n",
       "  background-color: var(--sklearn-color-fitted-level-2);\n",
       "}\n",
       "\n",
       "#sk-container-id-2 div.sk-label label.sk-toggleable__label,\n",
       "#sk-container-id-2 div.sk-label label {\n",
       "  /* The background is the default theme color */\n",
       "  color: var(--sklearn-color-text-on-default-background);\n",
       "}\n",
       "\n",
       "/* On hover, darken the color of the background */\n",
       "#sk-container-id-2 div.sk-label:hover label.sk-toggleable__label {\n",
       "  color: var(--sklearn-color-text);\n",
       "  background-color: var(--sklearn-color-unfitted-level-2);\n",
       "}\n",
       "\n",
       "/* Label box, darken color on hover, fitted */\n",
       "#sk-container-id-2 div.sk-label.fitted:hover label.sk-toggleable__label.fitted {\n",
       "  color: var(--sklearn-color-text);\n",
       "  background-color: var(--sklearn-color-fitted-level-2);\n",
       "}\n",
       "\n",
       "/* Estimator label */\n",
       "\n",
       "#sk-container-id-2 div.sk-label label {\n",
       "  font-family: monospace;\n",
       "  font-weight: bold;\n",
       "  display: inline-block;\n",
       "  line-height: 1.2em;\n",
       "}\n",
       "\n",
       "#sk-container-id-2 div.sk-label-container {\n",
       "  text-align: center;\n",
       "}\n",
       "\n",
       "/* Estimator-specific */\n",
       "#sk-container-id-2 div.sk-estimator {\n",
       "  font-family: monospace;\n",
       "  border: 1px dotted var(--sklearn-color-border-box);\n",
       "  border-radius: 0.25em;\n",
       "  box-sizing: border-box;\n",
       "  margin-bottom: 0.5em;\n",
       "  /* unfitted */\n",
       "  background-color: var(--sklearn-color-unfitted-level-0);\n",
       "}\n",
       "\n",
       "#sk-container-id-2 div.sk-estimator.fitted {\n",
       "  /* fitted */\n",
       "  background-color: var(--sklearn-color-fitted-level-0);\n",
       "}\n",
       "\n",
       "/* on hover */\n",
       "#sk-container-id-2 div.sk-estimator:hover {\n",
       "  /* unfitted */\n",
       "  background-color: var(--sklearn-color-unfitted-level-2);\n",
       "}\n",
       "\n",
       "#sk-container-id-2 div.sk-estimator.fitted:hover {\n",
       "  /* fitted */\n",
       "  background-color: var(--sklearn-color-fitted-level-2);\n",
       "}\n",
       "\n",
       "/* Specification for estimator info (e.g. \"i\" and \"?\") */\n",
       "\n",
       "/* Common style for \"i\" and \"?\" */\n",
       "\n",
       ".sk-estimator-doc-link,\n",
       "a:link.sk-estimator-doc-link,\n",
       "a:visited.sk-estimator-doc-link {\n",
       "  float: right;\n",
       "  font-size: smaller;\n",
       "  line-height: 1em;\n",
       "  font-family: monospace;\n",
       "  background-color: var(--sklearn-color-background);\n",
       "  border-radius: 1em;\n",
       "  height: 1em;\n",
       "  width: 1em;\n",
       "  text-decoration: none !important;\n",
       "  margin-left: 1ex;\n",
       "  /* unfitted */\n",
       "  border: var(--sklearn-color-unfitted-level-1) 1pt solid;\n",
       "  color: var(--sklearn-color-unfitted-level-1);\n",
       "}\n",
       "\n",
       ".sk-estimator-doc-link.fitted,\n",
       "a:link.sk-estimator-doc-link.fitted,\n",
       "a:visited.sk-estimator-doc-link.fitted {\n",
       "  /* fitted */\n",
       "  border: var(--sklearn-color-fitted-level-1) 1pt solid;\n",
       "  color: var(--sklearn-color-fitted-level-1);\n",
       "}\n",
       "\n",
       "/* On hover */\n",
       "div.sk-estimator:hover .sk-estimator-doc-link:hover,\n",
       ".sk-estimator-doc-link:hover,\n",
       "div.sk-label-container:hover .sk-estimator-doc-link:hover,\n",
       ".sk-estimator-doc-link:hover {\n",
       "  /* unfitted */\n",
       "  background-color: var(--sklearn-color-unfitted-level-3);\n",
       "  color: var(--sklearn-color-background);\n",
       "  text-decoration: none;\n",
       "}\n",
       "\n",
       "div.sk-estimator.fitted:hover .sk-estimator-doc-link.fitted:hover,\n",
       ".sk-estimator-doc-link.fitted:hover,\n",
       "div.sk-label-container:hover .sk-estimator-doc-link.fitted:hover,\n",
       ".sk-estimator-doc-link.fitted:hover {\n",
       "  /* fitted */\n",
       "  background-color: var(--sklearn-color-fitted-level-3);\n",
       "  color: var(--sklearn-color-background);\n",
       "  text-decoration: none;\n",
       "}\n",
       "\n",
       "/* Span, style for the box shown on hovering the info icon */\n",
       ".sk-estimator-doc-link span {\n",
       "  display: none;\n",
       "  z-index: 9999;\n",
       "  position: relative;\n",
       "  font-weight: normal;\n",
       "  right: .2ex;\n",
       "  padding: .5ex;\n",
       "  margin: .5ex;\n",
       "  width: min-content;\n",
       "  min-width: 20ex;\n",
       "  max-width: 50ex;\n",
       "  color: var(--sklearn-color-text);\n",
       "  box-shadow: 2pt 2pt 4pt #999;\n",
       "  /* unfitted */\n",
       "  background: var(--sklearn-color-unfitted-level-0);\n",
       "  border: .5pt solid var(--sklearn-color-unfitted-level-3);\n",
       "}\n",
       "\n",
       ".sk-estimator-doc-link.fitted span {\n",
       "  /* fitted */\n",
       "  background: var(--sklearn-color-fitted-level-0);\n",
       "  border: var(--sklearn-color-fitted-level-3);\n",
       "}\n",
       "\n",
       ".sk-estimator-doc-link:hover span {\n",
       "  display: block;\n",
       "}\n",
       "\n",
       "/* \"?\"-specific style due to the `<a>` HTML tag */\n",
       "\n",
       "#sk-container-id-2 a.estimator_doc_link {\n",
       "  float: right;\n",
       "  font-size: 1rem;\n",
       "  line-height: 1em;\n",
       "  font-family: monospace;\n",
       "  background-color: var(--sklearn-color-background);\n",
       "  border-radius: 1rem;\n",
       "  height: 1rem;\n",
       "  width: 1rem;\n",
       "  text-decoration: none;\n",
       "  /* unfitted */\n",
       "  color: var(--sklearn-color-unfitted-level-1);\n",
       "  border: var(--sklearn-color-unfitted-level-1) 1pt solid;\n",
       "}\n",
       "\n",
       "#sk-container-id-2 a.estimator_doc_link.fitted {\n",
       "  /* fitted */\n",
       "  border: var(--sklearn-color-fitted-level-1) 1pt solid;\n",
       "  color: var(--sklearn-color-fitted-level-1);\n",
       "}\n",
       "\n",
       "/* On hover */\n",
       "#sk-container-id-2 a.estimator_doc_link:hover {\n",
       "  /* unfitted */\n",
       "  background-color: var(--sklearn-color-unfitted-level-3);\n",
       "  color: var(--sklearn-color-background);\n",
       "  text-decoration: none;\n",
       "}\n",
       "\n",
       "#sk-container-id-2 a.estimator_doc_link.fitted:hover {\n",
       "  /* fitted */\n",
       "  background-color: var(--sklearn-color-fitted-level-3);\n",
       "}\n",
       "</style><div id=\"sk-container-id-2\" class=\"sk-top-container\"><div class=\"sk-text-repr-fallback\"><pre>RidgeCV()</pre><b>In a Jupyter environment, please rerun this cell to show the HTML representation or trust the notebook. <br />On GitHub, the HTML representation is unable to render, please try loading this page with nbviewer.org.</b></div><div class=\"sk-container\" hidden><div class=\"sk-item\"><div class=\"sk-estimator fitted sk-toggleable\"><input class=\"sk-toggleable__control sk-hidden--visually\" id=\"sk-estimator-id-2\" type=\"checkbox\" checked><label for=\"sk-estimator-id-2\" class=\"sk-toggleable__label fitted sk-toggleable__label-arrow fitted\">&nbsp;&nbsp;RidgeCV<a class=\"sk-estimator-doc-link fitted\" rel=\"noreferrer\" target=\"_blank\" href=\"https://scikit-learn.org/1.5/modules/generated/sklearn.linear_model.RidgeCV.html\">?<span>Documentation for RidgeCV</span></a><span class=\"sk-estimator-doc-link fitted\">i<span>Fitted</span></span></label><div class=\"sk-toggleable__content fitted\"><pre>RidgeCV()</pre></div> </div></div></div></div>"
      ],
      "text/plain": [
       "RidgeCV()"
      ]
     },
     "execution_count": 72,
     "metadata": {},
     "output_type": "execute_result"
    }
   ],
   "source": [
    "stacking_model = RidgeCV()\n",
    "stacking_model.fit(\n",
    "    pred_wide_val[ensemble_forecasts], pred_wide_val[\"energy_consumption\"]\n",
    ")"
   ]
  },
  {
   "cell_type": "code",
   "execution_count": 73,
   "id": "250110eb-7635-4863-9da8-72fa8a2d0bb2",
   "metadata": {},
   "outputs": [
    {
     "data": {
      "text/html": [
       "<div>\n",
       "<style scoped>\n",
       "    .dataframe tbody tr th:only-of-type {\n",
       "        vertical-align: middle;\n",
       "    }\n",
       "\n",
       "    .dataframe tbody tr th {\n",
       "        vertical-align: top;\n",
       "    }\n",
       "\n",
       "    .dataframe thead th {\n",
       "        text-align: right;\n",
       "    }\n",
       "</style>\n",
       "<table border=\"1\" class=\"dataframe\">\n",
       "  <thead>\n",
       "    <tr style=\"text-align: right;\">\n",
       "      <th></th>\n",
       "      <th>Forecast</th>\n",
       "      <th>Weights</th>\n",
       "    </tr>\n",
       "  </thead>\n",
       "  <tbody>\n",
       "    <tr>\n",
       "      <th>3</th>\n",
       "      <td>LightGBM</td>\n",
       "      <td>0.4724</td>\n",
       "    </tr>\n",
       "    <tr>\n",
       "      <th>1</th>\n",
       "      <td>Lasso Regression</td>\n",
       "      <td>0.3335</td>\n",
       "    </tr>\n",
       "    <tr>\n",
       "      <th>4</th>\n",
       "      <td>LightGBM_auto_stat</td>\n",
       "      <td>0.2556</td>\n",
       "    </tr>\n",
       "    <tr>\n",
       "      <th>2</th>\n",
       "      <td>Lasso Regression_auto_stat</td>\n",
       "      <td>0.2336</td>\n",
       "    </tr>\n",
       "    <tr>\n",
       "      <th>0</th>\n",
       "      <td>FFT</td>\n",
       "      <td>-0.0225</td>\n",
       "    </tr>\n",
       "    <tr>\n",
       "      <th>5</th>\n",
       "      <td>Theta</td>\n",
       "      <td>-0.0271</td>\n",
       "    </tr>\n",
       "    <tr>\n",
       "      <th>7</th>\n",
       "      <td>XGB Random Forest_auto_stat</td>\n",
       "      <td>-0.0732</td>\n",
       "    </tr>\n",
       "    <tr>\n",
       "      <th>6</th>\n",
       "      <td>XGB Random Forest</td>\n",
       "      <td>-0.1599</td>\n",
       "    </tr>\n",
       "  </tbody>\n",
       "</table>\n",
       "</div>"
      ],
      "text/plain": [
       "                      Forecast  Weights\n",
       "3                     LightGBM   0.4724\n",
       "1             Lasso Regression   0.3335\n",
       "4           LightGBM_auto_stat   0.2556\n",
       "2   Lasso Regression_auto_stat   0.2336\n",
       "0                          FFT  -0.0225\n",
       "5                        Theta  -0.0271\n",
       "7  XGB Random Forest_auto_stat  -0.0732\n",
       "6            XGB Random Forest  -0.1599"
      ]
     },
     "execution_count": 73,
     "metadata": {},
     "output_type": "execute_result"
    }
   ],
   "source": [
    "pd.DataFrame({\"Forecast\": ensemble_forecasts, \"Weights\": stacking_model.coef_}).round(\n",
    "    4\n",
    ").sort_values(\"Weights\", ascending=False)"
   ]
  },
  {
   "cell_type": "code",
   "execution_count": 74,
   "id": "183fc94d-74ba-4f51-a816-caf5e58e3d45",
   "metadata": {},
   "outputs": [],
   "source": [
    "pred_wide_test[\"ridge_reg_blending\"] = stacking_model.predict(\n",
    "    pred_wide_test[ensemble_forecasts]\n",
    ")"
   ]
  },
  {
   "cell_type": "code",
   "execution_count": 75,
   "id": "bbb00ee1-c9d8-4041-b5ba-45117cb89824",
   "metadata": {},
   "outputs": [
    {
     "data": {
      "application/vnd.jupyter.widget-view+json": {
       "model_id": "af30c430cf6841aebb024af02cc10660",
       "version_major": 2,
       "version_minor": 0
      },
      "text/plain": [
       "  0%|          | 0/150 [00:00<?, ?it/s]"
      ]
     },
     "metadata": {},
     "output_type": "display_data"
    },
    {
     "name": "stdout",
     "output_type": "stream",
     "text": [
      "{'Algorithm': 'ridge_reg_blending', 'MAE': 0.07366254445513652, 'MSE': 0.024282906903738806, 'meanMASE': 0.9074968710140813, 'Forecast Bias': 1.956933465529595}\n"
     ]
    }
   ],
   "source": [
    "agg_metric_ = evaluate_ensemble(\n",
    "    pred_wide_test,\n",
    "    train_val_target,\n",
    "    \"ridge_reg_blending\",\n",
    "    \"energy_consumption\",\n",
    "    \"LCLid\",\n",
    ")\n",
    "print(agg_metric_)\n",
    "agg_metrics_l.append(agg_metric_)"
   ]
  },
  {
   "cell_type": "code",
   "execution_count": 76,
   "id": "1ab53a8d-568e-4b69-80f0-b47752467aee",
   "metadata": {},
   "outputs": [
    {
     "data": {
      "text/html": [
       "<style type=\"text/css\">\n",
       "#T_a60e5_row1_col4 {\n",
       "  color: black;\n",
       "  background-color: lightgreen;\n",
       "}\n",
       "#T_a60e5_row7_col1, #T_a60e5_row7_col3, #T_a60e5_row9_col2 {\n",
       "  background-color: lightgreen;\n",
       "}\n",
       "</style>\n",
       "<table id=\"T_a60e5\">\n",
       "  <thead>\n",
       "    <tr>\n",
       "      <th class=\"blank level0\" >&nbsp;</th>\n",
       "      <th id=\"T_a60e5_level0_col0\" class=\"col_heading level0 col0\" >Algorithm</th>\n",
       "      <th id=\"T_a60e5_level0_col1\" class=\"col_heading level0 col1\" >MAE</th>\n",
       "      <th id=\"T_a60e5_level0_col2\" class=\"col_heading level0 col2\" >MSE</th>\n",
       "      <th id=\"T_a60e5_level0_col3\" class=\"col_heading level0 col3\" >meanMASE</th>\n",
       "      <th id=\"T_a60e5_level0_col4\" class=\"col_heading level0 col4\" >Forecast Bias</th>\n",
       "    </tr>\n",
       "  </thead>\n",
       "  <tbody>\n",
       "    <tr>\n",
       "      <th id=\"T_a60e5_level0_row0\" class=\"row_heading level0 row0\" >0</th>\n",
       "      <td id=\"T_a60e5_row0_col0\" class=\"data row0 col0\" >LightGBM</td>\n",
       "      <td id=\"T_a60e5_row0_col1\" class=\"data row0 col1\" >0.0750</td>\n",
       "      <td id=\"T_a60e5_row0_col2\" class=\"data row0 col2\" >0.0268</td>\n",
       "      <td id=\"T_a60e5_row0_col3\" class=\"data row0 col3\" >0.9141</td>\n",
       "      <td id=\"T_a60e5_row0_col4\" class=\"data row0 col4\" >2.62%</td>\n",
       "    </tr>\n",
       "    <tr>\n",
       "      <th id=\"T_a60e5_level0_row1\" class=\"row_heading level0 row1\" >1</th>\n",
       "      <td id=\"T_a60e5_row1_col0\" class=\"data row1 col0\" >best_fit</td>\n",
       "      <td id=\"T_a60e5_row1_col1\" class=\"data row1 col1\" >0.0739</td>\n",
       "      <td id=\"T_a60e5_row1_col2\" class=\"data row1 col2\" >0.0266</td>\n",
       "      <td id=\"T_a60e5_row1_col3\" class=\"data row1 col3\" >0.8968</td>\n",
       "      <td id=\"T_a60e5_row1_col4\" class=\"data row1 col4\" >0.23%</td>\n",
       "    </tr>\n",
       "    <tr>\n",
       "      <th id=\"T_a60e5_level0_row2\" class=\"row_heading level0 row2\" >2</th>\n",
       "      <td id=\"T_a60e5_row2_col0\" class=\"data row2 col0\" >median_ensemble</td>\n",
       "      <td id=\"T_a60e5_row2_col1\" class=\"data row2 col1\" >0.0766</td>\n",
       "      <td id=\"T_a60e5_row2_col2\" class=\"data row2 col2\" >0.0278</td>\n",
       "      <td id=\"T_a60e5_row2_col3\" class=\"data row2 col3\" >0.9284</td>\n",
       "      <td id=\"T_a60e5_row2_col4\" class=\"data row2 col4\" >-0.90%</td>\n",
       "    </tr>\n",
       "    <tr>\n",
       "      <th id=\"T_a60e5_level0_row3\" class=\"row_heading level0 row3\" >3</th>\n",
       "      <td id=\"T_a60e5_row3_col0\" class=\"data row3 col0\" >average_ensemble</td>\n",
       "      <td id=\"T_a60e5_row3_col1\" class=\"data row3 col1\" >0.0826</td>\n",
       "      <td id=\"T_a60e5_row3_col2\" class=\"data row3 col2\" >0.0284</td>\n",
       "      <td id=\"T_a60e5_row3_col3\" class=\"data row3 col3\" >1.0111</td>\n",
       "      <td id=\"T_a60e5_row3_col4\" class=\"data row3 col4\" >1.50%</td>\n",
       "    </tr>\n",
       "    <tr>\n",
       "      <th id=\"T_a60e5_level0_row4\" class=\"row_heading level0 row4\" >4</th>\n",
       "      <td id=\"T_a60e5_row4_col0\" class=\"data row4 col0\" >greedy_ensemble</td>\n",
       "      <td id=\"T_a60e5_row4_col1\" class=\"data row4 col1\" >0.0733</td>\n",
       "      <td id=\"T_a60e5_row4_col2\" class=\"data row4 col2\" >0.0249</td>\n",
       "      <td id=\"T_a60e5_row4_col3\" class=\"data row4 col3\" >0.8946</td>\n",
       "      <td id=\"T_a60e5_row4_col4\" class=\"data row4 col4\" >0.81%</td>\n",
       "    </tr>\n",
       "    <tr>\n",
       "      <th id=\"T_a60e5_level0_row5\" class=\"row_heading level0 row5\" >5</th>\n",
       "      <td id=\"T_a60e5_row5_col0\" class=\"data row5 col0\" >stochastic_hillclimb__ensemble</td>\n",
       "      <td id=\"T_a60e5_row5_col1\" class=\"data row5 col1\" >0.0751</td>\n",
       "      <td id=\"T_a60e5_row5_col2\" class=\"data row5 col2\" >0.0257</td>\n",
       "      <td id=\"T_a60e5_row5_col3\" class=\"data row5 col3\" >0.9203</td>\n",
       "      <td id=\"T_a60e5_row5_col4\" class=\"data row5 col4\" >1.21%</td>\n",
       "    </tr>\n",
       "    <tr>\n",
       "      <th id=\"T_a60e5_level0_row6\" class=\"row_heading level0 row6\" >6</th>\n",
       "      <td id=\"T_a60e5_row6_col0\" class=\"data row6 col0\" >simulated_annealing_ensemble</td>\n",
       "      <td id=\"T_a60e5_row6_col1\" class=\"data row6 col1\" >0.0740</td>\n",
       "      <td id=\"T_a60e5_row6_col2\" class=\"data row6 col2\" >0.0252</td>\n",
       "      <td id=\"T_a60e5_row6_col3\" class=\"data row6 col3\" >0.9055</td>\n",
       "      <td id=\"T_a60e5_row6_col4\" class=\"data row6 col4\" >-0.41%</td>\n",
       "    </tr>\n",
       "    <tr>\n",
       "      <th id=\"T_a60e5_level0_row7\" class=\"row_heading level0 row7\" >7</th>\n",
       "      <td id=\"T_a60e5_row7_col0\" class=\"data row7 col0\" >optimal_combination_ensemble</td>\n",
       "      <td id=\"T_a60e5_row7_col1\" class=\"data row7 col1\" >0.0730</td>\n",
       "      <td id=\"T_a60e5_row7_col2\" class=\"data row7 col2\" >0.0247</td>\n",
       "      <td id=\"T_a60e5_row7_col3\" class=\"data row7 col3\" >0.8939</td>\n",
       "      <td id=\"T_a60e5_row7_col4\" class=\"data row7 col4\" >0.85%</td>\n",
       "    </tr>\n",
       "    <tr>\n",
       "      <th id=\"T_a60e5_level0_row8\" class=\"row_heading level0 row8\" >8</th>\n",
       "      <td id=\"T_a60e5_row8_col0\" class=\"data row8 col0\" >linear_reg_blending</td>\n",
       "      <td id=\"T_a60e5_row8_col1\" class=\"data row8 col1\" >0.0755</td>\n",
       "      <td id=\"T_a60e5_row8_col2\" class=\"data row8 col2\" >0.0245</td>\n",
       "      <td id=\"T_a60e5_row8_col3\" class=\"data row8 col3\" >0.9256</td>\n",
       "      <td id=\"T_a60e5_row8_col4\" class=\"data row8 col4\" >4.36%</td>\n",
       "    </tr>\n",
       "    <tr>\n",
       "      <th id=\"T_a60e5_level0_row9\" class=\"row_heading level0 row9\" >9</th>\n",
       "      <td id=\"T_a60e5_row9_col0\" class=\"data row9 col0\" >ridge_reg_blending</td>\n",
       "      <td id=\"T_a60e5_row9_col1\" class=\"data row9 col1\" >0.0737</td>\n",
       "      <td id=\"T_a60e5_row9_col2\" class=\"data row9 col2\" >0.0243</td>\n",
       "      <td id=\"T_a60e5_row9_col3\" class=\"data row9 col3\" >0.9075</td>\n",
       "      <td id=\"T_a60e5_row9_col4\" class=\"data row9 col4\" >1.96%</td>\n",
       "    </tr>\n",
       "  </tbody>\n",
       "</table>\n"
      ],
      "text/plain": [
       "<pandas.io.formats.style.Styler at 0x7fc71d290400>"
      ]
     },
     "metadata": {},
     "output_type": "display_data"
    }
   ],
   "source": [
    "display_metrics(agg_metrics_l)"
   ]
  },
  {
   "cell_type": "code",
   "execution_count": 57,
   "id": "0b7c5c90-9f19-4709-879f-f67ac2ccc60a",
   "metadata": {},
   "outputs": [],
   "source": [
    "# ts_utils.mae(pred_wide_val['energy_consumption'], stacking_model.predict(pred_wide_val[ensemble_forecasts]))\n",
    "\n",
    "# ts_utils.mae(pred_wide_test['energy_consumption'], stacking_model.predict(pred_wide_test[ensemble_forecasts]))"
   ]
  },
  {
   "cell_type": "markdown",
   "id": "2a34c29a-3371-4166-baa0-a4aa6dcc61f5",
   "metadata": {},
   "source": [
    "### Lasso Regression"
   ]
  },
  {
   "cell_type": "code",
   "execution_count": 77,
   "id": "88865c29-15fc-4e20-ad24-d41df171b51c",
   "metadata": {},
   "outputs": [
    {
     "data": {
      "text/html": [
       "<style>#sk-container-id-3 {\n",
       "  /* Definition of color scheme common for light and dark mode */\n",
       "  --sklearn-color-text: black;\n",
       "  --sklearn-color-line: gray;\n",
       "  /* Definition of color scheme for unfitted estimators */\n",
       "  --sklearn-color-unfitted-level-0: #fff5e6;\n",
       "  --sklearn-color-unfitted-level-1: #f6e4d2;\n",
       "  --sklearn-color-unfitted-level-2: #ffe0b3;\n",
       "  --sklearn-color-unfitted-level-3: chocolate;\n",
       "  /* Definition of color scheme for fitted estimators */\n",
       "  --sklearn-color-fitted-level-0: #f0f8ff;\n",
       "  --sklearn-color-fitted-level-1: #d4ebff;\n",
       "  --sklearn-color-fitted-level-2: #b3dbfd;\n",
       "  --sklearn-color-fitted-level-3: cornflowerblue;\n",
       "\n",
       "  /* Specific color for light theme */\n",
       "  --sklearn-color-text-on-default-background: var(--sg-text-color, var(--theme-code-foreground, var(--jp-content-font-color1, black)));\n",
       "  --sklearn-color-background: var(--sg-background-color, var(--theme-background, var(--jp-layout-color0, white)));\n",
       "  --sklearn-color-border-box: var(--sg-text-color, var(--theme-code-foreground, var(--jp-content-font-color1, black)));\n",
       "  --sklearn-color-icon: #696969;\n",
       "\n",
       "  @media (prefers-color-scheme: dark) {\n",
       "    /* Redefinition of color scheme for dark theme */\n",
       "    --sklearn-color-text-on-default-background: var(--sg-text-color, var(--theme-code-foreground, var(--jp-content-font-color1, white)));\n",
       "    --sklearn-color-background: var(--sg-background-color, var(--theme-background, var(--jp-layout-color0, #111)));\n",
       "    --sklearn-color-border-box: var(--sg-text-color, var(--theme-code-foreground, var(--jp-content-font-color1, white)));\n",
       "    --sklearn-color-icon: #878787;\n",
       "  }\n",
       "}\n",
       "\n",
       "#sk-container-id-3 {\n",
       "  color: var(--sklearn-color-text);\n",
       "}\n",
       "\n",
       "#sk-container-id-3 pre {\n",
       "  padding: 0;\n",
       "}\n",
       "\n",
       "#sk-container-id-3 input.sk-hidden--visually {\n",
       "  border: 0;\n",
       "  clip: rect(1px 1px 1px 1px);\n",
       "  clip: rect(1px, 1px, 1px, 1px);\n",
       "  height: 1px;\n",
       "  margin: -1px;\n",
       "  overflow: hidden;\n",
       "  padding: 0;\n",
       "  position: absolute;\n",
       "  width: 1px;\n",
       "}\n",
       "\n",
       "#sk-container-id-3 div.sk-dashed-wrapped {\n",
       "  border: 1px dashed var(--sklearn-color-line);\n",
       "  margin: 0 0.4em 0.5em 0.4em;\n",
       "  box-sizing: border-box;\n",
       "  padding-bottom: 0.4em;\n",
       "  background-color: var(--sklearn-color-background);\n",
       "}\n",
       "\n",
       "#sk-container-id-3 div.sk-container {\n",
       "  /* jupyter's `normalize.less` sets `[hidden] { display: none; }`\n",
       "     but bootstrap.min.css set `[hidden] { display: none !important; }`\n",
       "     so we also need the `!important` here to be able to override the\n",
       "     default hidden behavior on the sphinx rendered scikit-learn.org.\n",
       "     See: https://github.com/scikit-learn/scikit-learn/issues/21755 */\n",
       "  display: inline-block !important;\n",
       "  position: relative;\n",
       "}\n",
       "\n",
       "#sk-container-id-3 div.sk-text-repr-fallback {\n",
       "  display: none;\n",
       "}\n",
       "\n",
       "div.sk-parallel-item,\n",
       "div.sk-serial,\n",
       "div.sk-item {\n",
       "  /* draw centered vertical line to link estimators */\n",
       "  background-image: linear-gradient(var(--sklearn-color-text-on-default-background), var(--sklearn-color-text-on-default-background));\n",
       "  background-size: 2px 100%;\n",
       "  background-repeat: no-repeat;\n",
       "  background-position: center center;\n",
       "}\n",
       "\n",
       "/* Parallel-specific style estimator block */\n",
       "\n",
       "#sk-container-id-3 div.sk-parallel-item::after {\n",
       "  content: \"\";\n",
       "  width: 100%;\n",
       "  border-bottom: 2px solid var(--sklearn-color-text-on-default-background);\n",
       "  flex-grow: 1;\n",
       "}\n",
       "\n",
       "#sk-container-id-3 div.sk-parallel {\n",
       "  display: flex;\n",
       "  align-items: stretch;\n",
       "  justify-content: center;\n",
       "  background-color: var(--sklearn-color-background);\n",
       "  position: relative;\n",
       "}\n",
       "\n",
       "#sk-container-id-3 div.sk-parallel-item {\n",
       "  display: flex;\n",
       "  flex-direction: column;\n",
       "}\n",
       "\n",
       "#sk-container-id-3 div.sk-parallel-item:first-child::after {\n",
       "  align-self: flex-end;\n",
       "  width: 50%;\n",
       "}\n",
       "\n",
       "#sk-container-id-3 div.sk-parallel-item:last-child::after {\n",
       "  align-self: flex-start;\n",
       "  width: 50%;\n",
       "}\n",
       "\n",
       "#sk-container-id-3 div.sk-parallel-item:only-child::after {\n",
       "  width: 0;\n",
       "}\n",
       "\n",
       "/* Serial-specific style estimator block */\n",
       "\n",
       "#sk-container-id-3 div.sk-serial {\n",
       "  display: flex;\n",
       "  flex-direction: column;\n",
       "  align-items: center;\n",
       "  background-color: var(--sklearn-color-background);\n",
       "  padding-right: 1em;\n",
       "  padding-left: 1em;\n",
       "}\n",
       "\n",
       "\n",
       "/* Toggleable style: style used for estimator/Pipeline/ColumnTransformer box that is\n",
       "clickable and can be expanded/collapsed.\n",
       "- Pipeline and ColumnTransformer use this feature and define the default style\n",
       "- Estimators will overwrite some part of the style using the `sk-estimator` class\n",
       "*/\n",
       "\n",
       "/* Pipeline and ColumnTransformer style (default) */\n",
       "\n",
       "#sk-container-id-3 div.sk-toggleable {\n",
       "  /* Default theme specific background. It is overwritten whether we have a\n",
       "  specific estimator or a Pipeline/ColumnTransformer */\n",
       "  background-color: var(--sklearn-color-background);\n",
       "}\n",
       "\n",
       "/* Toggleable label */\n",
       "#sk-container-id-3 label.sk-toggleable__label {\n",
       "  cursor: pointer;\n",
       "  display: block;\n",
       "  width: 100%;\n",
       "  margin-bottom: 0;\n",
       "  padding: 0.5em;\n",
       "  box-sizing: border-box;\n",
       "  text-align: center;\n",
       "}\n",
       "\n",
       "#sk-container-id-3 label.sk-toggleable__label-arrow:before {\n",
       "  /* Arrow on the left of the label */\n",
       "  content: \"▸\";\n",
       "  float: left;\n",
       "  margin-right: 0.25em;\n",
       "  color: var(--sklearn-color-icon);\n",
       "}\n",
       "\n",
       "#sk-container-id-3 label.sk-toggleable__label-arrow:hover:before {\n",
       "  color: var(--sklearn-color-text);\n",
       "}\n",
       "\n",
       "/* Toggleable content - dropdown */\n",
       "\n",
       "#sk-container-id-3 div.sk-toggleable__content {\n",
       "  max-height: 0;\n",
       "  max-width: 0;\n",
       "  overflow: hidden;\n",
       "  text-align: left;\n",
       "  /* unfitted */\n",
       "  background-color: var(--sklearn-color-unfitted-level-0);\n",
       "}\n",
       "\n",
       "#sk-container-id-3 div.sk-toggleable__content.fitted {\n",
       "  /* fitted */\n",
       "  background-color: var(--sklearn-color-fitted-level-0);\n",
       "}\n",
       "\n",
       "#sk-container-id-3 div.sk-toggleable__content pre {\n",
       "  margin: 0.2em;\n",
       "  border-radius: 0.25em;\n",
       "  color: var(--sklearn-color-text);\n",
       "  /* unfitted */\n",
       "  background-color: var(--sklearn-color-unfitted-level-0);\n",
       "}\n",
       "\n",
       "#sk-container-id-3 div.sk-toggleable__content.fitted pre {\n",
       "  /* unfitted */\n",
       "  background-color: var(--sklearn-color-fitted-level-0);\n",
       "}\n",
       "\n",
       "#sk-container-id-3 input.sk-toggleable__control:checked~div.sk-toggleable__content {\n",
       "  /* Expand drop-down */\n",
       "  max-height: 200px;\n",
       "  max-width: 100%;\n",
       "  overflow: auto;\n",
       "}\n",
       "\n",
       "#sk-container-id-3 input.sk-toggleable__control:checked~label.sk-toggleable__label-arrow:before {\n",
       "  content: \"▾\";\n",
       "}\n",
       "\n",
       "/* Pipeline/ColumnTransformer-specific style */\n",
       "\n",
       "#sk-container-id-3 div.sk-label input.sk-toggleable__control:checked~label.sk-toggleable__label {\n",
       "  color: var(--sklearn-color-text);\n",
       "  background-color: var(--sklearn-color-unfitted-level-2);\n",
       "}\n",
       "\n",
       "#sk-container-id-3 div.sk-label.fitted input.sk-toggleable__control:checked~label.sk-toggleable__label {\n",
       "  background-color: var(--sklearn-color-fitted-level-2);\n",
       "}\n",
       "\n",
       "/* Estimator-specific style */\n",
       "\n",
       "/* Colorize estimator box */\n",
       "#sk-container-id-3 div.sk-estimator input.sk-toggleable__control:checked~label.sk-toggleable__label {\n",
       "  /* unfitted */\n",
       "  background-color: var(--sklearn-color-unfitted-level-2);\n",
       "}\n",
       "\n",
       "#sk-container-id-3 div.sk-estimator.fitted input.sk-toggleable__control:checked~label.sk-toggleable__label {\n",
       "  /* fitted */\n",
       "  background-color: var(--sklearn-color-fitted-level-2);\n",
       "}\n",
       "\n",
       "#sk-container-id-3 div.sk-label label.sk-toggleable__label,\n",
       "#sk-container-id-3 div.sk-label label {\n",
       "  /* The background is the default theme color */\n",
       "  color: var(--sklearn-color-text-on-default-background);\n",
       "}\n",
       "\n",
       "/* On hover, darken the color of the background */\n",
       "#sk-container-id-3 div.sk-label:hover label.sk-toggleable__label {\n",
       "  color: var(--sklearn-color-text);\n",
       "  background-color: var(--sklearn-color-unfitted-level-2);\n",
       "}\n",
       "\n",
       "/* Label box, darken color on hover, fitted */\n",
       "#sk-container-id-3 div.sk-label.fitted:hover label.sk-toggleable__label.fitted {\n",
       "  color: var(--sklearn-color-text);\n",
       "  background-color: var(--sklearn-color-fitted-level-2);\n",
       "}\n",
       "\n",
       "/* Estimator label */\n",
       "\n",
       "#sk-container-id-3 div.sk-label label {\n",
       "  font-family: monospace;\n",
       "  font-weight: bold;\n",
       "  display: inline-block;\n",
       "  line-height: 1.2em;\n",
       "}\n",
       "\n",
       "#sk-container-id-3 div.sk-label-container {\n",
       "  text-align: center;\n",
       "}\n",
       "\n",
       "/* Estimator-specific */\n",
       "#sk-container-id-3 div.sk-estimator {\n",
       "  font-family: monospace;\n",
       "  border: 1px dotted var(--sklearn-color-border-box);\n",
       "  border-radius: 0.25em;\n",
       "  box-sizing: border-box;\n",
       "  margin-bottom: 0.5em;\n",
       "  /* unfitted */\n",
       "  background-color: var(--sklearn-color-unfitted-level-0);\n",
       "}\n",
       "\n",
       "#sk-container-id-3 div.sk-estimator.fitted {\n",
       "  /* fitted */\n",
       "  background-color: var(--sklearn-color-fitted-level-0);\n",
       "}\n",
       "\n",
       "/* on hover */\n",
       "#sk-container-id-3 div.sk-estimator:hover {\n",
       "  /* unfitted */\n",
       "  background-color: var(--sklearn-color-unfitted-level-2);\n",
       "}\n",
       "\n",
       "#sk-container-id-3 div.sk-estimator.fitted:hover {\n",
       "  /* fitted */\n",
       "  background-color: var(--sklearn-color-fitted-level-2);\n",
       "}\n",
       "\n",
       "/* Specification for estimator info (e.g. \"i\" and \"?\") */\n",
       "\n",
       "/* Common style for \"i\" and \"?\" */\n",
       "\n",
       ".sk-estimator-doc-link,\n",
       "a:link.sk-estimator-doc-link,\n",
       "a:visited.sk-estimator-doc-link {\n",
       "  float: right;\n",
       "  font-size: smaller;\n",
       "  line-height: 1em;\n",
       "  font-family: monospace;\n",
       "  background-color: var(--sklearn-color-background);\n",
       "  border-radius: 1em;\n",
       "  height: 1em;\n",
       "  width: 1em;\n",
       "  text-decoration: none !important;\n",
       "  margin-left: 1ex;\n",
       "  /* unfitted */\n",
       "  border: var(--sklearn-color-unfitted-level-1) 1pt solid;\n",
       "  color: var(--sklearn-color-unfitted-level-1);\n",
       "}\n",
       "\n",
       ".sk-estimator-doc-link.fitted,\n",
       "a:link.sk-estimator-doc-link.fitted,\n",
       "a:visited.sk-estimator-doc-link.fitted {\n",
       "  /* fitted */\n",
       "  border: var(--sklearn-color-fitted-level-1) 1pt solid;\n",
       "  color: var(--sklearn-color-fitted-level-1);\n",
       "}\n",
       "\n",
       "/* On hover */\n",
       "div.sk-estimator:hover .sk-estimator-doc-link:hover,\n",
       ".sk-estimator-doc-link:hover,\n",
       "div.sk-label-container:hover .sk-estimator-doc-link:hover,\n",
       ".sk-estimator-doc-link:hover {\n",
       "  /* unfitted */\n",
       "  background-color: var(--sklearn-color-unfitted-level-3);\n",
       "  color: var(--sklearn-color-background);\n",
       "  text-decoration: none;\n",
       "}\n",
       "\n",
       "div.sk-estimator.fitted:hover .sk-estimator-doc-link.fitted:hover,\n",
       ".sk-estimator-doc-link.fitted:hover,\n",
       "div.sk-label-container:hover .sk-estimator-doc-link.fitted:hover,\n",
       ".sk-estimator-doc-link.fitted:hover {\n",
       "  /* fitted */\n",
       "  background-color: var(--sklearn-color-fitted-level-3);\n",
       "  color: var(--sklearn-color-background);\n",
       "  text-decoration: none;\n",
       "}\n",
       "\n",
       "/* Span, style for the box shown on hovering the info icon */\n",
       ".sk-estimator-doc-link span {\n",
       "  display: none;\n",
       "  z-index: 9999;\n",
       "  position: relative;\n",
       "  font-weight: normal;\n",
       "  right: .2ex;\n",
       "  padding: .5ex;\n",
       "  margin: .5ex;\n",
       "  width: min-content;\n",
       "  min-width: 20ex;\n",
       "  max-width: 50ex;\n",
       "  color: var(--sklearn-color-text);\n",
       "  box-shadow: 2pt 2pt 4pt #999;\n",
       "  /* unfitted */\n",
       "  background: var(--sklearn-color-unfitted-level-0);\n",
       "  border: .5pt solid var(--sklearn-color-unfitted-level-3);\n",
       "}\n",
       "\n",
       ".sk-estimator-doc-link.fitted span {\n",
       "  /* fitted */\n",
       "  background: var(--sklearn-color-fitted-level-0);\n",
       "  border: var(--sklearn-color-fitted-level-3);\n",
       "}\n",
       "\n",
       ".sk-estimator-doc-link:hover span {\n",
       "  display: block;\n",
       "}\n",
       "\n",
       "/* \"?\"-specific style due to the `<a>` HTML tag */\n",
       "\n",
       "#sk-container-id-3 a.estimator_doc_link {\n",
       "  float: right;\n",
       "  font-size: 1rem;\n",
       "  line-height: 1em;\n",
       "  font-family: monospace;\n",
       "  background-color: var(--sklearn-color-background);\n",
       "  border-radius: 1rem;\n",
       "  height: 1rem;\n",
       "  width: 1rem;\n",
       "  text-decoration: none;\n",
       "  /* unfitted */\n",
       "  color: var(--sklearn-color-unfitted-level-1);\n",
       "  border: var(--sklearn-color-unfitted-level-1) 1pt solid;\n",
       "}\n",
       "\n",
       "#sk-container-id-3 a.estimator_doc_link.fitted {\n",
       "  /* fitted */\n",
       "  border: var(--sklearn-color-fitted-level-1) 1pt solid;\n",
       "  color: var(--sklearn-color-fitted-level-1);\n",
       "}\n",
       "\n",
       "/* On hover */\n",
       "#sk-container-id-3 a.estimator_doc_link:hover {\n",
       "  /* unfitted */\n",
       "  background-color: var(--sklearn-color-unfitted-level-3);\n",
       "  color: var(--sklearn-color-background);\n",
       "  text-decoration: none;\n",
       "}\n",
       "\n",
       "#sk-container-id-3 a.estimator_doc_link.fitted:hover {\n",
       "  /* fitted */\n",
       "  background-color: var(--sklearn-color-fitted-level-3);\n",
       "}\n",
       "</style><div id=\"sk-container-id-3\" class=\"sk-top-container\"><div class=\"sk-text-repr-fallback\"><pre>LassoCV()</pre><b>In a Jupyter environment, please rerun this cell to show the HTML representation or trust the notebook. <br />On GitHub, the HTML representation is unable to render, please try loading this page with nbviewer.org.</b></div><div class=\"sk-container\" hidden><div class=\"sk-item\"><div class=\"sk-estimator fitted sk-toggleable\"><input class=\"sk-toggleable__control sk-hidden--visually\" id=\"sk-estimator-id-3\" type=\"checkbox\" checked><label for=\"sk-estimator-id-3\" class=\"sk-toggleable__label fitted sk-toggleable__label-arrow fitted\">&nbsp;&nbsp;LassoCV<a class=\"sk-estimator-doc-link fitted\" rel=\"noreferrer\" target=\"_blank\" href=\"https://scikit-learn.org/1.5/modules/generated/sklearn.linear_model.LassoCV.html\">?<span>Documentation for LassoCV</span></a><span class=\"sk-estimator-doc-link fitted\">i<span>Fitted</span></span></label><div class=\"sk-toggleable__content fitted\"><pre>LassoCV()</pre></div> </div></div></div></div>"
      ],
      "text/plain": [
       "LassoCV()"
      ]
     },
     "execution_count": 77,
     "metadata": {},
     "output_type": "execute_result"
    }
   ],
   "source": [
    "stacking_model = LassoCV()\n",
    "stacking_model.fit(\n",
    "    pred_wide_val[ensemble_forecasts], pred_wide_val[\"energy_consumption\"]\n",
    ")"
   ]
  },
  {
   "cell_type": "code",
   "execution_count": 78,
   "id": "2a2a37f8-77ca-4837-a929-ff2139a7d0f8",
   "metadata": {},
   "outputs": [
    {
     "data": {
      "text/html": [
       "<div>\n",
       "<style scoped>\n",
       "    .dataframe tbody tr th:only-of-type {\n",
       "        vertical-align: middle;\n",
       "    }\n",
       "\n",
       "    .dataframe tbody tr th {\n",
       "        vertical-align: top;\n",
       "    }\n",
       "\n",
       "    .dataframe thead th {\n",
       "        text-align: right;\n",
       "    }\n",
       "</style>\n",
       "<table border=\"1\" class=\"dataframe\">\n",
       "  <thead>\n",
       "    <tr style=\"text-align: right;\">\n",
       "      <th></th>\n",
       "      <th>Forecast</th>\n",
       "      <th>Weights</th>\n",
       "    </tr>\n",
       "  </thead>\n",
       "  <tbody>\n",
       "    <tr>\n",
       "      <th>3</th>\n",
       "      <td>LightGBM</td>\n",
       "      <td>0.4533</td>\n",
       "    </tr>\n",
       "    <tr>\n",
       "      <th>1</th>\n",
       "      <td>Lasso Regression</td>\n",
       "      <td>0.3015</td>\n",
       "    </tr>\n",
       "    <tr>\n",
       "      <th>2</th>\n",
       "      <td>Lasso Regression_auto_stat</td>\n",
       "      <td>0.2436</td>\n",
       "    </tr>\n",
       "    <tr>\n",
       "      <th>4</th>\n",
       "      <td>LightGBM_auto_stat</td>\n",
       "      <td>0.2203</td>\n",
       "    </tr>\n",
       "    <tr>\n",
       "      <th>0</th>\n",
       "      <td>FFT</td>\n",
       "      <td>-0.0187</td>\n",
       "    </tr>\n",
       "    <tr>\n",
       "      <th>5</th>\n",
       "      <td>Theta</td>\n",
       "      <td>-0.0257</td>\n",
       "    </tr>\n",
       "    <tr>\n",
       "      <th>7</th>\n",
       "      <td>XGB Random Forest_auto_stat</td>\n",
       "      <td>-0.0486</td>\n",
       "    </tr>\n",
       "    <tr>\n",
       "      <th>6</th>\n",
       "      <td>XGB Random Forest</td>\n",
       "      <td>-0.1084</td>\n",
       "    </tr>\n",
       "  </tbody>\n",
       "</table>\n",
       "</div>"
      ],
      "text/plain": [
       "                      Forecast  Weights\n",
       "3                     LightGBM   0.4533\n",
       "1             Lasso Regression   0.3015\n",
       "2   Lasso Regression_auto_stat   0.2436\n",
       "4           LightGBM_auto_stat   0.2203\n",
       "0                          FFT  -0.0187\n",
       "5                        Theta  -0.0257\n",
       "7  XGB Random Forest_auto_stat  -0.0486\n",
       "6            XGB Random Forest  -0.1084"
      ]
     },
     "execution_count": 78,
     "metadata": {},
     "output_type": "execute_result"
    }
   ],
   "source": [
    "pd.DataFrame({\"Forecast\": ensemble_forecasts, \"Weights\": stacking_model.coef_}).round(\n",
    "    4\n",
    ").sort_values(\"Weights\", ascending=False)"
   ]
  },
  {
   "cell_type": "code",
   "execution_count": 79,
   "id": "465c51e6-ed3d-42b2-833a-05259262ce30",
   "metadata": {},
   "outputs": [],
   "source": [
    "pred_wide_test[\"lasso_reg_blending\"] = stacking_model.predict(\n",
    "    pred_wide_test[ensemble_forecasts]\n",
    ")"
   ]
  },
  {
   "cell_type": "code",
   "execution_count": 80,
   "id": "3828cc73-328c-4c4d-8e8a-9dc38d12819f",
   "metadata": {},
   "outputs": [
    {
     "data": {
      "application/vnd.jupyter.widget-view+json": {
       "model_id": "7f3568155cc6422bb9da9df90666b777",
       "version_major": 2,
       "version_minor": 0
      },
      "text/plain": [
       "  0%|          | 0/150 [00:00<?, ?it/s]"
      ]
     },
     "metadata": {},
     "output_type": "display_data"
    },
    {
     "name": "stdout",
     "output_type": "stream",
     "text": [
      "{'Algorithm': 'lasso_reg_blending', 'MAE': 0.07363675737967389, 'MSE': 0.024275200438200837, 'meanMASE': 0.9070298259319937, 'Forecast Bias': 2.033906907644201}\n"
     ]
    }
   ],
   "source": [
    "agg_metric_ = evaluate_ensemble(\n",
    "    pred_wide_test,\n",
    "    train_val_target,\n",
    "    \"lasso_reg_blending\",\n",
    "    \"energy_consumption\",\n",
    "    \"LCLid\",\n",
    ")\n",
    "print(agg_metric_)\n",
    "agg_metrics_l.append(agg_metric_)"
   ]
  },
  {
   "cell_type": "code",
   "execution_count": 81,
   "id": "14b5497d-80aa-4553-863b-a25c9a9f29a6",
   "metadata": {},
   "outputs": [
    {
     "data": {
      "text/html": [
       "<style type=\"text/css\">\n",
       "#T_04c6a_row1_col4 {\n",
       "  color: black;\n",
       "  background-color: lightgreen;\n",
       "}\n",
       "#T_04c6a_row7_col1, #T_04c6a_row7_col3, #T_04c6a_row10_col2 {\n",
       "  background-color: lightgreen;\n",
       "}\n",
       "</style>\n",
       "<table id=\"T_04c6a\">\n",
       "  <thead>\n",
       "    <tr>\n",
       "      <th class=\"blank level0\" >&nbsp;</th>\n",
       "      <th id=\"T_04c6a_level0_col0\" class=\"col_heading level0 col0\" >Algorithm</th>\n",
       "      <th id=\"T_04c6a_level0_col1\" class=\"col_heading level0 col1\" >MAE</th>\n",
       "      <th id=\"T_04c6a_level0_col2\" class=\"col_heading level0 col2\" >MSE</th>\n",
       "      <th id=\"T_04c6a_level0_col3\" class=\"col_heading level0 col3\" >meanMASE</th>\n",
       "      <th id=\"T_04c6a_level0_col4\" class=\"col_heading level0 col4\" >Forecast Bias</th>\n",
       "    </tr>\n",
       "  </thead>\n",
       "  <tbody>\n",
       "    <tr>\n",
       "      <th id=\"T_04c6a_level0_row0\" class=\"row_heading level0 row0\" >0</th>\n",
       "      <td id=\"T_04c6a_row0_col0\" class=\"data row0 col0\" >LightGBM</td>\n",
       "      <td id=\"T_04c6a_row0_col1\" class=\"data row0 col1\" >0.0750</td>\n",
       "      <td id=\"T_04c6a_row0_col2\" class=\"data row0 col2\" >0.0268</td>\n",
       "      <td id=\"T_04c6a_row0_col3\" class=\"data row0 col3\" >0.9141</td>\n",
       "      <td id=\"T_04c6a_row0_col4\" class=\"data row0 col4\" >2.62%</td>\n",
       "    </tr>\n",
       "    <tr>\n",
       "      <th id=\"T_04c6a_level0_row1\" class=\"row_heading level0 row1\" >1</th>\n",
       "      <td id=\"T_04c6a_row1_col0\" class=\"data row1 col0\" >best_fit</td>\n",
       "      <td id=\"T_04c6a_row1_col1\" class=\"data row1 col1\" >0.0739</td>\n",
       "      <td id=\"T_04c6a_row1_col2\" class=\"data row1 col2\" >0.0266</td>\n",
       "      <td id=\"T_04c6a_row1_col3\" class=\"data row1 col3\" >0.8968</td>\n",
       "      <td id=\"T_04c6a_row1_col4\" class=\"data row1 col4\" >0.23%</td>\n",
       "    </tr>\n",
       "    <tr>\n",
       "      <th id=\"T_04c6a_level0_row2\" class=\"row_heading level0 row2\" >2</th>\n",
       "      <td id=\"T_04c6a_row2_col0\" class=\"data row2 col0\" >median_ensemble</td>\n",
       "      <td id=\"T_04c6a_row2_col1\" class=\"data row2 col1\" >0.0766</td>\n",
       "      <td id=\"T_04c6a_row2_col2\" class=\"data row2 col2\" >0.0278</td>\n",
       "      <td id=\"T_04c6a_row2_col3\" class=\"data row2 col3\" >0.9284</td>\n",
       "      <td id=\"T_04c6a_row2_col4\" class=\"data row2 col4\" >-0.90%</td>\n",
       "    </tr>\n",
       "    <tr>\n",
       "      <th id=\"T_04c6a_level0_row3\" class=\"row_heading level0 row3\" >3</th>\n",
       "      <td id=\"T_04c6a_row3_col0\" class=\"data row3 col0\" >average_ensemble</td>\n",
       "      <td id=\"T_04c6a_row3_col1\" class=\"data row3 col1\" >0.0826</td>\n",
       "      <td id=\"T_04c6a_row3_col2\" class=\"data row3 col2\" >0.0284</td>\n",
       "      <td id=\"T_04c6a_row3_col3\" class=\"data row3 col3\" >1.0111</td>\n",
       "      <td id=\"T_04c6a_row3_col4\" class=\"data row3 col4\" >1.50%</td>\n",
       "    </tr>\n",
       "    <tr>\n",
       "      <th id=\"T_04c6a_level0_row4\" class=\"row_heading level0 row4\" >4</th>\n",
       "      <td id=\"T_04c6a_row4_col0\" class=\"data row4 col0\" >greedy_ensemble</td>\n",
       "      <td id=\"T_04c6a_row4_col1\" class=\"data row4 col1\" >0.0733</td>\n",
       "      <td id=\"T_04c6a_row4_col2\" class=\"data row4 col2\" >0.0249</td>\n",
       "      <td id=\"T_04c6a_row4_col3\" class=\"data row4 col3\" >0.8946</td>\n",
       "      <td id=\"T_04c6a_row4_col4\" class=\"data row4 col4\" >0.81%</td>\n",
       "    </tr>\n",
       "    <tr>\n",
       "      <th id=\"T_04c6a_level0_row5\" class=\"row_heading level0 row5\" >5</th>\n",
       "      <td id=\"T_04c6a_row5_col0\" class=\"data row5 col0\" >stochastic_hillclimb__ensemble</td>\n",
       "      <td id=\"T_04c6a_row5_col1\" class=\"data row5 col1\" >0.0751</td>\n",
       "      <td id=\"T_04c6a_row5_col2\" class=\"data row5 col2\" >0.0257</td>\n",
       "      <td id=\"T_04c6a_row5_col3\" class=\"data row5 col3\" >0.9203</td>\n",
       "      <td id=\"T_04c6a_row5_col4\" class=\"data row5 col4\" >1.21%</td>\n",
       "    </tr>\n",
       "    <tr>\n",
       "      <th id=\"T_04c6a_level0_row6\" class=\"row_heading level0 row6\" >6</th>\n",
       "      <td id=\"T_04c6a_row6_col0\" class=\"data row6 col0\" >simulated_annealing_ensemble</td>\n",
       "      <td id=\"T_04c6a_row6_col1\" class=\"data row6 col1\" >0.0740</td>\n",
       "      <td id=\"T_04c6a_row6_col2\" class=\"data row6 col2\" >0.0252</td>\n",
       "      <td id=\"T_04c6a_row6_col3\" class=\"data row6 col3\" >0.9055</td>\n",
       "      <td id=\"T_04c6a_row6_col4\" class=\"data row6 col4\" >-0.41%</td>\n",
       "    </tr>\n",
       "    <tr>\n",
       "      <th id=\"T_04c6a_level0_row7\" class=\"row_heading level0 row7\" >7</th>\n",
       "      <td id=\"T_04c6a_row7_col0\" class=\"data row7 col0\" >optimal_combination_ensemble</td>\n",
       "      <td id=\"T_04c6a_row7_col1\" class=\"data row7 col1\" >0.0730</td>\n",
       "      <td id=\"T_04c6a_row7_col2\" class=\"data row7 col2\" >0.0247</td>\n",
       "      <td id=\"T_04c6a_row7_col3\" class=\"data row7 col3\" >0.8939</td>\n",
       "      <td id=\"T_04c6a_row7_col4\" class=\"data row7 col4\" >0.85%</td>\n",
       "    </tr>\n",
       "    <tr>\n",
       "      <th id=\"T_04c6a_level0_row8\" class=\"row_heading level0 row8\" >8</th>\n",
       "      <td id=\"T_04c6a_row8_col0\" class=\"data row8 col0\" >linear_reg_blending</td>\n",
       "      <td id=\"T_04c6a_row8_col1\" class=\"data row8 col1\" >0.0755</td>\n",
       "      <td id=\"T_04c6a_row8_col2\" class=\"data row8 col2\" >0.0245</td>\n",
       "      <td id=\"T_04c6a_row8_col3\" class=\"data row8 col3\" >0.9256</td>\n",
       "      <td id=\"T_04c6a_row8_col4\" class=\"data row8 col4\" >4.36%</td>\n",
       "    </tr>\n",
       "    <tr>\n",
       "      <th id=\"T_04c6a_level0_row9\" class=\"row_heading level0 row9\" >9</th>\n",
       "      <td id=\"T_04c6a_row9_col0\" class=\"data row9 col0\" >ridge_reg_blending</td>\n",
       "      <td id=\"T_04c6a_row9_col1\" class=\"data row9 col1\" >0.0737</td>\n",
       "      <td id=\"T_04c6a_row9_col2\" class=\"data row9 col2\" >0.0243</td>\n",
       "      <td id=\"T_04c6a_row9_col3\" class=\"data row9 col3\" >0.9075</td>\n",
       "      <td id=\"T_04c6a_row9_col4\" class=\"data row9 col4\" >1.96%</td>\n",
       "    </tr>\n",
       "    <tr>\n",
       "      <th id=\"T_04c6a_level0_row10\" class=\"row_heading level0 row10\" >10</th>\n",
       "      <td id=\"T_04c6a_row10_col0\" class=\"data row10 col0\" >lasso_reg_blending</td>\n",
       "      <td id=\"T_04c6a_row10_col1\" class=\"data row10 col1\" >0.0736</td>\n",
       "      <td id=\"T_04c6a_row10_col2\" class=\"data row10 col2\" >0.0243</td>\n",
       "      <td id=\"T_04c6a_row10_col3\" class=\"data row10 col3\" >0.9070</td>\n",
       "      <td id=\"T_04c6a_row10_col4\" class=\"data row10 col4\" >2.03%</td>\n",
       "    </tr>\n",
       "  </tbody>\n",
       "</table>\n"
      ],
      "text/plain": [
       "<pandas.io.formats.style.Styler at 0x7fc71d292fe0>"
      ]
     },
     "metadata": {},
     "output_type": "display_data"
    }
   ],
   "source": [
    "display_metrics(agg_metrics_l)"
   ]
  },
  {
   "cell_type": "markdown",
   "id": "cc1ee13d-8b30-493d-a9d7-27c792f07e3e",
   "metadata": {},
   "source": [
    "### Huber Regression\n",
    "\n",
    "To optimize MAE, we can also use Huber Regressor which uses Huber Loss"
   ]
  },
  {
   "cell_type": "code",
   "execution_count": 82,
   "id": "26a32924-4e83-4dac-93e4-b459f90d6986",
   "metadata": {},
   "outputs": [
    {
     "data": {
      "text/html": [
       "<style>#sk-container-id-4 {\n",
       "  /* Definition of color scheme common for light and dark mode */\n",
       "  --sklearn-color-text: black;\n",
       "  --sklearn-color-line: gray;\n",
       "  /* Definition of color scheme for unfitted estimators */\n",
       "  --sklearn-color-unfitted-level-0: #fff5e6;\n",
       "  --sklearn-color-unfitted-level-1: #f6e4d2;\n",
       "  --sklearn-color-unfitted-level-2: #ffe0b3;\n",
       "  --sklearn-color-unfitted-level-3: chocolate;\n",
       "  /* Definition of color scheme for fitted estimators */\n",
       "  --sklearn-color-fitted-level-0: #f0f8ff;\n",
       "  --sklearn-color-fitted-level-1: #d4ebff;\n",
       "  --sklearn-color-fitted-level-2: #b3dbfd;\n",
       "  --sklearn-color-fitted-level-3: cornflowerblue;\n",
       "\n",
       "  /* Specific color for light theme */\n",
       "  --sklearn-color-text-on-default-background: var(--sg-text-color, var(--theme-code-foreground, var(--jp-content-font-color1, black)));\n",
       "  --sklearn-color-background: var(--sg-background-color, var(--theme-background, var(--jp-layout-color0, white)));\n",
       "  --sklearn-color-border-box: var(--sg-text-color, var(--theme-code-foreground, var(--jp-content-font-color1, black)));\n",
       "  --sklearn-color-icon: #696969;\n",
       "\n",
       "  @media (prefers-color-scheme: dark) {\n",
       "    /* Redefinition of color scheme for dark theme */\n",
       "    --sklearn-color-text-on-default-background: var(--sg-text-color, var(--theme-code-foreground, var(--jp-content-font-color1, white)));\n",
       "    --sklearn-color-background: var(--sg-background-color, var(--theme-background, var(--jp-layout-color0, #111)));\n",
       "    --sklearn-color-border-box: var(--sg-text-color, var(--theme-code-foreground, var(--jp-content-font-color1, white)));\n",
       "    --sklearn-color-icon: #878787;\n",
       "  }\n",
       "}\n",
       "\n",
       "#sk-container-id-4 {\n",
       "  color: var(--sklearn-color-text);\n",
       "}\n",
       "\n",
       "#sk-container-id-4 pre {\n",
       "  padding: 0;\n",
       "}\n",
       "\n",
       "#sk-container-id-4 input.sk-hidden--visually {\n",
       "  border: 0;\n",
       "  clip: rect(1px 1px 1px 1px);\n",
       "  clip: rect(1px, 1px, 1px, 1px);\n",
       "  height: 1px;\n",
       "  margin: -1px;\n",
       "  overflow: hidden;\n",
       "  padding: 0;\n",
       "  position: absolute;\n",
       "  width: 1px;\n",
       "}\n",
       "\n",
       "#sk-container-id-4 div.sk-dashed-wrapped {\n",
       "  border: 1px dashed var(--sklearn-color-line);\n",
       "  margin: 0 0.4em 0.5em 0.4em;\n",
       "  box-sizing: border-box;\n",
       "  padding-bottom: 0.4em;\n",
       "  background-color: var(--sklearn-color-background);\n",
       "}\n",
       "\n",
       "#sk-container-id-4 div.sk-container {\n",
       "  /* jupyter's `normalize.less` sets `[hidden] { display: none; }`\n",
       "     but bootstrap.min.css set `[hidden] { display: none !important; }`\n",
       "     so we also need the `!important` here to be able to override the\n",
       "     default hidden behavior on the sphinx rendered scikit-learn.org.\n",
       "     See: https://github.com/scikit-learn/scikit-learn/issues/21755 */\n",
       "  display: inline-block !important;\n",
       "  position: relative;\n",
       "}\n",
       "\n",
       "#sk-container-id-4 div.sk-text-repr-fallback {\n",
       "  display: none;\n",
       "}\n",
       "\n",
       "div.sk-parallel-item,\n",
       "div.sk-serial,\n",
       "div.sk-item {\n",
       "  /* draw centered vertical line to link estimators */\n",
       "  background-image: linear-gradient(var(--sklearn-color-text-on-default-background), var(--sklearn-color-text-on-default-background));\n",
       "  background-size: 2px 100%;\n",
       "  background-repeat: no-repeat;\n",
       "  background-position: center center;\n",
       "}\n",
       "\n",
       "/* Parallel-specific style estimator block */\n",
       "\n",
       "#sk-container-id-4 div.sk-parallel-item::after {\n",
       "  content: \"\";\n",
       "  width: 100%;\n",
       "  border-bottom: 2px solid var(--sklearn-color-text-on-default-background);\n",
       "  flex-grow: 1;\n",
       "}\n",
       "\n",
       "#sk-container-id-4 div.sk-parallel {\n",
       "  display: flex;\n",
       "  align-items: stretch;\n",
       "  justify-content: center;\n",
       "  background-color: var(--sklearn-color-background);\n",
       "  position: relative;\n",
       "}\n",
       "\n",
       "#sk-container-id-4 div.sk-parallel-item {\n",
       "  display: flex;\n",
       "  flex-direction: column;\n",
       "}\n",
       "\n",
       "#sk-container-id-4 div.sk-parallel-item:first-child::after {\n",
       "  align-self: flex-end;\n",
       "  width: 50%;\n",
       "}\n",
       "\n",
       "#sk-container-id-4 div.sk-parallel-item:last-child::after {\n",
       "  align-self: flex-start;\n",
       "  width: 50%;\n",
       "}\n",
       "\n",
       "#sk-container-id-4 div.sk-parallel-item:only-child::after {\n",
       "  width: 0;\n",
       "}\n",
       "\n",
       "/* Serial-specific style estimator block */\n",
       "\n",
       "#sk-container-id-4 div.sk-serial {\n",
       "  display: flex;\n",
       "  flex-direction: column;\n",
       "  align-items: center;\n",
       "  background-color: var(--sklearn-color-background);\n",
       "  padding-right: 1em;\n",
       "  padding-left: 1em;\n",
       "}\n",
       "\n",
       "\n",
       "/* Toggleable style: style used for estimator/Pipeline/ColumnTransformer box that is\n",
       "clickable and can be expanded/collapsed.\n",
       "- Pipeline and ColumnTransformer use this feature and define the default style\n",
       "- Estimators will overwrite some part of the style using the `sk-estimator` class\n",
       "*/\n",
       "\n",
       "/* Pipeline and ColumnTransformer style (default) */\n",
       "\n",
       "#sk-container-id-4 div.sk-toggleable {\n",
       "  /* Default theme specific background. It is overwritten whether we have a\n",
       "  specific estimator or a Pipeline/ColumnTransformer */\n",
       "  background-color: var(--sklearn-color-background);\n",
       "}\n",
       "\n",
       "/* Toggleable label */\n",
       "#sk-container-id-4 label.sk-toggleable__label {\n",
       "  cursor: pointer;\n",
       "  display: block;\n",
       "  width: 100%;\n",
       "  margin-bottom: 0;\n",
       "  padding: 0.5em;\n",
       "  box-sizing: border-box;\n",
       "  text-align: center;\n",
       "}\n",
       "\n",
       "#sk-container-id-4 label.sk-toggleable__label-arrow:before {\n",
       "  /* Arrow on the left of the label */\n",
       "  content: \"▸\";\n",
       "  float: left;\n",
       "  margin-right: 0.25em;\n",
       "  color: var(--sklearn-color-icon);\n",
       "}\n",
       "\n",
       "#sk-container-id-4 label.sk-toggleable__label-arrow:hover:before {\n",
       "  color: var(--sklearn-color-text);\n",
       "}\n",
       "\n",
       "/* Toggleable content - dropdown */\n",
       "\n",
       "#sk-container-id-4 div.sk-toggleable__content {\n",
       "  max-height: 0;\n",
       "  max-width: 0;\n",
       "  overflow: hidden;\n",
       "  text-align: left;\n",
       "  /* unfitted */\n",
       "  background-color: var(--sklearn-color-unfitted-level-0);\n",
       "}\n",
       "\n",
       "#sk-container-id-4 div.sk-toggleable__content.fitted {\n",
       "  /* fitted */\n",
       "  background-color: var(--sklearn-color-fitted-level-0);\n",
       "}\n",
       "\n",
       "#sk-container-id-4 div.sk-toggleable__content pre {\n",
       "  margin: 0.2em;\n",
       "  border-radius: 0.25em;\n",
       "  color: var(--sklearn-color-text);\n",
       "  /* unfitted */\n",
       "  background-color: var(--sklearn-color-unfitted-level-0);\n",
       "}\n",
       "\n",
       "#sk-container-id-4 div.sk-toggleable__content.fitted pre {\n",
       "  /* unfitted */\n",
       "  background-color: var(--sklearn-color-fitted-level-0);\n",
       "}\n",
       "\n",
       "#sk-container-id-4 input.sk-toggleable__control:checked~div.sk-toggleable__content {\n",
       "  /* Expand drop-down */\n",
       "  max-height: 200px;\n",
       "  max-width: 100%;\n",
       "  overflow: auto;\n",
       "}\n",
       "\n",
       "#sk-container-id-4 input.sk-toggleable__control:checked~label.sk-toggleable__label-arrow:before {\n",
       "  content: \"▾\";\n",
       "}\n",
       "\n",
       "/* Pipeline/ColumnTransformer-specific style */\n",
       "\n",
       "#sk-container-id-4 div.sk-label input.sk-toggleable__control:checked~label.sk-toggleable__label {\n",
       "  color: var(--sklearn-color-text);\n",
       "  background-color: var(--sklearn-color-unfitted-level-2);\n",
       "}\n",
       "\n",
       "#sk-container-id-4 div.sk-label.fitted input.sk-toggleable__control:checked~label.sk-toggleable__label {\n",
       "  background-color: var(--sklearn-color-fitted-level-2);\n",
       "}\n",
       "\n",
       "/* Estimator-specific style */\n",
       "\n",
       "/* Colorize estimator box */\n",
       "#sk-container-id-4 div.sk-estimator input.sk-toggleable__control:checked~label.sk-toggleable__label {\n",
       "  /* unfitted */\n",
       "  background-color: var(--sklearn-color-unfitted-level-2);\n",
       "}\n",
       "\n",
       "#sk-container-id-4 div.sk-estimator.fitted input.sk-toggleable__control:checked~label.sk-toggleable__label {\n",
       "  /* fitted */\n",
       "  background-color: var(--sklearn-color-fitted-level-2);\n",
       "}\n",
       "\n",
       "#sk-container-id-4 div.sk-label label.sk-toggleable__label,\n",
       "#sk-container-id-4 div.sk-label label {\n",
       "  /* The background is the default theme color */\n",
       "  color: var(--sklearn-color-text-on-default-background);\n",
       "}\n",
       "\n",
       "/* On hover, darken the color of the background */\n",
       "#sk-container-id-4 div.sk-label:hover label.sk-toggleable__label {\n",
       "  color: var(--sklearn-color-text);\n",
       "  background-color: var(--sklearn-color-unfitted-level-2);\n",
       "}\n",
       "\n",
       "/* Label box, darken color on hover, fitted */\n",
       "#sk-container-id-4 div.sk-label.fitted:hover label.sk-toggleable__label.fitted {\n",
       "  color: var(--sklearn-color-text);\n",
       "  background-color: var(--sklearn-color-fitted-level-2);\n",
       "}\n",
       "\n",
       "/* Estimator label */\n",
       "\n",
       "#sk-container-id-4 div.sk-label label {\n",
       "  font-family: monospace;\n",
       "  font-weight: bold;\n",
       "  display: inline-block;\n",
       "  line-height: 1.2em;\n",
       "}\n",
       "\n",
       "#sk-container-id-4 div.sk-label-container {\n",
       "  text-align: center;\n",
       "}\n",
       "\n",
       "/* Estimator-specific */\n",
       "#sk-container-id-4 div.sk-estimator {\n",
       "  font-family: monospace;\n",
       "  border: 1px dotted var(--sklearn-color-border-box);\n",
       "  border-radius: 0.25em;\n",
       "  box-sizing: border-box;\n",
       "  margin-bottom: 0.5em;\n",
       "  /* unfitted */\n",
       "  background-color: var(--sklearn-color-unfitted-level-0);\n",
       "}\n",
       "\n",
       "#sk-container-id-4 div.sk-estimator.fitted {\n",
       "  /* fitted */\n",
       "  background-color: var(--sklearn-color-fitted-level-0);\n",
       "}\n",
       "\n",
       "/* on hover */\n",
       "#sk-container-id-4 div.sk-estimator:hover {\n",
       "  /* unfitted */\n",
       "  background-color: var(--sklearn-color-unfitted-level-2);\n",
       "}\n",
       "\n",
       "#sk-container-id-4 div.sk-estimator.fitted:hover {\n",
       "  /* fitted */\n",
       "  background-color: var(--sklearn-color-fitted-level-2);\n",
       "}\n",
       "\n",
       "/* Specification for estimator info (e.g. \"i\" and \"?\") */\n",
       "\n",
       "/* Common style for \"i\" and \"?\" */\n",
       "\n",
       ".sk-estimator-doc-link,\n",
       "a:link.sk-estimator-doc-link,\n",
       "a:visited.sk-estimator-doc-link {\n",
       "  float: right;\n",
       "  font-size: smaller;\n",
       "  line-height: 1em;\n",
       "  font-family: monospace;\n",
       "  background-color: var(--sklearn-color-background);\n",
       "  border-radius: 1em;\n",
       "  height: 1em;\n",
       "  width: 1em;\n",
       "  text-decoration: none !important;\n",
       "  margin-left: 1ex;\n",
       "  /* unfitted */\n",
       "  border: var(--sklearn-color-unfitted-level-1) 1pt solid;\n",
       "  color: var(--sklearn-color-unfitted-level-1);\n",
       "}\n",
       "\n",
       ".sk-estimator-doc-link.fitted,\n",
       "a:link.sk-estimator-doc-link.fitted,\n",
       "a:visited.sk-estimator-doc-link.fitted {\n",
       "  /* fitted */\n",
       "  border: var(--sklearn-color-fitted-level-1) 1pt solid;\n",
       "  color: var(--sklearn-color-fitted-level-1);\n",
       "}\n",
       "\n",
       "/* On hover */\n",
       "div.sk-estimator:hover .sk-estimator-doc-link:hover,\n",
       ".sk-estimator-doc-link:hover,\n",
       "div.sk-label-container:hover .sk-estimator-doc-link:hover,\n",
       ".sk-estimator-doc-link:hover {\n",
       "  /* unfitted */\n",
       "  background-color: var(--sklearn-color-unfitted-level-3);\n",
       "  color: var(--sklearn-color-background);\n",
       "  text-decoration: none;\n",
       "}\n",
       "\n",
       "div.sk-estimator.fitted:hover .sk-estimator-doc-link.fitted:hover,\n",
       ".sk-estimator-doc-link.fitted:hover,\n",
       "div.sk-label-container:hover .sk-estimator-doc-link.fitted:hover,\n",
       ".sk-estimator-doc-link.fitted:hover {\n",
       "  /* fitted */\n",
       "  background-color: var(--sklearn-color-fitted-level-3);\n",
       "  color: var(--sklearn-color-background);\n",
       "  text-decoration: none;\n",
       "}\n",
       "\n",
       "/* Span, style for the box shown on hovering the info icon */\n",
       ".sk-estimator-doc-link span {\n",
       "  display: none;\n",
       "  z-index: 9999;\n",
       "  position: relative;\n",
       "  font-weight: normal;\n",
       "  right: .2ex;\n",
       "  padding: .5ex;\n",
       "  margin: .5ex;\n",
       "  width: min-content;\n",
       "  min-width: 20ex;\n",
       "  max-width: 50ex;\n",
       "  color: var(--sklearn-color-text);\n",
       "  box-shadow: 2pt 2pt 4pt #999;\n",
       "  /* unfitted */\n",
       "  background: var(--sklearn-color-unfitted-level-0);\n",
       "  border: .5pt solid var(--sklearn-color-unfitted-level-3);\n",
       "}\n",
       "\n",
       ".sk-estimator-doc-link.fitted span {\n",
       "  /* fitted */\n",
       "  background: var(--sklearn-color-fitted-level-0);\n",
       "  border: var(--sklearn-color-fitted-level-3);\n",
       "}\n",
       "\n",
       ".sk-estimator-doc-link:hover span {\n",
       "  display: block;\n",
       "}\n",
       "\n",
       "/* \"?\"-specific style due to the `<a>` HTML tag */\n",
       "\n",
       "#sk-container-id-4 a.estimator_doc_link {\n",
       "  float: right;\n",
       "  font-size: 1rem;\n",
       "  line-height: 1em;\n",
       "  font-family: monospace;\n",
       "  background-color: var(--sklearn-color-background);\n",
       "  border-radius: 1rem;\n",
       "  height: 1rem;\n",
       "  width: 1rem;\n",
       "  text-decoration: none;\n",
       "  /* unfitted */\n",
       "  color: var(--sklearn-color-unfitted-level-1);\n",
       "  border: var(--sklearn-color-unfitted-level-1) 1pt solid;\n",
       "}\n",
       "\n",
       "#sk-container-id-4 a.estimator_doc_link.fitted {\n",
       "  /* fitted */\n",
       "  border: var(--sklearn-color-fitted-level-1) 1pt solid;\n",
       "  color: var(--sklearn-color-fitted-level-1);\n",
       "}\n",
       "\n",
       "/* On hover */\n",
       "#sk-container-id-4 a.estimator_doc_link:hover {\n",
       "  /* unfitted */\n",
       "  background-color: var(--sklearn-color-unfitted-level-3);\n",
       "  color: var(--sklearn-color-background);\n",
       "  text-decoration: none;\n",
       "}\n",
       "\n",
       "#sk-container-id-4 a.estimator_doc_link.fitted:hover {\n",
       "  /* fitted */\n",
       "  background-color: var(--sklearn-color-fitted-level-3);\n",
       "}\n",
       "</style><div id=\"sk-container-id-4\" class=\"sk-top-container\"><div class=\"sk-text-repr-fallback\"><pre>HuberRegressor()</pre><b>In a Jupyter environment, please rerun this cell to show the HTML representation or trust the notebook. <br />On GitHub, the HTML representation is unable to render, please try loading this page with nbviewer.org.</b></div><div class=\"sk-container\" hidden><div class=\"sk-item\"><div class=\"sk-estimator fitted sk-toggleable\"><input class=\"sk-toggleable__control sk-hidden--visually\" id=\"sk-estimator-id-4\" type=\"checkbox\" checked><label for=\"sk-estimator-id-4\" class=\"sk-toggleable__label fitted sk-toggleable__label-arrow fitted\">&nbsp;&nbsp;HuberRegressor<a class=\"sk-estimator-doc-link fitted\" rel=\"noreferrer\" target=\"_blank\" href=\"https://scikit-learn.org/1.5/modules/generated/sklearn.linear_model.HuberRegressor.html\">?<span>Documentation for HuberRegressor</span></a><span class=\"sk-estimator-doc-link fitted\">i<span>Fitted</span></span></label><div class=\"sk-toggleable__content fitted\"><pre>HuberRegressor()</pre></div> </div></div></div></div>"
      ],
      "text/plain": [
       "HuberRegressor()"
      ]
     },
     "execution_count": 82,
     "metadata": {},
     "output_type": "execute_result"
    }
   ],
   "source": [
    "stacking_model = HuberRegressor()\n",
    "stacking_model.fit(\n",
    "    pred_wide_val[ensemble_forecasts], pred_wide_val[\"energy_consumption\"]\n",
    ")"
   ]
  },
  {
   "cell_type": "code",
   "execution_count": 83,
   "id": "f25818e2-ba6d-4bcf-85db-c1f55112164d",
   "metadata": {},
   "outputs": [
    {
     "data": {
      "text/html": [
       "<div>\n",
       "<style scoped>\n",
       "    .dataframe tbody tr th:only-of-type {\n",
       "        vertical-align: middle;\n",
       "    }\n",
       "\n",
       "    .dataframe tbody tr th {\n",
       "        vertical-align: top;\n",
       "    }\n",
       "\n",
       "    .dataframe thead th {\n",
       "        text-align: right;\n",
       "    }\n",
       "</style>\n",
       "<table border=\"1\" class=\"dataframe\">\n",
       "  <thead>\n",
       "    <tr style=\"text-align: right;\">\n",
       "      <th></th>\n",
       "      <th>Forecast</th>\n",
       "      <th>Weights</th>\n",
       "    </tr>\n",
       "  </thead>\n",
       "  <tbody>\n",
       "    <tr>\n",
       "      <th>3</th>\n",
       "      <td>LightGBM</td>\n",
       "      <td>0.4013</td>\n",
       "    </tr>\n",
       "    <tr>\n",
       "      <th>4</th>\n",
       "      <td>LightGBM_auto_stat</td>\n",
       "      <td>0.2743</td>\n",
       "    </tr>\n",
       "    <tr>\n",
       "      <th>1</th>\n",
       "      <td>Lasso Regression</td>\n",
       "      <td>0.1806</td>\n",
       "    </tr>\n",
       "    <tr>\n",
       "      <th>2</th>\n",
       "      <td>Lasso Regression_auto_stat</td>\n",
       "      <td>0.1511</td>\n",
       "    </tr>\n",
       "    <tr>\n",
       "      <th>6</th>\n",
       "      <td>XGB Random Forest</td>\n",
       "      <td>0.1090</td>\n",
       "    </tr>\n",
       "    <tr>\n",
       "      <th>5</th>\n",
       "      <td>Theta</td>\n",
       "      <td>-0.0181</td>\n",
       "    </tr>\n",
       "    <tr>\n",
       "      <th>0</th>\n",
       "      <td>FFT</td>\n",
       "      <td>-0.0538</td>\n",
       "    </tr>\n",
       "    <tr>\n",
       "      <th>7</th>\n",
       "      <td>XGB Random Forest_auto_stat</td>\n",
       "      <td>-0.0881</td>\n",
       "    </tr>\n",
       "  </tbody>\n",
       "</table>\n",
       "</div>"
      ],
      "text/plain": [
       "                      Forecast  Weights\n",
       "3                     LightGBM   0.4013\n",
       "4           LightGBM_auto_stat   0.2743\n",
       "1             Lasso Regression   0.1806\n",
       "2   Lasso Regression_auto_stat   0.1511\n",
       "6            XGB Random Forest   0.1090\n",
       "5                        Theta  -0.0181\n",
       "0                          FFT  -0.0538\n",
       "7  XGB Random Forest_auto_stat  -0.0881"
      ]
     },
     "execution_count": 83,
     "metadata": {},
     "output_type": "execute_result"
    }
   ],
   "source": [
    "pd.DataFrame({\"Forecast\": ensemble_forecasts, \"Weights\": stacking_model.coef_}).round(\n",
    "    4\n",
    ").sort_values(\"Weights\", ascending=False)"
   ]
  },
  {
   "cell_type": "code",
   "execution_count": 84,
   "id": "c2700e99-f9d6-4a5a-82bb-aa85a61818e5",
   "metadata": {},
   "outputs": [],
   "source": [
    "pred_wide_test[\"huber_reg_blending\"] = stacking_model.predict(\n",
    "    pred_wide_test[ensemble_forecasts]\n",
    ")"
   ]
  },
  {
   "cell_type": "code",
   "execution_count": 85,
   "id": "82949787-18b2-4e1a-8846-755e92966ad4",
   "metadata": {},
   "outputs": [
    {
     "data": {
      "application/vnd.jupyter.widget-view+json": {
       "model_id": "307612b282704570840b886190aa498e",
       "version_major": 2,
       "version_minor": 0
      },
      "text/plain": [
       "  0%|          | 0/150 [00:00<?, ?it/s]"
      ]
     },
     "metadata": {},
     "output_type": "display_data"
    },
    {
     "name": "stdout",
     "output_type": "stream",
     "text": [
      "{'Algorithm': 'huber_reg_blending', 'MAE': 0.07033893874148929, 'MSE': 0.024571137170415005, 'meanMASE': 0.8969600071808124, 'Forecast Bias': -6.474402288985733}\n"
     ]
    }
   ],
   "source": [
    "agg_metric_ = evaluate_ensemble(\n",
    "    pred_wide_test,\n",
    "    train_val_target,\n",
    "    \"huber_reg_blending\",\n",
    "    \"energy_consumption\",\n",
    "    \"LCLid\",\n",
    ")\n",
    "print(agg_metric_)\n",
    "agg_metrics_l.append(agg_metric_)"
   ]
  },
  {
   "cell_type": "code",
   "execution_count": 86,
   "id": "2cd7adf0-6e89-49e0-98de-dda5279194d4",
   "metadata": {},
   "outputs": [
    {
     "data": {
      "text/html": [
       "<style type=\"text/css\">\n",
       "#T_bb147_row1_col4 {\n",
       "  color: black;\n",
       "  background-color: lightgreen;\n",
       "}\n",
       "#T_bb147_row7_col3, #T_bb147_row10_col2, #T_bb147_row11_col1 {\n",
       "  background-color: lightgreen;\n",
       "}\n",
       "</style>\n",
       "<table id=\"T_bb147\">\n",
       "  <thead>\n",
       "    <tr>\n",
       "      <th class=\"blank level0\" >&nbsp;</th>\n",
       "      <th id=\"T_bb147_level0_col0\" class=\"col_heading level0 col0\" >Algorithm</th>\n",
       "      <th id=\"T_bb147_level0_col1\" class=\"col_heading level0 col1\" >MAE</th>\n",
       "      <th id=\"T_bb147_level0_col2\" class=\"col_heading level0 col2\" >MSE</th>\n",
       "      <th id=\"T_bb147_level0_col3\" class=\"col_heading level0 col3\" >meanMASE</th>\n",
       "      <th id=\"T_bb147_level0_col4\" class=\"col_heading level0 col4\" >Forecast Bias</th>\n",
       "    </tr>\n",
       "  </thead>\n",
       "  <tbody>\n",
       "    <tr>\n",
       "      <th id=\"T_bb147_level0_row0\" class=\"row_heading level0 row0\" >0</th>\n",
       "      <td id=\"T_bb147_row0_col0\" class=\"data row0 col0\" >LightGBM</td>\n",
       "      <td id=\"T_bb147_row0_col1\" class=\"data row0 col1\" >0.0750</td>\n",
       "      <td id=\"T_bb147_row0_col2\" class=\"data row0 col2\" >0.0268</td>\n",
       "      <td id=\"T_bb147_row0_col3\" class=\"data row0 col3\" >0.9141</td>\n",
       "      <td id=\"T_bb147_row0_col4\" class=\"data row0 col4\" >2.62%</td>\n",
       "    </tr>\n",
       "    <tr>\n",
       "      <th id=\"T_bb147_level0_row1\" class=\"row_heading level0 row1\" >1</th>\n",
       "      <td id=\"T_bb147_row1_col0\" class=\"data row1 col0\" >best_fit</td>\n",
       "      <td id=\"T_bb147_row1_col1\" class=\"data row1 col1\" >0.0739</td>\n",
       "      <td id=\"T_bb147_row1_col2\" class=\"data row1 col2\" >0.0266</td>\n",
       "      <td id=\"T_bb147_row1_col3\" class=\"data row1 col3\" >0.8968</td>\n",
       "      <td id=\"T_bb147_row1_col4\" class=\"data row1 col4\" >0.23%</td>\n",
       "    </tr>\n",
       "    <tr>\n",
       "      <th id=\"T_bb147_level0_row2\" class=\"row_heading level0 row2\" >2</th>\n",
       "      <td id=\"T_bb147_row2_col0\" class=\"data row2 col0\" >median_ensemble</td>\n",
       "      <td id=\"T_bb147_row2_col1\" class=\"data row2 col1\" >0.0766</td>\n",
       "      <td id=\"T_bb147_row2_col2\" class=\"data row2 col2\" >0.0278</td>\n",
       "      <td id=\"T_bb147_row2_col3\" class=\"data row2 col3\" >0.9284</td>\n",
       "      <td id=\"T_bb147_row2_col4\" class=\"data row2 col4\" >-0.90%</td>\n",
       "    </tr>\n",
       "    <tr>\n",
       "      <th id=\"T_bb147_level0_row3\" class=\"row_heading level0 row3\" >3</th>\n",
       "      <td id=\"T_bb147_row3_col0\" class=\"data row3 col0\" >average_ensemble</td>\n",
       "      <td id=\"T_bb147_row3_col1\" class=\"data row3 col1\" >0.0826</td>\n",
       "      <td id=\"T_bb147_row3_col2\" class=\"data row3 col2\" >0.0284</td>\n",
       "      <td id=\"T_bb147_row3_col3\" class=\"data row3 col3\" >1.0111</td>\n",
       "      <td id=\"T_bb147_row3_col4\" class=\"data row3 col4\" >1.50%</td>\n",
       "    </tr>\n",
       "    <tr>\n",
       "      <th id=\"T_bb147_level0_row4\" class=\"row_heading level0 row4\" >4</th>\n",
       "      <td id=\"T_bb147_row4_col0\" class=\"data row4 col0\" >greedy_ensemble</td>\n",
       "      <td id=\"T_bb147_row4_col1\" class=\"data row4 col1\" >0.0733</td>\n",
       "      <td id=\"T_bb147_row4_col2\" class=\"data row4 col2\" >0.0249</td>\n",
       "      <td id=\"T_bb147_row4_col3\" class=\"data row4 col3\" >0.8946</td>\n",
       "      <td id=\"T_bb147_row4_col4\" class=\"data row4 col4\" >0.81%</td>\n",
       "    </tr>\n",
       "    <tr>\n",
       "      <th id=\"T_bb147_level0_row5\" class=\"row_heading level0 row5\" >5</th>\n",
       "      <td id=\"T_bb147_row5_col0\" class=\"data row5 col0\" >stochastic_hillclimb__ensemble</td>\n",
       "      <td id=\"T_bb147_row5_col1\" class=\"data row5 col1\" >0.0751</td>\n",
       "      <td id=\"T_bb147_row5_col2\" class=\"data row5 col2\" >0.0257</td>\n",
       "      <td id=\"T_bb147_row5_col3\" class=\"data row5 col3\" >0.9203</td>\n",
       "      <td id=\"T_bb147_row5_col4\" class=\"data row5 col4\" >1.21%</td>\n",
       "    </tr>\n",
       "    <tr>\n",
       "      <th id=\"T_bb147_level0_row6\" class=\"row_heading level0 row6\" >6</th>\n",
       "      <td id=\"T_bb147_row6_col0\" class=\"data row6 col0\" >simulated_annealing_ensemble</td>\n",
       "      <td id=\"T_bb147_row6_col1\" class=\"data row6 col1\" >0.0740</td>\n",
       "      <td id=\"T_bb147_row6_col2\" class=\"data row6 col2\" >0.0252</td>\n",
       "      <td id=\"T_bb147_row6_col3\" class=\"data row6 col3\" >0.9055</td>\n",
       "      <td id=\"T_bb147_row6_col4\" class=\"data row6 col4\" >-0.41%</td>\n",
       "    </tr>\n",
       "    <tr>\n",
       "      <th id=\"T_bb147_level0_row7\" class=\"row_heading level0 row7\" >7</th>\n",
       "      <td id=\"T_bb147_row7_col0\" class=\"data row7 col0\" >optimal_combination_ensemble</td>\n",
       "      <td id=\"T_bb147_row7_col1\" class=\"data row7 col1\" >0.0730</td>\n",
       "      <td id=\"T_bb147_row7_col2\" class=\"data row7 col2\" >0.0247</td>\n",
       "      <td id=\"T_bb147_row7_col3\" class=\"data row7 col3\" >0.8939</td>\n",
       "      <td id=\"T_bb147_row7_col4\" class=\"data row7 col4\" >0.85%</td>\n",
       "    </tr>\n",
       "    <tr>\n",
       "      <th id=\"T_bb147_level0_row8\" class=\"row_heading level0 row8\" >8</th>\n",
       "      <td id=\"T_bb147_row8_col0\" class=\"data row8 col0\" >linear_reg_blending</td>\n",
       "      <td id=\"T_bb147_row8_col1\" class=\"data row8 col1\" >0.0755</td>\n",
       "      <td id=\"T_bb147_row8_col2\" class=\"data row8 col2\" >0.0245</td>\n",
       "      <td id=\"T_bb147_row8_col3\" class=\"data row8 col3\" >0.9256</td>\n",
       "      <td id=\"T_bb147_row8_col4\" class=\"data row8 col4\" >4.36%</td>\n",
       "    </tr>\n",
       "    <tr>\n",
       "      <th id=\"T_bb147_level0_row9\" class=\"row_heading level0 row9\" >9</th>\n",
       "      <td id=\"T_bb147_row9_col0\" class=\"data row9 col0\" >ridge_reg_blending</td>\n",
       "      <td id=\"T_bb147_row9_col1\" class=\"data row9 col1\" >0.0737</td>\n",
       "      <td id=\"T_bb147_row9_col2\" class=\"data row9 col2\" >0.0243</td>\n",
       "      <td id=\"T_bb147_row9_col3\" class=\"data row9 col3\" >0.9075</td>\n",
       "      <td id=\"T_bb147_row9_col4\" class=\"data row9 col4\" >1.96%</td>\n",
       "    </tr>\n",
       "    <tr>\n",
       "      <th id=\"T_bb147_level0_row10\" class=\"row_heading level0 row10\" >10</th>\n",
       "      <td id=\"T_bb147_row10_col0\" class=\"data row10 col0\" >lasso_reg_blending</td>\n",
       "      <td id=\"T_bb147_row10_col1\" class=\"data row10 col1\" >0.0736</td>\n",
       "      <td id=\"T_bb147_row10_col2\" class=\"data row10 col2\" >0.0243</td>\n",
       "      <td id=\"T_bb147_row10_col3\" class=\"data row10 col3\" >0.9070</td>\n",
       "      <td id=\"T_bb147_row10_col4\" class=\"data row10 col4\" >2.03%</td>\n",
       "    </tr>\n",
       "    <tr>\n",
       "      <th id=\"T_bb147_level0_row11\" class=\"row_heading level0 row11\" >11</th>\n",
       "      <td id=\"T_bb147_row11_col0\" class=\"data row11 col0\" >huber_reg_blending</td>\n",
       "      <td id=\"T_bb147_row11_col1\" class=\"data row11 col1\" >0.0703</td>\n",
       "      <td id=\"T_bb147_row11_col2\" class=\"data row11 col2\" >0.0246</td>\n",
       "      <td id=\"T_bb147_row11_col3\" class=\"data row11 col3\" >0.8970</td>\n",
       "      <td id=\"T_bb147_row11_col4\" class=\"data row11 col4\" >-6.47%</td>\n",
       "    </tr>\n",
       "  </tbody>\n",
       "</table>\n"
      ],
      "text/plain": [
       "<pandas.io.formats.style.Styler at 0x7fc71d290be0>"
      ]
     },
     "metadata": {},
     "output_type": "display_data"
    }
   ],
   "source": [
    "display_metrics(agg_metrics_l)"
   ]
  },
  {
   "cell_type": "markdown",
   "id": "a7a28831-e248-4e04-a7a8-7cc98ab5dfb4",
   "metadata": {
    "tags": []
   },
   "source": [
    "## Bonus: Regularization through Variety"
   ]
  },
  {
   "cell_type": "markdown",
   "id": "a9d32b56-763b-42df-a020-b985ef518f91",
   "metadata": {
    "tags": []
   },
   "source": [
    "### Correlation as Variety"
   ]
  },
  {
   "cell_type": "code",
   "execution_count": 87,
   "id": "7cee9942-6c74-458a-ab95-b8a9ae372eb9",
   "metadata": {},
   "outputs": [],
   "source": [
    "from src.utils.plotting_utils import plot_correlation_plot"
   ]
  },
  {
   "cell_type": "code",
   "execution_count": 88,
   "id": "b3cab7a2-a3d9-4ceb-b0ea-a43959a4d4a2",
   "metadata": {},
   "outputs": [
    {
     "data": {
      "application/vnd.plotly.v1+json": {
       "config": {
        "plotlyServerURL": "https://plot.ly"
       },
       "data": [
        {
         "colorscale": [
          [
           0,
           "rgb(103,0,31)"
          ],
          [
           0.1,
           "rgb(178,24,43)"
          ],
          [
           0.2,
           "rgb(214,96,77)"
          ],
          [
           0.3,
           "rgb(244,165,130)"
          ],
          [
           0.4,
           "rgb(253,219,199)"
          ],
          [
           0.5,
           "rgb(247,247,247)"
          ],
          [
           0.6,
           "rgb(209,229,240)"
          ],
          [
           0.7,
           "rgb(146,197,222)"
          ],
          [
           0.8,
           "rgb(67,147,195)"
          ],
          [
           0.9,
           "rgb(33,102,172)"
          ],
          [
           1,
           "rgb(5,48,97)"
          ]
         ],
         "hoverinfo": "none",
         "reversescale": false,
         "showscale": true,
         "type": "heatmap",
         "x": [
          "FFT",
          "Lasso Regression",
          "Lasso Regression_auto_stat",
          "LightGBM",
          "LightGBM_auto_stat",
          "Theta",
          "XGB Random Forest",
          "XGB Random Forest_auto_stat"
         ],
         "xgap": 1,
         "y": [
          "FFT",
          "Lasso Regression",
          "Lasso Regression_auto_stat",
          "LightGBM",
          "LightGBM_auto_stat",
          "Theta",
          "XGB Random Forest",
          "XGB Random Forest_auto_stat"
         ],
         "ygap": 1,
         "z": [
          [
           null,
           null,
           null,
           null,
           null,
           null,
           null,
           null
          ],
          [
           0.76,
           null,
           null,
           null,
           null,
           null,
           null,
           null
          ],
          [
           0.72,
           0.97,
           null,
           null,
           null,
           null,
           null,
           null
          ],
          [
           0.76,
           0.97,
           0.93,
           null,
           null,
           null,
           null,
           null
          ],
          [
           0.77,
           0.95,
           0.93,
           0.98,
           null,
           null,
           null,
           null
          ],
          [
           0.74,
           0.65,
           0.64,
           0.66,
           0.68,
           null,
           null,
           null
          ],
          [
           0.76,
           0.97,
           0.93,
           0.98,
           0.97,
           0.65,
           null,
           null
          ],
          [
           0.8,
           0.94,
           0.93,
           0.96,
           0.97,
           0.69,
           0.96,
           null
          ]
         ]
        }
       ],
       "layout": {
        "annotations": [
         {
          "font": {
           "color": "#FFFFFF"
          },
          "showarrow": false,
          "text": "",
          "x": "FFT",
          "xref": "x",
          "y": "FFT",
          "yref": "y"
         },
         {
          "font": {
           "color": "#FFFFFF"
          },
          "showarrow": false,
          "text": "",
          "x": "Lasso Regression",
          "xref": "x",
          "y": "FFT",
          "yref": "y"
         },
         {
          "font": {
           "color": "#FFFFFF"
          },
          "showarrow": false,
          "text": "",
          "x": "Lasso Regression_auto_stat",
          "xref": "x",
          "y": "FFT",
          "yref": "y"
         },
         {
          "font": {
           "color": "#FFFFFF"
          },
          "showarrow": false,
          "text": "",
          "x": "LightGBM",
          "xref": "x",
          "y": "FFT",
          "yref": "y"
         },
         {
          "font": {
           "color": "#FFFFFF"
          },
          "showarrow": false,
          "text": "",
          "x": "LightGBM_auto_stat",
          "xref": "x",
          "y": "FFT",
          "yref": "y"
         },
         {
          "font": {
           "color": "#FFFFFF"
          },
          "showarrow": false,
          "text": "",
          "x": "Theta",
          "xref": "x",
          "y": "FFT",
          "yref": "y"
         },
         {
          "font": {
           "color": "#FFFFFF"
          },
          "showarrow": false,
          "text": "",
          "x": "XGB Random Forest",
          "xref": "x",
          "y": "FFT",
          "yref": "y"
         },
         {
          "font": {
           "color": "#FFFFFF"
          },
          "showarrow": false,
          "text": "",
          "x": "XGB Random Forest_auto_stat",
          "xref": "x",
          "y": "FFT",
          "yref": "y"
         },
         {
          "font": {
           "color": "#FFFFFF"
          },
          "showarrow": false,
          "text": "0.76",
          "x": "FFT",
          "xref": "x",
          "y": "Lasso Regression",
          "yref": "y"
         },
         {
          "font": {
           "color": "#FFFFFF"
          },
          "showarrow": false,
          "text": "",
          "x": "Lasso Regression",
          "xref": "x",
          "y": "Lasso Regression",
          "yref": "y"
         },
         {
          "font": {
           "color": "#FFFFFF"
          },
          "showarrow": false,
          "text": "",
          "x": "Lasso Regression_auto_stat",
          "xref": "x",
          "y": "Lasso Regression",
          "yref": "y"
         },
         {
          "font": {
           "color": "#FFFFFF"
          },
          "showarrow": false,
          "text": "",
          "x": "LightGBM",
          "xref": "x",
          "y": "Lasso Regression",
          "yref": "y"
         },
         {
          "font": {
           "color": "#FFFFFF"
          },
          "showarrow": false,
          "text": "",
          "x": "LightGBM_auto_stat",
          "xref": "x",
          "y": "Lasso Regression",
          "yref": "y"
         },
         {
          "font": {
           "color": "#FFFFFF"
          },
          "showarrow": false,
          "text": "",
          "x": "Theta",
          "xref": "x",
          "y": "Lasso Regression",
          "yref": "y"
         },
         {
          "font": {
           "color": "#FFFFFF"
          },
          "showarrow": false,
          "text": "",
          "x": "XGB Random Forest",
          "xref": "x",
          "y": "Lasso Regression",
          "yref": "y"
         },
         {
          "font": {
           "color": "#FFFFFF"
          },
          "showarrow": false,
          "text": "",
          "x": "XGB Random Forest_auto_stat",
          "xref": "x",
          "y": "Lasso Regression",
          "yref": "y"
         },
         {
          "font": {
           "color": "#FFFFFF"
          },
          "showarrow": false,
          "text": "0.72",
          "x": "FFT",
          "xref": "x",
          "y": "Lasso Regression_auto_stat",
          "yref": "y"
         },
         {
          "font": {
           "color": "#FFFFFF"
          },
          "showarrow": false,
          "text": "0.97",
          "x": "Lasso Regression",
          "xref": "x",
          "y": "Lasso Regression_auto_stat",
          "yref": "y"
         },
         {
          "font": {
           "color": "#FFFFFF"
          },
          "showarrow": false,
          "text": "",
          "x": "Lasso Regression_auto_stat",
          "xref": "x",
          "y": "Lasso Regression_auto_stat",
          "yref": "y"
         },
         {
          "font": {
           "color": "#FFFFFF"
          },
          "showarrow": false,
          "text": "",
          "x": "LightGBM",
          "xref": "x",
          "y": "Lasso Regression_auto_stat",
          "yref": "y"
         },
         {
          "font": {
           "color": "#FFFFFF"
          },
          "showarrow": false,
          "text": "",
          "x": "LightGBM_auto_stat",
          "xref": "x",
          "y": "Lasso Regression_auto_stat",
          "yref": "y"
         },
         {
          "font": {
           "color": "#FFFFFF"
          },
          "showarrow": false,
          "text": "",
          "x": "Theta",
          "xref": "x",
          "y": "Lasso Regression_auto_stat",
          "yref": "y"
         },
         {
          "font": {
           "color": "#FFFFFF"
          },
          "showarrow": false,
          "text": "",
          "x": "XGB Random Forest",
          "xref": "x",
          "y": "Lasso Regression_auto_stat",
          "yref": "y"
         },
         {
          "font": {
           "color": "#FFFFFF"
          },
          "showarrow": false,
          "text": "",
          "x": "XGB Random Forest_auto_stat",
          "xref": "x",
          "y": "Lasso Regression_auto_stat",
          "yref": "y"
         },
         {
          "font": {
           "color": "#FFFFFF"
          },
          "showarrow": false,
          "text": "0.76",
          "x": "FFT",
          "xref": "x",
          "y": "LightGBM",
          "yref": "y"
         },
         {
          "font": {
           "color": "#FFFFFF"
          },
          "showarrow": false,
          "text": "0.97",
          "x": "Lasso Regression",
          "xref": "x",
          "y": "LightGBM",
          "yref": "y"
         },
         {
          "font": {
           "color": "#FFFFFF"
          },
          "showarrow": false,
          "text": "0.93",
          "x": "Lasso Regression_auto_stat",
          "xref": "x",
          "y": "LightGBM",
          "yref": "y"
         },
         {
          "font": {
           "color": "#FFFFFF"
          },
          "showarrow": false,
          "text": "",
          "x": "LightGBM",
          "xref": "x",
          "y": "LightGBM",
          "yref": "y"
         },
         {
          "font": {
           "color": "#FFFFFF"
          },
          "showarrow": false,
          "text": "",
          "x": "LightGBM_auto_stat",
          "xref": "x",
          "y": "LightGBM",
          "yref": "y"
         },
         {
          "font": {
           "color": "#FFFFFF"
          },
          "showarrow": false,
          "text": "",
          "x": "Theta",
          "xref": "x",
          "y": "LightGBM",
          "yref": "y"
         },
         {
          "font": {
           "color": "#FFFFFF"
          },
          "showarrow": false,
          "text": "",
          "x": "XGB Random Forest",
          "xref": "x",
          "y": "LightGBM",
          "yref": "y"
         },
         {
          "font": {
           "color": "#FFFFFF"
          },
          "showarrow": false,
          "text": "",
          "x": "XGB Random Forest_auto_stat",
          "xref": "x",
          "y": "LightGBM",
          "yref": "y"
         },
         {
          "font": {
           "color": "#FFFFFF"
          },
          "showarrow": false,
          "text": "0.77",
          "x": "FFT",
          "xref": "x",
          "y": "LightGBM_auto_stat",
          "yref": "y"
         },
         {
          "font": {
           "color": "#FFFFFF"
          },
          "showarrow": false,
          "text": "0.95",
          "x": "Lasso Regression",
          "xref": "x",
          "y": "LightGBM_auto_stat",
          "yref": "y"
         },
         {
          "font": {
           "color": "#FFFFFF"
          },
          "showarrow": false,
          "text": "0.93",
          "x": "Lasso Regression_auto_stat",
          "xref": "x",
          "y": "LightGBM_auto_stat",
          "yref": "y"
         },
         {
          "font": {
           "color": "#FFFFFF"
          },
          "showarrow": false,
          "text": "0.98",
          "x": "LightGBM",
          "xref": "x",
          "y": "LightGBM_auto_stat",
          "yref": "y"
         },
         {
          "font": {
           "color": "#FFFFFF"
          },
          "showarrow": false,
          "text": "",
          "x": "LightGBM_auto_stat",
          "xref": "x",
          "y": "LightGBM_auto_stat",
          "yref": "y"
         },
         {
          "font": {
           "color": "#FFFFFF"
          },
          "showarrow": false,
          "text": "",
          "x": "Theta",
          "xref": "x",
          "y": "LightGBM_auto_stat",
          "yref": "y"
         },
         {
          "font": {
           "color": "#FFFFFF"
          },
          "showarrow": false,
          "text": "",
          "x": "XGB Random Forest",
          "xref": "x",
          "y": "LightGBM_auto_stat",
          "yref": "y"
         },
         {
          "font": {
           "color": "#FFFFFF"
          },
          "showarrow": false,
          "text": "",
          "x": "XGB Random Forest_auto_stat",
          "xref": "x",
          "y": "LightGBM_auto_stat",
          "yref": "y"
         },
         {
          "font": {
           "color": "#FFFFFF"
          },
          "showarrow": false,
          "text": "0.74",
          "x": "FFT",
          "xref": "x",
          "y": "Theta",
          "yref": "y"
         },
         {
          "font": {
           "color": "#FFFFFF"
          },
          "showarrow": false,
          "text": "0.65",
          "x": "Lasso Regression",
          "xref": "x",
          "y": "Theta",
          "yref": "y"
         },
         {
          "font": {
           "color": "#FFFFFF"
          },
          "showarrow": false,
          "text": "0.64",
          "x": "Lasso Regression_auto_stat",
          "xref": "x",
          "y": "Theta",
          "yref": "y"
         },
         {
          "font": {
           "color": "#FFFFFF"
          },
          "showarrow": false,
          "text": "0.66",
          "x": "LightGBM",
          "xref": "x",
          "y": "Theta",
          "yref": "y"
         },
         {
          "font": {
           "color": "#FFFFFF"
          },
          "showarrow": false,
          "text": "0.68",
          "x": "LightGBM_auto_stat",
          "xref": "x",
          "y": "Theta",
          "yref": "y"
         },
         {
          "font": {
           "color": "#FFFFFF"
          },
          "showarrow": false,
          "text": "",
          "x": "Theta",
          "xref": "x",
          "y": "Theta",
          "yref": "y"
         },
         {
          "font": {
           "color": "#FFFFFF"
          },
          "showarrow": false,
          "text": "",
          "x": "XGB Random Forest",
          "xref": "x",
          "y": "Theta",
          "yref": "y"
         },
         {
          "font": {
           "color": "#FFFFFF"
          },
          "showarrow": false,
          "text": "",
          "x": "XGB Random Forest_auto_stat",
          "xref": "x",
          "y": "Theta",
          "yref": "y"
         },
         {
          "font": {
           "color": "#FFFFFF"
          },
          "showarrow": false,
          "text": "0.76",
          "x": "FFT",
          "xref": "x",
          "y": "XGB Random Forest",
          "yref": "y"
         },
         {
          "font": {
           "color": "#FFFFFF"
          },
          "showarrow": false,
          "text": "0.97",
          "x": "Lasso Regression",
          "xref": "x",
          "y": "XGB Random Forest",
          "yref": "y"
         },
         {
          "font": {
           "color": "#FFFFFF"
          },
          "showarrow": false,
          "text": "0.93",
          "x": "Lasso Regression_auto_stat",
          "xref": "x",
          "y": "XGB Random Forest",
          "yref": "y"
         },
         {
          "font": {
           "color": "#FFFFFF"
          },
          "showarrow": false,
          "text": "0.98",
          "x": "LightGBM",
          "xref": "x",
          "y": "XGB Random Forest",
          "yref": "y"
         },
         {
          "font": {
           "color": "#FFFFFF"
          },
          "showarrow": false,
          "text": "0.97",
          "x": "LightGBM_auto_stat",
          "xref": "x",
          "y": "XGB Random Forest",
          "yref": "y"
         },
         {
          "font": {
           "color": "#FFFFFF"
          },
          "showarrow": false,
          "text": "0.65",
          "x": "Theta",
          "xref": "x",
          "y": "XGB Random Forest",
          "yref": "y"
         },
         {
          "font": {
           "color": "#FFFFFF"
          },
          "showarrow": false,
          "text": "",
          "x": "XGB Random Forest",
          "xref": "x",
          "y": "XGB Random Forest",
          "yref": "y"
         },
         {
          "font": {
           "color": "#FFFFFF"
          },
          "showarrow": false,
          "text": "",
          "x": "XGB Random Forest_auto_stat",
          "xref": "x",
          "y": "XGB Random Forest",
          "yref": "y"
         },
         {
          "font": {
           "color": "#FFFFFF"
          },
          "showarrow": false,
          "text": "0.8",
          "x": "FFT",
          "xref": "x",
          "y": "XGB Random Forest_auto_stat",
          "yref": "y"
         },
         {
          "font": {
           "color": "#FFFFFF"
          },
          "showarrow": false,
          "text": "0.94",
          "x": "Lasso Regression",
          "xref": "x",
          "y": "XGB Random Forest_auto_stat",
          "yref": "y"
         },
         {
          "font": {
           "color": "#FFFFFF"
          },
          "showarrow": false,
          "text": "0.93",
          "x": "Lasso Regression_auto_stat",
          "xref": "x",
          "y": "XGB Random Forest_auto_stat",
          "yref": "y"
         },
         {
          "font": {
           "color": "#FFFFFF"
          },
          "showarrow": false,
          "text": "0.96",
          "x": "LightGBM",
          "xref": "x",
          "y": "XGB Random Forest_auto_stat",
          "yref": "y"
         },
         {
          "font": {
           "color": "#FFFFFF"
          },
          "showarrow": false,
          "text": "0.97",
          "x": "LightGBM_auto_stat",
          "xref": "x",
          "y": "XGB Random Forest_auto_stat",
          "yref": "y"
         },
         {
          "font": {
           "color": "#FFFFFF"
          },
          "showarrow": false,
          "text": "0.69",
          "x": "Theta",
          "xref": "x",
          "y": "XGB Random Forest_auto_stat",
          "yref": "y"
         },
         {
          "font": {
           "color": "#FFFFFF"
          },
          "showarrow": false,
          "text": "0.96",
          "x": "XGB Random Forest",
          "xref": "x",
          "y": "XGB Random Forest_auto_stat",
          "yref": "y"
         },
         {
          "font": {
           "color": "#FFFFFF"
          },
          "showarrow": false,
          "text": "",
          "x": "XGB Random Forest_auto_stat",
          "xref": "x",
          "y": "XGB Random Forest_auto_stat",
          "yref": "y"
         }
        ],
        "height": 800,
        "template": {
         "data": {
          "bar": [
           {
            "error_x": {
             "color": "#2a3f5f"
            },
            "error_y": {
             "color": "#2a3f5f"
            },
            "marker": {
             "line": {
              "color": "white",
              "width": 0.5
             },
             "pattern": {
              "fillmode": "overlay",
              "size": 10,
              "solidity": 0.2
             }
            },
            "type": "bar"
           }
          ],
          "barpolar": [
           {
            "marker": {
             "line": {
              "color": "white",
              "width": 0.5
             },
             "pattern": {
              "fillmode": "overlay",
              "size": 10,
              "solidity": 0.2
             }
            },
            "type": "barpolar"
           }
          ],
          "carpet": [
           {
            "aaxis": {
             "endlinecolor": "#2a3f5f",
             "gridcolor": "#C8D4E3",
             "linecolor": "#C8D4E3",
             "minorgridcolor": "#C8D4E3",
             "startlinecolor": "#2a3f5f"
            },
            "baxis": {
             "endlinecolor": "#2a3f5f",
             "gridcolor": "#C8D4E3",
             "linecolor": "#C8D4E3",
             "minorgridcolor": "#C8D4E3",
             "startlinecolor": "#2a3f5f"
            },
            "type": "carpet"
           }
          ],
          "choropleth": [
           {
            "colorbar": {
             "outlinewidth": 0,
             "ticks": ""
            },
            "type": "choropleth"
           }
          ],
          "contour": [
           {
            "colorbar": {
             "outlinewidth": 0,
             "ticks": ""
            },
            "colorscale": [
             [
              0,
              "#0d0887"
             ],
             [
              0.1111111111111111,
              "#46039f"
             ],
             [
              0.2222222222222222,
              "#7201a8"
             ],
             [
              0.3333333333333333,
              "#9c179e"
             ],
             [
              0.4444444444444444,
              "#bd3786"
             ],
             [
              0.5555555555555556,
              "#d8576b"
             ],
             [
              0.6666666666666666,
              "#ed7953"
             ],
             [
              0.7777777777777778,
              "#fb9f3a"
             ],
             [
              0.8888888888888888,
              "#fdca26"
             ],
             [
              1,
              "#f0f921"
             ]
            ],
            "type": "contour"
           }
          ],
          "contourcarpet": [
           {
            "colorbar": {
             "outlinewidth": 0,
             "ticks": ""
            },
            "type": "contourcarpet"
           }
          ],
          "heatmap": [
           {
            "colorbar": {
             "outlinewidth": 0,
             "ticks": ""
            },
            "colorscale": [
             [
              0,
              "#0d0887"
             ],
             [
              0.1111111111111111,
              "#46039f"
             ],
             [
              0.2222222222222222,
              "#7201a8"
             ],
             [
              0.3333333333333333,
              "#9c179e"
             ],
             [
              0.4444444444444444,
              "#bd3786"
             ],
             [
              0.5555555555555556,
              "#d8576b"
             ],
             [
              0.6666666666666666,
              "#ed7953"
             ],
             [
              0.7777777777777778,
              "#fb9f3a"
             ],
             [
              0.8888888888888888,
              "#fdca26"
             ],
             [
              1,
              "#f0f921"
             ]
            ],
            "type": "heatmap"
           }
          ],
          "heatmapgl": [
           {
            "colorbar": {
             "outlinewidth": 0,
             "ticks": ""
            },
            "colorscale": [
             [
              0,
              "#0d0887"
             ],
             [
              0.1111111111111111,
              "#46039f"
             ],
             [
              0.2222222222222222,
              "#7201a8"
             ],
             [
              0.3333333333333333,
              "#9c179e"
             ],
             [
              0.4444444444444444,
              "#bd3786"
             ],
             [
              0.5555555555555556,
              "#d8576b"
             ],
             [
              0.6666666666666666,
              "#ed7953"
             ],
             [
              0.7777777777777778,
              "#fb9f3a"
             ],
             [
              0.8888888888888888,
              "#fdca26"
             ],
             [
              1,
              "#f0f921"
             ]
            ],
            "type": "heatmapgl"
           }
          ],
          "histogram": [
           {
            "marker": {
             "pattern": {
              "fillmode": "overlay",
              "size": 10,
              "solidity": 0.2
             }
            },
            "type": "histogram"
           }
          ],
          "histogram2d": [
           {
            "colorbar": {
             "outlinewidth": 0,
             "ticks": ""
            },
            "colorscale": [
             [
              0,
              "#0d0887"
             ],
             [
              0.1111111111111111,
              "#46039f"
             ],
             [
              0.2222222222222222,
              "#7201a8"
             ],
             [
              0.3333333333333333,
              "#9c179e"
             ],
             [
              0.4444444444444444,
              "#bd3786"
             ],
             [
              0.5555555555555556,
              "#d8576b"
             ],
             [
              0.6666666666666666,
              "#ed7953"
             ],
             [
              0.7777777777777778,
              "#fb9f3a"
             ],
             [
              0.8888888888888888,
              "#fdca26"
             ],
             [
              1,
              "#f0f921"
             ]
            ],
            "type": "histogram2d"
           }
          ],
          "histogram2dcontour": [
           {
            "colorbar": {
             "outlinewidth": 0,
             "ticks": ""
            },
            "colorscale": [
             [
              0,
              "#0d0887"
             ],
             [
              0.1111111111111111,
              "#46039f"
             ],
             [
              0.2222222222222222,
              "#7201a8"
             ],
             [
              0.3333333333333333,
              "#9c179e"
             ],
             [
              0.4444444444444444,
              "#bd3786"
             ],
             [
              0.5555555555555556,
              "#d8576b"
             ],
             [
              0.6666666666666666,
              "#ed7953"
             ],
             [
              0.7777777777777778,
              "#fb9f3a"
             ],
             [
              0.8888888888888888,
              "#fdca26"
             ],
             [
              1,
              "#f0f921"
             ]
            ],
            "type": "histogram2dcontour"
           }
          ],
          "mesh3d": [
           {
            "colorbar": {
             "outlinewidth": 0,
             "ticks": ""
            },
            "type": "mesh3d"
           }
          ],
          "parcoords": [
           {
            "line": {
             "colorbar": {
              "outlinewidth": 0,
              "ticks": ""
             }
            },
            "type": "parcoords"
           }
          ],
          "pie": [
           {
            "automargin": true,
            "type": "pie"
           }
          ],
          "scatter": [
           {
            "fillpattern": {
             "fillmode": "overlay",
             "size": 10,
             "solidity": 0.2
            },
            "type": "scatter"
           }
          ],
          "scatter3d": [
           {
            "line": {
             "colorbar": {
              "outlinewidth": 0,
              "ticks": ""
             }
            },
            "marker": {
             "colorbar": {
              "outlinewidth": 0,
              "ticks": ""
             }
            },
            "type": "scatter3d"
           }
          ],
          "scattercarpet": [
           {
            "marker": {
             "colorbar": {
              "outlinewidth": 0,
              "ticks": ""
             }
            },
            "type": "scattercarpet"
           }
          ],
          "scattergeo": [
           {
            "marker": {
             "colorbar": {
              "outlinewidth": 0,
              "ticks": ""
             }
            },
            "type": "scattergeo"
           }
          ],
          "scattergl": [
           {
            "marker": {
             "colorbar": {
              "outlinewidth": 0,
              "ticks": ""
             }
            },
            "type": "scattergl"
           }
          ],
          "scattermapbox": [
           {
            "marker": {
             "colorbar": {
              "outlinewidth": 0,
              "ticks": ""
             }
            },
            "type": "scattermapbox"
           }
          ],
          "scatterpolar": [
           {
            "marker": {
             "colorbar": {
              "outlinewidth": 0,
              "ticks": ""
             }
            },
            "type": "scatterpolar"
           }
          ],
          "scatterpolargl": [
           {
            "marker": {
             "colorbar": {
              "outlinewidth": 0,
              "ticks": ""
             }
            },
            "type": "scatterpolargl"
           }
          ],
          "scatterternary": [
           {
            "marker": {
             "colorbar": {
              "outlinewidth": 0,
              "ticks": ""
             }
            },
            "type": "scatterternary"
           }
          ],
          "surface": [
           {
            "colorbar": {
             "outlinewidth": 0,
             "ticks": ""
            },
            "colorscale": [
             [
              0,
              "#0d0887"
             ],
             [
              0.1111111111111111,
              "#46039f"
             ],
             [
              0.2222222222222222,
              "#7201a8"
             ],
             [
              0.3333333333333333,
              "#9c179e"
             ],
             [
              0.4444444444444444,
              "#bd3786"
             ],
             [
              0.5555555555555556,
              "#d8576b"
             ],
             [
              0.6666666666666666,
              "#ed7953"
             ],
             [
              0.7777777777777778,
              "#fb9f3a"
             ],
             [
              0.8888888888888888,
              "#fdca26"
             ],
             [
              1,
              "#f0f921"
             ]
            ],
            "type": "surface"
           }
          ],
          "table": [
           {
            "cells": {
             "fill": {
              "color": "#EBF0F8"
             },
             "line": {
              "color": "white"
             }
            },
            "header": {
             "fill": {
              "color": "#C8D4E3"
             },
             "line": {
              "color": "white"
             }
            },
            "type": "table"
           }
          ]
         },
         "layout": {
          "annotationdefaults": {
           "arrowcolor": "#2a3f5f",
           "arrowhead": 0,
           "arrowwidth": 1
          },
          "autotypenumbers": "strict",
          "coloraxis": {
           "colorbar": {
            "outlinewidth": 0,
            "ticks": ""
           }
          },
          "colorscale": {
           "diverging": [
            [
             0,
             "#8e0152"
            ],
            [
             0.1,
             "#c51b7d"
            ],
            [
             0.2,
             "#de77ae"
            ],
            [
             0.3,
             "#f1b6da"
            ],
            [
             0.4,
             "#fde0ef"
            ],
            [
             0.5,
             "#f7f7f7"
            ],
            [
             0.6,
             "#e6f5d0"
            ],
            [
             0.7,
             "#b8e186"
            ],
            [
             0.8,
             "#7fbc41"
            ],
            [
             0.9,
             "#4d9221"
            ],
            [
             1,
             "#276419"
            ]
           ],
           "sequential": [
            [
             0,
             "#0d0887"
            ],
            [
             0.1111111111111111,
             "#46039f"
            ],
            [
             0.2222222222222222,
             "#7201a8"
            ],
            [
             0.3333333333333333,
             "#9c179e"
            ],
            [
             0.4444444444444444,
             "#bd3786"
            ],
            [
             0.5555555555555556,
             "#d8576b"
            ],
            [
             0.6666666666666666,
             "#ed7953"
            ],
            [
             0.7777777777777778,
             "#fb9f3a"
            ],
            [
             0.8888888888888888,
             "#fdca26"
            ],
            [
             1,
             "#f0f921"
            ]
           ],
           "sequentialminus": [
            [
             0,
             "#0d0887"
            ],
            [
             0.1111111111111111,
             "#46039f"
            ],
            [
             0.2222222222222222,
             "#7201a8"
            ],
            [
             0.3333333333333333,
             "#9c179e"
            ],
            [
             0.4444444444444444,
             "#bd3786"
            ],
            [
             0.5555555555555556,
             "#d8576b"
            ],
            [
             0.6666666666666666,
             "#ed7953"
            ],
            [
             0.7777777777777778,
             "#fb9f3a"
            ],
            [
             0.8888888888888888,
             "#fdca26"
            ],
            [
             1,
             "#f0f921"
            ]
           ]
          },
          "colorway": [
           "#636efa",
           "#EF553B",
           "#00cc96",
           "#ab63fa",
           "#FFA15A",
           "#19d3f3",
           "#FF6692",
           "#B6E880",
           "#FF97FF",
           "#FECB52"
          ],
          "font": {
           "color": "#2a3f5f"
          },
          "geo": {
           "bgcolor": "white",
           "lakecolor": "white",
           "landcolor": "white",
           "showlakes": true,
           "showland": true,
           "subunitcolor": "#C8D4E3"
          },
          "hoverlabel": {
           "align": "left"
          },
          "hovermode": "closest",
          "mapbox": {
           "style": "light"
          },
          "paper_bgcolor": "white",
          "plot_bgcolor": "white",
          "polar": {
           "angularaxis": {
            "gridcolor": "#EBF0F8",
            "linecolor": "#EBF0F8",
            "ticks": ""
           },
           "bgcolor": "white",
           "radialaxis": {
            "gridcolor": "#EBF0F8",
            "linecolor": "#EBF0F8",
            "ticks": ""
           }
          },
          "scene": {
           "xaxis": {
            "backgroundcolor": "white",
            "gridcolor": "#DFE8F3",
            "gridwidth": 2,
            "linecolor": "#EBF0F8",
            "showbackground": true,
            "ticks": "",
            "zerolinecolor": "#EBF0F8"
           },
           "yaxis": {
            "backgroundcolor": "white",
            "gridcolor": "#DFE8F3",
            "gridwidth": 2,
            "linecolor": "#EBF0F8",
            "showbackground": true,
            "ticks": "",
            "zerolinecolor": "#EBF0F8"
           },
           "zaxis": {
            "backgroundcolor": "white",
            "gridcolor": "#DFE8F3",
            "gridwidth": 2,
            "linecolor": "#EBF0F8",
            "showbackground": true,
            "ticks": "",
            "zerolinecolor": "#EBF0F8"
           }
          },
          "shapedefaults": {
           "line": {
            "color": "#2a3f5f"
           }
          },
          "ternary": {
           "aaxis": {
            "gridcolor": "#DFE8F3",
            "linecolor": "#A2B1C6",
            "ticks": ""
           },
           "baxis": {
            "gridcolor": "#DFE8F3",
            "linecolor": "#A2B1C6",
            "ticks": ""
           },
           "bgcolor": "white",
           "caxis": {
            "gridcolor": "#DFE8F3",
            "linecolor": "#A2B1C6",
            "ticks": ""
           }
          },
          "title": {
           "x": 0.05
          },
          "xaxis": {
           "automargin": true,
           "gridcolor": "#EBF0F8",
           "linecolor": "#EBF0F8",
           "ticks": "",
           "title": {
            "standoff": 15
           },
           "zerolinecolor": "#EBF0F8",
           "zerolinewidth": 2
          },
          "yaxis": {
           "automargin": true,
           "gridcolor": "#EBF0F8",
           "linecolor": "#EBF0F8",
           "ticks": "",
           "title": {
            "standoff": 15
           },
           "zerolinecolor": "#EBF0F8",
           "zerolinewidth": 2
          }
         }
        },
        "title": {
         "text": "Correlation of the forecasts",
         "x": 0.5
        },
        "width": 800,
        "xaxis": {
         "dtick": 1,
         "gridcolor": "rgb(0, 0, 0)",
         "showgrid": false,
         "side": "bottom",
         "ticks": "",
         "zeroline": false
        },
        "yaxis": {
         "autorange": "reversed",
         "dtick": 1,
         "showgrid": false,
         "ticks": "",
         "ticksuffix": "  ",
         "zeroline": false
        }
       }
      }
     },
     "metadata": {},
     "output_type": "display_data"
    }
   ],
   "source": [
    "fig = plot_correlation_plot(\n",
    "    pred_wide_val[ensemble_forecasts].corr(),\n",
    "    title=\"Correlation of the forecasts\",\n",
    "    figsize=(800, 800),\n",
    ")\n",
    "fig.write_image(\"imgs/chapter_8/correlation.png\")\n",
    "fig.show()"
   ]
  },
  {
   "cell_type": "markdown",
   "id": "abef42b3-c96e-414f-8d7f-8386da99043c",
   "metadata": {},
   "source": [
    "### Using Variety as Regularization"
   ]
  },
  {
   "cell_type": "code",
   "execution_count": 89,
   "id": "6ec7934a-7f5a-4513-85d6-40f2ef154a30",
   "metadata": {},
   "outputs": [],
   "source": [
    "from src.forecasting.ensembling import calculate_diversity"
   ]
  },
  {
   "cell_type": "code",
   "execution_count": 90,
   "id": "1809a648-bc4f-45a8-8202-10ec19396b02",
   "metadata": {},
   "outputs": [],
   "source": [
    "def calculate_diverse_objective(ens, pred_wide, target, diversity_matrix, alpha):\n",
    "    perf = calculate_performance(ens, pred_wide, target)\n",
    "    div = calculate_diversity(ens, diversity_matrix)\n",
    "    return perf + alpha * div"
   ]
  },
  {
   "cell_type": "code",
   "execution_count": 91,
   "id": "bb94f819-b9bd-43c1-b895-f03949427a53",
   "metadata": {},
   "outputs": [],
   "source": [
    "objective = partial(\n",
    "    calculate_diverse_objective,\n",
    "    pred_wide=pred_wide_val,\n",
    "    target=\"energy_consumption\",\n",
    "    diversity_matrix=pred_wide_val[ensemble_forecasts].corr(),\n",
    "    alpha=0.05,\n",
    ")"
   ]
  },
  {
   "cell_type": "code",
   "execution_count": 92,
   "id": "03c40f98-2cfa-4e14-af72-50424a767709",
   "metadata": {},
   "outputs": [
    {
     "name": "stdout",
     "output_type": "stream",
     "text": [
      "Iteration: 0: Solution: ['LightGBM', 'XGB Random Forest'] | Best Score: 0.12639151168634374\n",
      "Iteration: 1: Iteration did not improve the score. Solution: ['LightGBM', 'XGB Random Forest'] | Best Score: 0.12639151168634374\n",
      "Iteration: 2: Iteration did not improve the score. Solution: ['LightGBM', 'XGB Random Forest'] | Best Score: 0.12639151168634374\n",
      "Iteration: 3: Solution: ['LightGBM', 'XGB Random Forest', 'XGB Random Forest_auto_stat'] | Best Score: 0.1256250266997805\n",
      "Iteration: 4: Solution: ['LightGBM', 'XGB Random Forest', 'XGB Random Forest_auto_stat', 'Lasso Regression_auto_stat'] | Best Score: 0.12407977957273272\n",
      "Iteration: 5: Iteration did not improve the score. Solution: ['LightGBM', 'XGB Random Forest', 'XGB Random Forest_auto_stat', 'Lasso Regression_auto_stat'] | Best Score: 0.12407977957273272\n",
      "Iteration: 6: Iteration did not improve the score. Solution: ['LightGBM', 'XGB Random Forest', 'XGB Random Forest_auto_stat', 'Lasso Regression_auto_stat'] | Best Score: 0.12407977957273272\n",
      "Iteration: 7: Iteration did not improve the score. Solution: ['LightGBM', 'XGB Random Forest', 'XGB Random Forest_auto_stat', 'Lasso Regression_auto_stat'] | Best Score: 0.12407977957273272\n",
      "Iteration: 8: Iteration did not improve the score. Solution: ['LightGBM', 'XGB Random Forest', 'XGB Random Forest_auto_stat', 'Lasso Regression_auto_stat'] | Best Score: 0.12407977957273272\n",
      "Iteration: 9: Iteration did not improve the score. Solution: ['LightGBM', 'XGB Random Forest', 'XGB Random Forest_auto_stat', 'Lasso Regression_auto_stat'] | Best Score: 0.12407977957273272\n"
     ]
    }
   ],
   "source": [
    "solution, best_score = stochastic_hillclimbing(\n",
    "    objective, ensemble_forecasts, n_iterations=10, random_state=42\n",
    ")"
   ]
  },
  {
   "cell_type": "code",
   "execution_count": 74,
   "id": "cf85b3b1-4e0f-46a7-9263-d4106c5a3df0",
   "metadata": {},
   "outputs": [],
   "source": [
    "# ts_utils.mae(pred_wide_test['energy_consumption'], pred_wide_test[solution].mean(axis=1).values)"
   ]
  },
  {
   "cell_type": "code",
   "execution_count": 93,
   "id": "d8d00f11-2d2a-40b2-82cc-7b163c1ba61b",
   "metadata": {},
   "outputs": [],
   "source": [
    "pred_wide_test[\"hillclimbing_w_reg_ensemble\"] = pred_wide_test[solution].mean(axis=1)"
   ]
  },
  {
   "cell_type": "code",
   "execution_count": 94,
   "id": "af07866e-cfb7-405c-8622-e0439c2f0604",
   "metadata": {},
   "outputs": [
    {
     "data": {
      "application/vnd.jupyter.widget-view+json": {
       "model_id": "549e2541a78648e79dc8b83fd7410287",
       "version_major": 2,
       "version_minor": 0
      },
      "text/plain": [
       "  0%|          | 0/150 [00:00<?, ?it/s]"
      ]
     },
     "metadata": {},
     "output_type": "display_data"
    },
    {
     "name": "stdout",
     "output_type": "stream",
     "text": [
      "{'Algorithm': 'hillclimbing_w_reg_ensemble', 'MAE': 0.07467400714416188, 'MSE': 0.02567434743870161, 'meanMASE': 0.9139986417373478, 'Forecast Bias': -0.5722344991439777}\n"
     ]
    }
   ],
   "source": [
    "agg_metric_ = evaluate_ensemble(\n",
    "    pred_wide_test,\n",
    "    train_val_target,\n",
    "    \"hillclimbing_w_reg_ensemble\",\n",
    "    \"energy_consumption\",\n",
    "    \"LCLid\",\n",
    ")\n",
    "print(agg_metric_)\n",
    "agg_metrics_l.append(agg_metric_)"
   ]
  },
  {
   "cell_type": "code",
   "execution_count": 95,
   "id": "a6180ac6-014e-47fc-90e7-cb348ff9a00c",
   "metadata": {},
   "outputs": [
    {
     "data": {
      "text/html": [
       "<style type=\"text/css\">\n",
       "#T_347b2_row1_col4 {\n",
       "  color: black;\n",
       "  background-color: lightgreen;\n",
       "}\n",
       "#T_347b2_row7_col3, #T_347b2_row10_col2, #T_347b2_row11_col1 {\n",
       "  background-color: lightgreen;\n",
       "}\n",
       "</style>\n",
       "<table id=\"T_347b2\">\n",
       "  <thead>\n",
       "    <tr>\n",
       "      <th class=\"blank level0\" >&nbsp;</th>\n",
       "      <th id=\"T_347b2_level0_col0\" class=\"col_heading level0 col0\" >Algorithm</th>\n",
       "      <th id=\"T_347b2_level0_col1\" class=\"col_heading level0 col1\" >MAE</th>\n",
       "      <th id=\"T_347b2_level0_col2\" class=\"col_heading level0 col2\" >MSE</th>\n",
       "      <th id=\"T_347b2_level0_col3\" class=\"col_heading level0 col3\" >meanMASE</th>\n",
       "      <th id=\"T_347b2_level0_col4\" class=\"col_heading level0 col4\" >Forecast Bias</th>\n",
       "    </tr>\n",
       "  </thead>\n",
       "  <tbody>\n",
       "    <tr>\n",
       "      <th id=\"T_347b2_level0_row0\" class=\"row_heading level0 row0\" >0</th>\n",
       "      <td id=\"T_347b2_row0_col0\" class=\"data row0 col0\" >LightGBM</td>\n",
       "      <td id=\"T_347b2_row0_col1\" class=\"data row0 col1\" >0.0750</td>\n",
       "      <td id=\"T_347b2_row0_col2\" class=\"data row0 col2\" >0.0268</td>\n",
       "      <td id=\"T_347b2_row0_col3\" class=\"data row0 col3\" >0.9141</td>\n",
       "      <td id=\"T_347b2_row0_col4\" class=\"data row0 col4\" >2.62%</td>\n",
       "    </tr>\n",
       "    <tr>\n",
       "      <th id=\"T_347b2_level0_row1\" class=\"row_heading level0 row1\" >1</th>\n",
       "      <td id=\"T_347b2_row1_col0\" class=\"data row1 col0\" >best_fit</td>\n",
       "      <td id=\"T_347b2_row1_col1\" class=\"data row1 col1\" >0.0739</td>\n",
       "      <td id=\"T_347b2_row1_col2\" class=\"data row1 col2\" >0.0266</td>\n",
       "      <td id=\"T_347b2_row1_col3\" class=\"data row1 col3\" >0.8968</td>\n",
       "      <td id=\"T_347b2_row1_col4\" class=\"data row1 col4\" >0.23%</td>\n",
       "    </tr>\n",
       "    <tr>\n",
       "      <th id=\"T_347b2_level0_row2\" class=\"row_heading level0 row2\" >2</th>\n",
       "      <td id=\"T_347b2_row2_col0\" class=\"data row2 col0\" >median_ensemble</td>\n",
       "      <td id=\"T_347b2_row2_col1\" class=\"data row2 col1\" >0.0766</td>\n",
       "      <td id=\"T_347b2_row2_col2\" class=\"data row2 col2\" >0.0278</td>\n",
       "      <td id=\"T_347b2_row2_col3\" class=\"data row2 col3\" >0.9284</td>\n",
       "      <td id=\"T_347b2_row2_col4\" class=\"data row2 col4\" >-0.90%</td>\n",
       "    </tr>\n",
       "    <tr>\n",
       "      <th id=\"T_347b2_level0_row3\" class=\"row_heading level0 row3\" >3</th>\n",
       "      <td id=\"T_347b2_row3_col0\" class=\"data row3 col0\" >average_ensemble</td>\n",
       "      <td id=\"T_347b2_row3_col1\" class=\"data row3 col1\" >0.0826</td>\n",
       "      <td id=\"T_347b2_row3_col2\" class=\"data row3 col2\" >0.0284</td>\n",
       "      <td id=\"T_347b2_row3_col3\" class=\"data row3 col3\" >1.0111</td>\n",
       "      <td id=\"T_347b2_row3_col4\" class=\"data row3 col4\" >1.50%</td>\n",
       "    </tr>\n",
       "    <tr>\n",
       "      <th id=\"T_347b2_level0_row4\" class=\"row_heading level0 row4\" >4</th>\n",
       "      <td id=\"T_347b2_row4_col0\" class=\"data row4 col0\" >greedy_ensemble</td>\n",
       "      <td id=\"T_347b2_row4_col1\" class=\"data row4 col1\" >0.0733</td>\n",
       "      <td id=\"T_347b2_row4_col2\" class=\"data row4 col2\" >0.0249</td>\n",
       "      <td id=\"T_347b2_row4_col3\" class=\"data row4 col3\" >0.8946</td>\n",
       "      <td id=\"T_347b2_row4_col4\" class=\"data row4 col4\" >0.81%</td>\n",
       "    </tr>\n",
       "    <tr>\n",
       "      <th id=\"T_347b2_level0_row5\" class=\"row_heading level0 row5\" >5</th>\n",
       "      <td id=\"T_347b2_row5_col0\" class=\"data row5 col0\" >stochastic_hillclimb__ensemble</td>\n",
       "      <td id=\"T_347b2_row5_col1\" class=\"data row5 col1\" >0.0751</td>\n",
       "      <td id=\"T_347b2_row5_col2\" class=\"data row5 col2\" >0.0257</td>\n",
       "      <td id=\"T_347b2_row5_col3\" class=\"data row5 col3\" >0.9203</td>\n",
       "      <td id=\"T_347b2_row5_col4\" class=\"data row5 col4\" >1.21%</td>\n",
       "    </tr>\n",
       "    <tr>\n",
       "      <th id=\"T_347b2_level0_row6\" class=\"row_heading level0 row6\" >6</th>\n",
       "      <td id=\"T_347b2_row6_col0\" class=\"data row6 col0\" >simulated_annealing_ensemble</td>\n",
       "      <td id=\"T_347b2_row6_col1\" class=\"data row6 col1\" >0.0740</td>\n",
       "      <td id=\"T_347b2_row6_col2\" class=\"data row6 col2\" >0.0252</td>\n",
       "      <td id=\"T_347b2_row6_col3\" class=\"data row6 col3\" >0.9055</td>\n",
       "      <td id=\"T_347b2_row6_col4\" class=\"data row6 col4\" >-0.41%</td>\n",
       "    </tr>\n",
       "    <tr>\n",
       "      <th id=\"T_347b2_level0_row7\" class=\"row_heading level0 row7\" >7</th>\n",
       "      <td id=\"T_347b2_row7_col0\" class=\"data row7 col0\" >optimal_combination_ensemble</td>\n",
       "      <td id=\"T_347b2_row7_col1\" class=\"data row7 col1\" >0.0730</td>\n",
       "      <td id=\"T_347b2_row7_col2\" class=\"data row7 col2\" >0.0247</td>\n",
       "      <td id=\"T_347b2_row7_col3\" class=\"data row7 col3\" >0.8939</td>\n",
       "      <td id=\"T_347b2_row7_col4\" class=\"data row7 col4\" >0.85%</td>\n",
       "    </tr>\n",
       "    <tr>\n",
       "      <th id=\"T_347b2_level0_row8\" class=\"row_heading level0 row8\" >8</th>\n",
       "      <td id=\"T_347b2_row8_col0\" class=\"data row8 col0\" >linear_reg_blending</td>\n",
       "      <td id=\"T_347b2_row8_col1\" class=\"data row8 col1\" >0.0755</td>\n",
       "      <td id=\"T_347b2_row8_col2\" class=\"data row8 col2\" >0.0245</td>\n",
       "      <td id=\"T_347b2_row8_col3\" class=\"data row8 col3\" >0.9256</td>\n",
       "      <td id=\"T_347b2_row8_col4\" class=\"data row8 col4\" >4.36%</td>\n",
       "    </tr>\n",
       "    <tr>\n",
       "      <th id=\"T_347b2_level0_row9\" class=\"row_heading level0 row9\" >9</th>\n",
       "      <td id=\"T_347b2_row9_col0\" class=\"data row9 col0\" >ridge_reg_blending</td>\n",
       "      <td id=\"T_347b2_row9_col1\" class=\"data row9 col1\" >0.0737</td>\n",
       "      <td id=\"T_347b2_row9_col2\" class=\"data row9 col2\" >0.0243</td>\n",
       "      <td id=\"T_347b2_row9_col3\" class=\"data row9 col3\" >0.9075</td>\n",
       "      <td id=\"T_347b2_row9_col4\" class=\"data row9 col4\" >1.96%</td>\n",
       "    </tr>\n",
       "    <tr>\n",
       "      <th id=\"T_347b2_level0_row10\" class=\"row_heading level0 row10\" >10</th>\n",
       "      <td id=\"T_347b2_row10_col0\" class=\"data row10 col0\" >lasso_reg_blending</td>\n",
       "      <td id=\"T_347b2_row10_col1\" class=\"data row10 col1\" >0.0736</td>\n",
       "      <td id=\"T_347b2_row10_col2\" class=\"data row10 col2\" >0.0243</td>\n",
       "      <td id=\"T_347b2_row10_col3\" class=\"data row10 col3\" >0.9070</td>\n",
       "      <td id=\"T_347b2_row10_col4\" class=\"data row10 col4\" >2.03%</td>\n",
       "    </tr>\n",
       "    <tr>\n",
       "      <th id=\"T_347b2_level0_row11\" class=\"row_heading level0 row11\" >11</th>\n",
       "      <td id=\"T_347b2_row11_col0\" class=\"data row11 col0\" >huber_reg_blending</td>\n",
       "      <td id=\"T_347b2_row11_col1\" class=\"data row11 col1\" >0.0703</td>\n",
       "      <td id=\"T_347b2_row11_col2\" class=\"data row11 col2\" >0.0246</td>\n",
       "      <td id=\"T_347b2_row11_col3\" class=\"data row11 col3\" >0.8970</td>\n",
       "      <td id=\"T_347b2_row11_col4\" class=\"data row11 col4\" >-6.47%</td>\n",
       "    </tr>\n",
       "    <tr>\n",
       "      <th id=\"T_347b2_level0_row12\" class=\"row_heading level0 row12\" >12</th>\n",
       "      <td id=\"T_347b2_row12_col0\" class=\"data row12 col0\" >hillclimbing_w_reg_ensemble</td>\n",
       "      <td id=\"T_347b2_row12_col1\" class=\"data row12 col1\" >0.0747</td>\n",
       "      <td id=\"T_347b2_row12_col2\" class=\"data row12 col2\" >0.0257</td>\n",
       "      <td id=\"T_347b2_row12_col3\" class=\"data row12 col3\" >0.9140</td>\n",
       "      <td id=\"T_347b2_row12_col4\" class=\"data row12 col4\" >-0.57%</td>\n",
       "    </tr>\n",
       "  </tbody>\n",
       "</table>\n"
      ],
      "text/plain": [
       "<pandas.io.formats.style.Styler at 0x7fc71e3b7ca0>"
      ]
     },
     "metadata": {},
     "output_type": "display_data"
    }
   ],
   "source": [
    "display_metrics(agg_metrics_l)"
   ]
  }
 ],
 "metadata": {
  "kernelspec": {
   "display_name": "Python 3 (ipykernel)",
   "language": "python",
   "name": "python3"
  },
  "language_info": {
   "codemirror_mode": {
    "name": "ipython",
    "version": 3
   },
   "file_extension": ".py",
   "mimetype": "text/x-python",
   "name": "python",
   "nbconvert_exporter": "python",
   "pygments_lexer": "ipython3",
   "version": "3.10.14"
  },
  "varInspector": {
   "cols": {
    "lenName": 16,
    "lenType": 16,
    "lenVar": 40
   },
   "kernels_config": {
    "python": {
     "delete_cmd_postfix": "",
     "delete_cmd_prefix": "del ",
     "library": "var_list.py",
     "varRefreshCmd": "print(var_dic_list())"
    },
    "r": {
     "delete_cmd_postfix": ") ",
     "delete_cmd_prefix": "rm(",
     "library": "var_list.r",
     "varRefreshCmd": "cat(var_dic_list()) "
    }
   },
   "types_to_exclude": [
    "module",
    "function",
    "builtin_function_or_method",
    "instance",
    "_Feature"
   ],
   "window_display": false
  }
 },
 "nbformat": 4,
 "nbformat_minor": 5
}
