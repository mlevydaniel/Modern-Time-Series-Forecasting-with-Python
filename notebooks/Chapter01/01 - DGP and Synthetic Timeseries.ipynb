{
 "cells": [
  {
   "cell_type": "code",
   "execution_count": null,
   "id": "0e617b18-2268-4615-8d08-d2093b1deb75",
   "metadata": {},
   "outputs": [],
   "source": [
    "#Changing the working directory to the root\n",
    "%cd ../.."
   ]
  },
  {
   "cell_type": "code",
   "execution_count": null,
   "id": "1d98497a",
   "metadata": {},
   "outputs": [],
   "source": [
    "# Install TimeSynth if not installed already\n",
    "# !pip install git+https://github.com/TimeSynth/TimeSynth.git"
   ]
  },
  {
   "cell_type": "code",
   "execution_count": null,
   "id": "bce03d17-9b58-44ba-8aed-eb016815bc85",
   "metadata": {},
   "outputs": [],
   "source": [
    "import numpy as np\n",
    "import matplotlib.pyplot as plt\n",
    "import os\n",
    "import plotly.express as px\n",
    "import plotly.io as pio\n",
    "pio.templates.default = \"plotly_white\"\n",
    "import timesynth as ts\n",
    "import pandas as pd\n",
    "from typing import List, Union, Optional\n",
    "import plotly.express as px\n",
    "import plotly.graph_objs as go\n",
    "\n",
    "\n",
    "np.random.seed()"
   ]
  },
  {
   "cell_type": "markdown",
   "id": "653b083b-fe4b-4ae1-b1c7-07e44e6e7529",
   "metadata": {
    "tags": []
   },
   "source": [
    "# Data Generating Process and Synthetic Time Series"
   ]
  },
  {
   "cell_type": "code",
   "execution_count": null,
   "id": "45f0e74e-2959-4e49-ae11-f58d133bd9f5",
   "metadata": {},
   "outputs": [],
   "source": [
    "def plot_time_series(\n",
    "    time: Union[List[float], pd.Series],\n",
    "    values: Union[List[float], pd.Series, List[List[float]]],\n",
    "    label: str,\n",
    "    legends: Optional[List[str]] = None\n",
    ") -> go.Figure:\n",
    "    \"\"\"\n",
    "    Create a time series plot using Plotly.\n",
    "\n",
    "    Args:\n",
    "        time: A list or pandas Series of time values.\n",
    "        values: A list, pandas Series, or list of lists containing the values to plot.\n",
    "        label: The title for the plot.\n",
    "        legends: Optional list of legend labels for multiple time series.\n",
    "\n",
    "    Returns:\n",
    "        A Plotly Figure object.\n",
    "\n",
    "    Raises:\n",
    "        AssertionError: If legends are provided and their length doesn't match the number of value series.\n",
    "    \"\"\"\n",
    "    if legends is not None:\n",
    "        assert len(legends)==len(values)\n",
    "\n",
    "    if isinstance(values, list):\n",
    "        series_dict = {\"Time\": time}\n",
    "        \n",
    "        for v, l in zip(values, legends):\n",
    "            series_dict[l] = v\n",
    "\n",
    "        plot_df = pd.DataFrame(series_dict)\n",
    "        plot_df = pd.melt(plot_df, id_vars=\"Time\", var_name=\"ts\", value_name=\"Value\")\n",
    "    else:\n",
    "        series_dict = {\"Time\": time, \"Value\": values, \"ts\":\"\"}\n",
    "        plot_df = pd.DataFrame(series_dict)\n",
    "    \n",
    "    if isinstance(values, list):\n",
    "        fig = px.line(plot_df, x=\"Time\", y=\"Value\", line_dash=\"ts\")\n",
    "    else:\n",
    "        fig = px.line(plot_df, x=\"Time\", y=\"Value\")\n",
    "    fig.update_layout(\n",
    "        autosize=False,\n",
    "        width=900,\n",
    "        height=500,\n",
    "        title={\n",
    "            'text': label,\n",
    "    #         'y':0.9,\n",
    "            'x':0.5,\n",
    "            'xanchor': 'center',\n",
    "            'yanchor': 'top'\n",
    "        },\n",
    "        titlefont={\n",
    "            \"size\": 25\n",
    "        },\n",
    "        yaxis=dict(\n",
    "            title_text=\"Value\",\n",
    "            titlefont=dict(size=12),\n",
    "        ),\n",
    "        xaxis=dict(\n",
    "            title_text=\"Time\",\n",
    "            titlefont=dict(size=12),\n",
    "        )\n",
    "    )\n",
    "    return fig\n",
    "    \n",
    "def generate_timeseries(signal, noise=None):\n",
    "    time_sampler = ts.TimeSampler(stop_time=20)\n",
    "    regular_time_samples = time_sampler.sample_regular_time(num_points=100)\n",
    "    timeseries = ts.TimeSeries(signal_generator=signal, noise_generator=noise)\n",
    "    samples, signals, errors = timeseries.sample(regular_time_samples)\n",
    "    return samples, regular_time_samples, signals, errors\n",
    "\n",
    "os.makedirs(\"imgs/chapter_1\", exist_ok=True)"
   ]
  },
  {
   "cell_type": "markdown",
   "id": "5d062d6c-8bdd-466a-b207-18e3fc17a040",
   "metadata": {
    "tags": []
   },
   "source": [
    "## White Noise"
   ]
  },
  {
   "cell_type": "code",
   "execution_count": null,
   "id": "fe7a0d45-6de2-4481-8330-a7471ff5c688",
   "metadata": {},
   "outputs": [],
   "source": [
    "# Generate the time axis with sequential numbers upto 200\n",
    "time = np.arange(200)\n",
    "# Sample 200 hundred random values\n",
    "values = np.random.randn(200) * 100\n",
    "fig = plot_time_series(time, values, \"\")\n",
    "fig.write_image(\"imgs/chapter_1/white_noise_process.png\")\n",
    "fig.show()"
   ]
  },
  {
   "cell_type": "markdown",
   "id": "c607b035-6fb3-4eea-b816-0f2cebfc9b7c",
   "metadata": {
    "tags": []
   },
   "source": [
    "## Red Noise"
   ]
  },
  {
   "cell_type": "code",
   "execution_count": null,
   "id": "5a51fd6c-0ef9-4f73-8d7b-41420028527c",
   "metadata": {},
   "outputs": [],
   "source": [
    "# Setting the correlation coefficient\n",
    "r = 0.4\n",
    "\n",
    "# Generate the time axis\n",
    "time = np.arange(200)\n",
    "\n",
    "# Generate white noise\n",
    "white_noise = np.random.randn(200)*100\n",
    "\n",
    "# Create Red Noise by introducing correlation between subsequent values in the white noise\n",
    "values = np.zeros(200)\n",
    "for i, v in enumerate(white_noise):\n",
    "    if i == 0:\n",
    "        values[i] = v\n",
    "    else:\n",
    "        values[i] = r * values[i - 1]+ np.sqrt((1 - np.power(r, 2))) * v\n",
    "        \n",
    "fig = plot_time_series(time, values, \"\")\n",
    "fig.write_image(\"imgs/chapter_1/red_noise_process.png\")\n",
    "fig.show()"
   ]
  },
  {
   "cell_type": "markdown",
   "id": "044a0b15-5792-4dcc-b3b0-50c004802c33",
   "metadata": {},
   "source": [
    "## Sinusoidal"
   ]
  },
  {
   "cell_type": "code",
   "execution_count": null,
   "id": "98cb9164-0c70-4ec8-b0fc-932df1f3808e",
   "metadata": {},
   "outputs": [],
   "source": [
    "#Sinusoidal Signal with Amplitude=1.5 & Frequency=0.25\n",
    "signal_1 =ts.signals.Sinusoidal(amplitude=1.5, frequency=0.25)\n",
    "\n",
    "#Sinusoidal Signal with Amplitude=1 & Frequency=0. 5\n",
    "signal_2 = ts.signals.Sinusoidal(amplitude=1, frequency=0.5)\n",
    "\n",
    "#Generating the time series\n",
    "samples_1, regular_time_samples, signals_1, errors_1 = generate_timeseries(signal=signal_1)\n",
    "samples_2, regular_time_samples, signals_2, errors_2 = generate_timeseries(signal=signal_2)"
   ]
  },
  {
   "cell_type": "code",
   "execution_count": null,
   "id": "67135ae7-edc5-4b20-8ab4-a5f565e15ec1",
   "metadata": {},
   "outputs": [],
   "source": [
    "fig = plot_time_series(\n",
    "    regular_time_samples, \n",
    "    [samples_1, samples_2], \n",
    "    \"\", \n",
    "    legends=[\"Amplitude = 1.5 | Frequency = 0.25\", \"Amplitude = 1 | Frequency = 0.5\"]\n",
    ")\n",
    "fig.write_image(\"imgs/chapter_1/sinusoidal_waves.png\")\n",
    "fig.show()"
   ]
  },
  {
   "cell_type": "markdown",
   "id": "84f7709e-7223-4dfb-b5fd-a17fa99e85c7",
   "metadata": {},
   "source": [
    "## Pseudo Periodic"
   ]
  },
  {
   "cell_type": "code",
   "execution_count": null,
   "id": "849b7c4d-7a5b-4dc4-a07f-aadc220f3516",
   "metadata": {},
   "outputs": [],
   "source": [
    "# PseudoPeriodic signal with Amplitude=1 & Frequency=0.25\n",
    "signal = ts.signals.PseudoPeriodic(amplitude=1, frequency=0.25)\n",
    "\n",
    "#Generating Timeseries\n",
    "samples, regular_time_samples, signals, errors = generate_timeseries(signal=signal)"
   ]
  },
  {
   "cell_type": "code",
   "execution_count": null,
   "id": "e87753a5-6ef1-4fc5-8070-5a269da43276",
   "metadata": {},
   "outputs": [],
   "source": [
    "fig = plot_time_series(regular_time_samples, \n",
    "                 samples, \n",
    "                 \"\")\n",
    "fig.write_image(\"imgs/chapter_1/pseudo_process.png\")\n",
    "fig.show()"
   ]
  },
  {
   "cell_type": "markdown",
   "id": "0c7202dd-c007-41d4-b67d-436dd46e4a9b",
   "metadata": {},
   "source": [
    "## Auto Regressive"
   ]
  },
  {
   "cell_type": "code",
   "execution_count": null,
   "id": "fe132539-0dd9-45c9-b450-c1293e0aa258",
   "metadata": {},
   "outputs": [],
   "source": [
    "# Autoregressive signal with parameters 1.5 and -0.75\n",
    "# y(t) = 1.5*y(t-1) - 0.75*y(t-2)\n",
    "signal = ts.signals.AutoRegressive(ar_param=[1.5, -0.75])\n",
    "\n",
    "# Generate Timeseries\n",
    "samples, regular_time_samples, signals, errors = generate_timeseries(signal=signal)"
   ]
  },
  {
   "cell_type": "code",
   "execution_count": null,
   "id": "8aaab90e",
   "metadata": {},
   "outputs": [],
   "source": [
    "import numpy as np\n",
    "import matplotlib.pyplot as plt\n",
    "\n",
    "def generate_ar_series(n, params, sigma=1):\n",
    "    order = len(params)\n",
    "    series = np.random.normal(0, sigma, n)\n",
    "    for i in range(order, n):\n",
    "        series[i] = np.sum(np.array(params) * series[i-order:i][::-1]) + np.random.normal(0, sigma)\n",
    "    return series\n",
    "\n",
    "# Generate time samples\n",
    "num_points = 100\n",
    "time_samples = np.linspace(0, 20, num_points)\n",
    "\n",
    "# Generate AR(2) process\n",
    "ar_params = [0.6, -0.2]\n",
    "samples = generate_ar_series(num_points, ar_params)\n",
    "\n",
    "# Plot the generated time series\n",
    "plt.figure(figsize=(12, 6))\n",
    "plt.plot(time_samples, samples)\n",
    "plt.title('Autoregressive Model Synthetic Data')\n",
    "plt.xlabel('Time')\n",
    "plt.ylabel('Value')\n",
    "plt.grid(True)\n",
    "plt.show()\n",
    "\n",
    "# Print some statistics\n",
    "print(f\"Mean: {np.mean(samples)}\")\n",
    "print(f\"Standard Deviation: {np.std(samples)}\")\n",
    "print(f\"Min: {np.min(samples)}\")\n",
    "print(f\"Max: {np.max(samples)}\")\n",
    "\n",
    "# Debug information\n",
    "print(\"Time samples shape:\", time_samples.shape)\n",
    "print(\"Samples shape:\", samples.shape)\n",
    "print(\"Type of samples:\", type(samples))"
   ]
  },
  {
   "cell_type": "code",
   "execution_count": null,
   "id": "647375f6-b0d5-4d34-98ac-2e881f80d4f8",
   "metadata": {},
   "outputs": [],
   "source": [
    "fig = plot_time_series(\n",
    "        regular_time_samples, \n",
    "        samples,\n",
    "        \"\"\n",
    ")\n",
    "\n",
    "fig.write_image(\"imgs/chapter_1/auto_regressive.png\")\n",
    "fig.show()"
   ]
  },
  {
   "cell_type": "markdown",
   "id": "40e03252-655a-4a9a-8e36-9fc324dfcbe5",
   "metadata": {
    "tags": []
   },
   "source": [
    "## Mix and Match"
   ]
  },
  {
   "cell_type": "code",
   "execution_count": null,
   "id": "90ce13a1-b6e8-4e04-ae75-1c3a4ff9175d",
   "metadata": {},
   "outputs": [],
   "source": [
    "#Generating Pseudo Periodic Signal\n",
    "pseudo_samples, regular_time_samples, _, _ = generate_timeseries(signal=ts.signals.PseudoPeriodic(amplitude=1, frequency=0.25), noise=ts.noise.GaussianNoise(std=0.3))\n",
    "\n",
    "# Generating an Autoregressive Signal\n",
    "ar_samples, regular_time_samples, _, _ = generate_timeseries(signal=ts.signals.AutoRegressive(ar_param=[1.5, -0.75]))\n",
    "\n",
    "# Combining the two signals using a mathematical equation\n",
    "timeseries_ = pseudo_samples * 2 + ar_samples"
   ]
  },
  {
   "cell_type": "code",
   "execution_count": null,
   "id": "6c802544-e418-43b0-bcbf-ca1514507998",
   "metadata": {},
   "outputs": [],
   "source": [
    "fig = plot_time_series(\n",
    "    regular_time_samples, \n",
    "    timeseries_, \n",
    "    \"\"\n",
    ")\n",
    "fig.write_image(\"imgs/chapter_1/mix_n_match.png\")\n",
    "fig.show()"
   ]
  },
  {
   "cell_type": "markdown",
   "id": "3befc02c-1618-46e8-b5de-8d1167c6e98a",
   "metadata": {},
   "source": [
    "## Non-Stationary: Sinusoidal with Trend and White Noise"
   ]
  },
  {
   "cell_type": "code",
   "execution_count": 76,
   "id": "d158f3cb-84ee-4590-b58d-655767e5f510",
   "metadata": {},
   "outputs": [],
   "source": [
    "# Sinusoidal Signal with Amplitude=1 & Frequency=0.25\n",
    "signal = ts.signals.Sinusoidal(amplitude=1, frequency=0.25)\n",
    "\n",
    "# White Noise with standar deviation = 0.3\n",
    "noise = ts.noise.GaussianNoise(std=0.3)\n",
    "\n",
    "# Generate the time series\n",
    "sinusoidal_samples, regular_time_samples, _, _ = generate_timeseries(signal=signal, noise=noise)\n",
    "\n",
    "# Regular_time_samples is a linear increasing time axis and can be used as a trend\n",
    "trend = regular_time_samples * 0.4\n",
    "\n",
    "# Combining the signal and trend\n",
    "timeseries_ = sinusoidal_samples + trend"
   ]
  },
  {
   "cell_type": "code",
   "execution_count": 77,
   "id": "fde1e825-a016-4287-af61-0bd5c756a1d5",
   "metadata": {},
   "outputs": [
    {
     "data": {
      "application/vnd.plotly.v1+json": {
       "config": {
        "plotlyServerURL": "https://plot.ly"
       },
       "data": [
        {
         "hovertemplate": "Time=%{x}<br>Value=%{y}<extra></extra>",
         "legendgroup": "",
         "line": {
          "color": "#636efa",
          "dash": "solid"
         },
         "marker": {
          "symbol": "circle"
         },
         "mode": "lines",
         "name": "",
         "orientation": "v",
         "showlegend": false,
         "type": "scatter",
         "x": [
          0,
          0.20202020202020202,
          0.40404040404040403,
          0.6060606060606061,
          0.8080808080808081,
          1.0101010101010102,
          1.2121212121212122,
          1.4141414141414141,
          1.6161616161616161,
          1.8181818181818181,
          2.0202020202020203,
          2.2222222222222223,
          2.4242424242424243,
          2.6262626262626263,
          2.8282828282828283,
          3.0303030303030303,
          3.2323232323232323,
          3.4343434343434343,
          3.6363636363636362,
          3.8383838383838382,
          4.040404040404041,
          4.242424242424242,
          4.444444444444445,
          4.646464646464646,
          4.848484848484849,
          5.05050505050505,
          5.252525252525253,
          5.454545454545454,
          5.656565656565657,
          5.858585858585858,
          6.0606060606060606,
          6.262626262626262,
          6.4646464646464645,
          6.666666666666667,
          6.8686868686868685,
          7.070707070707071,
          7.2727272727272725,
          7.474747474747475,
          7.6767676767676765,
          7.878787878787879,
          8.080808080808081,
          8.282828282828282,
          8.484848484848484,
          8.686868686868687,
          8.88888888888889,
          9.09090909090909,
          9.292929292929292,
          9.494949494949495,
          9.696969696969697,
          9.8989898989899,
          10.1010101010101,
          10.303030303030303,
          10.505050505050505,
          10.707070707070708,
          10.909090909090908,
          11.11111111111111,
          11.313131313131313,
          11.515151515151516,
          11.717171717171716,
          11.919191919191919,
          12.121212121212121,
          12.323232323232324,
          12.525252525252524,
          12.727272727272727,
          12.929292929292929,
          13.131313131313131,
          13.333333333333334,
          13.535353535353535,
          13.737373737373737,
          13.93939393939394,
          14.141414141414142,
          14.343434343434343,
          14.545454545454545,
          14.747474747474747,
          14.94949494949495,
          15.15151515151515,
          15.353535353535353,
          15.555555555555555,
          15.757575757575758,
          15.959595959595958,
          16.161616161616163,
          16.363636363636363,
          16.565656565656564,
          16.767676767676768,
          16.96969696969697,
          17.171717171717173,
          17.373737373737374,
          17.575757575757574,
          17.77777777777778,
          17.97979797979798,
          18.18181818181818,
          18.383838383838384,
          18.585858585858585,
          18.78787878787879,
          18.98989898989899,
          19.19191919191919,
          19.393939393939394,
          19.595959595959595,
          19.7979797979798,
          20
         ],
         "xaxis": "x",
         "y": [
          -0.2841402068286532,
          0.2907498553949746,
          0.7000655905562163,
          0.46702456464294717,
          1.386920800058635,
          1.318879235426349,
          1.619077907135894,
          1.8035899353487026,
          1.1080455604923793,
          1.2449357429867147,
          0.8420383795901146,
          0.7050560762609188,
          0.5675093547607063,
          0.3138516055723488,
          -0.3355611012307833,
          0.15427537129471447,
          0.7216157249401169,
          0.6315366250270457,
          1.4697817828791848,
          1.1216428390249762,
          2.2424119402912335,
          2.2081410898584886,
          2.466557652150537,
          2.7322268275480766,
          2.724563743592039,
          3.2982524351366758,
          3.078578934993589,
          3.126397963268099,
          3.006271836996832,
          2.571274554862662,
          2.0699385838739377,
          2.4525827928291295,
          1.9006186689218016,
          1.82713015185351,
          2.0432019385961055,
          1.9574362869636088,
          1.574468310173363,
          1.9308319968007304,
          2.8534369385202956,
          2.556173258090345,
          3.0133087361774296,
          3.210072444614438,
          3.784151926009149,
          4.075735073518029,
          4.580863106987865,
          4.956170062299492,
          4.855333559367287,
          4.752013487654253,
          4.30129362114154,
          4.182888431774878,
          4.06394228563327,
          3.7690187931629135,
          3.5916191313346553,
          3.21474942522506,
          3.565637635841841,
          3.77949651339172,
          3.7928719751898403,
          3.7971136575642688,
          4.438759552269107,
          4.9234991379486255,
          5.663941842310043,
          5.400658819371133,
          5.132823298912394,
          5.988703098444789,
          6.097778246066258,
          6.30360954627179,
          6.3400555967770575,
          5.921389729183603,
          6.00463260348305,
          5.685631987759607,
          5.961065303407941,
          5.4141133485927835,
          4.726787903949953,
          4.8513876808137635,
          5.0979963909746635,
          4.60140841287903,
          4.869151224066525,
          5.515580317603755,
          5.850877557211443,
          6.57981772449442,
          6.729871154566938,
          7.612674065175829,
          7.328757198881566,
          7.861596336108382,
          7.86818241120103,
          7.693474246834796,
          7.591549694682059,
          7.344842647322276,
          7.0319242265763995,
          7.109494699001489,
          7.23439649745072,
          6.313072296287863,
          6.470123456667817,
          6.501848916634339,
          7.636032746617668,
          6.996474695207728,
          7.657573751318191,
          6.881418357855607,
          7.636948289689151,
          7.989257483725387
         ],
         "yaxis": "y"
        }
       ],
       "layout": {
        "autosize": false,
        "height": 500,
        "legend": {
         "tracegroupgap": 0
        },
        "margin": {
         "t": 60
        },
        "template": {
         "data": {
          "bar": [
           {
            "error_x": {
             "color": "#2a3f5f"
            },
            "error_y": {
             "color": "#2a3f5f"
            },
            "marker": {
             "line": {
              "color": "white",
              "width": 0.5
             },
             "pattern": {
              "fillmode": "overlay",
              "size": 10,
              "solidity": 0.2
             }
            },
            "type": "bar"
           }
          ],
          "barpolar": [
           {
            "marker": {
             "line": {
              "color": "white",
              "width": 0.5
             },
             "pattern": {
              "fillmode": "overlay",
              "size": 10,
              "solidity": 0.2
             }
            },
            "type": "barpolar"
           }
          ],
          "carpet": [
           {
            "aaxis": {
             "endlinecolor": "#2a3f5f",
             "gridcolor": "#C8D4E3",
             "linecolor": "#C8D4E3",
             "minorgridcolor": "#C8D4E3",
             "startlinecolor": "#2a3f5f"
            },
            "baxis": {
             "endlinecolor": "#2a3f5f",
             "gridcolor": "#C8D4E3",
             "linecolor": "#C8D4E3",
             "minorgridcolor": "#C8D4E3",
             "startlinecolor": "#2a3f5f"
            },
            "type": "carpet"
           }
          ],
          "choropleth": [
           {
            "colorbar": {
             "outlinewidth": 0,
             "ticks": ""
            },
            "type": "choropleth"
           }
          ],
          "contour": [
           {
            "colorbar": {
             "outlinewidth": 0,
             "ticks": ""
            },
            "colorscale": [
             [
              0,
              "#0d0887"
             ],
             [
              0.1111111111111111,
              "#46039f"
             ],
             [
              0.2222222222222222,
              "#7201a8"
             ],
             [
              0.3333333333333333,
              "#9c179e"
             ],
             [
              0.4444444444444444,
              "#bd3786"
             ],
             [
              0.5555555555555556,
              "#d8576b"
             ],
             [
              0.6666666666666666,
              "#ed7953"
             ],
             [
              0.7777777777777778,
              "#fb9f3a"
             ],
             [
              0.8888888888888888,
              "#fdca26"
             ],
             [
              1,
              "#f0f921"
             ]
            ],
            "type": "contour"
           }
          ],
          "contourcarpet": [
           {
            "colorbar": {
             "outlinewidth": 0,
             "ticks": ""
            },
            "type": "contourcarpet"
           }
          ],
          "heatmap": [
           {
            "colorbar": {
             "outlinewidth": 0,
             "ticks": ""
            },
            "colorscale": [
             [
              0,
              "#0d0887"
             ],
             [
              0.1111111111111111,
              "#46039f"
             ],
             [
              0.2222222222222222,
              "#7201a8"
             ],
             [
              0.3333333333333333,
              "#9c179e"
             ],
             [
              0.4444444444444444,
              "#bd3786"
             ],
             [
              0.5555555555555556,
              "#d8576b"
             ],
             [
              0.6666666666666666,
              "#ed7953"
             ],
             [
              0.7777777777777778,
              "#fb9f3a"
             ],
             [
              0.8888888888888888,
              "#fdca26"
             ],
             [
              1,
              "#f0f921"
             ]
            ],
            "type": "heatmap"
           }
          ],
          "heatmapgl": [
           {
            "colorbar": {
             "outlinewidth": 0,
             "ticks": ""
            },
            "colorscale": [
             [
              0,
              "#0d0887"
             ],
             [
              0.1111111111111111,
              "#46039f"
             ],
             [
              0.2222222222222222,
              "#7201a8"
             ],
             [
              0.3333333333333333,
              "#9c179e"
             ],
             [
              0.4444444444444444,
              "#bd3786"
             ],
             [
              0.5555555555555556,
              "#d8576b"
             ],
             [
              0.6666666666666666,
              "#ed7953"
             ],
             [
              0.7777777777777778,
              "#fb9f3a"
             ],
             [
              0.8888888888888888,
              "#fdca26"
             ],
             [
              1,
              "#f0f921"
             ]
            ],
            "type": "heatmapgl"
           }
          ],
          "histogram": [
           {
            "marker": {
             "pattern": {
              "fillmode": "overlay",
              "size": 10,
              "solidity": 0.2
             }
            },
            "type": "histogram"
           }
          ],
          "histogram2d": [
           {
            "colorbar": {
             "outlinewidth": 0,
             "ticks": ""
            },
            "colorscale": [
             [
              0,
              "#0d0887"
             ],
             [
              0.1111111111111111,
              "#46039f"
             ],
             [
              0.2222222222222222,
              "#7201a8"
             ],
             [
              0.3333333333333333,
              "#9c179e"
             ],
             [
              0.4444444444444444,
              "#bd3786"
             ],
             [
              0.5555555555555556,
              "#d8576b"
             ],
             [
              0.6666666666666666,
              "#ed7953"
             ],
             [
              0.7777777777777778,
              "#fb9f3a"
             ],
             [
              0.8888888888888888,
              "#fdca26"
             ],
             [
              1,
              "#f0f921"
             ]
            ],
            "type": "histogram2d"
           }
          ],
          "histogram2dcontour": [
           {
            "colorbar": {
             "outlinewidth": 0,
             "ticks": ""
            },
            "colorscale": [
             [
              0,
              "#0d0887"
             ],
             [
              0.1111111111111111,
              "#46039f"
             ],
             [
              0.2222222222222222,
              "#7201a8"
             ],
             [
              0.3333333333333333,
              "#9c179e"
             ],
             [
              0.4444444444444444,
              "#bd3786"
             ],
             [
              0.5555555555555556,
              "#d8576b"
             ],
             [
              0.6666666666666666,
              "#ed7953"
             ],
             [
              0.7777777777777778,
              "#fb9f3a"
             ],
             [
              0.8888888888888888,
              "#fdca26"
             ],
             [
              1,
              "#f0f921"
             ]
            ],
            "type": "histogram2dcontour"
           }
          ],
          "mesh3d": [
           {
            "colorbar": {
             "outlinewidth": 0,
             "ticks": ""
            },
            "type": "mesh3d"
           }
          ],
          "parcoords": [
           {
            "line": {
             "colorbar": {
              "outlinewidth": 0,
              "ticks": ""
             }
            },
            "type": "parcoords"
           }
          ],
          "pie": [
           {
            "automargin": true,
            "type": "pie"
           }
          ],
          "scatter": [
           {
            "fillpattern": {
             "fillmode": "overlay",
             "size": 10,
             "solidity": 0.2
            },
            "type": "scatter"
           }
          ],
          "scatter3d": [
           {
            "line": {
             "colorbar": {
              "outlinewidth": 0,
              "ticks": ""
             }
            },
            "marker": {
             "colorbar": {
              "outlinewidth": 0,
              "ticks": ""
             }
            },
            "type": "scatter3d"
           }
          ],
          "scattercarpet": [
           {
            "marker": {
             "colorbar": {
              "outlinewidth": 0,
              "ticks": ""
             }
            },
            "type": "scattercarpet"
           }
          ],
          "scattergeo": [
           {
            "marker": {
             "colorbar": {
              "outlinewidth": 0,
              "ticks": ""
             }
            },
            "type": "scattergeo"
           }
          ],
          "scattergl": [
           {
            "marker": {
             "colorbar": {
              "outlinewidth": 0,
              "ticks": ""
             }
            },
            "type": "scattergl"
           }
          ],
          "scattermapbox": [
           {
            "marker": {
             "colorbar": {
              "outlinewidth": 0,
              "ticks": ""
             }
            },
            "type": "scattermapbox"
           }
          ],
          "scatterpolar": [
           {
            "marker": {
             "colorbar": {
              "outlinewidth": 0,
              "ticks": ""
             }
            },
            "type": "scatterpolar"
           }
          ],
          "scatterpolargl": [
           {
            "marker": {
             "colorbar": {
              "outlinewidth": 0,
              "ticks": ""
             }
            },
            "type": "scatterpolargl"
           }
          ],
          "scatterternary": [
           {
            "marker": {
             "colorbar": {
              "outlinewidth": 0,
              "ticks": ""
             }
            },
            "type": "scatterternary"
           }
          ],
          "surface": [
           {
            "colorbar": {
             "outlinewidth": 0,
             "ticks": ""
            },
            "colorscale": [
             [
              0,
              "#0d0887"
             ],
             [
              0.1111111111111111,
              "#46039f"
             ],
             [
              0.2222222222222222,
              "#7201a8"
             ],
             [
              0.3333333333333333,
              "#9c179e"
             ],
             [
              0.4444444444444444,
              "#bd3786"
             ],
             [
              0.5555555555555556,
              "#d8576b"
             ],
             [
              0.6666666666666666,
              "#ed7953"
             ],
             [
              0.7777777777777778,
              "#fb9f3a"
             ],
             [
              0.8888888888888888,
              "#fdca26"
             ],
             [
              1,
              "#f0f921"
             ]
            ],
            "type": "surface"
           }
          ],
          "table": [
           {
            "cells": {
             "fill": {
              "color": "#EBF0F8"
             },
             "line": {
              "color": "white"
             }
            },
            "header": {
             "fill": {
              "color": "#C8D4E3"
             },
             "line": {
              "color": "white"
             }
            },
            "type": "table"
           }
          ]
         },
         "layout": {
          "annotationdefaults": {
           "arrowcolor": "#2a3f5f",
           "arrowhead": 0,
           "arrowwidth": 1
          },
          "autotypenumbers": "strict",
          "coloraxis": {
           "colorbar": {
            "outlinewidth": 0,
            "ticks": ""
           }
          },
          "colorscale": {
           "diverging": [
            [
             0,
             "#8e0152"
            ],
            [
             0.1,
             "#c51b7d"
            ],
            [
             0.2,
             "#de77ae"
            ],
            [
             0.3,
             "#f1b6da"
            ],
            [
             0.4,
             "#fde0ef"
            ],
            [
             0.5,
             "#f7f7f7"
            ],
            [
             0.6,
             "#e6f5d0"
            ],
            [
             0.7,
             "#b8e186"
            ],
            [
             0.8,
             "#7fbc41"
            ],
            [
             0.9,
             "#4d9221"
            ],
            [
             1,
             "#276419"
            ]
           ],
           "sequential": [
            [
             0,
             "#0d0887"
            ],
            [
             0.1111111111111111,
             "#46039f"
            ],
            [
             0.2222222222222222,
             "#7201a8"
            ],
            [
             0.3333333333333333,
             "#9c179e"
            ],
            [
             0.4444444444444444,
             "#bd3786"
            ],
            [
             0.5555555555555556,
             "#d8576b"
            ],
            [
             0.6666666666666666,
             "#ed7953"
            ],
            [
             0.7777777777777778,
             "#fb9f3a"
            ],
            [
             0.8888888888888888,
             "#fdca26"
            ],
            [
             1,
             "#f0f921"
            ]
           ],
           "sequentialminus": [
            [
             0,
             "#0d0887"
            ],
            [
             0.1111111111111111,
             "#46039f"
            ],
            [
             0.2222222222222222,
             "#7201a8"
            ],
            [
             0.3333333333333333,
             "#9c179e"
            ],
            [
             0.4444444444444444,
             "#bd3786"
            ],
            [
             0.5555555555555556,
             "#d8576b"
            ],
            [
             0.6666666666666666,
             "#ed7953"
            ],
            [
             0.7777777777777778,
             "#fb9f3a"
            ],
            [
             0.8888888888888888,
             "#fdca26"
            ],
            [
             1,
             "#f0f921"
            ]
           ]
          },
          "colorway": [
           "#636efa",
           "#EF553B",
           "#00cc96",
           "#ab63fa",
           "#FFA15A",
           "#19d3f3",
           "#FF6692",
           "#B6E880",
           "#FF97FF",
           "#FECB52"
          ],
          "font": {
           "color": "#2a3f5f"
          },
          "geo": {
           "bgcolor": "white",
           "lakecolor": "white",
           "landcolor": "white",
           "showlakes": true,
           "showland": true,
           "subunitcolor": "#C8D4E3"
          },
          "hoverlabel": {
           "align": "left"
          },
          "hovermode": "closest",
          "mapbox": {
           "style": "light"
          },
          "paper_bgcolor": "white",
          "plot_bgcolor": "white",
          "polar": {
           "angularaxis": {
            "gridcolor": "#EBF0F8",
            "linecolor": "#EBF0F8",
            "ticks": ""
           },
           "bgcolor": "white",
           "radialaxis": {
            "gridcolor": "#EBF0F8",
            "linecolor": "#EBF0F8",
            "ticks": ""
           }
          },
          "scene": {
           "xaxis": {
            "backgroundcolor": "white",
            "gridcolor": "#DFE8F3",
            "gridwidth": 2,
            "linecolor": "#EBF0F8",
            "showbackground": true,
            "ticks": "",
            "zerolinecolor": "#EBF0F8"
           },
           "yaxis": {
            "backgroundcolor": "white",
            "gridcolor": "#DFE8F3",
            "gridwidth": 2,
            "linecolor": "#EBF0F8",
            "showbackground": true,
            "ticks": "",
            "zerolinecolor": "#EBF0F8"
           },
           "zaxis": {
            "backgroundcolor": "white",
            "gridcolor": "#DFE8F3",
            "gridwidth": 2,
            "linecolor": "#EBF0F8",
            "showbackground": true,
            "ticks": "",
            "zerolinecolor": "#EBF0F8"
           }
          },
          "shapedefaults": {
           "line": {
            "color": "#2a3f5f"
           }
          },
          "ternary": {
           "aaxis": {
            "gridcolor": "#DFE8F3",
            "linecolor": "#A2B1C6",
            "ticks": ""
           },
           "baxis": {
            "gridcolor": "#DFE8F3",
            "linecolor": "#A2B1C6",
            "ticks": ""
           },
           "bgcolor": "white",
           "caxis": {
            "gridcolor": "#DFE8F3",
            "linecolor": "#A2B1C6",
            "ticks": ""
           }
          },
          "title": {
           "x": 0.05
          },
          "xaxis": {
           "automargin": true,
           "gridcolor": "#EBF0F8",
           "linecolor": "#EBF0F8",
           "ticks": "",
           "title": {
            "standoff": 15
           },
           "zerolinecolor": "#EBF0F8",
           "zerolinewidth": 2
          },
          "yaxis": {
           "automargin": true,
           "gridcolor": "#EBF0F8",
           "linecolor": "#EBF0F8",
           "ticks": "",
           "title": {
            "standoff": 15
           },
           "zerolinecolor": "#EBF0F8",
           "zerolinewidth": 2
          }
         }
        },
        "title": {
         "font": {
          "size": 25
         },
         "text": "",
         "x": 0.5,
         "xanchor": "center",
         "yanchor": "top"
        },
        "width": 900,
        "xaxis": {
         "anchor": "y",
         "domain": [
          0,
          1
         ],
         "title": {
          "font": {
           "size": 12
          },
          "text": "Time"
         }
        },
        "yaxis": {
         "anchor": "x",
         "domain": [
          0,
          1
         ],
         "title": {
          "font": {
           "size": 12
          },
          "text": "Value"
         }
        }
       }
      }
     },
     "metadata": {},
     "output_type": "display_data"
    }
   ],
   "source": [
    "fig = plot_time_series(\n",
    "    regular_time_samples, \n",
    "    timeseries_, \n",
    "    \"\"\n",
    ")\n",
    "fig.write_image(\"imgs/chapter_1/non_stationary.png\")\n",
    "fig.show()"
   ]
  },
  {
   "cell_type": "markdown",
   "id": "fa01d432-29f6-4fb1-87e9-23d6f048df10",
   "metadata": {},
   "source": [
    "## Non-Stationary: Sinusoidal and Time Varying Noise"
   ]
  },
  {
   "cell_type": "code",
   "execution_count": 64,
   "id": "3239ce16-7cda-4262-badd-fd2f45d6619d",
   "metadata": {},
   "outputs": [],
   "source": [
    "sinusoidal_samples, regular_time_samples, _, _ = generate_timeseries(signal=ts.signals.Sinusoidal(amplitude=1, frequency=0.25))"
   ]
  },
  {
   "cell_type": "code",
   "execution_count": 68,
   "id": "31d3597f-1dfc-451e-a46d-fdabccb68439",
   "metadata": {},
   "outputs": [],
   "source": [
    "noise = [np.random.randn() * np.sqrt(i) for i, v in enumerate(regular_time_samples)]"
   ]
  },
  {
   "cell_type": "code",
   "execution_count": 69,
   "id": "54d6fe38-f3fb-4afb-b3ae-b8e7b3569de1",
   "metadata": {},
   "outputs": [
    {
     "data": {
      "application/vnd.plotly.v1+json": {
       "config": {
        "plotlyServerURL": "https://plot.ly"
       },
       "data": [
        {
         "hovertemplate": "Time=%{x}<br>Value=%{y}<extra></extra>",
         "legendgroup": "",
         "line": {
          "color": "#636efa",
          "dash": "solid"
         },
         "marker": {
          "symbol": "circle"
         },
         "mode": "lines",
         "name": "",
         "orientation": "v",
         "showlegend": false,
         "type": "scatter",
         "x": [
          0,
          0.20202020202020202,
          0.40404040404040403,
          0.6060606060606061,
          0.8080808080808081,
          1.0101010101010102,
          1.2121212121212122,
          1.4141414141414141,
          1.6161616161616161,
          1.8181818181818181,
          2.0202020202020203,
          2.2222222222222223,
          2.4242424242424243,
          2.6262626262626263,
          2.8282828282828283,
          3.0303030303030303,
          3.2323232323232323,
          3.4343434343434343,
          3.6363636363636362,
          3.8383838383838382,
          4.040404040404041,
          4.242424242424242,
          4.444444444444445,
          4.646464646464646,
          4.848484848484849,
          5.05050505050505,
          5.252525252525253,
          5.454545454545454,
          5.656565656565657,
          5.858585858585858,
          6.0606060606060606,
          6.262626262626262,
          6.4646464646464645,
          6.666666666666667,
          6.8686868686868685,
          7.070707070707071,
          7.2727272727272725,
          7.474747474747475,
          7.6767676767676765,
          7.878787878787879,
          8.080808080808081,
          8.282828282828282,
          8.484848484848484,
          8.686868686868687,
          8.88888888888889,
          9.09090909090909,
          9.292929292929292,
          9.494949494949495,
          9.696969696969697,
          9.8989898989899,
          10.1010101010101,
          10.303030303030303,
          10.505050505050505,
          10.707070707070708,
          10.909090909090908,
          11.11111111111111,
          11.313131313131313,
          11.515151515151516,
          11.717171717171716,
          11.919191919191919,
          12.121212121212121,
          12.323232323232324,
          12.525252525252524,
          12.727272727272727,
          12.929292929292929,
          13.131313131313131,
          13.333333333333334,
          13.535353535353535,
          13.737373737373737,
          13.93939393939394,
          14.141414141414142,
          14.343434343434343,
          14.545454545454545,
          14.747474747474747,
          14.94949494949495,
          15.15151515151515,
          15.353535353535353,
          15.555555555555555,
          15.757575757575758,
          15.959595959595958,
          16.161616161616163,
          16.363636363636363,
          16.565656565656564,
          16.767676767676768,
          16.96969696969697,
          17.171717171717173,
          17.373737373737374,
          17.575757575757574,
          17.77777777777778,
          17.97979797979798,
          18.18181818181818,
          18.383838383838384,
          18.585858585858585,
          18.78787878787879,
          18.98989898989899,
          19.19191919191919,
          19.393939393939394,
          19.595959595959595,
          19.7979797979798,
          20
         ],
         "xaxis": "x",
         "y": [
          0,
          0.23063039829467188,
          0.999758668022326,
          1.5521489851000383,
          0.3247064393585912,
          0.9868036595741494,
          -1.947618453558483,
          -4.419602908499113,
          2.393132290661578,
          0.4434464777178754,
          -4.029839893785068,
          0.9508082163920022,
          -2.2649397408625243,
          -3.5912560303457806,
          -0.3717936190758597,
          -7.6975618160942245,
          -4.893951498557392,
          -0.5435639506360349,
          -10.233410111686966,
          -0.9175722271525699,
          -4.667171250928364,
          -2.334568204633613,
          -3.0005657353248685,
          -0.9420163451986513,
          -0.23320470474892852,
          0.7167983592230833,
          -4.260534515186041,
          0.12356355065454994,
          8.01655107996127,
          4.491623398643046,
          -5.221745148480439,
          1.1907171026913925,
          -0.9341963236846511,
          5.184055561823144,
          3.196663754188474,
          -10.738384949008685,
          -10.749775382468151,
          -3.291279096425019,
          -7.663206094917617,
          4.439316168724302,
          6.288741409838802,
          -6.687945755870074,
          -9.966982860141217,
          -0.6048618181570096,
          11.817126275879081,
          -8.484454119966582,
          9.276077020137556,
          -2.8131843490769795,
          2.441010447079763,
          2.528270654256165,
          3.888200305361221,
          -2.76262273262418,
          -16.76578373272105,
          1.3674888215754586,
          1.465588450408811,
          3.220803488871939,
          -2.0564493715360332,
          -2.8675819543514836,
          7.988264908653618,
          6.690378765774908,
          2.3917155294098165,
          -5.0519789674250495,
          2.1172111436729044,
          0.3670618942884235,
          2.9530617462739532,
          -4.028650630224179,
          -9.973343965376195,
          -7.017114311393517,
          2.0503745867277874,
          1.993282346745395,
          6.570091059534791,
          0.6576150735883243,
          -10.215577112084661,
          -14.034734093226028,
          -4.827536924127784,
          0.7218155411862159,
          12.315248208140563,
          -6.4535697773527,
          8.655952677262254,
          12.188810319449512,
          -15.289883115643292,
          -4.250879934926225,
          7.110729155919903,
          -8.010373636308026,
          12.577003135647493,
          7.609700366550948,
          5.224467694745164,
          13.37474780458,
          9.304538326483211,
          -3.277907328877614,
          -8.333212115692474,
          6.668107513281612,
          5.33731726393163,
          11.3681081214524,
          3.5876887794268475,
          9.060149506980501,
          -23.400316552714415,
          -5.098756433075436,
          -0.2800279251551236,
          -12.931277388012377
         ],
         "yaxis": "y"
        }
       ],
       "layout": {
        "autosize": false,
        "height": 500,
        "legend": {
         "tracegroupgap": 0
        },
        "margin": {
         "t": 60
        },
        "template": {
         "data": {
          "bar": [
           {
            "error_x": {
             "color": "#2a3f5f"
            },
            "error_y": {
             "color": "#2a3f5f"
            },
            "marker": {
             "line": {
              "color": "white",
              "width": 0.5
             },
             "pattern": {
              "fillmode": "overlay",
              "size": 10,
              "solidity": 0.2
             }
            },
            "type": "bar"
           }
          ],
          "barpolar": [
           {
            "marker": {
             "line": {
              "color": "white",
              "width": 0.5
             },
             "pattern": {
              "fillmode": "overlay",
              "size": 10,
              "solidity": 0.2
             }
            },
            "type": "barpolar"
           }
          ],
          "carpet": [
           {
            "aaxis": {
             "endlinecolor": "#2a3f5f",
             "gridcolor": "#C8D4E3",
             "linecolor": "#C8D4E3",
             "minorgridcolor": "#C8D4E3",
             "startlinecolor": "#2a3f5f"
            },
            "baxis": {
             "endlinecolor": "#2a3f5f",
             "gridcolor": "#C8D4E3",
             "linecolor": "#C8D4E3",
             "minorgridcolor": "#C8D4E3",
             "startlinecolor": "#2a3f5f"
            },
            "type": "carpet"
           }
          ],
          "choropleth": [
           {
            "colorbar": {
             "outlinewidth": 0,
             "ticks": ""
            },
            "type": "choropleth"
           }
          ],
          "contour": [
           {
            "colorbar": {
             "outlinewidth": 0,
             "ticks": ""
            },
            "colorscale": [
             [
              0,
              "#0d0887"
             ],
             [
              0.1111111111111111,
              "#46039f"
             ],
             [
              0.2222222222222222,
              "#7201a8"
             ],
             [
              0.3333333333333333,
              "#9c179e"
             ],
             [
              0.4444444444444444,
              "#bd3786"
             ],
             [
              0.5555555555555556,
              "#d8576b"
             ],
             [
              0.6666666666666666,
              "#ed7953"
             ],
             [
              0.7777777777777778,
              "#fb9f3a"
             ],
             [
              0.8888888888888888,
              "#fdca26"
             ],
             [
              1,
              "#f0f921"
             ]
            ],
            "type": "contour"
           }
          ],
          "contourcarpet": [
           {
            "colorbar": {
             "outlinewidth": 0,
             "ticks": ""
            },
            "type": "contourcarpet"
           }
          ],
          "heatmap": [
           {
            "colorbar": {
             "outlinewidth": 0,
             "ticks": ""
            },
            "colorscale": [
             [
              0,
              "#0d0887"
             ],
             [
              0.1111111111111111,
              "#46039f"
             ],
             [
              0.2222222222222222,
              "#7201a8"
             ],
             [
              0.3333333333333333,
              "#9c179e"
             ],
             [
              0.4444444444444444,
              "#bd3786"
             ],
             [
              0.5555555555555556,
              "#d8576b"
             ],
             [
              0.6666666666666666,
              "#ed7953"
             ],
             [
              0.7777777777777778,
              "#fb9f3a"
             ],
             [
              0.8888888888888888,
              "#fdca26"
             ],
             [
              1,
              "#f0f921"
             ]
            ],
            "type": "heatmap"
           }
          ],
          "heatmapgl": [
           {
            "colorbar": {
             "outlinewidth": 0,
             "ticks": ""
            },
            "colorscale": [
             [
              0,
              "#0d0887"
             ],
             [
              0.1111111111111111,
              "#46039f"
             ],
             [
              0.2222222222222222,
              "#7201a8"
             ],
             [
              0.3333333333333333,
              "#9c179e"
             ],
             [
              0.4444444444444444,
              "#bd3786"
             ],
             [
              0.5555555555555556,
              "#d8576b"
             ],
             [
              0.6666666666666666,
              "#ed7953"
             ],
             [
              0.7777777777777778,
              "#fb9f3a"
             ],
             [
              0.8888888888888888,
              "#fdca26"
             ],
             [
              1,
              "#f0f921"
             ]
            ],
            "type": "heatmapgl"
           }
          ],
          "histogram": [
           {
            "marker": {
             "pattern": {
              "fillmode": "overlay",
              "size": 10,
              "solidity": 0.2
             }
            },
            "type": "histogram"
           }
          ],
          "histogram2d": [
           {
            "colorbar": {
             "outlinewidth": 0,
             "ticks": ""
            },
            "colorscale": [
             [
              0,
              "#0d0887"
             ],
             [
              0.1111111111111111,
              "#46039f"
             ],
             [
              0.2222222222222222,
              "#7201a8"
             ],
             [
              0.3333333333333333,
              "#9c179e"
             ],
             [
              0.4444444444444444,
              "#bd3786"
             ],
             [
              0.5555555555555556,
              "#d8576b"
             ],
             [
              0.6666666666666666,
              "#ed7953"
             ],
             [
              0.7777777777777778,
              "#fb9f3a"
             ],
             [
              0.8888888888888888,
              "#fdca26"
             ],
             [
              1,
              "#f0f921"
             ]
            ],
            "type": "histogram2d"
           }
          ],
          "histogram2dcontour": [
           {
            "colorbar": {
             "outlinewidth": 0,
             "ticks": ""
            },
            "colorscale": [
             [
              0,
              "#0d0887"
             ],
             [
              0.1111111111111111,
              "#46039f"
             ],
             [
              0.2222222222222222,
              "#7201a8"
             ],
             [
              0.3333333333333333,
              "#9c179e"
             ],
             [
              0.4444444444444444,
              "#bd3786"
             ],
             [
              0.5555555555555556,
              "#d8576b"
             ],
             [
              0.6666666666666666,
              "#ed7953"
             ],
             [
              0.7777777777777778,
              "#fb9f3a"
             ],
             [
              0.8888888888888888,
              "#fdca26"
             ],
             [
              1,
              "#f0f921"
             ]
            ],
            "type": "histogram2dcontour"
           }
          ],
          "mesh3d": [
           {
            "colorbar": {
             "outlinewidth": 0,
             "ticks": ""
            },
            "type": "mesh3d"
           }
          ],
          "parcoords": [
           {
            "line": {
             "colorbar": {
              "outlinewidth": 0,
              "ticks": ""
             }
            },
            "type": "parcoords"
           }
          ],
          "pie": [
           {
            "automargin": true,
            "type": "pie"
           }
          ],
          "scatter": [
           {
            "fillpattern": {
             "fillmode": "overlay",
             "size": 10,
             "solidity": 0.2
            },
            "type": "scatter"
           }
          ],
          "scatter3d": [
           {
            "line": {
             "colorbar": {
              "outlinewidth": 0,
              "ticks": ""
             }
            },
            "marker": {
             "colorbar": {
              "outlinewidth": 0,
              "ticks": ""
             }
            },
            "type": "scatter3d"
           }
          ],
          "scattercarpet": [
           {
            "marker": {
             "colorbar": {
              "outlinewidth": 0,
              "ticks": ""
             }
            },
            "type": "scattercarpet"
           }
          ],
          "scattergeo": [
           {
            "marker": {
             "colorbar": {
              "outlinewidth": 0,
              "ticks": ""
             }
            },
            "type": "scattergeo"
           }
          ],
          "scattergl": [
           {
            "marker": {
             "colorbar": {
              "outlinewidth": 0,
              "ticks": ""
             }
            },
            "type": "scattergl"
           }
          ],
          "scattermapbox": [
           {
            "marker": {
             "colorbar": {
              "outlinewidth": 0,
              "ticks": ""
             }
            },
            "type": "scattermapbox"
           }
          ],
          "scatterpolar": [
           {
            "marker": {
             "colorbar": {
              "outlinewidth": 0,
              "ticks": ""
             }
            },
            "type": "scatterpolar"
           }
          ],
          "scatterpolargl": [
           {
            "marker": {
             "colorbar": {
              "outlinewidth": 0,
              "ticks": ""
             }
            },
            "type": "scatterpolargl"
           }
          ],
          "scatterternary": [
           {
            "marker": {
             "colorbar": {
              "outlinewidth": 0,
              "ticks": ""
             }
            },
            "type": "scatterternary"
           }
          ],
          "surface": [
           {
            "colorbar": {
             "outlinewidth": 0,
             "ticks": ""
            },
            "colorscale": [
             [
              0,
              "#0d0887"
             ],
             [
              0.1111111111111111,
              "#46039f"
             ],
             [
              0.2222222222222222,
              "#7201a8"
             ],
             [
              0.3333333333333333,
              "#9c179e"
             ],
             [
              0.4444444444444444,
              "#bd3786"
             ],
             [
              0.5555555555555556,
              "#d8576b"
             ],
             [
              0.6666666666666666,
              "#ed7953"
             ],
             [
              0.7777777777777778,
              "#fb9f3a"
             ],
             [
              0.8888888888888888,
              "#fdca26"
             ],
             [
              1,
              "#f0f921"
             ]
            ],
            "type": "surface"
           }
          ],
          "table": [
           {
            "cells": {
             "fill": {
              "color": "#EBF0F8"
             },
             "line": {
              "color": "white"
             }
            },
            "header": {
             "fill": {
              "color": "#C8D4E3"
             },
             "line": {
              "color": "white"
             }
            },
            "type": "table"
           }
          ]
         },
         "layout": {
          "annotationdefaults": {
           "arrowcolor": "#2a3f5f",
           "arrowhead": 0,
           "arrowwidth": 1
          },
          "autotypenumbers": "strict",
          "coloraxis": {
           "colorbar": {
            "outlinewidth": 0,
            "ticks": ""
           }
          },
          "colorscale": {
           "diverging": [
            [
             0,
             "#8e0152"
            ],
            [
             0.1,
             "#c51b7d"
            ],
            [
             0.2,
             "#de77ae"
            ],
            [
             0.3,
             "#f1b6da"
            ],
            [
             0.4,
             "#fde0ef"
            ],
            [
             0.5,
             "#f7f7f7"
            ],
            [
             0.6,
             "#e6f5d0"
            ],
            [
             0.7,
             "#b8e186"
            ],
            [
             0.8,
             "#7fbc41"
            ],
            [
             0.9,
             "#4d9221"
            ],
            [
             1,
             "#276419"
            ]
           ],
           "sequential": [
            [
             0,
             "#0d0887"
            ],
            [
             0.1111111111111111,
             "#46039f"
            ],
            [
             0.2222222222222222,
             "#7201a8"
            ],
            [
             0.3333333333333333,
             "#9c179e"
            ],
            [
             0.4444444444444444,
             "#bd3786"
            ],
            [
             0.5555555555555556,
             "#d8576b"
            ],
            [
             0.6666666666666666,
             "#ed7953"
            ],
            [
             0.7777777777777778,
             "#fb9f3a"
            ],
            [
             0.8888888888888888,
             "#fdca26"
            ],
            [
             1,
             "#f0f921"
            ]
           ],
           "sequentialminus": [
            [
             0,
             "#0d0887"
            ],
            [
             0.1111111111111111,
             "#46039f"
            ],
            [
             0.2222222222222222,
             "#7201a8"
            ],
            [
             0.3333333333333333,
             "#9c179e"
            ],
            [
             0.4444444444444444,
             "#bd3786"
            ],
            [
             0.5555555555555556,
             "#d8576b"
            ],
            [
             0.6666666666666666,
             "#ed7953"
            ],
            [
             0.7777777777777778,
             "#fb9f3a"
            ],
            [
             0.8888888888888888,
             "#fdca26"
            ],
            [
             1,
             "#f0f921"
            ]
           ]
          },
          "colorway": [
           "#636efa",
           "#EF553B",
           "#00cc96",
           "#ab63fa",
           "#FFA15A",
           "#19d3f3",
           "#FF6692",
           "#B6E880",
           "#FF97FF",
           "#FECB52"
          ],
          "font": {
           "color": "#2a3f5f"
          },
          "geo": {
           "bgcolor": "white",
           "lakecolor": "white",
           "landcolor": "white",
           "showlakes": true,
           "showland": true,
           "subunitcolor": "#C8D4E3"
          },
          "hoverlabel": {
           "align": "left"
          },
          "hovermode": "closest",
          "mapbox": {
           "style": "light"
          },
          "paper_bgcolor": "white",
          "plot_bgcolor": "white",
          "polar": {
           "angularaxis": {
            "gridcolor": "#EBF0F8",
            "linecolor": "#EBF0F8",
            "ticks": ""
           },
           "bgcolor": "white",
           "radialaxis": {
            "gridcolor": "#EBF0F8",
            "linecolor": "#EBF0F8",
            "ticks": ""
           }
          },
          "scene": {
           "xaxis": {
            "backgroundcolor": "white",
            "gridcolor": "#DFE8F3",
            "gridwidth": 2,
            "linecolor": "#EBF0F8",
            "showbackground": true,
            "ticks": "",
            "zerolinecolor": "#EBF0F8"
           },
           "yaxis": {
            "backgroundcolor": "white",
            "gridcolor": "#DFE8F3",
            "gridwidth": 2,
            "linecolor": "#EBF0F8",
            "showbackground": true,
            "ticks": "",
            "zerolinecolor": "#EBF0F8"
           },
           "zaxis": {
            "backgroundcolor": "white",
            "gridcolor": "#DFE8F3",
            "gridwidth": 2,
            "linecolor": "#EBF0F8",
            "showbackground": true,
            "ticks": "",
            "zerolinecolor": "#EBF0F8"
           }
          },
          "shapedefaults": {
           "line": {
            "color": "#2a3f5f"
           }
          },
          "ternary": {
           "aaxis": {
            "gridcolor": "#DFE8F3",
            "linecolor": "#A2B1C6",
            "ticks": ""
           },
           "baxis": {
            "gridcolor": "#DFE8F3",
            "linecolor": "#A2B1C6",
            "ticks": ""
           },
           "bgcolor": "white",
           "caxis": {
            "gridcolor": "#DFE8F3",
            "linecolor": "#A2B1C6",
            "ticks": ""
           }
          },
          "title": {
           "x": 0.05
          },
          "xaxis": {
           "automargin": true,
           "gridcolor": "#EBF0F8",
           "linecolor": "#EBF0F8",
           "ticks": "",
           "title": {
            "standoff": 15
           },
           "zerolinecolor": "#EBF0F8",
           "zerolinewidth": 2
          },
          "yaxis": {
           "automargin": true,
           "gridcolor": "#EBF0F8",
           "linecolor": "#EBF0F8",
           "ticks": "",
           "title": {
            "standoff": 15
           },
           "zerolinecolor": "#EBF0F8",
           "zerolinewidth": 2
          }
         }
        },
        "title": {
         "font": {
          "size": 25
         },
         "text": "",
         "x": 0.5,
         "xanchor": "center",
         "yanchor": "top"
        },
        "width": 900,
        "xaxis": {
         "anchor": "y",
         "domain": [
          0,
          1
         ],
         "title": {
          "font": {
           "size": 12
          },
          "text": "Time"
         }
        },
        "yaxis": {
         "anchor": "x",
         "domain": [
          0,
          1
         ],
         "title": {
          "font": {
           "size": 12
          },
          "text": "Value"
         }
        }
       }
      }
     },
     "metadata": {},
     "output_type": "display_data"
    }
   ],
   "source": [
    "fig = plot_time_series(\n",
    "    regular_time_samples, \n",
    "    sinusoidal_samples+noise, \n",
    "    \"\"\n",
    ")\n",
    "\n",
    "fig.write_image(\"imgs/chapter_1/non_stationary_sinusoidal.png\")\n",
    "fig.show()"
   ]
  }
 ],
 "metadata": {
  "kernelspec": {
   "display_name": "modern_ts",
   "language": "python",
   "name": "python3"
  },
  "language_info": {
   "codemirror_mode": {
    "name": "ipython",
    "version": 3
   },
   "file_extension": ".py",
   "mimetype": "text/x-python",
   "name": "python",
   "nbconvert_exporter": "python",
   "pygments_lexer": "ipython3",
   "version": "3.10.14"
  },
  "vscode": {
   "interpreter": {
    "hash": "30fe1d27e07bcd39a201a380e0896b1a8ddc5b4c0f1bff527b499634c2e361cc"
   }
  }
 },
 "nbformat": 4,
 "nbformat_minor": 5
}
